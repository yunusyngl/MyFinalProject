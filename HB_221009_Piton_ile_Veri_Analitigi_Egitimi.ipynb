{
  "nbformat": 4,
  "nbformat_minor": 0,
  "metadata": {
    "colab": {
      "provenance": [],
      "include_colab_link": true
    },
    "kernelspec": {
      "name": "python3",
      "display_name": "Python 3"
    },
    "language_info": {
      "name": "python"
    }
  },
  "cells": [
    {
      "cell_type": "markdown",
      "metadata": {
        "id": "view-in-github",
        "colab_type": "text"
      },
      "source": [
        "<a href=\"https://colab.research.google.com/github/yunusyngl/MyFinalProject/blob/master/HB_221009_Piton_ile_Veri_Analitigi_Egitimi.ipynb\" target=\"_parent\"><img src=\"https://colab.research.google.com/assets/colab-badge.svg\" alt=\"Open In Colab\"/></a>"
      ]
    },
    {
      "cell_type": "markdown",
      "source": [
        "## Halk Bankası Veri Analitiği Eğitimi\n",
        "### Piton Programlama ve Veri Bilimi Kütüphaneleri"
      ],
      "metadata": {
        "id": "VDsy7ZRxOh25"
      }
    },
    {
      "cell_type": "markdown",
      "source": [
        "# Python (Piton) Programlama\n",
        "[Piton başlangıç kitabı](https://jakevdp.github.io/WhirlwindTourOfPython/)"
      ],
      "metadata": {
        "id": "QLMpYCrNYGYs"
      }
    },
    {
      "cell_type": "code",
      "execution_count": null,
      "metadata": {
        "id": "vIXVkZnRiOFN",
        "colab": {
          "base_uri": "https://localhost:8080/"
        },
        "outputId": "3945d348-d2bf-449e-b5c3-d982e65f7628"
      },
      "outputs": [
        {
          "output_type": "stream",
          "name": "stdout",
          "text": [
            "5\n"
          ]
        }
      ],
      "source": [
        "a = 2\n",
        "b = 3\n",
        "toplam = a + b\n",
        "print(toplam) # print yerlesik fonksiyon"
      ]
    },
    {
      "cell_type": "code",
      "source": [
        "print(\"Hello world\")"
      ],
      "metadata": {
        "id": "Do9N4SDKiYRt",
        "colab": {
          "base_uri": "https://localhost:8080/"
        },
        "outputId": "e6b9e5ea-363b-46a5-ce01-cd26869cf1fe"
      },
      "execution_count": null,
      "outputs": [
        {
          "output_type": "stream",
          "name": "stdout",
          "text": [
            "Hello world\n"
          ]
        }
      ]
    },
    {
      "cell_type": "code",
      "source": [
        "# üç tırnaklar arasındaki kısım comment/yorumlardır\n",
        "'''\n",
        "yorumların belirtildiği yer\n",
        "Syntax => Yazım\n",
        "Semantic => Anlamsal\n",
        "'''"
      ],
      "metadata": {
        "id": "DKpxHYA_Zt0n"
      },
      "execution_count": null,
      "outputs": []
    },
    {
      "cell_type": "code",
      "source": [
        "prin(toplam) # Syntax hatasi"
      ],
      "metadata": {
        "colab": {
          "base_uri": "https://localhost:8080/",
          "height": 166
        },
        "id": "V9VaLy06Zxhu",
        "outputId": "fbcec636-ca4f-4c78-c7d1-c6156ae0f105"
      },
      "execution_count": null,
      "outputs": [
        {
          "output_type": "error",
          "ename": "NameError",
          "evalue": "ignored",
          "traceback": [
            "\u001b[0;31m---------------------------------------------------------------------------\u001b[0m",
            "\u001b[0;31mNameError\u001b[0m                                 Traceback (most recent call last)",
            "\u001b[0;32m<ipython-input-7-456d18feb092>\u001b[0m in \u001b[0;36m<module>\u001b[0;34m\u001b[0m\n\u001b[0;32m----> 1\u001b[0;31m \u001b[0mprin\u001b[0m\u001b[0;34m(\u001b[0m\u001b[0mtoplam\u001b[0m\u001b[0;34m)\u001b[0m \u001b[0;31m# Syntax hatasi\u001b[0m\u001b[0;34m\u001b[0m\u001b[0;34m\u001b[0m\u001b[0m\n\u001b[0m",
            "\u001b[0;31mNameError\u001b[0m: name 'prin' is not defined"
          ]
        }
      ]
    },
    {
      "cell_type": "code",
      "source": [
        "print(toplamlar) # Syntax hatasi"
      ],
      "metadata": {
        "colab": {
          "base_uri": "https://localhost:8080/",
          "height": 166
        },
        "id": "hrUaHuyPahm1",
        "outputId": "ec17a4d8-7853-425f-aa24-d73664501969"
      },
      "execution_count": null,
      "outputs": [
        {
          "output_type": "error",
          "ename": "NameError",
          "evalue": "ignored",
          "traceback": [
            "\u001b[0;31m---------------------------------------------------------------------------\u001b[0m",
            "\u001b[0;31mNameError\u001b[0m                                 Traceback (most recent call last)",
            "\u001b[0;32m<ipython-input-8-5566c9964c03>\u001b[0m in \u001b[0;36m<module>\u001b[0;34m\u001b[0m\n\u001b[0;32m----> 1\u001b[0;31m \u001b[0mprint\u001b[0m\u001b[0;34m(\u001b[0m\u001b[0mtoplamlar\u001b[0m\u001b[0;34m)\u001b[0m \u001b[0;31m# Syntax hatasi\u001b[0m\u001b[0;34m\u001b[0m\u001b[0;34m\u001b[0m\u001b[0m\n\u001b[0m",
            "\u001b[0;31mNameError\u001b[0m: name 'toplamlar' is not defined"
          ]
        }
      ]
    },
    {
      "cell_type": "code",
      "source": [
        "print(9.5)"
      ],
      "metadata": {
        "colab": {
          "base_uri": "https://localhost:8080/"
        },
        "id": "wVXiiXbbZ25R",
        "outputId": "e9a42279-1ed2-4309-bfb1-39850975fed4"
      },
      "execution_count": null,
      "outputs": [
        {
          "output_type": "stream",
          "name": "stdout",
          "text": [
            "9.5\n"
          ]
        }
      ]
    },
    {
      "cell_type": "code",
      "source": [
        "print(9,5) # aralarina girilen virgul bu degerlerin farkli 2 piton nesnesi oldugunu belirtmeye yariyor, yani ondalik sayi belirtmek icin virgul kullanamiyoruz"
      ],
      "metadata": {
        "colab": {
          "base_uri": "https://localhost:8080/"
        },
        "id": "zRzmXctOaDen",
        "outputId": "6c243f56-7abf-4c30-c554-5df9d547371e"
      },
      "execution_count": null,
      "outputs": [
        {
          "output_type": "stream",
          "name": "stdout",
          "text": [
            "9 5\n"
          ]
        }
      ]
    },
    {
      "cell_type": "code",
      "source": [
        "\"\"\"\n",
        "Yorumlar => #, üçer adet tek/çift tırnak kullanarak\n",
        "Yerleşik/built-in fonksiyonlar => print(), open(), len(), range()\n",
        "string/dize => 'string', \"string\" => karakter dizileri, character array\n",
        "\n",
        "Veri Yapıları / Data Structures\n",
        "=> listeler / lists => ['a', 'the', ...]\n",
        "=> sözlükler / dictionary => {'a':5, 'the':100, ...} => anahtar:değer ikilileri\n",
        "\n",
        "Döngüler\n",
        "for i in range(10):\n",
        "    # döngünün her bir elemanı için çalıştırılacak algoritma\n",
        "    print(i)        # print(i) ifadesi öncesindeki boşluk indentation yani hizalama için bırakılmıştır\n",
        "\n",
        "while i < 10:\n",
        "    print(i)\n",
        "\n",
        "Koşullu İfadeler\n",
        "if\n",
        "elif\n",
        "else\n",
        "\n",
        "if musterinin_yasi > 30:\n",
        "    print(\"Kredi verilebilir.\")\n",
        "else:\n",
        "    print(\"Krediniz onaylanmamıştır.\")\n",
        "\n",
        "def fonksiyon_adi(parametreler):\n",
        "    print(\"Hello world\")\n",
        "    return True\n",
        "\"\"\""
      ],
      "metadata": {
        "id": "LqT3J4Ydb8XA"
      },
      "execution_count": null,
      "outputs": []
    },
    {
      "cell_type": "code",
      "source": [
        "# COMMENTS / YORUMLAR\n",
        "# bir bolumdeki ogrencilerin ortalama GNO hesabi\n",
        "GNOlar = [3.0, 2.7, 3.3] # liste/list - dizi/array\n",
        "# ortalamayi bulurken\n",
        "# 1. öncelikle GNOlarının toplamı bulunur  => sum(GNOlar)\n",
        "toplamGNO = sum(GNOlar)\n",
        "# 2. sonrasında kaç öğrenci olduğu bulunur => len(GNOlar)\n",
        "kac_ogrenci = len(GNOlar)\n",
        "# 3. bulunan bu iki değer birbirine bölünerek ortalama değer bulunur ve bir değişkende saklanır\n",
        "ortalama_gno = toplamGNO / kac_ogrenci\n",
        "# bulunan değeri ekranda gösterelim\n",
        "print(ortalama_gno)"
      ],
      "metadata": {
        "colab": {
          "base_uri": "https://localhost:8080/"
        },
        "id": "x-6FL-WwcI3V",
        "outputId": "8ee0abc7-1ae5-473b-8ab7-7943d7ac11fa"
      },
      "execution_count": null,
      "outputs": [
        {
          "output_type": "stream",
          "name": "stdout",
          "text": [
            "3.0\n"
          ]
        }
      ]
    },
    {
      "cell_type": "code",
      "source": [
        "# tek satirda ortalama hesabi\n",
        "ortalama_gno_tek = sum(GNOlar) / len(GNOlar)\n",
        "# ortalama_gno_tek = 9.0 / len(GNOlar)\n",
        "# ortalama_gno_tek = 9.0 / 3\n",
        "# ortalama_gno_tek = 3.0\n",
        "print(ortalama_gno_tek)"
      ],
      "metadata": {
        "colab": {
          "base_uri": "https://localhost:8080/"
        },
        "id": "XvKzY-0QcI6M",
        "outputId": "521ef9e2-d796-4974-a099-15ee81e2ea11"
      },
      "execution_count": null,
      "outputs": [
        {
          "output_type": "stream",
          "name": "stdout",
          "text": [
            "3.0\n"
          ]
        }
      ]
    },
    {
      "cell_type": "code",
      "source": [
        "# GIRINTI/INDENTATION - indentation / girinti / hizalama (scope'u belirler)\n",
        "# musterinin yasi 30'dan buyukse kredi verilebilir\n",
        "musterinin_yasi = 35\n",
        "# KURAL TABANLI MODEL - kurallar/kosullara bagli bir mantikla calisan model\n",
        "if musterinin_yasi > 30:\n",
        "    # if kosulunun (musterinin_yasi > 30) dogru oldugu duruma ait olan kod blogu\n",
        "    print(\"Kredi verilebilir\")\n",
        "    print(\"Çünkü müşterinin yaşı 30'dan büyüktür.\")\n",
        "else:\n",
        "    print(\"Başvuru tekrardan incelenecektir.\")\n",
        "print(\"Kredi belirleme süreci tamamlanmıştır.\")"
      ],
      "metadata": {
        "colab": {
          "base_uri": "https://localhost:8080/"
        },
        "id": "OxEQjw7_cI8y",
        "outputId": "f10059e7-3466-4f61-cf7f-d55f349006cb"
      },
      "execution_count": null,
      "outputs": [
        {
          "output_type": "stream",
          "name": "stdout",
          "text": [
            "Kredi verilebilir\n",
            "Çünkü müşterinin yaşı 30'dan büyüktür.\n",
            "Kredi belirleme süreci tamamlanmıştır.\n"
          ]
        }
      ]
    },
    {
      "cell_type": "code",
      "source": [
        "# Sabitler / Constants\n",
        "print(122) # tamsayi sabiti\n",
        "print(66.45) # ondalik sabit\n",
        "print(\"Hello world's people\") # string/dize sabiti\n",
        "#print('Hello world's people') # string sabiti hatası - tek tırnaklar sorun olusturabilirmektedir\n",
        "print('Hello world\\'s people') # \\ escape kaçma karakteri\n",
        "print(True)  # bool sabiti # True/False\n",
        "print(None)"
      ],
      "metadata": {
        "colab": {
          "base_uri": "https://localhost:8080/"
        },
        "id": "iszJgbKFcI_M",
        "outputId": "9a7ef7c0-0a5d-4b08-ae2a-36e3d0a55d5e"
      },
      "execution_count": null,
      "outputs": [
        {
          "output_type": "stream",
          "name": "stdout",
          "text": [
            "122\n",
            "66.45\n",
            "Hello world's people\n",
            "Hello world's people\n",
            "True\n",
            "None\n"
          ]
        }
      ]
    },
    {
      "cell_type": "code",
      "source": [
        "# pitondaki yerleşik tipler\n",
        "print(type(122)) # tamsayi sabiti\n",
        "print(type(66.45)) # ondalik sabit\n",
        "print(type(\"Hello world's people\")) # string/dize sabiti\n",
        "print(type(True))  # bool sabiti # True/False\n",
        "print(type(None))"
      ],
      "metadata": {
        "colab": {
          "base_uri": "https://localhost:8080/"
        },
        "id": "G3JjXIZocJB9",
        "outputId": "df13635c-4038-432c-a0da-8da283d1b769"
      },
      "execution_count": null,
      "outputs": [
        {
          "output_type": "stream",
          "name": "stdout",
          "text": [
            "<class 'int'>\n",
            "<class 'float'>\n",
            "<class 'str'>\n",
            "<class 'bool'>\n",
            "<class 'NoneType'>\n"
          ]
        }
      ]
    },
    {
      "cell_type": "code",
      "source": [
        "type(None)"
      ],
      "metadata": {
        "colab": {
          "base_uri": "https://localhost:8080/"
        },
        "id": "JMsAWv76jHPv",
        "outputId": "5adb8402-d986-42ed-858c-47ce222b8e99"
      },
      "execution_count": null,
      "outputs": [
        {
          "output_type": "execute_result",
          "data": {
            "text/plain": [
              "NoneType"
            ]
          },
          "metadata": {},
          "execution_count": 18
        }
      ]
    },
    {
      "cell_type": "code",
      "source": [
        "# Pitonda hersey bir nesnedir\n",
        "# Nesnelerin metaverisi/attribute/özellikleri ve fonksiyonları/metotları olur\n",
        "# Nesne => insan\n",
        "#          -- metaveri=> insanin yasi, cinsiyeti, ...\n",
        "#          -- metotlari=> adimat, konus, ...\n",
        "# bunlara da . (dot) operatoru ile ulasilir.\n",
        "# mehmet bir insan nesnesi olsun;\n",
        "#     => mehmet.yas         (NOT: yas, insan nesnesinin bir ozelligi oldugu ve fonksiyon olmadigi icin () ile cagrilmiyor)\n",
        "#     => mehmet.adimat(10)  (NOT: adimat, insan nesnesinin bir metodu oldugu icin () ile cagriliyor)\n",
        "# bu bilgilere (nesnenin hangi metaveri/özellikler ve fonksiyonlar/metotlar var) ise dir fonksiyonu ile ulasabiliriz"
      ],
      "metadata": {
        "id": "QnOBQV3ujXpv"
      },
      "execution_count": null,
      "outputs": []
    },
    {
      "cell_type": "code",
      "source": [
        "x = 12"
      ],
      "metadata": {
        "id": "kXlv1c5pkLaT"
      },
      "execution_count": null,
      "outputs": []
    },
    {
      "cell_type": "code",
      "source": [
        "# 1. degiskende tutulan (degiskenin gosterdigi) nesnenin tipi nedir?\n",
        "# nesnenin tipini type yerleşik fonksiyonu ile ogreniyoruz\n",
        "type(x)"
      ],
      "metadata": {
        "colab": {
          "base_uri": "https://localhost:8080/"
        },
        "id": "lp4_ZuSCkNOX",
        "outputId": "eb7d7f6a-585e-493f-d221-717c2649af3e"
      },
      "execution_count": null,
      "outputs": [
        {
          "output_type": "execute_result",
          "data": {
            "text/plain": [
              "int"
            ]
          },
          "metadata": {},
          "execution_count": 20
        }
      ]
    },
    {
      "cell_type": "code",
      "source": [
        "# 2. Bu nesnenin metaveri/özellikleri ve metodlari nelerdir?\n",
        "# dir fonksiyonu: Nesnelerin metaverisi/özellikleri ve fonksiyonları/metotları\n",
        "# dir(x) # metaverileri ve metodlarin adlarini donduruyor\n",
        "dir(x)"
      ],
      "metadata": {
        "colab": {
          "base_uri": "https://localhost:8080/"
        },
        "id": "Ktbv2rLckRd_",
        "outputId": "935df0bc-238f-493b-8cd5-893ad7218c0f"
      },
      "execution_count": null,
      "outputs": [
        {
          "output_type": "execute_result",
          "data": {
            "text/plain": [
              "['__abs__',\n",
              " '__add__',\n",
              " '__and__',\n",
              " '__bool__',\n",
              " '__ceil__',\n",
              " '__class__',\n",
              " '__delattr__',\n",
              " '__dir__',\n",
              " '__divmod__',\n",
              " '__doc__',\n",
              " '__eq__',\n",
              " '__float__',\n",
              " '__floor__',\n",
              " '__floordiv__',\n",
              " '__format__',\n",
              " '__ge__',\n",
              " '__getattribute__',\n",
              " '__getnewargs__',\n",
              " '__gt__',\n",
              " '__hash__',\n",
              " '__index__',\n",
              " '__init__',\n",
              " '__init_subclass__',\n",
              " '__int__',\n",
              " '__invert__',\n",
              " '__le__',\n",
              " '__lshift__',\n",
              " '__lt__',\n",
              " '__mod__',\n",
              " '__mul__',\n",
              " '__ne__',\n",
              " '__neg__',\n",
              " '__new__',\n",
              " '__or__',\n",
              " '__pos__',\n",
              " '__pow__',\n",
              " '__radd__',\n",
              " '__rand__',\n",
              " '__rdivmod__',\n",
              " '__reduce__',\n",
              " '__reduce_ex__',\n",
              " '__repr__',\n",
              " '__rfloordiv__',\n",
              " '__rlshift__',\n",
              " '__rmod__',\n",
              " '__rmul__',\n",
              " '__ror__',\n",
              " '__round__',\n",
              " '__rpow__',\n",
              " '__rrshift__',\n",
              " '__rshift__',\n",
              " '__rsub__',\n",
              " '__rtruediv__',\n",
              " '__rxor__',\n",
              " '__setattr__',\n",
              " '__sizeof__',\n",
              " '__str__',\n",
              " '__sub__',\n",
              " '__subclasshook__',\n",
              " '__truediv__',\n",
              " '__trunc__',\n",
              " '__xor__',\n",
              " 'bit_length',\n",
              " 'conjugate',\n",
              " 'denominator',\n",
              " 'from_bytes',\n",
              " 'imag',\n",
              " 'numerator',\n",
              " 'real',\n",
              " 'to_bytes']"
            ]
          },
          "metadata": {},
          "execution_count": 21
        }
      ]
    },
    {
      "cell_type": "code",
      "source": [
        "print( dir(x) )"
      ],
      "metadata": {
        "colab": {
          "base_uri": "https://localhost:8080/"
        },
        "id": "EhHolKKLkaDX",
        "outputId": "0d7d33af-cf7e-4e23-d264-d268f4f599ab"
      },
      "execution_count": null,
      "outputs": [
        {
          "output_type": "stream",
          "name": "stdout",
          "text": [
            "['__abs__', '__add__', '__and__', '__bool__', '__ceil__', '__class__', '__delattr__', '__dir__', '__divmod__', '__doc__', '__eq__', '__float__', '__floor__', '__floordiv__', '__format__', '__ge__', '__getattribute__', '__getnewargs__', '__gt__', '__hash__', '__index__', '__init__', '__init_subclass__', '__int__', '__invert__', '__le__', '__lshift__', '__lt__', '__mod__', '__mul__', '__ne__', '__neg__', '__new__', '__or__', '__pos__', '__pow__', '__radd__', '__rand__', '__rdivmod__', '__reduce__', '__reduce_ex__', '__repr__', '__rfloordiv__', '__rlshift__', '__rmod__', '__rmul__', '__ror__', '__round__', '__rpow__', '__rrshift__', '__rshift__', '__rsub__', '__rtruediv__', '__rxor__', '__setattr__', '__sizeof__', '__str__', '__sub__', '__subclasshook__', '__truediv__', '__trunc__', '__xor__', 'bit_length', 'conjugate', 'denominator', 'from_bytes', 'imag', 'numerator', 'real', 'to_bytes']\n"
          ]
        }
      ]
    },
    {
      "cell_type": "code",
      "source": [
        "# 3. metodlarin/özelliklerin bilgisine nasil ulasiriz?\n",
        "x.to_bytes? # kullanilan IDE'ye bagli\n",
        "# Signature: x.to_bytes(length, byteorder, *, signed=False)\n",
        "# Docstring: Return an array of bytes representing an integer."
      ],
      "metadata": {
        "id": "mIVXZq9BkfFn"
      },
      "execution_count": null,
      "outputs": []
    },
    {
      "cell_type": "code",
      "source": [
        "x.to_bytes()"
      ],
      "metadata": {
        "colab": {
          "base_uri": "https://localhost:8080/",
          "height": 166
        },
        "id": "vWCAEuSCmfj-",
        "outputId": "bc3e9bc6-c837-4d3c-f129-2ddbce35d6e1"
      },
      "execution_count": null,
      "outputs": [
        {
          "output_type": "error",
          "ename": "TypeError",
          "evalue": "ignored",
          "traceback": [
            "\u001b[0;31m---------------------------------------------------------------------------\u001b[0m",
            "\u001b[0;31mTypeError\u001b[0m                                 Traceback (most recent call last)",
            "\u001b[0;32m<ipython-input-34-2012749fe978>\u001b[0m in \u001b[0;36m<module>\u001b[0;34m\u001b[0m\n\u001b[0;32m----> 1\u001b[0;31m \u001b[0mx\u001b[0m\u001b[0;34m.\u001b[0m\u001b[0mto_bytes\u001b[0m\u001b[0;34m(\u001b[0m\u001b[0;34m)\u001b[0m\u001b[0;34m\u001b[0m\u001b[0;34m\u001b[0m\u001b[0m\n\u001b[0m",
            "\u001b[0;31mTypeError\u001b[0m: to_bytes() missing required argument 'length' (pos 1)"
          ]
        }
      ]
    },
    {
      "cell_type": "code",
      "source": [
        "x.to_bytes(2, byteorder='big')"
      ],
      "metadata": {
        "colab": {
          "base_uri": "https://localhost:8080/"
        },
        "id": "gVhKCPd0lyBv",
        "outputId": "77416285-0d2e-43fe-c25f-61720fe98f07"
      },
      "execution_count": null,
      "outputs": [
        {
          "output_type": "execute_result",
          "data": {
            "text/plain": [
              "b'\\x00\\x0c'"
            ]
          },
          "metadata": {},
          "execution_count": 35
        }
      ]
    },
    {
      "cell_type": "code",
      "source": [
        "# LISTE NESNESI ICIN\n",
        "L = [1,2,3]\n",
        "# 1. degiskende tutulan (degiskenin gosterdigi) nesnenin tipi nedir?\n",
        "# nesnenin tipini type yerleşik fonksiyonu ile ogreniyoruz\n",
        "type(L)"
      ],
      "metadata": {
        "colab": {
          "base_uri": "https://localhost:8080/"
        },
        "id": "IgO_s_tzl3kw",
        "outputId": "6bba683b-d3b0-4528-8d88-ca85fbe83b66"
      },
      "execution_count": null,
      "outputs": [
        {
          "output_type": "execute_result",
          "data": {
            "text/plain": [
              "list"
            ]
          },
          "metadata": {},
          "execution_count": 106
        }
      ]
    },
    {
      "cell_type": "code",
      "source": [
        "# 2. Bu nesnenin metaveri ve metodlari nelerdir?\n",
        "# dir fonksiyonu: Nesnelerin metaverisi/özellikleri ve fonksiyonları/metotları\n",
        "# dir(L) # metaverileri ve metodlarin adlarini donduruyor\n",
        "print(dir(L))"
      ],
      "metadata": {
        "colab": {
          "base_uri": "https://localhost:8080/"
        },
        "id": "omOgej_-nB4P",
        "outputId": "018b7d6e-9c5e-4f5c-cd1e-cff7fa9cde7a"
      },
      "execution_count": null,
      "outputs": [
        {
          "output_type": "stream",
          "name": "stdout",
          "text": [
            "['__add__', '__class__', '__contains__', '__delattr__', '__delitem__', '__dir__', '__doc__', '__eq__', '__format__', '__ge__', '__getattribute__', '__getitem__', '__gt__', '__hash__', '__iadd__', '__imul__', '__init__', '__init_subclass__', '__iter__', '__le__', '__len__', '__lt__', '__mul__', '__ne__', '__new__', '__reduce__', '__reduce_ex__', '__repr__', '__reversed__', '__rmul__', '__setattr__', '__setitem__', '__sizeof__', '__str__', '__subclasshook__', 'append', 'clear', 'copy', 'count', 'extend', 'index', 'insert', 'pop', 'remove', 'reverse', 'sort']\n"
          ]
        }
      ]
    },
    {
      "cell_type": "code",
      "source": [
        "# 3. metodlarin/özelliklerin bilgisine nasil ulasiriz?\n",
        "# kullanilan IDE'ye bagli\n",
        "L.append?\n",
        "# Signature: L.append(object, /)\n",
        "# Docstring: Append object to the end of the list."
      ],
      "metadata": {
        "id": "h41uCbOJnJxn"
      },
      "execution_count": null,
      "outputs": []
    },
    {
      "cell_type": "code",
      "source": [
        "help(L.append)"
      ],
      "metadata": {
        "colab": {
          "base_uri": "https://localhost:8080/"
        },
        "id": "fjtS1b_jpTTa",
        "outputId": "a5265277-10ec-44ef-d5a0-d7a6cf2a327e"
      },
      "execution_count": null,
      "outputs": [
        {
          "output_type": "stream",
          "name": "stdout",
          "text": [
            "Help on built-in function append:\n",
            "\n",
            "append(object, /) method of builtins.list instance\n",
            "    Append object to the end of the list.\n",
            "\n"
          ]
        }
      ]
    },
    {
      "cell_type": "code",
      "source": [
        "L.append(5)\n",
        "# ekrana/konsola bir değer basmadı\n",
        "# => fonksiyon herhangi bir deger dondurmedi => None dondurdu\n",
        "# => cunku degisikligi yerinde yaptiktan sonra None donduruyor"
      ],
      "metadata": {
        "id": "ZS2OtiCUnN4X"
      },
      "execution_count": null,
      "outputs": []
    },
    {
      "cell_type": "code",
      "source": [
        "print(L.append(555))"
      ],
      "metadata": {
        "colab": {
          "base_uri": "https://localhost:8080/"
        },
        "id": "UhTwZ1gZ2Gl8",
        "outputId": "c1a28b02-05e4-47d8-bc60-3147ee3b1894"
      },
      "execution_count": null,
      "outputs": [
        {
          "output_type": "stream",
          "name": "stdout",
          "text": [
            "None\n"
          ]
        }
      ]
    },
    {
      "cell_type": "code",
      "source": [
        "print(L)"
      ],
      "metadata": {
        "colab": {
          "base_uri": "https://localhost:8080/"
        },
        "id": "uGXASvd8nURp",
        "outputId": "dc6d9b4b-4677-4587-ddbe-2d3f4204d76d"
      },
      "execution_count": null,
      "outputs": [
        {
          "output_type": "stream",
          "name": "stdout",
          "text": [
            "[1, 2, 3, 5]\n"
          ]
        }
      ]
    },
    {
      "cell_type": "code",
      "source": [
        "L = L.append(44) #  yapmiyoruz !!!\n",
        "# burada = operatorunun sagindaki islem yapilip None donmesi, L degiskeninin artik None nesnesini gostermesine sebebiyet verecektir\n",
        "# L = None"
      ],
      "metadata": {
        "id": "xr-CxhpPnhJP"
      },
      "execution_count": null,
      "outputs": []
    },
    {
      "cell_type": "code",
      "source": [
        "print(L) # orjinal nesne degisti"
      ],
      "metadata": {
        "colab": {
          "base_uri": "https://localhost:8080/"
        },
        "id": "ZR_OB6pPnv0P",
        "outputId": "19efacca-d365-4822-bbb5-798ec0bf32af"
      },
      "execution_count": null,
      "outputs": [
        {
          "output_type": "stream",
          "name": "stdout",
          "text": [
            "None\n"
          ]
        }
      ]
    },
    {
      "cell_type": "code",
      "source": [
        "L.append(99)"
      ],
      "metadata": {
        "colab": {
          "base_uri": "https://localhost:8080/",
          "height": 166
        },
        "id": "DwHpXCHVnxKI",
        "outputId": "112ad2f4-47e2-46bf-e0a0-4053e882f7d2"
      },
      "execution_count": null,
      "outputs": [
        {
          "output_type": "error",
          "ename": "AttributeError",
          "evalue": "ignored",
          "traceback": [
            "\u001b[0;31m---------------------------------------------------------------------------\u001b[0m",
            "\u001b[0;31mAttributeError\u001b[0m                            Traceback (most recent call last)",
            "\u001b[0;32m<ipython-input-55-d0fff713c1be>\u001b[0m in \u001b[0;36m<module>\u001b[0;34m\u001b[0m\n\u001b[0;32m----> 1\u001b[0;31m \u001b[0mL\u001b[0m\u001b[0;34m.\u001b[0m\u001b[0mappend\u001b[0m\u001b[0;34m(\u001b[0m\u001b[0;36m99\u001b[0m\u001b[0;34m)\u001b[0m\u001b[0;34m\u001b[0m\u001b[0;34m\u001b[0m\u001b[0m\n\u001b[0m",
            "\u001b[0;31mAttributeError\u001b[0m: 'NoneType' object has no attribute 'append'"
          ]
        }
      ]
    },
    {
      "cell_type": "code",
      "source": [
        "# STRING NESNELERI\n",
        "banka_adi = 'Halk Bankasi'"
      ],
      "metadata": {
        "id": "-Ns9LYXSteAH"
      },
      "execution_count": null,
      "outputs": []
    },
    {
      "cell_type": "code",
      "source": [
        "print(banka_adi)"
      ],
      "metadata": {
        "colab": {
          "base_uri": "https://localhost:8080/"
        },
        "id": "fsDZkR8Dt1uJ",
        "outputId": "08116220-19d1-4f7c-ae4c-5f0db532e909"
      },
      "execution_count": null,
      "outputs": [
        {
          "output_type": "stream",
          "name": "stdout",
          "text": [
            "Halk Bankasi\n"
          ]
        }
      ]
    },
    {
      "cell_type": "code",
      "source": [
        "type(banka_adi)"
      ],
      "metadata": {
        "colab": {
          "base_uri": "https://localhost:8080/"
        },
        "id": "HZXp7-T7tkYE",
        "outputId": "c5e40366-dffc-4743-dcfa-618b8ed484ac"
      },
      "execution_count": null,
      "outputs": [
        {
          "output_type": "execute_result",
          "data": {
            "text/plain": [
              "str"
            ]
          },
          "metadata": {},
          "execution_count": 62
        }
      ]
    },
    {
      "cell_type": "code",
      "source": [
        "print(dir(banka_adi))"
      ],
      "metadata": {
        "colab": {
          "base_uri": "https://localhost:8080/"
        },
        "id": "BiMbO_ietmf7",
        "outputId": "34fbc869-1c57-46b5-8054-6288d88f0de6"
      },
      "execution_count": null,
      "outputs": [
        {
          "output_type": "stream",
          "name": "stdout",
          "text": [
            "['__add__', '__class__', '__contains__', '__delattr__', '__dir__', '__doc__', '__eq__', '__format__', '__ge__', '__getattribute__', '__getitem__', '__getnewargs__', '__gt__', '__hash__', '__init__', '__init_subclass__', '__iter__', '__le__', '__len__', '__lt__', '__mod__', '__mul__', '__ne__', '__new__', '__reduce__', '__reduce_ex__', '__repr__', '__rmod__', '__rmul__', '__setattr__', '__sizeof__', '__str__', '__subclasshook__', 'capitalize', 'casefold', 'center', 'count', 'encode', 'endswith', 'expandtabs', 'find', 'format', 'format_map', 'index', 'isalnum', 'isalpha', 'isascii', 'isdecimal', 'isdigit', 'isidentifier', 'islower', 'isnumeric', 'isprintable', 'isspace', 'istitle', 'isupper', 'join', 'ljust', 'lower', 'lstrip', 'maketrans', 'partition', 'replace', 'rfind', 'rindex', 'rjust', 'rpartition', 'rsplit', 'rstrip', 'split', 'splitlines', 'startswith', 'strip', 'swapcase', 'title', 'translate', 'upper', 'zfill']\n"
          ]
        }
      ]
    },
    {
      "cell_type": "code",
      "source": [
        "# banka_adi kucuk harfli olarak adi gostersin\n",
        "banka_adi.lower()"
      ],
      "metadata": {
        "colab": {
          "base_uri": "https://localhost:8080/",
          "height": 35
        },
        "id": "S4h6hO-wtrv1",
        "outputId": "e91ac446-3ebc-4e56-dd35-a8499b50c4aa"
      },
      "execution_count": null,
      "outputs": [
        {
          "output_type": "execute_result",
          "data": {
            "text/plain": [
              "'halk bankasi'"
            ],
            "application/vnd.google.colaboratory.intrinsic+json": {
              "type": "string"
            }
          },
          "metadata": {},
          "execution_count": 64
        }
      ]
    },
    {
      "cell_type": "code",
      "source": [
        "print(banka_adi) # orjinal değer/nesne değişmedi"
      ],
      "metadata": {
        "colab": {
          "base_uri": "https://localhost:8080/"
        },
        "id": "h6pL35i-t1Jj",
        "outputId": "eb337e39-deb2-469f-8331-b2d8e4a4fde9"
      },
      "execution_count": null,
      "outputs": [
        {
          "output_type": "stream",
          "name": "stdout",
          "text": [
            "Halk Bankasi\n"
          ]
        }
      ]
    },
    {
      "cell_type": "code",
      "source": [
        "# banka_adi kucuk harfli olarak adi gostersin yani değişken hepsi küçük harfli olan stringi göstersin\n",
        "banka_adi = banka_adi.lower()\n",
        "print(banka_adi)"
      ],
      "metadata": {
        "colab": {
          "base_uri": "https://localhost:8080/"
        },
        "id": "Ct38fHyIuVC1",
        "outputId": "1f2572bf-3440-494a-91f4-c8cc00bd4f2f"
      },
      "execution_count": null,
      "outputs": [
        {
          "output_type": "stream",
          "name": "stdout",
          "text": [
            "halk bankasi\n"
          ]
        }
      ]
    },
    {
      "cell_type": "markdown",
      "source": [
        "#### Sayısal Operatörler"
      ],
      "metadata": {
        "id": "vGo0czXmpm1h"
      }
    },
    {
      "cell_type": "code",
      "source": [
        "# Sayisal Operatorler\n",
        "x = 47\n",
        "y = 4\n",
        "print(x + y)\n",
        "print(x - y)\n",
        "print(x * y)\n",
        "print(x / y) # 11.75\n",
        "print(x // y) # tamsayi bolum (ondalik kismi atar ve sadece tamsayi olan kismi dondurur)\n",
        "print(x % y) # kalan/remainder/mod alma\n",
        "print(x ** y) # ussunu almak/exponentiation ==>> x uzeri y => 47 uzeri 4"
      ],
      "metadata": {
        "colab": {
          "base_uri": "https://localhost:8080/"
        },
        "id": "i23mCPk8o9MI",
        "outputId": "dbb250ba-c550-4170-f4d7-499aa8bd7ff1"
      },
      "execution_count": null,
      "outputs": [
        {
          "output_type": "stream",
          "name": "stdout",
          "text": [
            "51\n",
            "43\n",
            "188\n",
            "11.75\n",
            "11\n",
            "3\n",
            "4879681\n"
          ]
        }
      ]
    },
    {
      "cell_type": "code",
      "source": [
        "x + y\n",
        "x - y \n",
        "x / y"
      ],
      "metadata": {
        "colab": {
          "base_uri": "https://localhost:8080/"
        },
        "id": "99PEAAyQv_14",
        "outputId": "2ae53cae-9ceb-46c1-b388-8d9ec8f437d8"
      },
      "execution_count": null,
      "outputs": [
        {
          "output_type": "execute_result",
          "data": {
            "text/plain": [
              "11.75"
            ]
          },
          "metadata": {},
          "execution_count": 68
        }
      ]
    },
    {
      "cell_type": "code",
      "source": [
        "x / y\n",
        "# 11.75"
      ],
      "metadata": {
        "colab": {
          "base_uri": "https://localhost:8080/"
        },
        "id": "Umi7hlxcwr8B",
        "outputId": "41097c4f-fad0-412e-ea69-1d144c4c9d12"
      },
      "execution_count": null,
      "outputs": [
        {
          "output_type": "execute_result",
          "data": {
            "text/plain": [
              "11.75"
            ]
          },
          "metadata": {},
          "execution_count": 69
        }
      ]
    },
    {
      "cell_type": "code",
      "source": [
        "int(x / y) # int(11.75)\n",
        "# int fonksiyonu sonucun ondalik kismini atarak sadece tamsayi kismini donduruyor"
      ],
      "metadata": {
        "colab": {
          "base_uri": "https://localhost:8080/"
        },
        "id": "dQJEsL00wsy_",
        "outputId": "0059acba-09e4-4417-a375-e775316be876"
      },
      "execution_count": null,
      "outputs": [
        {
          "output_type": "execute_result",
          "data": {
            "text/plain": [
              "11"
            ]
          },
          "metadata": {},
          "execution_count": 70
        }
      ]
    },
    {
      "cell_type": "code",
      "source": [
        "x // y # int(x/y)"
      ],
      "metadata": {
        "colab": {
          "base_uri": "https://localhost:8080/"
        },
        "id": "NoqzKy1Qwuo_",
        "outputId": "78094b6b-8b02-464e-cd08-93f29f610a8b"
      },
      "execution_count": null,
      "outputs": [
        {
          "output_type": "execute_result",
          "data": {
            "text/plain": [
              "11"
            ]
          },
          "metadata": {},
          "execution_count": 71
        }
      ]
    },
    {
      "cell_type": "code",
      "source": [
        "round(x/y) # round(11.75) # round yerlesik fonksiyonu sonucu en yakin tamsayiya yuvarliyor"
      ],
      "metadata": {
        "colab": {
          "base_uri": "https://localhost:8080/"
        },
        "id": "Rq6pgp_Cw-F4",
        "outputId": "64abfe57-1b1b-4d16-f156-c7fa11dbff31"
      },
      "execution_count": null,
      "outputs": [
        {
          "output_type": "execute_result",
          "data": {
            "text/plain": [
              "12"
            ]
          },
          "metadata": {},
          "execution_count": 72
        }
      ]
    },
    {
      "cell_type": "code",
      "source": [
        "# en yakin tamsayiya yuvarlama\n",
        "print(round(11/4)) # 2.75\n",
        "print(round(9/4)) # 2.25\n",
        "print(round(9/2)) # 4.5\n",
        "# asagi yuvarlama\n",
        "print(int(11/4)) # 2.75\n",
        "print(int(9/4)) # 2.25\n",
        "print(11//4) # 2.75\n",
        "print(9//4) # 2.25"
      ],
      "metadata": {
        "colab": {
          "base_uri": "https://localhost:8080/"
        },
        "id": "x-4_CXJAxAZH",
        "outputId": "408710ca-47e3-4e18-f3d8-833883340bb6"
      },
      "execution_count": null,
      "outputs": [
        {
          "output_type": "stream",
          "name": "stdout",
          "text": [
            "3\n",
            "2\n",
            "4\n",
            "2\n",
            "2\n",
            "2\n",
            "2\n"
          ]
        }
      ]
    },
    {
      "cell_type": "code",
      "source": [
        "5 % 2 # kalan"
      ],
      "metadata": {
        "colab": {
          "base_uri": "https://localhost:8080/"
        },
        "id": "3RS4oijoxFC_",
        "outputId": "efeb9079-3654-4ace-a622-0ba31f7bd940"
      },
      "execution_count": null,
      "outputs": [
        {
          "output_type": "execute_result",
          "data": {
            "text/plain": [
              "1"
            ]
          },
          "metadata": {},
          "execution_count": 75
        }
      ]
    },
    {
      "cell_type": "code",
      "source": [
        "5 // 2 # bolum"
      ],
      "metadata": {
        "colab": {
          "base_uri": "https://localhost:8080/"
        },
        "id": "eO1Uuw-2xRx_",
        "outputId": "9777948c-3906-43c9-b30a-ca2272bf5462"
      },
      "execution_count": null,
      "outputs": [
        {
          "output_type": "execute_result",
          "data": {
            "text/plain": [
              "2"
            ]
          },
          "metadata": {},
          "execution_count": 76
        }
      ]
    },
    {
      "cell_type": "code",
      "source": [
        "'''\n",
        "# Operatör öncelikleri\n",
        "1. parantezler\n",
        "2. üslü sayılar\n",
        "3. çarpma / bölme / kalan (%) / tamsayı bölme (//)\n",
        "4. toplama / çıkarma\n",
        "5. aynı önceliğe sahipler arasında da soldan sağa işlemler gerçekleştirilecek\n",
        "'''"
      ],
      "metadata": {
        "id": "RyHC4bcCxSsI"
      },
      "execution_count": null,
      "outputs": []
    },
    {
      "cell_type": "code",
      "source": [
        "x = 1 + 3 ** 2 / 4 * 6\n",
        "print(x)\n",
        "# x = 1 + 3 ** 2 / 4 * 6\n",
        "# x = 1 + 9 / 4 * 6\n",
        "# x = 1 + 2.25 * 6\n",
        "# x = 1 + 13.5\n",
        "# x = 14.5"
      ],
      "metadata": {
        "colab": {
          "base_uri": "https://localhost:8080/"
        },
        "id": "iJC5mbZtxast",
        "outputId": "23aae6b0-4f25-4aef-c8b0-109bed9a1483"
      },
      "execution_count": null,
      "outputs": [
        {
          "output_type": "stream",
          "name": "stdout",
          "text": [
            "14.5\n"
          ]
        }
      ]
    },
    {
      "cell_type": "code",
      "source": [
        "x = 1 + 3**2 // (4 * 6)\n",
        "print(x)\n",
        "# x = 1 + 3**2 // (4 * 6)\n",
        "# x = 1 + 3**2 // 24\n",
        "# x = 1 + 9 // 24\n",
        "# x = 1 + 0\n",
        "# x = 1"
      ],
      "metadata": {
        "colab": {
          "base_uri": "https://localhost:8080/"
        },
        "id": "D-w-IPw5xbJv",
        "outputId": "17293057-aebf-4912-b2af-08387c1a8d7c"
      },
      "execution_count": null,
      "outputs": [
        {
          "output_type": "stream",
          "name": "stdout",
          "text": [
            "1\n"
          ]
        }
      ]
    },
    {
      "cell_type": "code",
      "source": [
        "# Atama / Assignment operatoru\n",
        "x = 25\n",
        "print(x)\n",
        "x = x + 5\n",
        "print(x)\n",
        "# => Augmented Operators x+=5 ==>> x = x + 5 ==>> artirilmis operator\n",
        "x += 5 # atama operatorunden once + islemi yapilacagindan, + operatoru, = operatorunun onune aliniyor\n",
        "print(x)"
      ],
      "metadata": {
        "colab": {
          "base_uri": "https://localhost:8080/"
        },
        "id": "jsCUzHtKyBi_",
        "outputId": "ff5d4d0b-297d-409c-a2b5-3b21f99a1d5c"
      },
      "execution_count": null,
      "outputs": [
        {
          "output_type": "stream",
          "name": "stdout",
          "text": [
            "25\n",
            "30\n",
            "35\n"
          ]
        }
      ]
    },
    {
      "cell_type": "code",
      "source": [
        "# Augmented/artırılmış atama operatörü\n",
        "a = 10\n",
        "b = 20\n",
        "a = a * b\n",
        "# a->10, b->20\n",
        "# a = 10 * 20\n",
        "# a = 200\n",
        "a *= b\n",
        "# a = 200 * 20\n",
        "# a = 4000\n",
        "print(a, b)"
      ],
      "metadata": {
        "colab": {
          "base_uri": "https://localhost:8080/"
        },
        "id": "9y8efx6NyO3A",
        "outputId": "5b20c358-5c6a-444e-8e00-80e46c0686e5"
      },
      "execution_count": null,
      "outputs": [
        {
          "output_type": "stream",
          "name": "stdout",
          "text": [
            "4000 20\n"
          ]
        }
      ]
    },
    {
      "cell_type": "code",
      "source": [
        "k = 10\n",
        "d = 3\n",
        "k **= d # us alma\n",
        "print(k)"
      ],
      "metadata": {
        "colab": {
          "base_uri": "https://localhost:8080/"
        },
        "id": "svCGfNiAzUAF",
        "outputId": "3e14fcf1-201a-4332-83c5-3b4deaf316bb"
      },
      "execution_count": null,
      "outputs": [
        {
          "output_type": "stream",
          "name": "stdout",
          "text": [
            "1000\n"
          ]
        }
      ]
    },
    {
      "cell_type": "markdown",
      "source": [
        "#### Yerleşik piton nesnelerinin Tipleri\n"
      ],
      "metadata": {
        "id": "ETNIQ2I1zgzM"
      }
    },
    {
      "cell_type": "code",
      "source": [
        "type(True)"
      ],
      "metadata": {
        "colab": {
          "base_uri": "https://localhost:8080/"
        },
        "id": "C46nApIazZhX",
        "outputId": "7fd3f3bb-daf6-4848-f106-29c3b9659cc2"
      },
      "execution_count": null,
      "outputs": [
        {
          "output_type": "execute_result",
          "data": {
            "text/plain": [
              "bool"
            ]
          },
          "metadata": {},
          "execution_count": 84
        }
      ]
    },
    {
      "cell_type": "code",
      "source": [
        "type(False)"
      ],
      "metadata": {
        "colab": {
          "base_uri": "https://localhost:8080/"
        },
        "id": "be_C3FXHzjav",
        "outputId": "40e730e4-0d47-40ea-db90-6f783818cbfb"
      },
      "execution_count": null,
      "outputs": [
        {
          "output_type": "execute_result",
          "data": {
            "text/plain": [
              "bool"
            ]
          },
          "metadata": {},
          "execution_count": 85
        }
      ]
    },
    {
      "cell_type": "code",
      "source": [
        "type(None)"
      ],
      "metadata": {
        "colab": {
          "base_uri": "https://localhost:8080/"
        },
        "id": "Jr7ZqPk9zlMP",
        "outputId": "4cc8ff3d-d407-413f-bcbe-5ac9a198e83a"
      },
      "execution_count": null,
      "outputs": [
        {
          "output_type": "execute_result",
          "data": {
            "text/plain": [
              "NoneType"
            ]
          },
          "metadata": {},
          "execution_count": 86
        }
      ]
    },
    {
      "cell_type": "code",
      "source": [
        "type(5), type(4.5), type('veri')"
      ],
      "metadata": {
        "colab": {
          "base_uri": "https://localhost:8080/"
        },
        "id": "SPy9lju7zn84",
        "outputId": "0c11d469-f24e-4195-d38a-6fcfa6a07711"
      },
      "execution_count": null,
      "outputs": [
        {
          "output_type": "execute_result",
          "data": {
            "text/plain": [
              "(int, float, str)"
            ]
          },
          "metadata": {},
          "execution_count": 87
        }
      ]
    },
    {
      "cell_type": "code",
      "source": [
        "xnone = None\n",
        "xbool = False\n",
        "print(type(xnone))\n",
        "print(type(xbool))"
      ],
      "metadata": {
        "colab": {
          "base_uri": "https://localhost:8080/"
        },
        "id": "i-xrdgxdzrFn",
        "outputId": "7f00b777-54d2-4928-a40d-1db353398d8c"
      },
      "execution_count": null,
      "outputs": [
        {
          "output_type": "stream",
          "name": "stdout",
          "text": [
            "<class 'NoneType'>\n",
            "<class 'bool'>\n"
          ]
        }
      ]
    },
    {
      "cell_type": "code",
      "source": [
        "# bool olarak True ve False bulunmaktadir. Bunlarin int degerleri ise sirasiyla 1 ve 0 dir\n",
        "int(True), int(False)"
      ],
      "metadata": {
        "colab": {
          "base_uri": "https://localhost:8080/"
        },
        "id": "NG6mnCzZztvP",
        "outputId": "57174d0a-4090-43ca-b607-55d8f7348392"
      },
      "execution_count": null,
      "outputs": [
        {
          "output_type": "execute_result",
          "data": {
            "text/plain": [
              "(1, 0)"
            ]
          },
          "metadata": {},
          "execution_count": 90
        }
      ]
    },
    {
      "cell_type": "code",
      "source": [
        "bool(1), bool(0), bool(1245), bool(-111), bool(12.35), bool(0.45) # 0dan farkli sayilarin bool degeri True dur"
      ],
      "metadata": {
        "colab": {
          "base_uri": "https://localhost:8080/"
        },
        "id": "96dTezrwz3nA",
        "outputId": "b8abed8c-febc-42ef-e542-6803fdcaef25"
      },
      "execution_count": null,
      "outputs": [
        {
          "output_type": "execute_result",
          "data": {
            "text/plain": [
              "(True, False, True, True, True, True)"
            ]
          },
          "metadata": {},
          "execution_count": 96
        }
      ]
    },
    {
      "cell_type": "code",
      "source": [
        "bin(1245)"
      ],
      "metadata": {
        "colab": {
          "base_uri": "https://localhost:8080/",
          "height": 35
        },
        "id": "oQHVWR8y0DMA",
        "outputId": "22018333-b152-462f-a6e7-6615741b9329"
      },
      "execution_count": null,
      "outputs": [
        {
          "output_type": "execute_result",
          "data": {
            "text/plain": [
              "'0b10011011101'"
            ],
            "application/vnd.google.colaboratory.intrinsic+json": {
              "type": "string"
            }
          },
          "metadata": {},
          "execution_count": 98
        }
      ]
    },
    {
      "cell_type": "code",
      "source": [
        "bin(0)"
      ],
      "metadata": {
        "colab": {
          "base_uri": "https://localhost:8080/",
          "height": 35
        },
        "id": "Hkn5O5Zg0i-P",
        "outputId": "79d68925-efd0-4ddb-ad38-b16f71070c88"
      },
      "execution_count": null,
      "outputs": [
        {
          "output_type": "execute_result",
          "data": {
            "text/plain": [
              "'0b0'"
            ],
            "application/vnd.google.colaboratory.intrinsic+json": {
              "type": "string"
            }
          },
          "metadata": {},
          "execution_count": 99
        }
      ]
    },
    {
      "cell_type": "code",
      "source": [
        "# stringlerin bool degerleri\n",
        "bool(\"banka\"), bool('a'), bool(''), bool('False'), bool(False)"
      ],
      "metadata": {
        "colab": {
          "base_uri": "https://localhost:8080/"
        },
        "id": "HHBAR6_L055v",
        "outputId": "796c42bb-7276-4520-f941-4f8ba2a3df33"
      },
      "execution_count": null,
      "outputs": [
        {
          "output_type": "execute_result",
          "data": {
            "text/plain": [
              "(True, True, False, True, False)"
            ]
          },
          "metadata": {},
          "execution_count": 104
        }
      ]
    },
    {
      "cell_type": "markdown",
      "source": [
        "#### Karşılaştırma operatörleri"
      ],
      "metadata": {
        "id": "Y4wjMc9x1ii8"
      }
    },
    {
      "cell_type": "code",
      "source": [
        "# Karşılaştırma operatörleri => boolean => True/False\n",
        "a = 18\n",
        "b = 25"
      ],
      "metadata": {
        "id": "d9fVa6iv1Qza"
      },
      "execution_count": null,
      "outputs": []
    },
    {
      "cell_type": "code",
      "source": [
        "a == b"
      ],
      "metadata": {
        "colab": {
          "base_uri": "https://localhost:8080/"
        },
        "id": "aklpNZRIiqm4",
        "outputId": "695fe0a3-c6c9-42ab-f96a-6b2dee816172"
      },
      "execution_count": null,
      "outputs": [
        {
          "output_type": "execute_result",
          "data": {
            "text/plain": [
              "False"
            ]
          },
          "metadata": {},
          "execution_count": 3
        }
      ]
    },
    {
      "cell_type": "code",
      "source": [
        "18 == 25"
      ],
      "metadata": {
        "colab": {
          "base_uri": "https://localhost:8080/"
        },
        "id": "2re3bqj6ixc-",
        "outputId": "28a9e856-4771-417c-bc53-6a7b16e2ea3c"
      },
      "execution_count": null,
      "outputs": [
        {
          "output_type": "execute_result",
          "data": {
            "text/plain": [
              "False"
            ]
          },
          "metadata": {},
          "execution_count": 4
        }
      ]
    },
    {
      "cell_type": "code",
      "source": [
        "a != b"
      ],
      "metadata": {
        "colab": {
          "base_uri": "https://localhost:8080/"
        },
        "id": "qefg1N2yi0en",
        "outputId": "d2319100-bd26-44d3-da9c-3412b53a5860"
      },
      "execution_count": null,
      "outputs": [
        {
          "output_type": "execute_result",
          "data": {
            "text/plain": [
              "True"
            ]
          },
          "metadata": {},
          "execution_count": 5
        }
      ]
    },
    {
      "cell_type": "code",
      "source": [
        "if a != b: # if 18 != 25: ==>> if True:\n",
        "    print(\"a, b'ye esit degildir\")\n",
        "else:\n",
        "    print(\"a, b'ye esittir\")\n",
        "print(\"Kontroller bitmistir\")"
      ],
      "metadata": {
        "colab": {
          "base_uri": "https://localhost:8080/"
        },
        "id": "QipUhZAPi2bn",
        "outputId": "99643d93-5e53-4ea6-f5dc-3b5566646c15"
      },
      "execution_count": null,
      "outputs": [
        {
          "output_type": "stream",
          "name": "stdout",
          "text": [
            "a, b'ye esit degildir\n",
            "Kontroller bitmistir\n"
          ]
        }
      ]
    },
    {
      "cell_type": "code",
      "source": [
        "if a = b: # tek = ifadesi atama operatorudur\n",
        "    print(\"a\")\n",
        "else:\n",
        "    print(\"b\")"
      ],
      "metadata": {
        "colab": {
          "base_uri": "https://localhost:8080/",
          "height": 131
        },
        "id": "JRNmUSCJjB1P",
        "outputId": "938b5a8b-173c-4b1a-e873-0b65e7e03721"
      },
      "execution_count": null,
      "outputs": [
        {
          "output_type": "error",
          "ename": "SyntaxError",
          "evalue": "ignored",
          "traceback": [
            "\u001b[0;36m  File \u001b[0;32m\"<ipython-input-7-1ae193f8ddca>\"\u001b[0;36m, line \u001b[0;32m1\u001b[0m\n\u001b[0;31m    if a = b: # tek = ifadesi atama operatorudur\u001b[0m\n\u001b[0m         ^\u001b[0m\n\u001b[0;31mSyntaxError\u001b[0m\u001b[0;31m:\u001b[0m invalid syntax\n"
          ]
        }
      ]
    },
    {
      "cell_type": "code",
      "source": [
        "# Mantıksal Operatörler\n",
        "# and, or, not\n",
        "# Boolean / Ikili islemler\n",
        "a <= 20 and b > 18"
      ],
      "metadata": {
        "colab": {
          "base_uri": "https://localhost:8080/"
        },
        "id": "-4AWQDiEjXFo",
        "outputId": "5aee745d-11d5-4df4-e82e-4c067992c05a"
      },
      "execution_count": null,
      "outputs": [
        {
          "output_type": "execute_result",
          "data": {
            "text/plain": [
              "True"
            ]
          },
          "metadata": {},
          "execution_count": 8
        }
      ]
    },
    {
      "cell_type": "code",
      "source": [
        "a <= 20"
      ],
      "metadata": {
        "colab": {
          "base_uri": "https://localhost:8080/"
        },
        "id": "NRBANBmBjvDG",
        "outputId": "f584eb8a-af2f-4572-f50d-65056a5a9443"
      },
      "execution_count": null,
      "outputs": [
        {
          "output_type": "execute_result",
          "data": {
            "text/plain": [
              "True"
            ]
          },
          "metadata": {},
          "execution_count": 9
        }
      ]
    },
    {
      "cell_type": "code",
      "source": [
        "b > 18"
      ],
      "metadata": {
        "colab": {
          "base_uri": "https://localhost:8080/"
        },
        "id": "YXaKCTp7jx02",
        "outputId": "49dbba34-96af-4500-f1ff-5e8f90f17115"
      },
      "execution_count": null,
      "outputs": [
        {
          "output_type": "execute_result",
          "data": {
            "text/plain": [
              "True"
            ]
          },
          "metadata": {},
          "execution_count": 10
        }
      ]
    },
    {
      "cell_type": "code",
      "source": [
        "'''\n",
        "sol  and  sag  => sonuc\n",
        "True     True     True\n",
        "True     False    False\n",
        "False    True     False\n",
        "False    False    False\n",
        "'''"
      ],
      "metadata": {
        "id": "pwJ86cAzj0zW"
      },
      "execution_count": null,
      "outputs": []
    },
    {
      "cell_type": "code",
      "source": [
        "musteri_adi = 'ahmet'\n",
        "musteri_yasi = 35\n",
        "musteri_geliri = 6500\n",
        "kredi_basvuru_tutari = 100000\n",
        "kredi_onaylandi_mi = None # kredinin onaylanip onaylanmadigini belirten boolean degisken. (True/False) \n",
        "# KREDI VERME KURALIMIZ\n",
        "# musterinin yasi 30dan buyuk ya da 30a esitse bu musteriye kredi verilir"
      ],
      "metadata": {
        "id": "-H0FDYM2kA_A"
      },
      "execution_count": null,
      "outputs": []
    },
    {
      "cell_type": "code",
      "source": [
        "musteri_yasi >= 30"
      ],
      "metadata": {
        "colab": {
          "base_uri": "https://localhost:8080/"
        },
        "id": "kzNDvh8dkBDh",
        "outputId": "67d5a557-cb8c-46f9-f417-c3f209644bd1"
      },
      "execution_count": null,
      "outputs": [
        {
          "output_type": "execute_result",
          "data": {
            "text/plain": [
              "True"
            ]
          },
          "metadata": {},
          "execution_count": 12
        }
      ]
    },
    {
      "cell_type": "code",
      "source": [
        "# KREDI VERME KURALIMIZ\n",
        "# musterinin yasi 30dan buyuk ya da 30a esitse \n",
        "# ve ayni zamanda\n",
        "# aylik geliri de 8000 TLnin uzerindeyse bu musteriye kredi verilir. "
      ],
      "metadata": {
        "id": "5I3mgDNGkBFX"
      },
      "execution_count": null,
      "outputs": []
    },
    {
      "cell_type": "code",
      "source": [
        "musteri_yasi >= 30 and musteri_geliri > 8000"
      ],
      "metadata": {
        "colab": {
          "base_uri": "https://localhost:8080/"
        },
        "id": "MeZASMaakBJh",
        "outputId": "74559ed6-2516-45ca-9991-ecb9de55035e"
      },
      "execution_count": null,
      "outputs": [
        {
          "output_type": "execute_result",
          "data": {
            "text/plain": [
              "False"
            ]
          },
          "metadata": {},
          "execution_count": 20
        }
      ]
    },
    {
      "cell_type": "code",
      "source": [
        "musteri_yasi >= 30"
      ],
      "metadata": {
        "colab": {
          "base_uri": "https://localhost:8080/"
        },
        "id": "AQ52RRUvkBL4",
        "outputId": "1d1f9fda-a3b1-4125-d398-3379c9ca3527"
      },
      "execution_count": null,
      "outputs": [
        {
          "output_type": "execute_result",
          "data": {
            "text/plain": [
              "True"
            ]
          },
          "metadata": {},
          "execution_count": 15
        }
      ]
    },
    {
      "cell_type": "code",
      "source": [
        "musteri_geliri > 8000"
      ],
      "metadata": {
        "colab": {
          "base_uri": "https://localhost:8080/"
        },
        "id": "LIhK3ympkBOZ",
        "outputId": "9be9c2a2-2740-449d-d8a8-78934be60207"
      },
      "execution_count": null,
      "outputs": [
        {
          "output_type": "execute_result",
          "data": {
            "text/plain": [
              "False"
            ]
          },
          "metadata": {},
          "execution_count": 16
        }
      ]
    },
    {
      "cell_type": "code",
      "source": [
        "if musteri_yasi >= 30 and musteri_geliri > 8000:\n",
        "    print(\"kredi onaylanmistir\")\n",
        "    kredi_onaylandi_mi = True\n",
        "else:\n",
        "    print(\"kredi onay alamamistir\")\n",
        "    kredi_onaylandi_mi = False"
      ],
      "metadata": {
        "colab": {
          "base_uri": "https://localhost:8080/"
        },
        "id": "la7Ojg4xkyTM",
        "outputId": "4accc6c3-7024-4579-e0bc-df44a181a356"
      },
      "execution_count": null,
      "outputs": [
        {
          "output_type": "stream",
          "name": "stdout",
          "text": [
            "kredi onay alamamistir\n"
          ]
        }
      ]
    },
    {
      "cell_type": "code",
      "source": [
        "print(kredi_onaylandi_mi)"
      ],
      "metadata": {
        "colab": {
          "base_uri": "https://localhost:8080/"
        },
        "id": "avdBf8dKmKJx",
        "outputId": "c830c101-d1ab-45ad-e432-77afa20280b6"
      },
      "execution_count": null,
      "outputs": [
        {
          "output_type": "stream",
          "name": "stdout",
          "text": [
            "False\n"
          ]
        }
      ]
    },
    {
      "cell_type": "code",
      "source": [
        "if kredi_onaylandi_mi:\n",
        "    print(\"onaylanan kredi miktari ayrilsin\")\n",
        "else:\n",
        "    print(\"kredi miktarinin ayrilmasina gerek bulunmamaktadir\")"
      ],
      "metadata": {
        "colab": {
          "base_uri": "https://localhost:8080/"
        },
        "id": "QuUFi2jsmLtL",
        "outputId": "b9ff1500-1fe1-4913-bc93-e10d6cc71627"
      },
      "execution_count": null,
      "outputs": [
        {
          "output_type": "stream",
          "name": "stdout",
          "text": [
            "kredi miktarinin ayrilmasina gerek bulunmamaktadir\n"
          ]
        }
      ]
    },
    {
      "cell_type": "code",
      "source": [
        "'''\n",
        "sol   or   sag   => sonuc\n",
        "True       True     True\n",
        "True       False    True\n",
        "False      True     True\n",
        "False      False    False\n",
        "'''"
      ],
      "metadata": {
        "id": "jS2a-5Z_mfds"
      },
      "execution_count": null,
      "outputs": []
    },
    {
      "cell_type": "code",
      "source": [
        "# KREDI VERME KURALIMIZ\n",
        "# 1. Kural\n",
        "# 1.1. musterinin yasi 30dan buyuk ya da 30a esitse \n",
        "# ve ayni zamanda \n",
        "# 1.2. musterinin aylik geliri de 8000 TLnin uzerindeyse bu musteriye kredi verilir.\n",
        "# ve ya\n",
        "# 2. Kural\n",
        "# musterinin yillik geliri talep edilen kredi miktarindan buyukse kredi onaylanir \n",
        "# Bu kosullardan ikisini de saglamiyorsa kredi verilemez."
      ],
      "metadata": {
        "id": "0U8dNeKomsDv"
      },
      "execution_count": null,
      "outputs": []
    },
    {
      "cell_type": "code",
      "source": [
        "# 1. Kural\n",
        "musteri_yasi >= 30 and musteri_geliri > 8000"
      ],
      "metadata": {
        "colab": {
          "base_uri": "https://localhost:8080/"
        },
        "id": "NGEpEHKXmsGR",
        "outputId": "4161a1fd-f4f1-4913-b743-6966b9dce3a9"
      },
      "execution_count": null,
      "outputs": [
        {
          "output_type": "execute_result",
          "data": {
            "text/plain": [
              "False"
            ]
          },
          "metadata": {},
          "execution_count": 25
        }
      ]
    },
    {
      "cell_type": "code",
      "source": [
        "# 2. Kural\n",
        "musteri_geliri * 12 > kredi_basvuru_tutari"
      ],
      "metadata": {
        "colab": {
          "base_uri": "https://localhost:8080/"
        },
        "id": "xtx-vxeDmsIw",
        "outputId": "1c62154a-a637-4c8b-9929-ee7cceac858a"
      },
      "execution_count": null,
      "outputs": [
        {
          "output_type": "execute_result",
          "data": {
            "text/plain": [
              "False"
            ]
          },
          "metadata": {},
          "execution_count": 28
        }
      ]
    },
    {
      "cell_type": "code",
      "source": [
        "# 2. Kural\n",
        "yillik_gelir = musteri_geliri * 12\n",
        "yillik_gelir > kredi_basvuru_tutari"
      ],
      "metadata": {
        "colab": {
          "base_uri": "https://localhost:8080/"
        },
        "id": "dVTCFCxemsLH",
        "outputId": "bc502fcd-0274-43a4-a7dd-88bcc4714419"
      },
      "execution_count": null,
      "outputs": [
        {
          "output_type": "execute_result",
          "data": {
            "text/plain": [
              "False"
            ]
          },
          "metadata": {},
          "execution_count": 29
        }
      ]
    },
    {
      "cell_type": "code",
      "source": [
        "# Tum kurallarin kontrolu - 1. ve 2. Kural\n",
        "(musteri_yasi >= 30 and musteri_geliri > 8000) or (musteri_geliri * 12 > kredi_basvuru_tutari)"
      ],
      "metadata": {
        "colab": {
          "base_uri": "https://localhost:8080/"
        },
        "id": "nvnlmnZAnema",
        "outputId": "e214062a-14d0-456f-ffb7-166f93876b37"
      },
      "execution_count": null,
      "outputs": [
        {
          "output_type": "execute_result",
          "data": {
            "text/plain": [
              "False"
            ]
          },
          "metadata": {},
          "execution_count": 30
        }
      ]
    },
    {
      "cell_type": "code",
      "source": [
        "if (musteri_yasi >= 30 and musteri_geliri > 8000) or (musteri_geliri * 12 > kredi_basvuru_tutari):\n",
        "    print(\"kredi onaylanmistir\")\n",
        "    kredi_onaylandi_mi = True\n",
        "else:\n",
        "    print(\"kredi onay alamamistir\")\n",
        "    kredi_onaylandi_mi = False"
      ],
      "metadata": {
        "colab": {
          "base_uri": "https://localhost:8080/"
        },
        "id": "f5nIrrS3n4fa",
        "outputId": "fae0a8e3-af88-431a-9b41-e4e2d0885bf9"
      },
      "execution_count": null,
      "outputs": [
        {
          "output_type": "stream",
          "name": "stdout",
          "text": [
            "kredi onay alamamistir\n"
          ]
        }
      ]
    },
    {
      "cell_type": "markdown",
      "source": [
        "#### identity/kimlik (is) ve membership/uyelik (in) kontrol operatorleri"
      ],
      "metadata": {
        "id": "ow1WbgdEoim-"
      }
    },
    {
      "cell_type": "code",
      "source": [
        "# identity/kimlik (is) ve membership/uyelik (in) kontrol operatorleri\n",
        "# is operatoru == operatorunden farklidir\n",
        "# == operatoru piton nesnelerinin iceriklerinin ayni/esit olup olmadigini kontrol eder\n",
        "#    ==>> degerler birbirine esit midir'i kontrol eder ==\n",
        "# is operatoru piton nesnelerinin ayni nesne olup olmadigini kontrol eder\n",
        "liste1 = [1, 2, 3]\n",
        "liste2 = [1, 2, 3]\n",
        "liste3 = [1, 1, 1]\n",
        "a = liste1"
      ],
      "metadata": {
        "id": "O3Moxo4boi6i"
      },
      "execution_count": null,
      "outputs": []
    },
    {
      "cell_type": "code",
      "source": [
        "liste1 == liste2"
      ],
      "metadata": {
        "colab": {
          "base_uri": "https://localhost:8080/"
        },
        "id": "fUMGN5DppBlQ",
        "outputId": "ce6e587c-1d39-4d4c-a230-eb0008511da2"
      },
      "execution_count": null,
      "outputs": [
        {
          "output_type": "execute_result",
          "data": {
            "text/plain": [
              "True"
            ]
          },
          "metadata": {},
          "execution_count": 33
        }
      ]
    },
    {
      "cell_type": "code",
      "source": [
        "liste1 == liste3"
      ],
      "metadata": {
        "colab": {
          "base_uri": "https://localhost:8080/"
        },
        "id": "t07y8ZIYpBn2",
        "outputId": "c586e2ce-6ec6-4d61-ebe9-60ce0b2ac3e4"
      },
      "execution_count": null,
      "outputs": [
        {
          "output_type": "execute_result",
          "data": {
            "text/plain": [
              "False"
            ]
          },
          "metadata": {},
          "execution_count": 35
        }
      ]
    },
    {
      "cell_type": "code",
      "source": [
        "liste1 is liste2"
      ],
      "metadata": {
        "colab": {
          "base_uri": "https://localhost:8080/"
        },
        "id": "9Zm5fqMMpK2R",
        "outputId": "a3fb5ec0-d3be-423c-a50a-2514350ce4f7"
      },
      "execution_count": null,
      "outputs": [
        {
          "output_type": "execute_result",
          "data": {
            "text/plain": [
              "False"
            ]
          },
          "metadata": {},
          "execution_count": 36
        }
      ]
    },
    {
      "cell_type": "code",
      "source": [
        "# identityler => id yerlesik fonksiyonu\n",
        "print( id(liste1) )\n",
        "print( id(liste2) )"
      ],
      "metadata": {
        "colab": {
          "base_uri": "https://localhost:8080/"
        },
        "id": "mZXGsm0XpOI5",
        "outputId": "26f01787-031d-4a42-80bd-52e3068c99c3"
      },
      "execution_count": null,
      "outputs": [
        {
          "output_type": "stream",
          "name": "stdout",
          "text": [
            "139774525881552\n",
            "139774526396368\n"
          ]
        }
      ]
    },
    {
      "cell_type": "code",
      "source": [
        "# f-string => suslu parantezler\n",
        "# f\"string gelebilir {degisken ya da fonk.} stringin kendisi\"\n",
        "f\"liste1in {liste1} idsi: {id(liste1)}, liste2in {liste2} idsi: {id(liste2)}\""
      ],
      "metadata": {
        "colab": {
          "base_uri": "https://localhost:8080/",
          "height": 35
        },
        "id": "W1oLk7o7pVKY",
        "outputId": "62d53efb-fc3a-4a05-c312-7ff360ec5686"
      },
      "execution_count": null,
      "outputs": [
        {
          "output_type": "execute_result",
          "data": {
            "text/plain": [
              "'liste1in [1, 2, 3] idsi: 139774525881552, liste2in [1, 2, 3] idsi: 139774526396368'"
            ],
            "application/vnd.google.colaboratory.intrinsic+json": {
              "type": "string"
            }
          },
          "metadata": {},
          "execution_count": 41
        }
      ]
    },
    {
      "cell_type": "code",
      "source": [
        "# liste1 is liste2\n",
        "id(liste1) == id(liste2)"
      ],
      "metadata": {
        "colab": {
          "base_uri": "https://localhost:8080/"
        },
        "id": "P5UBMsP_pcRB",
        "outputId": "8c2c9200-d44e-42a4-905a-271c92e92949"
      },
      "execution_count": null,
      "outputs": [
        {
          "output_type": "execute_result",
          "data": {
            "text/plain": [
              "False"
            ]
          },
          "metadata": {},
          "execution_count": 42
        }
      ]
    },
    {
      "cell_type": "code",
      "source": [
        "f\"liste1in {liste1} idsi: {id(liste1)}, a'nin {a} idsi: {id(a)}\""
      ],
      "metadata": {
        "colab": {
          "base_uri": "https://localhost:8080/",
          "height": 35
        },
        "id": "a7LAZUWEp404",
        "outputId": "e428f353-dc28-4a36-ffda-f6f3e650b7ab"
      },
      "execution_count": null,
      "outputs": [
        {
          "output_type": "execute_result",
          "data": {
            "text/plain": [
              "\"liste1in [1, 2, 3] idsi: 139774525881552, a'nin [1, 2, 3] idsi: 139774525881552\""
            ],
            "application/vnd.google.colaboratory.intrinsic+json": {
              "type": "string"
            }
          },
          "metadata": {},
          "execution_count": 44
        }
      ]
    },
    {
      "cell_type": "code",
      "source": [
        "a == liste1"
      ],
      "metadata": {
        "colab": {
          "base_uri": "https://localhost:8080/"
        },
        "id": "NZyVpObyqPgI",
        "outputId": "86a1f606-682f-4a5f-bc52-4264d3def75e"
      },
      "execution_count": null,
      "outputs": [
        {
          "output_type": "execute_result",
          "data": {
            "text/plain": [
              "True"
            ]
          },
          "metadata": {},
          "execution_count": 45
        }
      ]
    },
    {
      "cell_type": "code",
      "source": [
        "a is liste1"
      ],
      "metadata": {
        "colab": {
          "base_uri": "https://localhost:8080/"
        },
        "id": "E7dyx2gVqVYf",
        "outputId": "227da3bb-7219-4643-d343-fd744c91c724"
      },
      "execution_count": null,
      "outputs": [
        {
          "output_type": "execute_result",
          "data": {
            "text/plain": [
              "True"
            ]
          },
          "metadata": {},
          "execution_count": 46
        }
      ]
    },
    {
      "cell_type": "code",
      "source": [
        "# MEMBERSHIP / uyelik / elemani midir? in\n",
        "'onur' in ['ahmet', 'deniz']"
      ],
      "metadata": {
        "colab": {
          "base_uri": "https://localhost:8080/"
        },
        "id": "tBGgKltwqWh2",
        "outputId": "4eeafed3-fa90-4339-c497-4a57b78e916f"
      },
      "execution_count": null,
      "outputs": [
        {
          "output_type": "execute_result",
          "data": {
            "text/plain": [
              "False"
            ]
          },
          "metadata": {},
          "execution_count": 47
        }
      ]
    },
    {
      "cell_type": "code",
      "source": [
        "# analitik gorevimiz icin degersiz olan kelimeler (stopwords) - dokumandan cikarilmasini istedigimiz kelimeler\n",
        "anlamsiz_kelimeler = ['a', 've', 'gibi']"
      ],
      "metadata": {
        "id": "A8s8puzkrXzn"
      },
      "execution_count": null,
      "outputs": []
    },
    {
      "cell_type": "code",
      "source": [
        "print(anlamsiz_kelimeler)"
      ],
      "metadata": {
        "colab": {
          "base_uri": "https://localhost:8080/"
        },
        "id": "GTFGYdCKr3nq",
        "outputId": "620e69d2-7a79-4b29-e254-4838c4125a5b"
      },
      "execution_count": null,
      "outputs": [
        {
          "output_type": "stream",
          "name": "stdout",
          "text": [
            "['a', 've', 'gibi']\n"
          ]
        }
      ]
    },
    {
      "cell_type": "code",
      "source": [
        "yeni_kelime = 'veri'"
      ],
      "metadata": {
        "id": "YV66W1FJr7Ou"
      },
      "execution_count": null,
      "outputs": []
    },
    {
      "cell_type": "code",
      "source": [
        "# yeni gelen kelime anlamsiz kelimelerin icinde mi?\n",
        "yeni_kelime in anlamsiz_kelimeler"
      ],
      "metadata": {
        "colab": {
          "base_uri": "https://localhost:8080/"
        },
        "id": "bTfOK-dgr9E3",
        "outputId": "787f78d1-4327-4310-b578-ad536645d9eb"
      },
      "execution_count": null,
      "outputs": [
        {
          "output_type": "execute_result",
          "data": {
            "text/plain": [
              "False"
            ]
          },
          "metadata": {},
          "execution_count": 52
        }
      ]
    },
    {
      "cell_type": "code",
      "source": [
        "'veri' in ['a', 've', 'gibi']"
      ],
      "metadata": {
        "colab": {
          "base_uri": "https://localhost:8080/"
        },
        "id": "MsRBeNYcr9HU",
        "outputId": "e315f832-41a3-40d6-d4b2-72c18d9ec731"
      },
      "execution_count": null,
      "outputs": [
        {
          "output_type": "execute_result",
          "data": {
            "text/plain": [
              "False"
            ]
          },
          "metadata": {},
          "execution_count": 53
        }
      ]
    },
    {
      "cell_type": "code",
      "source": [
        "# yeni gelen kelime anlamsiz kelimelerin icinde degilse?\n",
        "yeni_kelime not in anlamsiz_kelimeler"
      ],
      "metadata": {
        "colab": {
          "base_uri": "https://localhost:8080/"
        },
        "id": "CNOeRXBRr9Ju",
        "outputId": "9f1aa984-99aa-4377-8cfd-1ec061aa01b8"
      },
      "execution_count": null,
      "outputs": [
        {
          "output_type": "execute_result",
          "data": {
            "text/plain": [
              "True"
            ]
          },
          "metadata": {},
          "execution_count": 54
        }
      ]
    },
    {
      "cell_type": "code",
      "source": [
        "if yeni_kelime not in anlamsiz_kelimeler:\n",
        "    print(\"Kelime ön işleme tabi tutulacaktır\")    "
      ],
      "metadata": {
        "colab": {
          "base_uri": "https://localhost:8080/"
        },
        "id": "W2IfzlHQr9ML",
        "outputId": "4c79775d-e9aa-4f6b-95ce-fc3643c93c3e"
      },
      "execution_count": null,
      "outputs": [
        {
          "output_type": "stream",
          "name": "stdout",
          "text": [
            "Kelime ön işleme tabi tutulacaktır\n"
          ]
        }
      ]
    },
    {
      "cell_type": "code",
      "source": [
        "if yeni_kelime not in anlamsiz_kelimeler:\n",
        "    print(f\"{yeni_kelime} kelimesi ön işleme tabi tutulacaktır\")\n",
        "else:\n",
        "    print(f\"{yeni_kelime} kelimesi anlamsiz kelimelerden birisidir.\")"
      ],
      "metadata": {
        "colab": {
          "base_uri": "https://localhost:8080/"
        },
        "id": "hBb_qFT6r9PK",
        "outputId": "68b945fc-fefb-4ee2-abc0-e6c30fc5eaf8"
      },
      "execution_count": null,
      "outputs": [
        {
          "output_type": "stream",
          "name": "stdout",
          "text": [
            "veri kelimesi ön işleme tabi tutulacaktır\n"
          ]
        }
      ]
    },
    {
      "cell_type": "code",
      "source": [
        "yeni_kelime = 'gibi'"
      ],
      "metadata": {
        "id": "o8vljN5Qr9Sy"
      },
      "execution_count": null,
      "outputs": []
    },
    {
      "cell_type": "code",
      "source": [
        "if yeni_kelime not in anlamsiz_kelimeler:\n",
        "    print(f\"{yeni_kelime} kelimesi ön işleme tabi tutulacaktır\")\n",
        "else:\n",
        "    print(f\"{yeni_kelime} kelimesi anlamsiz kelimelerden birisidir.\")"
      ],
      "metadata": {
        "colab": {
          "base_uri": "https://localhost:8080/"
        },
        "id": "xE6YwiGfslsm",
        "outputId": "95a38c9b-5be1-4bf5-f6a8-6abd4d7107eb"
      },
      "execution_count": null,
      "outputs": [
        {
          "output_type": "stream",
          "name": "stdout",
          "text": [
            "gibi kelimesi anlamsiz kelimelerden birisidir.\n"
          ]
        }
      ]
    },
    {
      "cell_type": "code",
      "source": [
        "# musterinin adi hesapdisi musteri isimlerinden degilse ve 2. kurali sagliyorsa bu musteriye kredi verilebilir\n",
        "# 2. Kural\n",
        "# musterinin yillik geliri talep edilen kredi miktarindan buyukse kredi onaylanir\n",
        "hesapdisi_musteriler = ['onur', 'selin', 'mustafa']"
      ],
      "metadata": {
        "id": "4L9OD2zwsnKF"
      },
      "execution_count": null,
      "outputs": []
    },
    {
      "cell_type": "code",
      "source": [
        "musteri_adi not in hesapdisi_musteriler"
      ],
      "metadata": {
        "colab": {
          "base_uri": "https://localhost:8080/"
        },
        "id": "ZQQUVBnEtIfe",
        "outputId": "9cfd8e15-3a8e-4c85-f911-6e12df982d46"
      },
      "execution_count": null,
      "outputs": [
        {
          "output_type": "execute_result",
          "data": {
            "text/plain": [
              "True"
            ]
          },
          "metadata": {},
          "execution_count": 61
        }
      ]
    },
    {
      "cell_type": "code",
      "source": [
        "musteri_geliri * 12 > kredi_basvuru_tutari"
      ],
      "metadata": {
        "colab": {
          "base_uri": "https://localhost:8080/"
        },
        "id": "ETdlkRbBtOll",
        "outputId": "8776a774-6638-468d-cfc1-c8d06dc752d6"
      },
      "execution_count": null,
      "outputs": [
        {
          "output_type": "execute_result",
          "data": {
            "text/plain": [
              "False"
            ]
          },
          "metadata": {},
          "execution_count": 62
        }
      ]
    },
    {
      "cell_type": "code",
      "source": [
        "if (musteri_adi not in hesapdisi_musteriler) and (musteri_geliri * 12 > kredi_basvuru_tutari):\n",
        "    print(\"kredi onaylanmistir\")\n",
        "    kredi_onaylandi_mi = True\n",
        "else:\n",
        "    print(\"kredi onay alamamistir\")\n",
        "    kredi_onaylandi_mi = False"
      ],
      "metadata": {
        "colab": {
          "base_uri": "https://localhost:8080/"
        },
        "id": "nvdRHBTQtTM0",
        "outputId": "8f09cea3-94a5-4202-fa78-447ddcac902f"
      },
      "execution_count": null,
      "outputs": [
        {
          "output_type": "stream",
          "name": "stdout",
          "text": [
            "kredi onay alamamistir\n"
          ]
        }
      ]
    },
    {
      "cell_type": "markdown",
      "source": [
        "f-string tekrari"
      ],
      "metadata": {
        "id": "gISLg7xbtrh8"
      }
    },
    {
      "cell_type": "code",
      "source": [
        "# hangi musterinin basvuru yaptigini konsola bastirmak istersek\n",
        "print( \"ahmet kredi basvurusu yapmistir\" )"
      ],
      "metadata": {
        "colab": {
          "base_uri": "https://localhost:8080/"
        },
        "id": "27K9pkUltqWp",
        "outputId": "d232e66e-67de-4f1a-b83b-57418a96a019"
      },
      "execution_count": null,
      "outputs": [
        {
          "output_type": "stream",
          "name": "stdout",
          "text": [
            "ahmet kredi basvurusu yapmistir\n"
          ]
        }
      ]
    },
    {
      "cell_type": "code",
      "source": [
        "musteri_adi"
      ],
      "metadata": {
        "colab": {
          "base_uri": "https://localhost:8080/",
          "height": 35
        },
        "id": "KX6FDX4jtxbs",
        "outputId": "144647aa-0956-419c-85a2-e56aa33d149d"
      },
      "execution_count": null,
      "outputs": [
        {
          "output_type": "execute_result",
          "data": {
            "text/plain": [
              "'ahmet'"
            ],
            "application/vnd.google.colaboratory.intrinsic+json": {
              "type": "string"
            }
          },
          "metadata": {},
          "execution_count": 65
        }
      ]
    },
    {
      "cell_type": "code",
      "source": [
        "# degisken adini kullanarak\n",
        "print( \"musteri_adi kredi basvurusu yapmistir\" )"
      ],
      "metadata": {
        "colab": {
          "base_uri": "https://localhost:8080/"
        },
        "id": "hhqxGatLt0O8",
        "outputId": "b4cc7216-f1a2-44d7-8148-c1d237e0a086"
      },
      "execution_count": null,
      "outputs": [
        {
          "output_type": "stream",
          "name": "stdout",
          "text": [
            "musteri_adi kredi basvurusu yapmistir\n"
          ]
        }
      ]
    },
    {
      "cell_type": "code",
      "source": [
        "print( f\"musteri_adi kredi basvurusu yapmistir\" )"
      ],
      "metadata": {
        "colab": {
          "base_uri": "https://localhost:8080/"
        },
        "id": "fQTTdQzsuNWj",
        "outputId": "57f28b2c-48ba-4c71-b00b-585bfe051bf2"
      },
      "execution_count": null,
      "outputs": [
        {
          "output_type": "stream",
          "name": "stdout",
          "text": [
            "musteri_adi kredi basvurusu yapmistir\n"
          ]
        }
      ]
    },
    {
      "cell_type": "code",
      "source": [
        "# neyin degisken ya da hesaplama oldugunu suslu parantezlerle belirtiyoruz\n",
        "print( f\"{musteri_adi} kredi basvurusu yapmistir\" )"
      ],
      "metadata": {
        "colab": {
          "base_uri": "https://localhost:8080/"
        },
        "id": "29TAXm7cuUI8",
        "outputId": "175783f4-b2e5-4aa6-900d-a6d905a3233f"
      },
      "execution_count": null,
      "outputs": [
        {
          "output_type": "stream",
          "name": "stdout",
          "text": [
            "ahmet kredi basvurusu yapmistir\n"
          ]
        }
      ]
    },
    {
      "cell_type": "code",
      "source": [
        "musteri_adi='aydin'"
      ],
      "metadata": {
        "id": "8Ky2I56FulJk"
      },
      "execution_count": null,
      "outputs": []
    },
    {
      "cell_type": "code",
      "source": [
        "print( f\"{musteri_adi} kredi basvurusu yapmistir\" )"
      ],
      "metadata": {
        "colab": {
          "base_uri": "https://localhost:8080/"
        },
        "id": "Rpsu746BunRj",
        "outputId": "eaf7ec74-4470-484c-b5ff-36476963412e"
      },
      "execution_count": null,
      "outputs": [
        {
          "output_type": "stream",
          "name": "stdout",
          "text": [
            "aydin kredi basvurusu yapmistir\n"
          ]
        }
      ]
    },
    {
      "cell_type": "code",
      "source": [
        "musterinin_basvurdugu_krediler = ['araba', 'ihtiyac', 'ev']"
      ],
      "metadata": {
        "id": "cPVCujLduoUV"
      },
      "execution_count": null,
      "outputs": []
    },
    {
      "cell_type": "code",
      "source": [
        "# hangi musterinin kac farkli kredi basvuru oldugunu konsola basmak istersek\n",
        "print(f\"aydin isimli musterimiz 3 farkli krediye basvurmustur\")"
      ],
      "metadata": {
        "colab": {
          "base_uri": "https://localhost:8080/"
        },
        "id": "0FBxAjhPu1wq",
        "outputId": "3e3160b3-4dda-4e7b-9506-f6003b959ab9"
      },
      "execution_count": null,
      "outputs": [
        {
          "output_type": "stream",
          "name": "stdout",
          "text": [
            "aydin isimli musterimiz 3 farkli krediye basvurmustur\n"
          ]
        }
      ]
    },
    {
      "cell_type": "code",
      "source": [
        "print(f\"{musteri_adi} isimli musterimiz {len(musterinin_basvurdugu_krediler)} farkli krediye basvurmustur\")"
      ],
      "metadata": {
        "colab": {
          "base_uri": "https://localhost:8080/"
        },
        "id": "DtvfmToXvoef",
        "outputId": "4d03880a-a51a-4c11-fbdd-41d2d04b2895"
      },
      "execution_count": null,
      "outputs": [
        {
          "output_type": "stream",
          "name": "stdout",
          "text": [
            "aydin isimli musterimiz 3 farkli krediye basvurmustur\n"
          ]
        }
      ]
    },
    {
      "cell_type": "markdown",
      "source": [
        "##### kullanicidan/konsol uzerinden deger almak"
      ],
      "metadata": {
        "id": "8q3-meRCvnp7"
      }
    },
    {
      "cell_type": "code",
      "source": [
        "# input() fonk. => arguman olarak (parantezlerin icine) kullaniciyi bilgilendirici mesaj gonderilecek\n",
        "input(\"Isminizi giriniz: \")\n",
        "# # input fonk. string nesnesi donduruyor (tek tirnaklar arasinda konsola basiliyor)"
      ],
      "metadata": {
        "colab": {
          "base_uri": "https://localhost:8080/",
          "height": 53
        },
        "id": "4ZcG_5MLv50i",
        "outputId": "4f564a0d-ab2e-4f60-8e5e-76233a4ca5a6"
      },
      "execution_count": null,
      "outputs": [
        {
          "name": "stdout",
          "output_type": "stream",
          "text": [
            "Isminizi giriniz: ahmet\n"
          ]
        },
        {
          "output_type": "execute_result",
          "data": {
            "text/plain": [
              "'ahmet'"
            ],
            "application/vnd.google.colaboratory.intrinsic+json": {
              "type": "string"
            }
          },
          "metadata": {},
          "execution_count": 76
        }
      ]
    },
    {
      "cell_type": "code",
      "source": [
        "input(\"Bir sayi degeri giriniz: \")"
      ],
      "metadata": {
        "colab": {
          "base_uri": "https://localhost:8080/",
          "height": 53
        },
        "id": "tZNj25z8z2mr",
        "outputId": "dc5775e8-e1c6-4c88-e489-44184ac1c3f1"
      },
      "execution_count": null,
      "outputs": [
        {
          "name": "stdout",
          "output_type": "stream",
          "text": [
            "Bir sayi degeri giriniz: 125\n"
          ]
        },
        {
          "output_type": "execute_result",
          "data": {
            "text/plain": [
              "'125'"
            ],
            "application/vnd.google.colaboratory.intrinsic+json": {
              "type": "string"
            }
          },
          "metadata": {},
          "execution_count": 77
        }
      ]
    },
    {
      "cell_type": "code",
      "source": [
        "# Kullanicidan bilgi almak\n",
        "sayi_degeri = input(\"Bir sayi degeri giriniz: \")\n",
        "#sayi_degeri = '138'"
      ],
      "metadata": {
        "colab": {
          "base_uri": "https://localhost:8080/"
        },
        "id": "dpuT9ORqz7AF",
        "outputId": "a202dab9-bf31-4b3c-95e0-0b93a597cf63"
      },
      "execution_count": null,
      "outputs": [
        {
          "name": "stdout",
          "output_type": "stream",
          "text": [
            "Bir sayi degeri giriniz: 138\n"
          ]
        }
      ]
    },
    {
      "cell_type": "code",
      "source": [
        "print(sayi_degeri)\n",
        "print(type(sayi_degeri))"
      ],
      "metadata": {
        "colab": {
          "base_uri": "https://localhost:8080/"
        },
        "id": "2Q-amPqo0JPC",
        "outputId": "6e2106ee-1524-462c-d720-7b343f453ad0"
      },
      "execution_count": null,
      "outputs": [
        {
          "output_type": "stream",
          "name": "stdout",
          "text": [
            "138\n",
            "<class 'str'>\n"
          ]
        }
      ]
    },
    {
      "cell_type": "code",
      "source": [
        "sayi_degeri * 3 # stringler uzerinde carpma yapti (concatenation) => stringi carpim kadar coklayarak birbirine ekliyor"
      ],
      "metadata": {
        "colab": {
          "base_uri": "https://localhost:8080/",
          "height": 35
        },
        "id": "iAyVWWkP0LAn",
        "outputId": "64f8db99-3a77-47f5-c58e-e878b5d73647"
      },
      "execution_count": null,
      "outputs": [
        {
          "output_type": "execute_result",
          "data": {
            "text/plain": [
              "'138138138'"
            ],
            "application/vnd.google.colaboratory.intrinsic+json": {
              "type": "string"
            }
          },
          "metadata": {},
          "execution_count": 81
        }
      ]
    },
    {
      "cell_type": "code",
      "source": [
        "sayi_degeri"
      ],
      "metadata": {
        "colab": {
          "base_uri": "https://localhost:8080/",
          "height": 35
        },
        "id": "swOeyAV10SR-",
        "outputId": "a14569c1-2881-43da-cdd2-6b28ae37d6bc"
      },
      "execution_count": null,
      "outputs": [
        {
          "output_type": "execute_result",
          "data": {
            "text/plain": [
              "'138'"
            ],
            "application/vnd.google.colaboratory.intrinsic+json": {
              "type": "string"
            }
          },
          "metadata": {},
          "execution_count": 82
        }
      ]
    },
    {
      "cell_type": "code",
      "source": [
        "# kullanicidan string olarak alinan degeri tamsayiya donusturmemiz gerekiyor\n",
        "int(sayi_degeri)"
      ],
      "metadata": {
        "colab": {
          "base_uri": "https://localhost:8080/"
        },
        "id": "S80V9qmp0eCN",
        "outputId": "968cf081-4e4b-46d9-a8c6-310970c5cc15"
      },
      "execution_count": null,
      "outputs": [
        {
          "output_type": "execute_result",
          "data": {
            "text/plain": [
              "138"
            ]
          },
          "metadata": {},
          "execution_count": 83
        }
      ]
    },
    {
      "cell_type": "code",
      "source": [
        "float(sayi_degeri)"
      ],
      "metadata": {
        "colab": {
          "base_uri": "https://localhost:8080/"
        },
        "id": "6fDCbC1D0h5O",
        "outputId": "e5ab1ee3-8a38-4732-8a33-52c678ea3ece"
      },
      "execution_count": null,
      "outputs": [
        {
          "output_type": "execute_result",
          "data": {
            "text/plain": [
              "138.0"
            ]
          },
          "metadata": {},
          "execution_count": 84
        }
      ]
    },
    {
      "cell_type": "code",
      "source": [
        "# ogrenci yuksek onur derecesi almis midir? (gno >= 3.5)\n",
        "okul_gno = input(\"Lisans ortalamanizi giriniz: \")\n",
        "# okul_gno = '3.6'\n",
        "if okul_gno >= 3.5:\n",
        "    print(f\"Öğrenci {okul_gno} genel ortalaması ile yüksek onur derecesi almaya hak kazanmıştır.\")"
      ],
      "metadata": {
        "colab": {
          "base_uri": "https://localhost:8080/",
          "height": 235
        },
        "id": "aYDSoOxt0k41",
        "outputId": "febcdac3-0548-4cc7-8469-c93b7bc914b9"
      },
      "execution_count": null,
      "outputs": [
        {
          "name": "stdout",
          "output_type": "stream",
          "text": [
            "Lisans ortalamanizi giriniz: 3.6\n"
          ]
        },
        {
          "output_type": "error",
          "ename": "TypeError",
          "evalue": "ignored",
          "traceback": [
            "\u001b[0;31m---------------------------------------------------------------------------\u001b[0m",
            "\u001b[0;31mTypeError\u001b[0m                                 Traceback (most recent call last)",
            "\u001b[0;32m<ipython-input-85-ce23e034d508>\u001b[0m in \u001b[0;36m<module>\u001b[0;34m\u001b[0m\n\u001b[1;32m      1\u001b[0m \u001b[0;31m# ogrenci yuksek onur derecesi almis midir? (gno >= 3.5)\u001b[0m\u001b[0;34m\u001b[0m\u001b[0;34m\u001b[0m\u001b[0;34m\u001b[0m\u001b[0m\n\u001b[1;32m      2\u001b[0m \u001b[0mokul_gno\u001b[0m \u001b[0;34m=\u001b[0m \u001b[0minput\u001b[0m\u001b[0;34m(\u001b[0m\u001b[0;34m\"Lisans ortalamanizi giriniz: \"\u001b[0m\u001b[0;34m)\u001b[0m\u001b[0;34m\u001b[0m\u001b[0;34m\u001b[0m\u001b[0m\n\u001b[0;32m----> 3\u001b[0;31m \u001b[0;32mif\u001b[0m \u001b[0mokul_gno\u001b[0m \u001b[0;34m>=\u001b[0m \u001b[0;36m3.5\u001b[0m\u001b[0;34m:\u001b[0m\u001b[0;34m\u001b[0m\u001b[0;34m\u001b[0m\u001b[0m\n\u001b[0m\u001b[1;32m      4\u001b[0m     \u001b[0mprint\u001b[0m\u001b[0;34m(\u001b[0m\u001b[0;34mf\"Öğrenci {okul_gno} genel ortalaması ile yüksek onur derecesi almaya hak kazanmıştır.\"\u001b[0m\u001b[0;34m)\u001b[0m\u001b[0;34m\u001b[0m\u001b[0;34m\u001b[0m\u001b[0m\n",
            "\u001b[0;31mTypeError\u001b[0m: '>=' not supported between instances of 'str' and 'float'"
          ]
        }
      ]
    },
    {
      "cell_type": "code",
      "source": [
        "# vs. 2\n",
        "# ogrenci yuksek onur derecesi almis midir? (gno >= 3.5)\n",
        "okul_gno = input(\"Lisans ortalamanizi giriniz: \")\n",
        "print(type(okul_gno))\n",
        "# okul_gno = '3.6'\n",
        "# kullanicidan alinan string degeri kodun ileriki kisimlarinda kullanilacak mi? \n",
        "# Evet ise okul_gno'sunun orjinal degeri degistirilmemeli\n",
        "#  ===>>> okul_gno_float = float(okul_gno)\n",
        "# Hayir ise degisiklik direk bu degiskende yapilabilir\n",
        "okul_gno = float(okul_gno) # ayni degiskende floata donusturulmus degeri tutuyoruz. Cunku string formatindaki deger baska yerde kullanilmiyor\n",
        "print(type(okul_gno))\n",
        "if okul_gno >= 3.5:\n",
        "    print(f\"Öğrenci {okul_gno} genel ortalaması ile yüksek onur derecesi almaya hak kazanmıştır.\")"
      ],
      "metadata": {
        "colab": {
          "base_uri": "https://localhost:8080/"
        },
        "id": "kdUGGXpS0-_z",
        "outputId": "84fa1ad0-79f1-420c-857f-66bd9a48012e"
      },
      "execution_count": null,
      "outputs": [
        {
          "output_type": "stream",
          "name": "stdout",
          "text": [
            "Lisans ortalamanizi giriniz: 3.6\n",
            "<class 'str'>\n",
            "<class 'float'>\n",
            "Öğrenci 3.6 genel ortalaması ile yüksek onur derecesi almaya hak kazanmıştır.\n"
          ]
        }
      ]
    },
    {
      "cell_type": "code",
      "source": [
        "# if\n",
        "# ---\n",
        "# if\n",
        "# else\n",
        "# ---\n",
        "# if\n",
        "# elif\n",
        "# ...\n",
        "# else\n",
        "# onur.durahim@principai.com"
      ],
      "metadata": {
        "id": "BOdx-hB-0_Ch"
      },
      "execution_count": null,
      "outputs": []
    },
    {
      "cell_type": "markdown",
      "source": [
        "#### Alıştırma 1."
      ],
      "metadata": {
        "id": "9lRnWhj_2h_a"
      }
    },
    {
      "cell_type": "code",
      "source": [
        "# Alistirma sorusunun cevabi\n",
        "sure = input(\"Çalışılan süreyi saat olarak giriniz: \")\n",
        "sure = float(sure)\n",
        "saat_ucreti = input(\"Saat ücretini giriniz: \")\n",
        "saat_ucreti = float(saat_ucreti)\n",
        "odeme_miktari = sure * saat_ucreti\n",
        "print(f\"Alacağınız ödeme tutarı: {odeme_miktari} TL'dir\")"
      ],
      "metadata": {
        "colab": {
          "base_uri": "https://localhost:8080/"
        },
        "id": "8EkY3jE20_FA",
        "outputId": "137cbbcd-7cc1-4aec-d874-b86e43fd1932"
      },
      "execution_count": null,
      "outputs": [
        {
          "output_type": "stream",
          "name": "stdout",
          "text": [
            "Çalışılan süreyi saat olarak giriniz: 35\n",
            "Saat ücretini giriniz: 2.75\n",
            "Alacağınız ödeme tutarı: 96.25 TL'dir\n"
          ]
        }
      ]
    },
    {
      "cell_type": "code",
      "source": [
        "# yanlislikla int olarak donusturme yapilirsa yanlisligi\n",
        "sure = input(\"Çalışılan süreyi saat olarak giriniz: \")\n",
        "sure = int(sure)\n",
        "saat_ucreti = input(\"Saat ücretini giriniz: \")\n",
        "saat_ucreti = int(saat_ucreti)\n",
        "odeme_miktari = sure * saat_ucreti\n",
        "print(f\"Alacağınız ödeme tutarı: {odeme_miktari} TL'dir\")"
      ],
      "metadata": {
        "colab": {
          "base_uri": "https://localhost:8080/",
          "height": 270
        },
        "id": "nCHIVDg80_Ho",
        "outputId": "1e0730cb-fb01-4ce5-bdf8-d3f09224720b"
      },
      "execution_count": null,
      "outputs": [
        {
          "name": "stdout",
          "output_type": "stream",
          "text": [
            "Çalışılan süreyi saat olarak giriniz: 35\n",
            "Saat ücretini giriniz: 2.75\n"
          ]
        },
        {
          "output_type": "error",
          "ename": "ValueError",
          "evalue": "ignored",
          "traceback": [
            "\u001b[0;31m---------------------------------------------------------------------------\u001b[0m",
            "\u001b[0;31mValueError\u001b[0m                                Traceback (most recent call last)",
            "\u001b[0;32m<ipython-input-89-d844c17aadcf>\u001b[0m in \u001b[0;36m<module>\u001b[0;34m\u001b[0m\n\u001b[1;32m      3\u001b[0m \u001b[0msure\u001b[0m \u001b[0;34m=\u001b[0m \u001b[0mint\u001b[0m\u001b[0;34m(\u001b[0m\u001b[0msure\u001b[0m\u001b[0;34m)\u001b[0m\u001b[0;34m\u001b[0m\u001b[0;34m\u001b[0m\u001b[0m\n\u001b[1;32m      4\u001b[0m \u001b[0msaat_ucreti\u001b[0m \u001b[0;34m=\u001b[0m \u001b[0minput\u001b[0m\u001b[0;34m(\u001b[0m\u001b[0;34m\"Saat ücretini giriniz: \"\u001b[0m\u001b[0;34m)\u001b[0m\u001b[0;34m\u001b[0m\u001b[0;34m\u001b[0m\u001b[0m\n\u001b[0;32m----> 5\u001b[0;31m \u001b[0msaat_ucreti\u001b[0m \u001b[0;34m=\u001b[0m \u001b[0mint\u001b[0m\u001b[0;34m(\u001b[0m\u001b[0msaat_ucreti\u001b[0m\u001b[0;34m)\u001b[0m\u001b[0;34m\u001b[0m\u001b[0;34m\u001b[0m\u001b[0m\n\u001b[0m\u001b[1;32m      6\u001b[0m \u001b[0modeme_miktari\u001b[0m \u001b[0;34m=\u001b[0m \u001b[0msure\u001b[0m \u001b[0;34m*\u001b[0m \u001b[0msaat_ucreti\u001b[0m\u001b[0;34m\u001b[0m\u001b[0;34m\u001b[0m\u001b[0m\n\u001b[1;32m      7\u001b[0m \u001b[0mprint\u001b[0m\u001b[0;34m(\u001b[0m\u001b[0;34mf\"Alacağınız ödeme tutarı: {odeme_miktari} TL'dir\"\u001b[0m\u001b[0;34m)\u001b[0m\u001b[0;34m\u001b[0m\u001b[0;34m\u001b[0m\u001b[0m\n",
            "\u001b[0;31mValueError\u001b[0m: invalid literal for int() with base 10: '2.75'"
          ]
        }
      ]
    },
    {
      "cell_type": "code",
      "source": [
        "# hata 2\n",
        "sure = float(input(\"Çalışılan süreyi saat olarak giriniz: \"))\n",
        "saat_ucreti = float(input(\"Saat ücretini giriniz: \")) # string input ile alindiktan hemen sonra floata donusturuluyor !!!\n",
        "odeme_miktari = sure * saat_ucreti\n",
        "print(f\"Alacağınız ödeme tutarı: {odeme_miktari} TL'dir\")"
      ],
      "metadata": {
        "colab": {
          "base_uri": "https://localhost:8080/",
          "height": 270
        },
        "id": "H7OdsGOe0_Kg",
        "outputId": "66e23538-4235-40ce-9aea-4544b94167d7"
      },
      "execution_count": null,
      "outputs": [
        {
          "name": "stdout",
          "output_type": "stream",
          "text": [
            "Çalışılan süreyi saat olarak giriniz: 35\n",
            "Saat ücretini giriniz: 2,75\n"
          ]
        },
        {
          "output_type": "error",
          "ename": "ValueError",
          "evalue": "ignored",
          "traceback": [
            "\u001b[0;31m---------------------------------------------------------------------------\u001b[0m",
            "\u001b[0;31mValueError\u001b[0m                                Traceback (most recent call last)",
            "\u001b[0;32m<ipython-input-90-9a642bcbac81>\u001b[0m in \u001b[0;36m<module>\u001b[0;34m\u001b[0m\n\u001b[1;32m      1\u001b[0m \u001b[0;31m# hata 2\u001b[0m\u001b[0;34m\u001b[0m\u001b[0;34m\u001b[0m\u001b[0;34m\u001b[0m\u001b[0m\n\u001b[1;32m      2\u001b[0m \u001b[0msure\u001b[0m \u001b[0;34m=\u001b[0m \u001b[0mfloat\u001b[0m\u001b[0;34m(\u001b[0m\u001b[0minput\u001b[0m\u001b[0;34m(\u001b[0m\u001b[0;34m\"Çalışılan süreyi saat olarak giriniz: \"\u001b[0m\u001b[0;34m)\u001b[0m\u001b[0;34m)\u001b[0m\u001b[0;34m\u001b[0m\u001b[0;34m\u001b[0m\u001b[0m\n\u001b[0;32m----> 3\u001b[0;31m \u001b[0msaat_ucreti\u001b[0m \u001b[0;34m=\u001b[0m \u001b[0mfloat\u001b[0m\u001b[0;34m(\u001b[0m\u001b[0minput\u001b[0m\u001b[0;34m(\u001b[0m\u001b[0;34m\"Saat ücretini giriniz: \"\u001b[0m\u001b[0;34m)\u001b[0m\u001b[0;34m)\u001b[0m\u001b[0;34m\u001b[0m\u001b[0;34m\u001b[0m\u001b[0m\n\u001b[0m\u001b[1;32m      4\u001b[0m \u001b[0modeme_miktari\u001b[0m \u001b[0;34m=\u001b[0m \u001b[0msure\u001b[0m \u001b[0;34m*\u001b[0m \u001b[0msaat_ucreti\u001b[0m\u001b[0;34m\u001b[0m\u001b[0;34m\u001b[0m\u001b[0m\n\u001b[1;32m      5\u001b[0m \u001b[0mprint\u001b[0m\u001b[0;34m(\u001b[0m\u001b[0;34mf\"Alacağınız ödeme tutarı: {odeme_miktari} TL'dir\"\u001b[0m\u001b[0;34m)\u001b[0m\u001b[0;34m\u001b[0m\u001b[0;34m\u001b[0m\u001b[0m\n",
            "\u001b[0;31mValueError\u001b[0m: could not convert string to float: '2,75'"
          ]
        }
      ]
    },
    {
      "cell_type": "code",
      "source": [
        "# ? sayi olmayan girdi girildiginde ne yapmak gerekiyor?\n",
        "# Input Check / Girdi Kontrolü !!!\n",
        "# ==>> sure = input(\"Çalışılan süreyi saat olarak giriniz: \")\n",
        "# Burada girdi kontrolunun yapilmasi gerekir ve sonrasinda donusturme yapilir\n",
        "# ===>> sure = float(sure)"
      ],
      "metadata": {
        "id": "sMHWo_JL53Lc"
      },
      "execution_count": null,
      "outputs": []
    },
    {
      "cell_type": "markdown",
      "source": [
        "### (Yerleşik/Built-in) Veri Yapıları / Data Structures"
      ],
      "metadata": {
        "id": "XQXzRVEo6GZl"
      }
    },
    {
      "cell_type": "markdown",
      "source": [
        "#### Listeler"
      ],
      "metadata": {
        "id": "L5K-U_wv7wzI"
      }
    },
    {
      "cell_type": "code",
      "source": [
        "L0 = [] # boş liste"
      ],
      "metadata": {
        "id": "z8bKPg986Hrg"
      },
      "execution_count": null,
      "outputs": []
    },
    {
      "cell_type": "code",
      "source": [
        "L0 = list()"
      ],
      "metadata": {
        "id": "7SFpA1o07yWu"
      },
      "execution_count": null,
      "outputs": []
    },
    {
      "cell_type": "code",
      "source": [
        "L0"
      ],
      "metadata": {
        "colab": {
          "base_uri": "https://localhost:8080/"
        },
        "id": "-rYpbudH7-n2",
        "outputId": "b965f55b-6f01-432f-f304-9066317b0c0a"
      },
      "execution_count": null,
      "outputs": [
        {
          "output_type": "execute_result",
          "data": {
            "text/plain": [
              "[]"
            ]
          },
          "metadata": {},
          "execution_count": 93
        }
      ]
    },
    {
      "cell_type": "code",
      "source": [
        "# yerlesik len fonk.\n",
        "# listedeki eleman sayısı (len)\n",
        "# len(object) => Return the number of items in a container (obj).\n",
        "len(L0)"
      ],
      "metadata": {
        "colab": {
          "base_uri": "https://localhost:8080/"
        },
        "id": "aFf3ZzyA8AEl",
        "outputId": "71e9eeb4-5a63-4b49-c19a-93626b884a5a"
      },
      "execution_count": null,
      "outputs": [
        {
          "output_type": "execute_result",
          "data": {
            "text/plain": [
              "0"
            ]
          },
          "metadata": {},
          "execution_count": 94
        }
      ]
    },
    {
      "cell_type": "code",
      "source": [
        "L0.len() # listelerin len diye bir fonk. bulunmamaktadir"
      ],
      "metadata": {
        "colab": {
          "base_uri": "https://localhost:8080/",
          "height": 166
        },
        "id": "IRT4Jj288DNF",
        "outputId": "38543037-c080-4a56-9cad-e8b7e668fcdc"
      },
      "execution_count": null,
      "outputs": [
        {
          "output_type": "error",
          "ename": "AttributeError",
          "evalue": "ignored",
          "traceback": [
            "\u001b[0;31m---------------------------------------------------------------------------\u001b[0m",
            "\u001b[0;31mAttributeError\u001b[0m                            Traceback (most recent call last)",
            "\u001b[0;32m<ipython-input-95-70ce979962a1>\u001b[0m in \u001b[0;36m<module>\u001b[0;34m\u001b[0m\n\u001b[0;32m----> 1\u001b[0;31m \u001b[0mL0\u001b[0m\u001b[0;34m.\u001b[0m\u001b[0mlen\u001b[0m\u001b[0;34m(\u001b[0m\u001b[0;34m)\u001b[0m\u001b[0;34m\u001b[0m\u001b[0;34m\u001b[0m\u001b[0m\n\u001b[0m",
            "\u001b[0;31mAttributeError\u001b[0m: 'list' object has no attribute 'len'"
          ]
        }
      ]
    },
    {
      "cell_type": "code",
      "source": [
        "# listeler herhangi bir Python nesnesini icerebilir\n",
        "L = [1, 'iki', 3.14, [11,22,33]]"
      ],
      "metadata": {
        "id": "V-ecPX078IDN"
      },
      "execution_count": null,
      "outputs": []
    },
    {
      "cell_type": "code",
      "source": [
        "len(L)"
      ],
      "metadata": {
        "colab": {
          "base_uri": "https://localhost:8080/"
        },
        "id": "DbiaP4zb8STO",
        "outputId": "5aedb0fa-66fb-468c-8d14-b1040d0388d3"
      },
      "execution_count": null,
      "outputs": [
        {
          "output_type": "execute_result",
          "data": {
            "text/plain": [
              "4"
            ]
          },
          "metadata": {},
          "execution_count": 97
        }
      ]
    },
    {
      "cell_type": "code",
      "source": [
        "print( len(L) ) # print( 4 )"
      ],
      "metadata": {
        "colab": {
          "base_uri": "https://localhost:8080/"
        },
        "id": "Pof3a9bi8Wpe",
        "outputId": "2d0adc14-7ddc-4704-8890-422ed390d462"
      },
      "execution_count": null,
      "outputs": [
        {
          "output_type": "stream",
          "name": "stdout",
          "text": [
            "4\n"
          ]
        }
      ]
    },
    {
      "cell_type": "code",
      "source": [
        "# listedeki her bir elemanin tipi (type) nedir?\n",
        "# collection / yigin\n",
        "# for degiskenler in iterator/collection/sequence:\n",
        "# (NOT: for kelimesi sonrasindaki degisken isimlerinin daha once tanimlanmasi gerekmemektedir)\n",
        "for liste_elemani in L: # liste_elemani degiskeni for dongusunun scope'unda liste elemanlarina ulastigim degisken adidir\n",
        "    #print(liste_elemani, type(liste_elemani))\n",
        "    print(f\"{liste_elemani} elemaninin tipi {type(liste_elemani)}'dir\")\n",
        "    # liste_elemani = L[0] ==>> liste_elemani = 1\n",
        "    # liste_elemani = L[1] ==>> liste_elemani = 'iki'\n",
        "    # liste_elemani = L[2] ==>> liste_elemani = 3.14\n",
        "    # liste_elemani = L[3] ==>> liste_elemani = [11,22,33]\n",
        "    # liste_elemani = L[4] ==>> bu indekste bir eleman yok => Dongu tamamlanmistir"
      ],
      "metadata": {
        "colab": {
          "base_uri": "https://localhost:8080/"
        },
        "id": "b7peJ3tR8e6F",
        "outputId": "1728ad42-f06e-4332-a7e5-7a2d95c4f7f4"
      },
      "execution_count": null,
      "outputs": [
        {
          "output_type": "stream",
          "name": "stdout",
          "text": [
            "1 elemaninin tipi <class 'int'>'dir\n",
            "iki elemaninin tipi <class 'str'>'dir\n",
            "3.14 elemaninin tipi <class 'float'>'dir\n",
            "[11, 22, 33] elemaninin tipi <class 'list'>'dir\n"
          ]
        }
      ]
    },
    {
      "cell_type": "code",
      "source": [
        "for degisken adlari in iterator/koleksiyon/sira:\n",
        "    dongudeki her bir adimda calistirilacak mantiksal islemler (yani algoritmayi isletiliyor)"
      ],
      "metadata": {
        "id": "Q6gInMd28e8d"
      },
      "execution_count": null,
      "outputs": []
    },
    {
      "cell_type": "markdown",
      "source": [
        "##### İndeksleme/indexing ve Dilimleme/Slicing\n",
        "- indeksleme ile tek bir elemana ulasilir\n",
        "- dilimleme ile birden fazla elemana ulasilabilir"
      ],
      "metadata": {
        "id": "JEAnArCh97H_"
      }
    },
    {
      "cell_type": "code",
      "source": [
        "L"
      ],
      "metadata": {
        "colab": {
          "base_uri": "https://localhost:8080/"
        },
        "id": "uQEjU16H8fAA",
        "outputId": "8dcc2812-e177-49cb-9e88-25307d0680b5"
      },
      "execution_count": null,
      "outputs": [
        {
          "output_type": "execute_result",
          "data": {
            "text/plain": [
              "[1, 'iki', 3.14, [11, 22, 33]]"
            ]
          },
          "metadata": {},
          "execution_count": 100
        }
      ]
    },
    {
      "cell_type": "code",
      "source": [
        "len(L)"
      ],
      "metadata": {
        "colab": {
          "base_uri": "https://localhost:8080/"
        },
        "id": "N79nREuZ8fCO",
        "outputId": "7d23dedf-157f-420d-8cb6-0c4d1964ff12"
      },
      "execution_count": null,
      "outputs": [
        {
          "output_type": "execute_result",
          "data": {
            "text/plain": [
              "4"
            ]
          },
          "metadata": {},
          "execution_count": 101
        }
      ]
    },
    {
      "cell_type": "code",
      "source": [
        "# zero-based indexing / 0-bazlı indeksleme\n",
        "L[0]"
      ],
      "metadata": {
        "colab": {
          "base_uri": "https://localhost:8080/"
        },
        "id": "hZfdsWGH8fEm",
        "outputId": "e1a64e52-a5d8-45c7-b14a-1fb05cb19a54"
      },
      "execution_count": null,
      "outputs": [
        {
          "output_type": "execute_result",
          "data": {
            "text/plain": [
              "1"
            ]
          },
          "metadata": {},
          "execution_count": 102
        }
      ]
    },
    {
      "cell_type": "code",
      "source": [
        "L[3]"
      ],
      "metadata": {
        "colab": {
          "base_uri": "https://localhost:8080/"
        },
        "id": "4enWSmjrBsOQ",
        "outputId": "52a106ee-decc-4ad5-eb5e-5928c568a0e9"
      },
      "execution_count": null,
      "outputs": [
        {
          "output_type": "execute_result",
          "data": {
            "text/plain": [
              "[11, 22, 33]"
            ]
          },
          "metadata": {},
          "execution_count": 103
        }
      ]
    },
    {
      "cell_type": "code",
      "source": [
        "L[5]\n",
        "# olasi indeksleri (0,1,2,3) aşan bir indeksteki elemana ulaşmaya çalışırsak\n",
        "# indexerror (list index out of range) hatasi aliriz"
      ],
      "metadata": {
        "colab": {
          "base_uri": "https://localhost:8080/",
          "height": 166
        },
        "id": "B31Zq68cBuWZ",
        "outputId": "ed01c135-733c-4dc4-b8f1-11180ea11816"
      },
      "execution_count": null,
      "outputs": [
        {
          "output_type": "error",
          "ename": "IndexError",
          "evalue": "ignored",
          "traceback": [
            "\u001b[0;31m---------------------------------------------------------------------------\u001b[0m",
            "\u001b[0;31mIndexError\u001b[0m                                Traceback (most recent call last)",
            "\u001b[0;32m<ipython-input-104-7d1d7a0424fb>\u001b[0m in \u001b[0;36m<module>\u001b[0;34m\u001b[0m\n\u001b[0;32m----> 1\u001b[0;31m \u001b[0mL\u001b[0m\u001b[0;34m[\u001b[0m\u001b[0;36m5\u001b[0m\u001b[0;34m]\u001b[0m\u001b[0;34m\u001b[0m\u001b[0;34m\u001b[0m\u001b[0m\n\u001b[0m",
            "\u001b[0;31mIndexError\u001b[0m: list index out of range"
          ]
        }
      ]
    },
    {
      "cell_type": "code",
      "source": [
        "# negative indexing - eksi indeksleme\n",
        "# sondan baslanir ve sondaki elemanin indeksi -1 dir\n",
        "L[-1]"
      ],
      "metadata": {
        "colab": {
          "base_uri": "https://localhost:8080/"
        },
        "id": "XrvrlhTkBzHY",
        "outputId": "934ae1d3-e530-45ae-ec18-559fa6dc69d5"
      },
      "execution_count": null,
      "outputs": [
        {
          "output_type": "execute_result",
          "data": {
            "text/plain": [
              "[11, 22, 33]"
            ]
          },
          "metadata": {},
          "execution_count": 105
        }
      ]
    },
    {
      "cell_type": "code",
      "source": [
        "L[-3]"
      ],
      "metadata": {
        "colab": {
          "base_uri": "https://localhost:8080/",
          "height": 35
        },
        "id": "5TCecuKjCBHv",
        "outputId": "67269840-0ff2-408d-9866-42888879fd41"
      },
      "execution_count": null,
      "outputs": [
        {
          "output_type": "execute_result",
          "data": {
            "text/plain": [
              "'iki'"
            ],
            "application/vnd.google.colaboratory.intrinsic+json": {
              "type": "string"
            }
          },
          "metadata": {},
          "execution_count": 106
        }
      ]
    },
    {
      "cell_type": "code",
      "source": [
        "L[-5]\n",
        "# olasi eksi indeksleri (-4,-3,-2,-1) aşan bir indeksteki elemana ulaşmaya çalışırsak\n",
        "# indexerror (list index out of range) hatasi aliriz"
      ],
      "metadata": {
        "colab": {
          "base_uri": "https://localhost:8080/",
          "height": 166
        },
        "id": "k5dGcX5wCHlZ",
        "outputId": "c2f42c9b-86d9-48f2-9389-ff3584a8612d"
      },
      "execution_count": null,
      "outputs": [
        {
          "output_type": "error",
          "ename": "IndexError",
          "evalue": "ignored",
          "traceback": [
            "\u001b[0;31m---------------------------------------------------------------------------\u001b[0m",
            "\u001b[0;31mIndexError\u001b[0m                                Traceback (most recent call last)",
            "\u001b[0;32m<ipython-input-107-6481c767790b>\u001b[0m in \u001b[0;36m<module>\u001b[0;34m\u001b[0m\n\u001b[0;32m----> 1\u001b[0;31m \u001b[0mL\u001b[0m\u001b[0;34m[\u001b[0m\u001b[0;34m-\u001b[0m\u001b[0;36m5\u001b[0m\u001b[0;34m]\u001b[0m\u001b[0;34m\u001b[0m\u001b[0;34m\u001b[0m\u001b[0m\n\u001b[0m",
            "\u001b[0;31mIndexError\u001b[0m: list index out of range"
          ]
        }
      ]
    },
    {
      "cell_type": "code",
      "source": [
        "len(L)"
      ],
      "metadata": {
        "colab": {
          "base_uri": "https://localhost:8080/"
        },
        "id": "jcUMgupQCNJp",
        "outputId": "155c199a-8457-4110-b2e4-ed3cb5499ba5"
      },
      "execution_count": null,
      "outputs": [
        {
          "output_type": "execute_result",
          "data": {
            "text/plain": [
              "4"
            ]
          },
          "metadata": {},
          "execution_count": 108
        }
      ]
    },
    {
      "cell_type": "code",
      "source": [
        "# listedeki elemanlarin index araligi\n",
        "-len(L) ile len(L)-1"
      ],
      "metadata": {
        "id": "cYkOQu9pCTkn"
      },
      "execution_count": null,
      "outputs": []
    },
    {
      "cell_type": "code",
      "source": [
        "# listedeki elemanlarin index araligi\n",
        "-len(L), len(L)-1"
      ],
      "metadata": {
        "colab": {
          "base_uri": "https://localhost:8080/"
        },
        "id": "vYjnY30XCV0S",
        "outputId": "a25045b9-660c-427b-aeac-c5096456619f"
      },
      "execution_count": null,
      "outputs": [
        {
          "output_type": "execute_result",
          "data": {
            "text/plain": [
              "(-4, 3)"
            ]
          },
          "metadata": {},
          "execution_count": 109
        }
      ]
    },
    {
      "cell_type": "code",
      "source": [
        "print(f\"listedeki elemanlara negatif {-len(L)}'e kadar, pozitif +{len(L)-1}'e kadar olan indeks araliginda ulasabilirsiniz\")"
      ],
      "metadata": {
        "colab": {
          "base_uri": "https://localhost:8080/"
        },
        "id": "f1tFuIrsCXM3",
        "outputId": "bc9ab089-5ac4-4513-c59a-67fca11f6b43"
      },
      "execution_count": null,
      "outputs": [
        {
          "output_type": "stream",
          "name": "stdout",
          "text": [
            "listedeki elemanlara negatif -4'e kadar, pozitif +3'e kadar olan indeks araliginda ulasabilirsiniz\n"
          ]
        }
      ]
    },
    {
      "cell_type": "code",
      "source": [
        "# slicing - dilimleme\n",
        "listeadi[baslangic index:bitis index] # bitiş indeksindeki eleman hariç (olarak bir liste dondurecek)\n",
        "listeadi[baslangic index:bitis index:1] # bitiş indeksindeki eleman hariç (olarak bir liste dondurecek)\n",
        "listeadi[baslangic index:bitis index:artış/atlama] # bitiş indeksindeki eleman hariç, her bir artış indeksi atlayarak\n",
        "artış/atlama: elemanlari okurken indeksi kacar sayi arttiracagini belirtir"
      ],
      "metadata": {
        "id": "LpmpQpg3CaEK"
      },
      "execution_count": null,
      "outputs": []
    },
    {
      "cell_type": "code",
      "source": [
        "L"
      ],
      "metadata": {
        "colab": {
          "base_uri": "https://localhost:8080/"
        },
        "id": "wEolBJKAD0NV",
        "outputId": "e069267d-7a83-4575-bae7-5d233e1f3c2c"
      },
      "execution_count": null,
      "outputs": [
        {
          "output_type": "execute_result",
          "data": {
            "text/plain": [
              "[1, 'iki', 3.14, [11, 22, 33]]"
            ]
          },
          "metadata": {},
          "execution_count": 112
        }
      ]
    },
    {
      "cell_type": "code",
      "source": [
        "L[1:3]"
      ],
      "metadata": {
        "colab": {
          "base_uri": "https://localhost:8080/"
        },
        "id": "AtEHzXFdD0hf",
        "outputId": "b7b9243d-8741-43ad-d89e-3cc531ab30b7"
      },
      "execution_count": null,
      "outputs": [
        {
          "output_type": "execute_result",
          "data": {
            "text/plain": [
              "['iki', 3.14]"
            ]
          },
          "metadata": {},
          "execution_count": 113
        }
      ]
    },
    {
      "cell_type": "code",
      "source": [
        "L[1:2] # icinde tek eleman olan bir liste donduruyor"
      ],
      "metadata": {
        "colab": {
          "base_uri": "https://localhost:8080/"
        },
        "id": "RMNK3B5qD3ge",
        "outputId": "4cc1de19-0fff-4c74-df04-e49366105340"
      },
      "execution_count": null,
      "outputs": [
        {
          "output_type": "execute_result",
          "data": {
            "text/plain": [
              "['iki']"
            ]
          },
          "metadata": {},
          "execution_count": 114
        }
      ]
    },
    {
      "cell_type": "code",
      "source": [
        "L[1] # elemanin kendisini yani str olarak 'iki' elemanini donduruyor"
      ],
      "metadata": {
        "colab": {
          "base_uri": "https://localhost:8080/",
          "height": 35
        },
        "id": "4IFYm-U0D9MO",
        "outputId": "9a194d65-cd89-4af9-d27f-dba07b20c6fb"
      },
      "execution_count": null,
      "outputs": [
        {
          "output_type": "execute_result",
          "data": {
            "text/plain": [
              "'iki'"
            ],
            "application/vnd.google.colaboratory.intrinsic+json": {
              "type": "string"
            }
          },
          "metadata": {},
          "execution_count": 115
        }
      ]
    },
    {
      "cell_type": "code",
      "source": [
        "# listelerin dilimlenmesi sonucu yine bir liste oluşuyor\n",
        "# dondurulen/ulasilan listeyi bir degiskende tutabiliriz\n",
        "L_1ve3_arasi = L[1:3]"
      ],
      "metadata": {
        "id": "Ecc0kvuAECLO"
      },
      "execution_count": null,
      "outputs": []
    },
    {
      "cell_type": "code",
      "source": [
        "print(L_1ve3_arasi)"
      ],
      "metadata": {
        "colab": {
          "base_uri": "https://localhost:8080/"
        },
        "id": "cv9I0HdBEN9-",
        "outputId": "d482700e-49d2-459a-a2d8-10465952bcf6"
      },
      "execution_count": null,
      "outputs": [
        {
          "output_type": "stream",
          "name": "stdout",
          "text": [
            "['iki', 3.14]\n"
          ]
        }
      ]
    },
    {
      "cell_type": "code",
      "source": [
        "print(type(L_1ve3_arasi))"
      ],
      "metadata": {
        "colab": {
          "base_uri": "https://localhost:8080/"
        },
        "id": "96FNyQonEY82",
        "outputId": "a5b7d143-59a9-49d2-f3b9-729e1df622ce"
      },
      "execution_count": null,
      "outputs": [
        {
          "output_type": "stream",
          "name": "stdout",
          "text": [
            "<class 'list'>\n"
          ]
        }
      ]
    },
    {
      "cell_type": "code",
      "source": [
        "# indekslemedeki indeksi aşma problemi dilimlemede yaşanmıyor\n",
        "L[1:1000] # L[1:]"
      ],
      "metadata": {
        "colab": {
          "base_uri": "https://localhost:8080/"
        },
        "id": "nSCmnAcIEbiW",
        "outputId": "b376ffab-4a72-4d3d-9b9f-ba23f8248ba7"
      },
      "execution_count": null,
      "outputs": [
        {
          "output_type": "execute_result",
          "data": {
            "text/plain": [
              "['iki', 3.14, [11, 22, 33]]"
            ]
          },
          "metadata": {},
          "execution_count": 119
        }
      ]
    },
    {
      "cell_type": "code",
      "source": [
        "L[100:1000] # hata dondurmuyor\n",
        "# bos liste donduruyor !!"
      ],
      "metadata": {
        "colab": {
          "base_uri": "https://localhost:8080/"
        },
        "id": "wfQpMKyeEgMd",
        "outputId": "1efe3721-d2ac-42af-9f64-d63f1f3fa58e"
      },
      "execution_count": null,
      "outputs": [
        {
          "output_type": "execute_result",
          "data": {
            "text/plain": [
              "[]"
            ]
          },
          "metadata": {},
          "execution_count": 120
        }
      ]
    },
    {
      "cell_type": "code",
      "source": [
        "# negatif indeksle dilimleme\n",
        "L[-10:10]"
      ],
      "metadata": {
        "colab": {
          "base_uri": "https://localhost:8080/"
        },
        "id": "AEWrArQjEmwW",
        "outputId": "1cc7fffa-40e8-4939-f21a-908892d8b56c"
      },
      "execution_count": null,
      "outputs": [
        {
          "output_type": "execute_result",
          "data": {
            "text/plain": [
              "[1, 'iki', 3.14, [11, 22, 33]]"
            ]
          },
          "metadata": {},
          "execution_count": 121
        }
      ]
    },
    {
      "cell_type": "code",
      "source": [
        "liste2nci = [10, 20, 'uc', 'dort', 3.5, 5.87]"
      ],
      "metadata": {
        "id": "6tjfZDAOEw3u"
      },
      "execution_count": null,
      "outputs": []
    },
    {
      "cell_type": "code",
      "source": [
        "len(liste2nci)"
      ],
      "metadata": {
        "colab": {
          "base_uri": "https://localhost:8080/"
        },
        "id": "wKQ_4sD5Ez3d",
        "outputId": "369209aa-3c0c-43d9-a149-e1a4cf4d2ded"
      },
      "execution_count": null,
      "outputs": [
        {
          "output_type": "execute_result",
          "data": {
            "text/plain": [
              "6"
            ]
          },
          "metadata": {},
          "execution_count": 123
        }
      ]
    },
    {
      "cell_type": "code",
      "source": [
        "liste2nci[0:3]"
      ],
      "metadata": {
        "colab": {
          "base_uri": "https://localhost:8080/"
        },
        "id": "aQFcaiNwE1RG",
        "outputId": "63d5cf10-3d2a-4356-fbcd-596a53c969d2"
      },
      "execution_count": null,
      "outputs": [
        {
          "output_type": "execute_result",
          "data": {
            "text/plain": [
              "[10, 20, 'uc']"
            ]
          },
          "metadata": {},
          "execution_count": 124
        }
      ]
    },
    {
      "cell_type": "code",
      "source": [
        "liste2nci[:3] # -->> liste2nci[0:3]"
      ],
      "metadata": {
        "colab": {
          "base_uri": "https://localhost:8080/"
        },
        "id": "cRqvzKhHE3AO",
        "outputId": "a795e836-e7cd-40ea-9d6c-a86ab0b1aaba"
      },
      "execution_count": null,
      "outputs": [
        {
          "output_type": "execute_result",
          "data": {
            "text/plain": [
              "[10, 20, 'uc']"
            ]
          },
          "metadata": {},
          "execution_count": 125
        }
      ]
    },
    {
      "cell_type": "code",
      "source": [
        "liste2nci[2:]"
      ],
      "metadata": {
        "colab": {
          "base_uri": "https://localhost:8080/"
        },
        "id": "u4uDVs1wE8Vf",
        "outputId": "dc638fa1-421b-42bc-8340-bc028552f511"
      },
      "execution_count": null,
      "outputs": [
        {
          "output_type": "execute_result",
          "data": {
            "text/plain": [
              "['uc', 'dort', 3.5, 5.87]"
            ]
          },
          "metadata": {},
          "execution_count": 126
        }
      ]
    },
    {
      "cell_type": "code",
      "source": [
        "len(liste2nci)"
      ],
      "metadata": {
        "colab": {
          "base_uri": "https://localhost:8080/"
        },
        "id": "RppHrTtkFCON",
        "outputId": "9e9b5f35-eb9a-48cd-b8b9-0a292fba51ac"
      },
      "execution_count": null,
      "outputs": [
        {
          "output_type": "execute_result",
          "data": {
            "text/plain": [
              "6"
            ]
          },
          "metadata": {},
          "execution_count": 127
        }
      ]
    },
    {
      "cell_type": "code",
      "source": [
        "liste2nci[len(liste2nci)] # -->> liste2nci[6] "
      ],
      "metadata": {
        "colab": {
          "base_uri": "https://localhost:8080/",
          "height": 166
        },
        "id": "yCvNEgoaFHZ-",
        "outputId": "75e33ad9-7c81-46f5-a67e-704344d208af"
      },
      "execution_count": null,
      "outputs": [
        {
          "output_type": "error",
          "ename": "IndexError",
          "evalue": "ignored",
          "traceback": [
            "\u001b[0;31m---------------------------------------------------------------------------\u001b[0m",
            "\u001b[0;31mIndexError\u001b[0m                                Traceback (most recent call last)",
            "\u001b[0;32m<ipython-input-128-f9755910c5c8>\u001b[0m in \u001b[0;36m<module>\u001b[0;34m\u001b[0m\n\u001b[0;32m----> 1\u001b[0;31m \u001b[0mliste2nci\u001b[0m\u001b[0;34m[\u001b[0m\u001b[0mlen\u001b[0m\u001b[0;34m(\u001b[0m\u001b[0mliste2nci\u001b[0m\u001b[0;34m)\u001b[0m\u001b[0;34m]\u001b[0m \u001b[0;31m# -->> liste2nci[6]\u001b[0m\u001b[0;34m\u001b[0m\u001b[0;34m\u001b[0m\u001b[0m\n\u001b[0m",
            "\u001b[0;31mIndexError\u001b[0m: list index out of range"
          ]
        }
      ]
    },
    {
      "cell_type": "code",
      "source": [
        "# en sondaki elemana ulasmak icin - indekleme\n",
        "liste2nci[len(liste2nci)-1]"
      ],
      "metadata": {
        "colab": {
          "base_uri": "https://localhost:8080/"
        },
        "id": "a_bFcNT9FMyN",
        "outputId": "673272f5-7ded-4239-bc01-833dc98ac581"
      },
      "execution_count": null,
      "outputs": [
        {
          "output_type": "execute_result",
          "data": {
            "text/plain": [
              "5.87"
            ]
          },
          "metadata": {},
          "execution_count": 129
        }
      ]
    },
    {
      "cell_type": "code",
      "source": [
        "# en sondaki elemana kadar okumak istersek - HATA\n",
        "# !! en son indeks haric\n",
        "liste2nci[2:len(liste2nci)-1] # liste2nci[2:5] ==> 5.87 elemanina kadar / 5. indeksteki elemana kadar"
      ],
      "metadata": {
        "colab": {
          "base_uri": "https://localhost:8080/"
        },
        "id": "npE5V5qtFQMV",
        "outputId": "cb5b462b-f1f0-4002-fa1e-eb4ed136c4f2"
      },
      "execution_count": null,
      "outputs": [
        {
          "output_type": "execute_result",
          "data": {
            "text/plain": [
              "['uc', 'dort', 3.5]"
            ]
          },
          "metadata": {},
          "execution_count": 130
        }
      ]
    },
    {
      "cell_type": "code",
      "source": [
        "# en sondaki elemana kadar okumak istersek \n",
        "# liste2nci[2:] # ==>> liste2nci[2:6] # 5.87 elemani dahil / 5. indeksteki eleman dahil\n",
        "liste2nci[2:len(liste2nci)]"
      ],
      "metadata": {
        "colab": {
          "base_uri": "https://localhost:8080/"
        },
        "id": "dKLs7BPaFYTG",
        "outputId": "1bf2eb27-1df7-476d-9fe8-9fc77a7e2e77"
      },
      "execution_count": null,
      "outputs": [
        {
          "output_type": "execute_result",
          "data": {
            "text/plain": [
              "['uc', 'dort', 3.5, 5.87]"
            ]
          },
          "metadata": {},
          "execution_count": 131
        }
      ]
    },
    {
      "cell_type": "code",
      "source": [
        "# increment / artış\n",
        "liste2nci[1:4]"
      ],
      "metadata": {
        "colab": {
          "base_uri": "https://localhost:8080/"
        },
        "id": "0MQjYcbCF6JN",
        "outputId": "e5f1e585-c2fc-442f-cb80-481a7759aaa7"
      },
      "execution_count": null,
      "outputs": [
        {
          "output_type": "execute_result",
          "data": {
            "text/plain": [
              "[20, 'uc', 'dort']"
            ]
          },
          "metadata": {},
          "execution_count": 132
        }
      ]
    },
    {
      "cell_type": "code",
      "source": [
        "liste2nci[1:4:1]"
      ],
      "metadata": {
        "colab": {
          "base_uri": "https://localhost:8080/"
        },
        "id": "dbWCkjQbF__d",
        "outputId": "aa62b3ec-497d-4587-c8eb-d39879befc68"
      },
      "execution_count": null,
      "outputs": [
        {
          "output_type": "execute_result",
          "data": {
            "text/plain": [
              "[20, 'uc', 'dort']"
            ]
          },
          "metadata": {},
          "execution_count": 133
        }
      ]
    },
    {
      "cell_type": "code",
      "source": [
        "liste2nci[1:4:2]"
      ],
      "metadata": {
        "colab": {
          "base_uri": "https://localhost:8080/"
        },
        "id": "KDZUNXrDGCLk",
        "outputId": "af311bba-49d5-4724-b362-a7855021e6b7"
      },
      "execution_count": null,
      "outputs": [
        {
          "output_type": "execute_result",
          "data": {
            "text/plain": [
              "[20, 'dort']"
            ]
          },
          "metadata": {},
          "execution_count": 134
        }
      ]
    },
    {
      "cell_type": "code",
      "source": [
        "# bastan sona indeksi 2ser arttirarak okumak (incremental - atlayarak okuma)\n",
        "liste2nci[::2]"
      ],
      "metadata": {
        "colab": {
          "base_uri": "https://localhost:8080/"
        },
        "id": "xb6pLYfXGF7M",
        "outputId": "0802ccc7-a1bf-4824-c238-8c9e2fa366a9"
      },
      "execution_count": null,
      "outputs": [
        {
          "output_type": "execute_result",
          "data": {
            "text/plain": [
              "[10, 'uc', 3.5]"
            ]
          },
          "metadata": {},
          "execution_count": 135
        }
      ]
    },
    {
      "cell_type": "code",
      "source": [
        "liste2nci[0::2]"
      ],
      "metadata": {
        "colab": {
          "base_uri": "https://localhost:8080/"
        },
        "id": "3ebt7cKfGN80",
        "outputId": "056ff26e-7c32-41c9-95e6-8ff4f31806b5"
      },
      "execution_count": null,
      "outputs": [
        {
          "output_type": "execute_result",
          "data": {
            "text/plain": [
              "[10, 'uc', 3.5]"
            ]
          },
          "metadata": {},
          "execution_count": 136
        }
      ]
    },
    {
      "cell_type": "code",
      "source": [
        "liste2nci[:len(liste2nci):2]"
      ],
      "metadata": {
        "colab": {
          "base_uri": "https://localhost:8080/"
        },
        "id": "uWBuYSGrGQY8",
        "outputId": "528dab64-36fd-4a53-970a-6d5231215428"
      },
      "execution_count": null,
      "outputs": [
        {
          "output_type": "execute_result",
          "data": {
            "text/plain": [
              "[10, 'uc', 3.5]"
            ]
          },
          "metadata": {},
          "execution_count": 138
        }
      ]
    },
    {
      "cell_type": "code",
      "source": [
        "liste2nci[0:len(liste2nci):2]"
      ],
      "metadata": {
        "colab": {
          "base_uri": "https://localhost:8080/"
        },
        "id": "-4jrfNPqGVfz",
        "outputId": "7c1fb474-f383-43db-e166-e475c1c605d0"
      },
      "execution_count": null,
      "outputs": [
        {
          "output_type": "execute_result",
          "data": {
            "text/plain": [
              "[10, 'uc', 3.5]"
            ]
          },
          "metadata": {},
          "execution_count": 139
        }
      ]
    },
    {
      "cell_type": "code",
      "source": [
        "liste2nci[:-2:2]"
      ],
      "metadata": {
        "colab": {
          "base_uri": "https://localhost:8080/"
        },
        "id": "DEMWnKKKGWU9",
        "outputId": "554ccba4-2b60-44ea-844b-2bb8d864316a"
      },
      "execution_count": null,
      "outputs": [
        {
          "output_type": "execute_result",
          "data": {
            "text/plain": [
              "[10, 'uc']"
            ]
          },
          "metadata": {},
          "execution_count": 140
        }
      ]
    },
    {
      "cell_type": "code",
      "source": [
        "liste2nci # 3.5 -2. indekste oldugundan yukarida dilime dahil edilmiyor"
      ],
      "metadata": {
        "colab": {
          "base_uri": "https://localhost:8080/"
        },
        "id": "Fue-meiaGYCs",
        "outputId": "3b1f081b-f434-45f8-a257-35f8fb0d2166"
      },
      "execution_count": null,
      "outputs": [
        {
          "output_type": "execute_result",
          "data": {
            "text/plain": [
              "[10, 20, 'uc', 'dort', 3.5, 5.87]"
            ]
          },
          "metadata": {},
          "execution_count": 142
        }
      ]
    },
    {
      "cell_type": "code",
      "source": [
        "# Özetlersek"
      ],
      "metadata": {
        "id": "IMbLLCLSGaNk"
      },
      "execution_count": null,
      "outputs": []
    },
    {
      "cell_type": "code",
      "source": [
        "# indeksleme\n",
        "liste2nci[3]"
      ],
      "metadata": {
        "colab": {
          "base_uri": "https://localhost:8080/",
          "height": 35
        },
        "id": "_wLvtktnGq6c",
        "outputId": "b95db3bf-1d83-40ab-a5cc-7fc1fccd3248"
      },
      "execution_count": null,
      "outputs": [
        {
          "output_type": "execute_result",
          "data": {
            "text/plain": [
              "'dort'"
            ],
            "application/vnd.google.colaboratory.intrinsic+json": {
              "type": "string"
            }
          },
          "metadata": {},
          "execution_count": 144
        }
      ]
    },
    {
      "cell_type": "code",
      "source": [
        "# eksi indeksleme\n",
        "liste2nci[-2]"
      ],
      "metadata": {
        "colab": {
          "base_uri": "https://localhost:8080/"
        },
        "id": "5RGIfiqTGsJN",
        "outputId": "6feb4cf8-d70e-4efd-c322-2191f875ce19"
      },
      "execution_count": null,
      "outputs": [
        {
          "output_type": "execute_result",
          "data": {
            "text/plain": [
              "3.5"
            ]
          },
          "metadata": {},
          "execution_count": 145
        }
      ]
    },
    {
      "cell_type": "code",
      "source": [
        "# dilimleme\n",
        "liste2nci[1:-2]"
      ],
      "metadata": {
        "colab": {
          "base_uri": "https://localhost:8080/"
        },
        "id": "L2qWSMD3GuNs",
        "outputId": "8c2dda3f-4f25-44d3-c6e8-bdf715fa13a4"
      },
      "execution_count": null,
      "outputs": [
        {
          "output_type": "execute_result",
          "data": {
            "text/plain": [
              "[20, 'uc', 'dort']"
            ]
          },
          "metadata": {},
          "execution_count": 146
        }
      ]
    },
    {
      "cell_type": "code",
      "source": [
        "# atlayarak dilimleme\n",
        "liste2nci[1:-2:2]"
      ],
      "metadata": {
        "colab": {
          "base_uri": "https://localhost:8080/"
        },
        "id": "DHmDglk-GyVc",
        "outputId": "7ec5481b-a257-4841-e874-bbf8ac5d4b84"
      },
      "execution_count": null,
      "outputs": [
        {
          "output_type": "execute_result",
          "data": {
            "text/plain": [
              "[20, 'dort']"
            ]
          },
          "metadata": {},
          "execution_count": 147
        }
      ]
    },
    {
      "cell_type": "code",
      "source": [
        "# Elimizde buyukten kucuge sirali olarak ogrencilerin genel not ortalamalari bulunsun\n",
        "sirali_gnolar = [3.9, 3.6, 3.55, 3.5, 3.2, 3.0, 2.75, 2.5, 2.0, 1.9, 1.75, 1.5]"
      ],
      "metadata": {
        "id": "SLbP68wUG0qs"
      },
      "execution_count": null,
      "outputs": []
    },
    {
      "cell_type": "code",
      "source": [
        "# en yuksek not almis 3 ogrencinin ortalama gnosu nedir?\n",
        "sirali_gnolar[:3]"
      ],
      "metadata": {
        "colab": {
          "base_uri": "https://localhost:8080/"
        },
        "id": "0UgGYaslHUw7",
        "outputId": "0aba2d3f-3999-4ea4-ca2d-a88696904242"
      },
      "execution_count": null,
      "outputs": [
        {
          "output_type": "execute_result",
          "data": {
            "text/plain": [
              "[3.9, 3.6, 3.55]"
            ]
          },
          "metadata": {},
          "execution_count": 149
        }
      ]
    },
    {
      "cell_type": "code",
      "source": [
        "#ortalama\n",
        "sum(sirali_gnolar[:3]) / 3"
      ],
      "metadata": {
        "colab": {
          "base_uri": "https://localhost:8080/"
        },
        "id": "hXQSa7MyHc0C",
        "outputId": "6b0f0f0d-61cf-41d4-9b43-134c5d04e4c3"
      },
      "execution_count": null,
      "outputs": [
        {
          "output_type": "execute_result",
          "data": {
            "text/plain": [
              "3.6833333333333336"
            ]
          },
          "metadata": {},
          "execution_count": 150
        }
      ]
    },
    {
      "cell_type": "code",
      "source": [
        "# en dusuk not almis 3 ogrencinin ortalama gnosu nedir?\n",
        "sirali_gnolar[-3:]"
      ],
      "metadata": {
        "colab": {
          "base_uri": "https://localhost:8080/"
        },
        "id": "AS6ekjBOHig7",
        "outputId": "5ad145ac-c6ed-48cc-9dcf-9281fea02c1e"
      },
      "execution_count": null,
      "outputs": [
        {
          "output_type": "execute_result",
          "data": {
            "text/plain": [
              "[1.9, 1.75, 1.5]"
            ]
          },
          "metadata": {},
          "execution_count": 151
        }
      ]
    },
    {
      "cell_type": "code",
      "source": [
        "sum(sirali_gnolar[-3:]) / 3"
      ],
      "metadata": {
        "colab": {
          "base_uri": "https://localhost:8080/"
        },
        "id": "Z4osYdAPHsBD",
        "outputId": "3b4c068f-25af-44a7-ed69-1aced53b4d6d"
      },
      "execution_count": null,
      "outputs": [
        {
          "output_type": "execute_result",
          "data": {
            "text/plain": [
              "1.7166666666666668"
            ]
          },
          "metadata": {},
          "execution_count": 152
        }
      ]
    },
    {
      "cell_type": "markdown",
      "source": [
        "##### Listeler (lists) ve Dizelerin (strings) indekslemedeki benzerlikleri ve mutable/immutable olma farkliliklari"
      ],
      "metadata": {
        "id": "YIYdXAOQIDz6"
      }
    },
    {
      "cell_type": "code",
      "source": [
        "# dizeler indeksleme ve dilimlemede listelere benzer olarak calisirlar\n",
        "ders_konusu = 'veri analitiği'\n",
        "# karakter dizisi # karakter arrayleri"
      ],
      "metadata": {
        "id": "Rumpo2WsHwEC"
      },
      "execution_count": null,
      "outputs": []
    },
    {
      "cell_type": "code",
      "source": [
        "ders_konusu # -->> ['v', 'e', 'r', ...., 'i'] benzer "
      ],
      "metadata": {
        "colab": {
          "base_uri": "https://localhost:8080/",
          "height": 35
        },
        "id": "xXZiopKXIQ07",
        "outputId": "e1bf8ab4-4759-4db6-a2c2-aa56014cb37c"
      },
      "execution_count": null,
      "outputs": [
        {
          "output_type": "execute_result",
          "data": {
            "text/plain": [
              "'veri analitigi'"
            ],
            "application/vnd.google.colaboratory.intrinsic+json": {
              "type": "string"
            }
          },
          "metadata": {},
          "execution_count": 157
        }
      ]
    },
    {
      "cell_type": "code",
      "source": [
        "len(ders_konusu)"
      ],
      "metadata": {
        "colab": {
          "base_uri": "https://localhost:8080/"
        },
        "id": "BRhFyk9jISvC",
        "outputId": "7c36d779-2471-40ab-9c5d-80753ba91e99"
      },
      "execution_count": null,
      "outputs": [
        {
          "output_type": "execute_result",
          "data": {
            "text/plain": [
              "14"
            ]
          },
          "metadata": {},
          "execution_count": 158
        }
      ]
    },
    {
      "cell_type": "code",
      "source": [
        "# indeksleme\n",
        "ders_konusu[2]"
      ],
      "metadata": {
        "colab": {
          "base_uri": "https://localhost:8080/",
          "height": 35
        },
        "id": "wzx1I6YGIXD5",
        "outputId": "af689110-e945-4e17-9778-b0b97693db5e"
      },
      "execution_count": null,
      "outputs": [
        {
          "output_type": "execute_result",
          "data": {
            "text/plain": [
              "'r'"
            ],
            "application/vnd.google.colaboratory.intrinsic+json": {
              "type": "string"
            }
          },
          "metadata": {},
          "execution_count": 159
        }
      ]
    },
    {
      "cell_type": "code",
      "source": [
        "ders_konusu[4] # bosluk karakteri"
      ],
      "metadata": {
        "colab": {
          "base_uri": "https://localhost:8080/",
          "height": 35
        },
        "id": "xe6OIKWiImiK",
        "outputId": "3122dbe8-8a13-4c57-c148-e2c47f1c9995"
      },
      "execution_count": null,
      "outputs": [
        {
          "output_type": "execute_result",
          "data": {
            "text/plain": [
              "' '"
            ],
            "application/vnd.google.colaboratory.intrinsic+json": {
              "type": "string"
            }
          },
          "metadata": {},
          "execution_count": 160
        }
      ]
    },
    {
      "cell_type": "code",
      "source": [
        "print(ders_konusu[4]) # bosluk karakteri"
      ],
      "metadata": {
        "colab": {
          "base_uri": "https://localhost:8080/"
        },
        "id": "S7p6m0nWRuq0",
        "outputId": "0b4f37a5-0f6e-4ebd-c12f-0f49f38c6c34"
      },
      "execution_count": null,
      "outputs": [
        {
          "output_type": "stream",
          "name": "stdout",
          "text": [
            " \n"
          ]
        }
      ]
    },
    {
      "cell_type": "code",
      "source": [
        "# dilimleme\n",
        "ders_konusu[6:10]"
      ],
      "metadata": {
        "colab": {
          "base_uri": "https://localhost:8080/",
          "height": 35
        },
        "id": "KblDPtTUIrT0",
        "outputId": "a8208d46-a801-434f-ffbc-aa20995c1429"
      },
      "execution_count": null,
      "outputs": [
        {
          "output_type": "execute_result",
          "data": {
            "text/plain": [
              "'nali'"
            ],
            "application/vnd.google.colaboratory.intrinsic+json": {
              "type": "string"
            }
          },
          "metadata": {},
          "execution_count": 161
        }
      ]
    },
    {
      "cell_type": "code",
      "source": [
        "ders_konusu[6::2]"
      ],
      "metadata": {
        "colab": {
          "base_uri": "https://localhost:8080/",
          "height": 35
        },
        "id": "ScINDYH5It9y",
        "outputId": "8d159a1b-3ad1-4007-bc2f-af59bd4068b0"
      },
      "execution_count": null,
      "outputs": [
        {
          "output_type": "execute_result",
          "data": {
            "text/plain": [
              "'nltğ'"
            ],
            "application/vnd.google.colaboratory.intrinsic+json": {
              "type": "string"
            }
          },
          "metadata": {},
          "execution_count": 28
        }
      ]
    },
    {
      "cell_type": "code",
      "source": [
        "# mutable/immutable olma farkliliklari"
      ],
      "metadata": {
        "id": "ue6HV1RzI4US"
      },
      "execution_count": null,
      "outputs": []
    },
    {
      "cell_type": "code",
      "source": [
        "#############   STRING   #############\n",
        "# Stringler immutable (değiştirilemez)\n",
        "ders_konusu[5]"
      ],
      "metadata": {
        "colab": {
          "base_uri": "https://localhost:8080/",
          "height": 35
        },
        "id": "FuSV5Fw6I-hJ",
        "outputId": "a9be4b02-e7cd-468e-dc92-856e058d2044"
      },
      "execution_count": null,
      "outputs": [
        {
          "output_type": "execute_result",
          "data": {
            "text/plain": [
              "'a'"
            ],
            "application/vnd.google.colaboratory.intrinsic+json": {
              "type": "string"
            }
          },
          "metadata": {},
          "execution_count": 164
        }
      ]
    },
    {
      "cell_type": "code",
      "source": [
        "# kucuk harf a yi buyuk harf A ya donusturmek istersek\n",
        "ders_konusu[5] = 'A' #immutable\n",
        "# assignment => atama"
      ],
      "metadata": {
        "colab": {
          "base_uri": "https://localhost:8080/",
          "height": 183
        },
        "id": "Gw0Hi1ypJAVp",
        "outputId": "af2a8b3c-e99c-43ca-b7ec-43a749133bc6"
      },
      "execution_count": null,
      "outputs": [
        {
          "output_type": "error",
          "ename": "TypeError",
          "evalue": "ignored",
          "traceback": [
            "\u001b[0;31m---------------------------------------------------------------------------\u001b[0m",
            "\u001b[0;31mTypeError\u001b[0m                                 Traceback (most recent call last)",
            "\u001b[0;32m<ipython-input-165-ec4d4c969fdb>\u001b[0m in \u001b[0;36m<module>\u001b[0;34m\u001b[0m\n\u001b[1;32m      1\u001b[0m \u001b[0;31m# kucuk harf a yi buyuk harf A ya donusturmek istersek\u001b[0m\u001b[0;34m\u001b[0m\u001b[0;34m\u001b[0m\u001b[0;34m\u001b[0m\u001b[0m\n\u001b[0;32m----> 2\u001b[0;31m \u001b[0mders_konusu\u001b[0m\u001b[0;34m[\u001b[0m\u001b[0;36m5\u001b[0m\u001b[0;34m]\u001b[0m \u001b[0;34m=\u001b[0m \u001b[0;34m'A'\u001b[0m\u001b[0;34m\u001b[0m\u001b[0;34m\u001b[0m\u001b[0m\n\u001b[0m",
            "\u001b[0;31mTypeError\u001b[0m: 'str' object does not support item assignment"
          ]
        }
      ]
    },
    {
      "cell_type": "code",
      "source": [
        "type(ders_konusu)"
      ],
      "metadata": {
        "colab": {
          "base_uri": "https://localhost:8080/"
        },
        "id": "UBgH40Q2JIvI",
        "outputId": "f63b56bd-889d-480e-fb39-d6de8fdae65d"
      },
      "execution_count": null,
      "outputs": [
        {
          "output_type": "execute_result",
          "data": {
            "text/plain": [
              "str"
            ]
          },
          "metadata": {},
          "execution_count": 166
        }
      ]
    },
    {
      "cell_type": "code",
      "source": [
        "#############   LISTS   #############\n",
        "# listeler mutable (değiştirilebilir)\n",
        "liste2nci[5]"
      ],
      "metadata": {
        "colab": {
          "base_uri": "https://localhost:8080/"
        },
        "id": "i4VW4aW2JNXZ",
        "outputId": "20374d7b-8c60-4876-8c36-c1e83e865c26"
      },
      "execution_count": null,
      "outputs": [
        {
          "output_type": "execute_result",
          "data": {
            "text/plain": [
              "5.87"
            ]
          },
          "metadata": {},
          "execution_count": 167
        }
      ]
    },
    {
      "cell_type": "code",
      "source": [
        "liste2nci"
      ],
      "metadata": {
        "colab": {
          "base_uri": "https://localhost:8080/"
        },
        "id": "00KAnbgfJQcA",
        "outputId": "ed5e4757-c3da-4488-fe09-1cd5ec786d84"
      },
      "execution_count": null,
      "outputs": [
        {
          "output_type": "execute_result",
          "data": {
            "text/plain": [
              "[10, 20, 'uc', 'dort', 3.5, 5.87]"
            ]
          },
          "metadata": {},
          "execution_count": 168
        }
      ]
    },
    {
      "cell_type": "code",
      "source": [
        "liste2nci[5] = 11.25 # atama operatoru mutable olan listelerde yerinde degisiklik yapabiliyor"
      ],
      "metadata": {
        "id": "Pck1Gjw4JS05"
      },
      "execution_count": null,
      "outputs": []
    },
    {
      "cell_type": "code",
      "source": [
        "print(liste2nci)"
      ],
      "metadata": {
        "colab": {
          "base_uri": "https://localhost:8080/"
        },
        "id": "nkQSK1kIJViB",
        "outputId": "e9a9fc69-0c26-4fc3-bcaa-5d2f94fbb5b3"
      },
      "execution_count": null,
      "outputs": [
        {
          "output_type": "stream",
          "name": "stdout",
          "text": [
            "[10, 20, 'uc', 'dort', 3.5, 11.25]\n"
          ]
        }
      ]
    },
    {
      "cell_type": "code",
      "source": [
        "# stringleri indeksleme yaparak yerinde degistermiyoruz.\n",
        "# kelimelerin bas harflerini buyuk harf nasil yapabiliriz?"
      ],
      "metadata": {
        "id": "AjXO9216JYEx"
      },
      "execution_count": null,
      "outputs": []
    },
    {
      "cell_type": "code",
      "source": [
        "ders_konusu"
      ],
      "metadata": {
        "id": "G1BqkCkMJdOR",
        "colab": {
          "base_uri": "https://localhost:8080/",
          "height": 35
        },
        "outputId": "01b26e48-9014-424d-caee-46f4e8ebc4e5"
      },
      "execution_count": null,
      "outputs": [
        {
          "output_type": "execute_result",
          "data": {
            "text/plain": [
              "'veri analitiği'"
            ],
            "application/vnd.google.colaboratory.intrinsic+json": {
              "type": "string"
            }
          },
          "metadata": {},
          "execution_count": 29
        }
      ]
    },
    {
      "cell_type": "code",
      "source": [
        "# string veri tipinin metadata ve metodlari\n",
        "print( dir(ders_konusu) )\n",
        "# dir(str)"
      ],
      "metadata": {
        "colab": {
          "base_uri": "https://localhost:8080/"
        },
        "id": "29TwGj9AS26_",
        "outputId": "41fbedea-e183-42ab-f39f-ec2913690a57"
      },
      "execution_count": null,
      "outputs": [
        {
          "output_type": "stream",
          "name": "stdout",
          "text": [
            "['__add__', '__class__', '__contains__', '__delattr__', '__dir__', '__doc__', '__eq__', '__format__', '__ge__', '__getattribute__', '__getitem__', '__getnewargs__', '__gt__', '__hash__', '__init__', '__init_subclass__', '__iter__', '__le__', '__len__', '__lt__', '__mod__', '__mul__', '__ne__', '__new__', '__reduce__', '__reduce_ex__', '__repr__', '__rmod__', '__rmul__', '__setattr__', '__sizeof__', '__str__', '__subclasshook__', 'capitalize', 'casefold', 'center', 'count', 'encode', 'endswith', 'expandtabs', 'find', 'format', 'format_map', 'index', 'isalnum', 'isalpha', 'isascii', 'isdecimal', 'isdigit', 'isidentifier', 'islower', 'isnumeric', 'isprintable', 'isspace', 'istitle', 'isupper', 'join', 'ljust', 'lower', 'lstrip', 'maketrans', 'partition', 'replace', 'rfind', 'rindex', 'rjust', 'rpartition', 'rsplit', 'rstrip', 'split', 'splitlines', 'startswith', 'strip', 'swapcase', 'title', 'translate', 'upper', 'zfill']\n"
          ]
        }
      ]
    },
    {
      "cell_type": "code",
      "source": [
        "# capitalize fonk. bilgisine ulaşmak için\n",
        "ders_konusu.capitalize?\n",
        "#Signature: ders_konusu.capitalize()\n",
        "#Docstring: Return a capitalized version of the string.\n",
        "#           More specifically, make the first character have upper case and the rest lower case."
      ],
      "metadata": {
        "id": "5uGK0MAbTCep"
      },
      "execution_count": null,
      "outputs": []
    },
    {
      "cell_type": "code",
      "source": [
        "help(ders_konusu.capitalize)"
      ],
      "metadata": {
        "colab": {
          "base_uri": "https://localhost:8080/"
        },
        "id": "LJ8pDo4hTMhW",
        "outputId": "fd9e1df1-1b44-4a9c-da62-2ec4e1bf0c81"
      },
      "execution_count": null,
      "outputs": [
        {
          "output_type": "stream",
          "name": "stdout",
          "text": [
            "Help on built-in function capitalize:\n",
            "\n",
            "capitalize() method of builtins.str instance\n",
            "    Return a capitalized version of the string.\n",
            "    \n",
            "    More specifically, make the first character have upper case and the rest lower\n",
            "    case.\n",
            "\n"
          ]
        }
      ]
    },
    {
      "cell_type": "code",
      "source": [
        "ders_konusu.capitalize()"
      ],
      "metadata": {
        "colab": {
          "base_uri": "https://localhost:8080/",
          "height": 35
        },
        "id": "v5pQTOAWTg7f",
        "outputId": "e07ce650-0ad2-4c3c-b4f9-29bf93b157a5"
      },
      "execution_count": null,
      "outputs": [
        {
          "output_type": "execute_result",
          "data": {
            "text/plain": [
              "'Veri analitiği'"
            ],
            "application/vnd.google.colaboratory.intrinsic+json": {
              "type": "string"
            }
          },
          "metadata": {},
          "execution_count": 30
        }
      ]
    },
    {
      "cell_type": "code",
      "source": [
        "ders_konusu.title() # title fonk. stringin bas harfleri buyuk olan halini donduruyor"
      ],
      "metadata": {
        "colab": {
          "base_uri": "https://localhost:8080/",
          "height": 35
        },
        "id": "i5P3ZqX6UcFO",
        "outputId": "879116b4-9e94-4865-c02e-643fbdcb4713"
      },
      "execution_count": null,
      "outputs": [
        {
          "output_type": "execute_result",
          "data": {
            "text/plain": [
              "'Veri Analitiği'"
            ],
            "application/vnd.google.colaboratory.intrinsic+json": {
              "type": "string"
            }
          },
          "metadata": {},
          "execution_count": 31
        }
      ]
    },
    {
      "cell_type": "code",
      "source": [
        "ders_konusu # yapılan değişiklikler orjinal stringin değerini etkilemedi"
      ],
      "metadata": {
        "colab": {
          "base_uri": "https://localhost:8080/",
          "height": 35
        },
        "id": "EnuL4wg_Uia2",
        "outputId": "8815a05c-e853-4cc5-e728-f20df3319465"
      },
      "execution_count": null,
      "outputs": [
        {
          "output_type": "execute_result",
          "data": {
            "text/plain": [
              "'veri analitiği'"
            ],
            "application/vnd.google.colaboratory.intrinsic+json": {
              "type": "string"
            }
          },
          "metadata": {},
          "execution_count": 32
        }
      ]
    },
    {
      "cell_type": "code",
      "source": [
        "liste2nci"
      ],
      "metadata": {
        "colab": {
          "base_uri": "https://localhost:8080/"
        },
        "id": "kug_gBlIUl8F",
        "outputId": "22ed9bd3-2a6f-48b9-e89b-af2dc0233f5c"
      },
      "execution_count": null,
      "outputs": [
        {
          "output_type": "execute_result",
          "data": {
            "text/plain": [
              "[10, 20, 'uc', 'dort', 3.5, 5.87]"
            ]
          },
          "metadata": {},
          "execution_count": 12
        }
      ]
    },
    {
      "cell_type": "code",
      "source": [
        "liste2nci.append(222)"
      ],
      "metadata": {
        "id": "xre9dvqMUy0t"
      },
      "execution_count": null,
      "outputs": []
    },
    {
      "cell_type": "code",
      "source": [
        "liste2nci # yapılan değişiklik (stringlerden farkli olarak) orjinal listenin içeriğini değiştirdi !!"
      ],
      "metadata": {
        "colab": {
          "base_uri": "https://localhost:8080/"
        },
        "id": "JDoObl9QU7Cd",
        "outputId": "fe8b4fb5-e004-4805-bb8d-35014d0ee4d6"
      },
      "execution_count": null,
      "outputs": [
        {
          "output_type": "execute_result",
          "data": {
            "text/plain": [
              "[10, 20, 'uc', 'dort', 3.5, 5.87, 222]"
            ]
          },
          "metadata": {},
          "execution_count": 15
        }
      ]
    },
    {
      "cell_type": "code",
      "source": [
        "# 1. orjinal string ve yeni olusan string ayrı ayrı saklanmak istenirse\n",
        "baslik_ders_konusu = ders_konusu.title()"
      ],
      "metadata": {
        "id": "QP6n0vYBXTDW"
      },
      "execution_count": null,
      "outputs": []
    },
    {
      "cell_type": "code",
      "source": [
        "print(f\"Orjinal string: {ders_konusu}\")\n",
        "print(f\"Yeni oluşan dize: {baslik_ders_konusu}\")"
      ],
      "metadata": {
        "colab": {
          "base_uri": "https://localhost:8080/"
        },
        "id": "V0RHtqOFXsJ8",
        "outputId": "f960ad51-9f06-40cd-d42b-b2724f7110b5"
      },
      "execution_count": null,
      "outputs": [
        {
          "output_type": "stream",
          "name": "stdout",
          "text": [
            "Orjinal string: veri analitiği\n",
            "Yeni oluşan dize: Veri Analitiği\n"
          ]
        }
      ]
    },
    {
      "cell_type": "code",
      "source": [
        "# 2. orjinal stringin tutuldugu degisken yeni nesneyi gostersin istenirse (orjinal degere ihtiyac yoksa)\n",
        "ders_konusu = ders_konusu.title()"
      ],
      "metadata": {
        "id": "GBamx57uXubM"
      },
      "execution_count": null,
      "outputs": []
    },
    {
      "cell_type": "code",
      "source": [
        "print(ders_konusu) # orjinal stringin degerini kaybetmis olduk. Ihtiyac duyulmadigi icin"
      ],
      "metadata": {
        "colab": {
          "base_uri": "https://localhost:8080/"
        },
        "id": "9-ZbsoIpYQnV",
        "outputId": "c0ec0e0d-a5bc-4c05-f189-6aad0a939f26"
      },
      "execution_count": null,
      "outputs": [
        {
          "output_type": "stream",
          "name": "stdout",
          "text": [
            "Veri Analitiği\n"
          ]
        }
      ]
    },
    {
      "cell_type": "code",
      "source": [
        "# genel olarak fonksiyonlari 2 farkli sekilde cagirip kullanabiliyoruz"
      ],
      "metadata": {
        "id": "6OKE8kdHYSF8"
      },
      "execution_count": null,
      "outputs": []
    },
    {
      "cell_type": "code",
      "source": [
        "# 1. yerlesik/built-in ya da kullanici(/user-defined) tarafindan yazilmis fonksiyonlar\n",
        "len(ders_konusu) # arguman olarak gonderilen string icinde kac karakter var?"
      ],
      "metadata": {
        "colab": {
          "base_uri": "https://localhost:8080/"
        },
        "id": "SczEU1YtYdp0",
        "outputId": "fe723a50-d71c-4666-9c0e-19b84b18f53a"
      },
      "execution_count": null,
      "outputs": [
        {
          "output_type": "execute_result",
          "data": {
            "text/plain": [
              "14"
            ]
          },
          "metadata": {},
          "execution_count": 23
        }
      ]
    },
    {
      "cell_type": "code",
      "source": [
        "# 2. piton nesnelerinin (str nesnesinin) kendi metotlarinin kullanimi\n",
        "ders_konusu.upper() # ders_konusu bir str nesnesi. Bu nesnenin upper fonksiyonunun cagirilmasi"
      ],
      "metadata": {
        "colab": {
          "base_uri": "https://localhost:8080/",
          "height": 35
        },
        "id": "SyzM_1XNYzfk",
        "outputId": "765872e8-8693-49f1-9cf1-05b0b664699d"
      },
      "execution_count": null,
      "outputs": [
        {
          "output_type": "execute_result",
          "data": {
            "text/plain": [
              "'VERI ANALITIĞI'"
            ],
            "application/vnd.google.colaboratory.intrinsic+json": {
              "type": "string"
            }
          },
          "metadata": {},
          "execution_count": 37
        }
      ]
    },
    {
      "cell_type": "code",
      "source": [
        "# tum harfleri buyuk harf yapan, kullanici tarafindan yazilmis ya da yerlesik bir fonk. kullanabilir miyiz?\n",
        "upper(ders_konusu)\n",
        "# upper adinda bir yerlesik ya da kullanici tarafindan yazilmis fonksiyon bulunmamaktadir"
      ],
      "metadata": {
        "colab": {
          "base_uri": "https://localhost:8080/",
          "height": 166
        },
        "id": "RtgkyVOMZN8F",
        "outputId": "423e5d83-6e54-4aab-f5ce-afc120b9b73d"
      },
      "execution_count": null,
      "outputs": [
        {
          "output_type": "error",
          "ename": "NameError",
          "evalue": "ignored",
          "traceback": [
            "\u001b[0;31m---------------------------------------------------------------------------\u001b[0m",
            "\u001b[0;31mNameError\u001b[0m                                 Traceback (most recent call last)",
            "\u001b[0;32m<ipython-input-25-70c666bf88ab>\u001b[0m in \u001b[0;36m<module>\u001b[0;34m\u001b[0m\n\u001b[0;32m----> 1\u001b[0;31m \u001b[0mupper\u001b[0m\u001b[0;34m(\u001b[0m\u001b[0mders_konusu\u001b[0m\u001b[0;34m)\u001b[0m\u001b[0;34m\u001b[0m\u001b[0;34m\u001b[0m\u001b[0m\n\u001b[0m",
            "\u001b[0;31mNameError\u001b[0m: name 'upper' is not defined"
          ]
        }
      ]
    },
    {
      "cell_type": "code",
      "source": [
        "## YAPILACAK: turkce upper fonksiyonunun yazilmasi?"
      ],
      "metadata": {
        "id": "ab90UgNYZdaM"
      },
      "execution_count": null,
      "outputs": []
    },
    {
      "cell_type": "code",
      "source": [
        "# yerlesik ya da kullanici tarafindan tanimlanmis bir upper fonk. bulunmamaktadir\n",
        "# str piton nesnesinin (ders_konusu) upper fonk. kullanilacaktir\n",
        "# str modulunun upper fonk. direk kullanadabiliriz\n",
        "# upper fonksiyonu string nesnelerine yonelik bir fonksiyon oldugu icin string nesnesinin bir metodu olarak tanimlanmistir\n",
        "str.upper(ders_konusu)\n",
        "# print gibi yerlesik fonksiyonlar ise pitonun daha genis bir nesne kumesine yonelik gelistirilmistir"
      ],
      "metadata": {
        "colab": {
          "base_uri": "https://localhost:8080/",
          "height": 35
        },
        "id": "-exlivJ6Z0wm",
        "outputId": "8dda2e51-dcab-4965-e3de-8933d06b025f"
      },
      "execution_count": null,
      "outputs": [
        {
          "output_type": "execute_result",
          "data": {
            "text/plain": [
              "'VERI ANALITIĞI'"
            ],
            "application/vnd.google.colaboratory.intrinsic+json": {
              "type": "string"
            }
          },
          "metadata": {},
          "execution_count": 38
        }
      ]
    },
    {
      "cell_type": "markdown",
      "source": [
        "##### liste fonksiyonları / operasyonları"
      ],
      "metadata": {
        "id": "XbVRYYZpa4MA"
      }
    },
    {
      "cell_type": "code",
      "source": [
        "2 + 5 # arti operatoru sayilarda toplama islemi yapar"
      ],
      "metadata": {
        "colab": {
          "base_uri": "https://localhost:8080/"
        },
        "id": "ijWqEtq9aius",
        "outputId": "a2c9f34c-24fa-4b2a-b3a6-af2a79174ede"
      },
      "execution_count": null,
      "outputs": [
        {
          "output_type": "execute_result",
          "data": {
            "text/plain": [
              "7"
            ]
          },
          "metadata": {},
          "execution_count": 39
        }
      ]
    },
    {
      "cell_type": "code",
      "source": [
        "'veri' + 'bilimi' # arti operatoru dizelerde birleştirme (concatenation) operasyonu yapar"
      ],
      "metadata": {
        "colab": {
          "base_uri": "https://localhost:8080/",
          "height": 35
        },
        "id": "4GTPFJiZbVCG",
        "outputId": "bff6c0a5-44ca-48fb-f6b8-aed5b9ee0d8c"
      },
      "execution_count": null,
      "outputs": [
        {
          "output_type": "execute_result",
          "data": {
            "text/plain": [
              "'veribilimi'"
            ],
            "application/vnd.google.colaboratory.intrinsic+json": {
              "type": "string"
            }
          },
          "metadata": {},
          "execution_count": 40
        }
      ]
    },
    {
      "cell_type": "code",
      "source": [
        "# Concatenation (birleştirme - birbirine bağlama)\n",
        "L1 = [1,2,4,5]\n",
        "L2 = ['a', 'b', 'c']\n",
        "L3 = L1 + L2 # concatenation (+ operatörü stringlerde de benzer şekilde çalışıyor)\n",
        "print(L3)"
      ],
      "metadata": {
        "colab": {
          "base_uri": "https://localhost:8080/"
        },
        "id": "91QXlHZFbiU8",
        "outputId": "8033a396-49bd-4a29-94b5-81d3a5e990f2"
      },
      "execution_count": null,
      "outputs": [
        {
          "output_type": "stream",
          "name": "stdout",
          "text": [
            "[1, 2, 4, 5, 'a', 'b', 'c']\n"
          ]
        }
      ]
    },
    {
      "cell_type": "code",
      "source": [
        "print(L1) # L1 ve L2 degiskenlerinin gosterdikleri nesneler degismedi\n",
        "print(L2)"
      ],
      "metadata": {
        "colab": {
          "base_uri": "https://localhost:8080/"
        },
        "id": "-YyWpJVZb11j",
        "outputId": "f4f3a2aa-b29b-42fe-98c7-9651b64a5d7e"
      },
      "execution_count": null,
      "outputs": [
        {
          "output_type": "stream",
          "name": "stdout",
          "text": [
            "[1, 2, 4, 5]\n",
            "['a', 'b', 'c']\n"
          ]
        }
      ]
    },
    {
      "cell_type": "code",
      "source": [
        "L1 + L2"
      ],
      "metadata": {
        "colab": {
          "base_uri": "https://localhost:8080/"
        },
        "id": "PpukuDGMb2G9",
        "outputId": "8859ca8b-5aea-494a-92e9-7bdd43897561"
      },
      "execution_count": null,
      "outputs": [
        {
          "output_type": "execute_result",
          "data": {
            "text/plain": [
              "[1, 2, 4, 5, 'a', 'b', 'c']"
            ]
          },
          "metadata": {},
          "execution_count": 47
        }
      ]
    },
    {
      "cell_type": "code",
      "source": [
        "print( len(L1), len(L2), len(L3) )"
      ],
      "metadata": {
        "colab": {
          "base_uri": "https://localhost:8080/"
        },
        "id": "U9ikXZCUb4r8",
        "outputId": "b1263e50-d5d1-40d3-93c1-42e7d48bce40"
      },
      "execution_count": null,
      "outputs": [
        {
          "output_type": "stream",
          "name": "stdout",
          "text": [
            "4 3 7\n"
          ]
        }
      ]
    },
    {
      "cell_type": "code",
      "source": [
        "print( dir(list) ) # print( dir(L1) )"
      ],
      "metadata": {
        "colab": {
          "base_uri": "https://localhost:8080/"
        },
        "id": "LpI9ZNyMb_sk",
        "outputId": "9cecd568-1f4a-4236-db0d-32f7acf32543"
      },
      "execution_count": null,
      "outputs": [
        {
          "output_type": "stream",
          "name": "stdout",
          "text": [
            "['__add__', '__class__', '__contains__', '__delattr__', '__delitem__', '__dir__', '__doc__', '__eq__', '__format__', '__ge__', '__getattribute__', '__getitem__', '__gt__', '__hash__', '__iadd__', '__imul__', '__init__', '__init_subclass__', '__iter__', '__le__', '__len__', '__lt__', '__mul__', '__ne__', '__new__', '__reduce__', '__reduce_ex__', '__repr__', '__reversed__', '__rmul__', '__setattr__', '__setitem__', '__sizeof__', '__str__', '__subclasshook__', 'append', 'clear', 'copy', 'count', 'extend', 'index', 'insert', 'pop', 'remove', 'reverse', 'sort']\n"
          ]
        }
      ]
    },
    {
      "cell_type": "code",
      "source": [
        "# 'append', 'clear', 'copy', 'count', 'extend', 'index', 'insert', 'pop', 'remove', 'reverse', 'sort'"
      ],
      "metadata": {
        "id": "pY7WcAxucF0N"
      },
      "execution_count": null,
      "outputs": []
    },
    {
      "cell_type": "code",
      "source": [
        "L3"
      ],
      "metadata": {
        "colab": {
          "base_uri": "https://localhost:8080/"
        },
        "id": "J4m4oLZycLeV",
        "outputId": "df0216f5-3b08-478c-b61b-f7ab04a1a547"
      },
      "execution_count": null,
      "outputs": [
        {
          "output_type": "execute_result",
          "data": {
            "text/plain": [
              "[1, 2, 4, 5, 'a', 'b', 'c']"
            ]
          },
          "metadata": {},
          "execution_count": 69
        }
      ]
    },
    {
      "cell_type": "code",
      "source": [
        "# listeler mutable/yerinde degistirilebilir\n",
        "L3.append?\n",
        "# Signature: L3.append(object, /)\n",
        "# Docstring: Append object to the end of the list."
      ],
      "metadata": {
        "id": "-i0C4IrgcNkF"
      },
      "execution_count": null,
      "outputs": []
    },
    {
      "cell_type": "code",
      "source": [
        "L3.append('f') # herhangi bir deger dondurmuyor (None donduruyor)"
      ],
      "metadata": {
        "id": "qII016gpcQUV"
      },
      "execution_count": null,
      "outputs": []
    },
    {
      "cell_type": "code",
      "source": [
        "L3"
      ],
      "metadata": {
        "colab": {
          "base_uri": "https://localhost:8080/"
        },
        "id": "KW6JPICscY-M",
        "outputId": "930d92ed-d655-4d91-84bf-bb3adf36d3d6"
      },
      "execution_count": null,
      "outputs": [
        {
          "output_type": "execute_result",
          "data": {
            "text/plain": [
              "[1, 2, 4, 5, 'a', 'b', 'c', 'f']"
            ]
          },
          "metadata": {},
          "execution_count": 72
        }
      ]
    },
    {
      "cell_type": "code",
      "source": [
        "dondurulen_deger = L3.append('d')\n",
        "# dondurulen_deger = None\n",
        "print(dondurulen_deger)"
      ],
      "metadata": {
        "colab": {
          "base_uri": "https://localhost:8080/"
        },
        "id": "TJ24Ps4Ucao8",
        "outputId": "fec1b14e-3adf-4922-8180-77d22d416772"
      },
      "execution_count": null,
      "outputs": [
        {
          "output_type": "stream",
          "name": "stdout",
          "text": [
            "None\n"
          ]
        }
      ]
    },
    {
      "cell_type": "code",
      "source": [
        "print(L3)"
      ],
      "metadata": {
        "colab": {
          "base_uri": "https://localhost:8080/"
        },
        "id": "hSbLFPskcrCT",
        "outputId": "12fa5dfa-a5dd-466c-a65d-edfe589959bc"
      },
      "execution_count": null,
      "outputs": [
        {
          "output_type": "stream",
          "name": "stdout",
          "text": [
            "[1, 2, 4, 5, 'a', 'b', 'c', 'f', 'd']\n"
          ]
        }
      ]
    },
    {
      "cell_type": "code",
      "source": [
        "# yukaridaki iki operasyonu tek satirda yazarsak\n",
        "print(L3.append('d'))\n",
        "# listeler mutable => append metodu ise void bir metod, None döndürüyor\n",
        "# => yani hiçbir şey dondurmedi"
      ],
      "metadata": {
        "colab": {
          "base_uri": "https://localhost:8080/"
        },
        "id": "YwZEcjM6crWN",
        "outputId": "b7aec50d-bc66-48b2-a929-e7c620b41c5f"
      },
      "execution_count": null,
      "outputs": [
        {
          "output_type": "stream",
          "name": "stdout",
          "text": [
            "None\n"
          ]
        }
      ]
    },
    {
      "cell_type": "code",
      "source": [
        "print(L3)\n",
        "print(len(L3))"
      ],
      "metadata": {
        "colab": {
          "base_uri": "https://localhost:8080/"
        },
        "id": "QqOz4wpvdGnk",
        "outputId": "3a09d7d1-4ecc-4888-dac9-36f6d10304b6"
      },
      "execution_count": null,
      "outputs": [
        {
          "output_type": "stream",
          "name": "stdout",
          "text": [
            "[1, 2, 4, 5, 'a', 'b', 'c', 'f', 'd', 'd']\n",
            "10\n"
          ]
        }
      ]
    },
    {
      "cell_type": "code",
      "source": [
        "L3.append([19, 29]) # listeyi append edersek"
      ],
      "metadata": {
        "id": "JUuuJPaJhzab"
      },
      "execution_count": null,
      "outputs": []
    },
    {
      "cell_type": "code",
      "source": [
        "print(L3)\n",
        "print(len(L3))\n",
        "# Append Fonk.\n",
        "# (arguman olarak) verilen listeyi tek bir eleman olarak sona ekliyor"
      ],
      "metadata": {
        "colab": {
          "base_uri": "https://localhost:8080/"
        },
        "id": "g5I11bv3dJNU",
        "outputId": "0f2dff04-8883-4cd2-b83a-80da05ac62eb"
      },
      "execution_count": null,
      "outputs": [
        {
          "output_type": "stream",
          "name": "stdout",
          "text": [
            "[1, 2, 4, 5, 'a', 'b', 'c', 'f', 'd', 'd', [19, 29]]\n",
            "11\n"
          ]
        }
      ]
    },
    {
      "cell_type": "code",
      "source": [
        "# (arguman olarak) verilen listenin elemanlarini tek tek sona eklemek istersek\n",
        "# ==>> EXTEND metodu kullanilacak"
      ],
      "metadata": {
        "id": "c6RCfXyBiH-s"
      },
      "execution_count": null,
      "outputs": []
    },
    {
      "cell_type": "code",
      "source": [
        "# EXTEND METODU\n",
        "L3.extend([1.55, 2.88]) # listeyi, verilen listedeki elemanları sona ekleyerek yerinde genişletti"
      ],
      "metadata": {
        "id": "xoyf8L70iT7d"
      },
      "execution_count": null,
      "outputs": []
    },
    {
      "cell_type": "code",
      "source": [
        "print(L3)\n",
        "print(len(L3))"
      ],
      "metadata": {
        "colab": {
          "base_uri": "https://localhost:8080/"
        },
        "id": "08Ys9QioifCs",
        "outputId": "9ed39db7-c57f-4b47-e68f-6c12b278e3b7"
      },
      "execution_count": null,
      "outputs": [
        {
          "output_type": "stream",
          "name": "stdout",
          "text": [
            "[1, 2, 4, 5, 'a', 'b', 'c', 'f', 'd', 'd', [19, 29], 1.55, 2.88]\n",
            "13\n"
          ]
        }
      ]
    },
    {
      "cell_type": "code",
      "source": [
        "# extend metodu arguman olarak iterable bekliyor\n",
        "L3.extend?\n",
        "# Signature: L3.extend(iterable, /)\n",
        "# Docstring: Extend list by appending elements from the iterable."
      ],
      "metadata": {
        "id": "mshVxE8nihM0"
      },
      "execution_count": null,
      "outputs": []
    },
    {
      "cell_type": "code",
      "source": [
        "L3.extend(33) # tamsayilar iterable/yenilenebilir degildir"
      ],
      "metadata": {
        "colab": {
          "base_uri": "https://localhost:8080/",
          "height": 166
        },
        "id": "1PXXZJVMi7Tk",
        "outputId": "b994f47a-3637-447e-98b9-b02613a729d6"
      },
      "execution_count": null,
      "outputs": [
        {
          "output_type": "error",
          "ename": "TypeError",
          "evalue": "ignored",
          "traceback": [
            "\u001b[0;31m---------------------------------------------------------------------------\u001b[0m",
            "\u001b[0;31mTypeError\u001b[0m                                 Traceback (most recent call last)",
            "\u001b[0;32m<ipython-input-82-75034133d2ea>\u001b[0m in \u001b[0;36m<module>\u001b[0;34m\u001b[0m\n\u001b[0;32m----> 1\u001b[0;31m \u001b[0mL3\u001b[0m\u001b[0;34m.\u001b[0m\u001b[0mextend\u001b[0m\u001b[0;34m(\u001b[0m\u001b[0;36m33\u001b[0m\u001b[0;34m)\u001b[0m \u001b[0;31m# tamsayilar iterable/yenilenebilir degildir\u001b[0m\u001b[0;34m\u001b[0m\u001b[0;34m\u001b[0m\u001b[0m\n\u001b[0m",
            "\u001b[0;31mTypeError\u001b[0m: 'int' object is not iterable"
          ]
        }
      ]
    },
    {
      "cell_type": "code",
      "source": [
        "L2"
      ],
      "metadata": {
        "colab": {
          "base_uri": "https://localhost:8080/"
        },
        "id": "BXHkih2VjFec",
        "outputId": "774b400e-473a-4ba6-fcba-9aa1f61dd34b"
      },
      "execution_count": null,
      "outputs": [
        {
          "output_type": "execute_result",
          "data": {
            "text/plain": [
              "['a', 'b', 'c']"
            ]
          },
          "metadata": {},
          "execution_count": 83
        }
      ]
    },
    {
      "cell_type": "code",
      "source": [
        "# slicing yaparak secilen verilerle extend kullanimi\n",
        "# L2nin son 2 elemanini tek tek L3e eklemek istersek\n",
        "L2[-2:]"
      ],
      "metadata": {
        "colab": {
          "base_uri": "https://localhost:8080/"
        },
        "id": "pAqQmwBejUFG",
        "outputId": "ef9bea5f-f500-41f7-de0b-0ccd11b5b824"
      },
      "execution_count": null,
      "outputs": [
        {
          "output_type": "execute_result",
          "data": {
            "text/plain": [
              "['b', 'c']"
            ]
          },
          "metadata": {},
          "execution_count": 84
        }
      ]
    },
    {
      "cell_type": "code",
      "source": [
        "L3.extend(L2[-2:])\n",
        "print(L3)\n",
        "print(len(L3))"
      ],
      "metadata": {
        "colab": {
          "base_uri": "https://localhost:8080/"
        },
        "id": "r9_05lvZjjRD",
        "outputId": "566c3095-dcd1-484c-d6f0-a0d0e20fae43"
      },
      "execution_count": null,
      "outputs": [
        {
          "output_type": "stream",
          "name": "stdout",
          "text": [
            "[1, 2, 4, 5, 'a', 'b', 'c', 'f', 'd', 'd', [19, 29], 1.55, 2.88, 'b', 'c']\n",
            "15\n"
          ]
        }
      ]
    },
    {
      "cell_type": "code",
      "source": [
        "# listenin (sonuna eklemek yerine) istenilen bir yerine yeni bir eleman eklenmesi\n",
        "# append/extend olmaz cunku bu fonksiyonlar sona ekleme yapiyor\n",
        "\n",
        "# 3. eleman olan 4 rakamindan once 'banka' kelimesini listeye eklemek istiyoruz\n",
        "# insert fonk. !\n",
        "# 4un bulundugu indeks => 2\n",
        "L3.insert(2, 'banka')"
      ],
      "metadata": {
        "id": "6ixQMhu-jpI8"
      },
      "execution_count": null,
      "outputs": []
    },
    {
      "cell_type": "code",
      "source": [
        "print(L3)\n",
        "print(len(L3))"
      ],
      "metadata": {
        "colab": {
          "base_uri": "https://localhost:8080/"
        },
        "id": "XByNeomOkGMh",
        "outputId": "cb481035-81c5-47eb-d79e-d52517ba6012"
      },
      "execution_count": null,
      "outputs": [
        {
          "output_type": "stream",
          "name": "stdout",
          "text": [
            "[1, 2, 'banka', 4, 5, 'a', 'b', 'c', 'f', 'd', 'd', [19, 29], 1.55, 2.88, 'b', 'c']\n",
            "16\n"
          ]
        }
      ]
    },
    {
      "cell_type": "code",
      "source": [
        "L3.insert?\n",
        "# Signature: L3.insert(index, object, /)\n",
        "# Docstring: Insert object before index."
      ],
      "metadata": {
        "id": "rpp1yulDkGc1"
      },
      "execution_count": null,
      "outputs": []
    },
    {
      "cell_type": "code",
      "source": [
        "eklenecek_deger = 'veri'\n",
        "eklenecek_indeks = 6"
      ],
      "metadata": {
        "id": "rIqiu286kLdL"
      },
      "execution_count": null,
      "outputs": []
    },
    {
      "cell_type": "code",
      "source": [
        "L3.insert(eklenecek_indeks, eklenecek_deger)"
      ],
      "metadata": {
        "id": "mehBqoRpkSyz"
      },
      "execution_count": null,
      "outputs": []
    },
    {
      "cell_type": "code",
      "source": [
        "print(L3)\n",
        "print(len(L3))"
      ],
      "metadata": {
        "colab": {
          "base_uri": "https://localhost:8080/"
        },
        "id": "uTOL_0Z8ka2s",
        "outputId": "90ae1509-3601-40b6-8f14-cc3e2c9d61d3"
      },
      "execution_count": null,
      "outputs": [
        {
          "output_type": "stream",
          "name": "stdout",
          "text": [
            "[1, 2, 'banka', 4, 5, 'a', 'veri', 'b', 'c', 'f', 'd', 'd', [19, 29], 1.55, 2.88, 'b', 'c']\n",
            "17\n"
          ]
        }
      ]
    },
    {
      "cell_type": "code",
      "source": [
        "# L3u biraz daha genisletirsek\n",
        "L3.extend( ['d', 2.5, 100, 'd', 'a','1.75', 'b'] )"
      ],
      "metadata": {
        "id": "IXvqznTZkciE"
      },
      "execution_count": null,
      "outputs": []
    },
    {
      "cell_type": "code",
      "source": [
        "print(L3)\n",
        "print(len(L3))"
      ],
      "metadata": {
        "colab": {
          "base_uri": "https://localhost:8080/"
        },
        "id": "A44xnkCRknOs",
        "outputId": "d196387b-ac50-4252-a7c1-dce48bf7f333"
      },
      "execution_count": null,
      "outputs": [
        {
          "output_type": "stream",
          "name": "stdout",
          "text": [
            "[1, 2, 'banka', 4, 5, 'a', 'veri', 'b', 'c', 'f', 'd', 'd', [19, 29], 1.55, 2.88, 'b', 'c', 'd', 2.5, 100, 'd', 'a', '1.75', 'b']\n",
            "24\n"
          ]
        }
      ]
    },
    {
      "cell_type": "code",
      "source": [
        "# 'b' elemanindan listede kac tane var?\n",
        "# ==>> count metodunu kullanacagiz"
      ],
      "metadata": {
        "id": "Y7gm6HECkoxc"
      },
      "execution_count": null,
      "outputs": []
    },
    {
      "cell_type": "code",
      "source": [
        "# 'b' listede var mi? True/False\n",
        "# 1. in operatorunun kullanimi\n",
        "'b' in L3"
      ],
      "metadata": {
        "colab": {
          "base_uri": "https://localhost:8080/"
        },
        "id": "FzKlYa4rkw8k",
        "outputId": "9f2c00ec-368d-46f2-bffb-6b8b5688dd9b"
      },
      "execution_count": null,
      "outputs": [
        {
          "output_type": "execute_result",
          "data": {
            "text/plain": [
              "True"
            ]
          },
          "metadata": {},
          "execution_count": 95
        }
      ]
    },
    {
      "cell_type": "code",
      "source": [
        "# 'b' listede kac defa geciyor?\n",
        "L3.count('b')"
      ],
      "metadata": {
        "colab": {
          "base_uri": "https://localhost:8080/"
        },
        "id": "1bDSlRXUk_t8",
        "outputId": "7c76a339-0c17-4654-990d-31b29079155a"
      },
      "execution_count": null,
      "outputs": [
        {
          "output_type": "execute_result",
          "data": {
            "text/plain": [
              "3"
            ]
          },
          "metadata": {},
          "execution_count": 96
        }
      ]
    },
    {
      "cell_type": "code",
      "source": [
        "# 'b' listede var mi? True/False\n",
        "# 2. count fonk. kullanimi\n",
        "L3.count('b') > 0"
      ],
      "metadata": {
        "colab": {
          "base_uri": "https://localhost:8080/"
        },
        "id": "D2T-byOqlIbr",
        "outputId": "54c1cc3b-7d66-4fa7-9799-95fb13dc15b3"
      },
      "execution_count": null,
      "outputs": [
        {
          "output_type": "execute_result",
          "data": {
            "text/plain": [
              "True"
            ]
          },
          "metadata": {},
          "execution_count": 99
        }
      ]
    },
    {
      "cell_type": "code",
      "source": [
        "# 'b' listede nerede bulunuyor - indeksi ne => ilk indeks kac?\n",
        "# index\n",
        "L3.index('b')\n",
        "# nesneyi listede buldugumuz ilk indeksi donduruyor\n",
        "# TANIMI: listede değeri x'e eşit olan ilk öğenin sıfır tabanlı dizinini/indeksini döndürür"
      ],
      "metadata": {
        "colab": {
          "base_uri": "https://localhost:8080/"
        },
        "id": "81AYQ-zzlYeM",
        "outputId": "7c4ae480-c8e7-41f6-a019-3b67e34a9944"
      },
      "execution_count": null,
      "outputs": [
        {
          "output_type": "execute_result",
          "data": {
            "text/plain": [
              "7"
            ]
          },
          "metadata": {},
          "execution_count": 101
        }
      ]
    },
    {
      "cell_type": "code",
      "source": [
        "# 1. elemanin indeksi\n",
        "L3.index('b')"
      ],
      "metadata": {
        "colab": {
          "base_uri": "https://localhost:8080/"
        },
        "id": "SjKomfF5mB5D",
        "outputId": "d3d92da1-ebcf-461d-c21a-5d772ac3aa27"
      },
      "execution_count": null,
      "outputs": [
        {
          "output_type": "execute_result",
          "data": {
            "text/plain": [
              "7"
            ]
          },
          "metadata": {},
          "execution_count": 102
        }
      ]
    },
    {
      "cell_type": "code",
      "source": [
        "# ikinci 'b' nesnesinin indeksini bulmak icin\n",
        "L3.index('b', 7) # tekrardan 7 indeksini donuyor, cunku aramaya 7. indeksten basliyor"
      ],
      "metadata": {
        "colab": {
          "base_uri": "https://localhost:8080/"
        },
        "id": "LajVoD5ZmKYL",
        "outputId": "dc91de67-ebc7-4861-faad-41987b729273"
      },
      "execution_count": null,
      "outputs": [
        {
          "output_type": "execute_result",
          "data": {
            "text/plain": [
              "7"
            ]
          },
          "metadata": {},
          "execution_count": 104
        }
      ]
    },
    {
      "cell_type": "code",
      "source": [
        "# ikinci 'b' nesnesinin indeksini bulmak icin\n",
        "L3.index('b', 7+1) "
      ],
      "metadata": {
        "colab": {
          "base_uri": "https://localhost:8080/"
        },
        "id": "n_43A0Y9mNOE",
        "outputId": "c2fac725-d63d-46cd-fce0-94c0c0250d5d"
      },
      "execution_count": null,
      "outputs": [
        {
          "output_type": "execute_result",
          "data": {
            "text/plain": [
              "15"
            ]
          },
          "metadata": {},
          "execution_count": 105
        }
      ]
    },
    {
      "cell_type": "code",
      "source": [
        "# indeksleri bir degiskende tutalim\n",
        "ilk_b_indeksi = L3.index('b')\n",
        "# ilk_b_indeksi = L3.index('b', 0)\n",
        "print(ilk_b_indeksi)\n",
        "ikinci_b_indeksi = L3.index('b', ilk_b_indeksi+1)\n",
        "print(ikinci_b_indeksi)\n",
        "# ucuncu 'b' nesnesinin indeksini bulmak icin\n",
        "ucuncu_b_indeksi = L3.index('b', ikinci_b_indeksi + 1)\n",
        "print(ucuncu_b_indeksi)\n",
        "# 4. 'b' nesnesinin indeksini bulmak icin\n",
        "dorduncu_b_indeksi = L3.index('b', ucuncu_b_indeksi+1) # 4. bir b olmadigi icin ve boyle bir b bulamadigindan hata atiyor\n",
        "print(dorduncu_b_indeksi)"
      ],
      "metadata": {
        "colab": {
          "base_uri": "https://localhost:8080/",
          "height": 270
        },
        "id": "ngHHi0ypmdjM",
        "outputId": "66f62852-57b1-4a6e-8363-51034e53a94f"
      },
      "execution_count": null,
      "outputs": [
        {
          "output_type": "stream",
          "name": "stdout",
          "text": [
            "7\n",
            "15\n",
            "23\n"
          ]
        },
        {
          "output_type": "error",
          "ename": "ValueError",
          "evalue": "ignored",
          "traceback": [
            "\u001b[0;31m---------------------------------------------------------------------------\u001b[0m",
            "\u001b[0;31mValueError\u001b[0m                                Traceback (most recent call last)",
            "\u001b[0;32m<ipython-input-108-fa360dfd0405>\u001b[0m in \u001b[0;36m<module>\u001b[0;34m\u001b[0m\n\u001b[1;32m      9\u001b[0m \u001b[0mprint\u001b[0m\u001b[0;34m(\u001b[0m\u001b[0mucuncu_b_indeksi\u001b[0m\u001b[0;34m)\u001b[0m\u001b[0;34m\u001b[0m\u001b[0;34m\u001b[0m\u001b[0m\n\u001b[1;32m     10\u001b[0m \u001b[0;31m# 4. 'b' nesnesinin indeksini bulmak icin\u001b[0m\u001b[0;34m\u001b[0m\u001b[0;34m\u001b[0m\u001b[0;34m\u001b[0m\u001b[0m\n\u001b[0;32m---> 11\u001b[0;31m \u001b[0mdorduncu_b_indeksi\u001b[0m \u001b[0;34m=\u001b[0m \u001b[0mL3\u001b[0m\u001b[0;34m.\u001b[0m\u001b[0mindex\u001b[0m\u001b[0;34m(\u001b[0m\u001b[0;34m'b'\u001b[0m\u001b[0;34m,\u001b[0m \u001b[0mucuncu_b_indeksi\u001b[0m\u001b[0;34m+\u001b[0m\u001b[0;36m1\u001b[0m\u001b[0;34m)\u001b[0m\u001b[0;34m\u001b[0m\u001b[0;34m\u001b[0m\u001b[0m\n\u001b[0m\u001b[1;32m     12\u001b[0m \u001b[0mprint\u001b[0m\u001b[0;34m(\u001b[0m\u001b[0mdorduncu_b_indeksi\u001b[0m\u001b[0;34m)\u001b[0m\u001b[0;34m\u001b[0m\u001b[0;34m\u001b[0m\u001b[0m\n",
            "\u001b[0;31mValueError\u001b[0m: 'b' is not in list"
          ]
        }
      ]
    },
    {
      "cell_type": "code",
      "source": [
        "# Bir listedeki bir elemanın tüm oluşumları nasıl bulunur? (HATA ALMADAN - program crush etmeden)\n",
        "# Translate: How to find out all the occurrences of an element in a list\n",
        "# arama motoru ile buldugumuz sonuc - 2022-10-21\n",
        "# https://stackoverflow.com/questions/6294179/how-to-find-all-occurrences-of-an-element-in-a-list\n",
        "# indices = [i for i, x in enumerate(my_list) if x == \"whatever\"]\n",
        "# ==>> # enumerate yerlesik fonksiyonu ile list-comprehension metodunu kullanarak\n",
        "indices = [i for i, x in enumerate(L3) if x == 'b']"
      ],
      "metadata": {
        "id": "4QP1DjN0mghT"
      },
      "execution_count": null,
      "outputs": []
    },
    {
      "cell_type": "code",
      "source": [
        "print(indices)"
      ],
      "metadata": {
        "colab": {
          "base_uri": "https://localhost:8080/"
        },
        "id": "e9PhIAREmgkL",
        "outputId": "4e471739-3bf2-4b22-ba12-4becbfb46662"
      },
      "execution_count": null,
      "outputs": [
        {
          "output_type": "stream",
          "name": "stdout",
          "text": [
            "[7, 15, 23]\n"
          ]
        }
      ]
    },
    {
      "cell_type": "code",
      "source": [
        "enum_listesi = ['a', 'b', 'c']\n",
        "list(enumerate(enum_listesi))"
      ],
      "metadata": {
        "colab": {
          "base_uri": "https://localhost:8080/"
        },
        "id": "W6W1-hbimgmp",
        "outputId": "6b53b74e-4800-4535-cecc-a26d7efefab0"
      },
      "execution_count": null,
      "outputs": [
        {
          "output_type": "execute_result",
          "data": {
            "text/plain": [
              "[(0, 'a'), (1, 'b'), (2, 'c')]"
            ]
          },
          "metadata": {},
          "execution_count": 111
        }
      ]
    },
    {
      "cell_type": "code",
      "source": [
        "# liste fonksiyonlari ile bir nesnesinin bulundugu indekslerin bulunmasi\n",
        "kactanebvar = L3.count('b')\n",
        "b_nin_indeksleri = []\n",
        "bulundugu_indeks = -1\n",
        "for i in range(kactanebvar): # kactanebvar kadar donguyu isletiyoruz => cunku daha fazla arama yapilinca hata atiyor\n",
        "    bulundugu_indeks = L3.index('b', bulundugu_indeks+1)\n",
        "    b_nin_indeksleri.append(bulundugu_indeks)"
      ],
      "metadata": {
        "id": "jMcwqOiemgpE"
      },
      "execution_count": null,
      "outputs": []
    },
    {
      "cell_type": "code",
      "source": [
        "print(b_nin_indeksleri)"
      ],
      "metadata": {
        "colab": {
          "base_uri": "https://localhost:8080/"
        },
        "id": "mag2q1DOmgr5",
        "outputId": "9837ba9b-f9e9-4e82-bf51-6b04d53fcb13"
      },
      "execution_count": null,
      "outputs": [
        {
          "output_type": "stream",
          "name": "stdout",
          "text": [
            "[7, 15, 23]\n"
          ]
        }
      ]
    },
    {
      "cell_type": "code",
      "source": [
        "print(L3)"
      ],
      "metadata": {
        "colab": {
          "base_uri": "https://localhost:8080/"
        },
        "id": "R8aIHnlCmguX",
        "outputId": "e841cd79-a26a-4a60-8fa1-195bb7280927"
      },
      "execution_count": null,
      "outputs": [
        {
          "output_type": "stream",
          "name": "stdout",
          "text": [
            "[1, 2, 'banka', 4, 5, 'a', 'veri', 'b', 'c', 'f', 'd', 'd', [19, 29], 1.55, 2.88, 'b', 'c', 'd', 2.5, 100, 'd', 'a', '1.75', 'b']\n"
          ]
        }
      ]
    },
    {
      "cell_type": "code",
      "source": [
        "# remove\n",
        "L3.remove('a')\n",
        "# ilk karsilasilan degeri listeden kaldirir\n",
        "# None donduruyor"
      ],
      "metadata": {
        "id": "C2m4ALLBp96z"
      },
      "execution_count": null,
      "outputs": []
    },
    {
      "cell_type": "code",
      "source": [
        "print(L3)"
      ],
      "metadata": {
        "colab": {
          "base_uri": "https://localhost:8080/"
        },
        "id": "EPr3NSwEqIQQ",
        "outputId": "b3327913-a70a-458e-a95b-226aa977a2b4"
      },
      "execution_count": null,
      "outputs": [
        {
          "output_type": "stream",
          "name": "stdout",
          "text": [
            "[1, 2, 'banka', 4, 5, 'veri', 'b', 'c', 'f', 'd', 'd', [19, 29], 1.55, 2.88, 'b', 'c', 'd', 2.5, 100, 'd', 'a', '1.75', 'b']\n"
          ]
        }
      ]
    },
    {
      "cell_type": "code",
      "source": [
        "# pop \n",
        "L3.pop?\n",
        "# Signature: L3.pop(index=-1, /)\n",
        "# Docstring: Remove and return item at index (default last).\n",
        "# argumansiz cagirildiginda default index degeri -1 oldugundan sondaki elemani silip o elemani dondurur\n",
        "# append fonk. tersi gibi calisir"
      ],
      "metadata": {
        "id": "VF5Xz0hTqJCL"
      },
      "execution_count": null,
      "outputs": []
    },
    {
      "cell_type": "code",
      "source": [
        "L3.pop()"
      ],
      "metadata": {
        "colab": {
          "base_uri": "https://localhost:8080/",
          "height": 35
        },
        "id": "bh2F5f5vqTXD",
        "outputId": "064cc9ba-aae3-4c95-b87e-9995a5cc7940"
      },
      "execution_count": null,
      "outputs": [
        {
          "output_type": "execute_result",
          "data": {
            "text/plain": [
              "'b'"
            ],
            "application/vnd.google.colaboratory.intrinsic+json": {
              "type": "string"
            }
          },
          "metadata": {},
          "execution_count": 119
        }
      ]
    },
    {
      "cell_type": "code",
      "source": [
        "print(L3) # pop fonk. ile sondaki b listeden cikarildi."
      ],
      "metadata": {
        "colab": {
          "base_uri": "https://localhost:8080/"
        },
        "id": "9F6W5jbFqlwj",
        "outputId": "128d2cf7-b146-4f24-e4fb-00f41c94dfa4"
      },
      "execution_count": null,
      "outputs": [
        {
          "output_type": "stream",
          "name": "stdout",
          "text": [
            "[1, 2, 'banka', 4, 5, 'veri', 'b', 'c', 'f', 'd', 'd', [19, 29], 1.55, 2.88, 'b', 'c', 'd', 2.5, 100, 'd', 'a', '1.75']\n"
          ]
        }
      ]
    },
    {
      "cell_type": "code",
      "source": [
        "silinen_eleman = L3.pop(8) # 8. indeksteki elemani kaldirip, o elemani donduruyor"
      ],
      "metadata": {
        "id": "VkUu9jovqqmM"
      },
      "execution_count": null,
      "outputs": []
    },
    {
      "cell_type": "code",
      "source": [
        "print(silinen_eleman)\n",
        "print(L3)"
      ],
      "metadata": {
        "colab": {
          "base_uri": "https://localhost:8080/"
        },
        "id": "UtNOsjTKrCUd",
        "outputId": "82fa7723-0e05-4087-c4b3-de610fc507c0"
      },
      "execution_count": null,
      "outputs": [
        {
          "output_type": "stream",
          "name": "stdout",
          "text": [
            "f\n",
            "[1, 2, 'banka', 4, 5, 'veri', 'b', 'c', 'd', 'd', [19, 29], 1.55, 2.88, 'b', 'c', 'd', 2.5, 100, 'd', 'a', '1.75']\n"
          ]
        }
      ]
    },
    {
      "cell_type": "markdown",
      "source": [
        "##### Sorting / SIRALAMA"
      ],
      "metadata": {
        "id": "N1ZwSOpNrJEJ"
      }
    },
    {
      "cell_type": "code",
      "source": [
        "L3.sort()\n",
        "# L3 elemanlarinin karsilastirilamaz olmasindan dolayi siralanamiyor"
      ],
      "metadata": {
        "colab": {
          "base_uri": "https://localhost:8080/",
          "height": 166
        },
        "id": "0FdYyQv3rDqb",
        "outputId": "ca935714-12f5-4b54-8983-c3d9391dc829"
      },
      "execution_count": null,
      "outputs": [
        {
          "output_type": "error",
          "ename": "TypeError",
          "evalue": "ignored",
          "traceback": [
            "\u001b[0;31m---------------------------------------------------------------------------\u001b[0m",
            "\u001b[0;31mTypeError\u001b[0m                                 Traceback (most recent call last)",
            "\u001b[0;32m<ipython-input-123-462be411e6f9>\u001b[0m in \u001b[0;36m<module>\u001b[0;34m\u001b[0m\n\u001b[0;32m----> 1\u001b[0;31m \u001b[0mL3\u001b[0m\u001b[0;34m.\u001b[0m\u001b[0msort\u001b[0m\u001b[0;34m(\u001b[0m\u001b[0;34m)\u001b[0m\u001b[0;34m\u001b[0m\u001b[0;34m\u001b[0m\u001b[0m\n\u001b[0m",
            "\u001b[0;31mTypeError\u001b[0m: '<' not supported between instances of 'str' and 'int'"
          ]
        }
      ]
    },
    {
      "cell_type": "code",
      "source": [
        "# karsilastirma yapilabilmesi icin nesnelerin benzer/karsilastirilabilir tipte olmalari gerekmektedir\n",
        "# benzer/karsilastirilabilir => float ile int\n",
        "siralanabilirliste = [10, 4, 22.5, 22, 145, 8]"
      ],
      "metadata": {
        "id": "rWOge9LsvU7L"
      },
      "execution_count": null,
      "outputs": []
    },
    {
      "cell_type": "code",
      "source": [
        "# sort fonksiyonunu cagirmadan/call önce\n",
        "print(siralanabilirliste)"
      ],
      "metadata": {
        "colab": {
          "base_uri": "https://localhost:8080/"
        },
        "id": "McmjT5abvo9z",
        "outputId": "bc8dc91b-2896-4778-a7fb-75d291e6e53b"
      },
      "execution_count": null,
      "outputs": [
        {
          "output_type": "stream",
          "name": "stdout",
          "text": [
            "[10, 4, 22.5, 22, 145, 8]\n"
          ]
        }
      ]
    },
    {
      "cell_type": "code",
      "source": [
        "siralanabilirliste.sort() # sort fonksiyonu da None donduruyor\n",
        "# None dondurdugunu bildigimizden donen degeri bir degiskende tutmamiza gerek yok"
      ],
      "metadata": {
        "id": "7W4Iktb-vsDq"
      },
      "execution_count": null,
      "outputs": []
    },
    {
      "cell_type": "code",
      "source": [
        "# sort fonksiyonunu cagirdiktan/call sonra\n",
        "print(siralanabilirliste)"
      ],
      "metadata": {
        "colab": {
          "base_uri": "https://localhost:8080/"
        },
        "id": "nnl9a9Jpvwsj",
        "outputId": "2d25a99d-9d81-456a-d873-340db477c846"
      },
      "execution_count": null,
      "outputs": [
        {
          "output_type": "stream",
          "name": "stdout",
          "text": [
            "[4, 8, 10, 22, 22.5, 145]\n"
          ]
        }
      ]
    },
    {
      "cell_type": "code",
      "source": [
        "# buyukten kucuge siralamak istersek\n",
        "# sort fonksiyonunun reverse adinda bir parametresi var.\n",
        "# reverse parametresine anahtar deger (keyword) argümani olarak True degerini veriyoruz.\n",
        "siralanabilirliste.sort(reverse=True)"
      ],
      "metadata": {
        "id": "u_JoI4hlv3qL"
      },
      "execution_count": null,
      "outputs": []
    },
    {
      "cell_type": "code",
      "source": [
        "# sort fonksiyonunu reverse parametresini True ile cagirdiktan/call sonra\n",
        "print(siralanabilirliste)"
      ],
      "metadata": {
        "colab": {
          "base_uri": "https://localhost:8080/"
        },
        "id": "rovmidCzwK2j",
        "outputId": "e1f61b8c-0a2b-4bf3-e4ed-140a10e43d99"
      },
      "execution_count": null,
      "outputs": [
        {
          "output_type": "stream",
          "name": "stdout",
          "text": [
            "[145, 22.5, 22, 10, 8, 4]\n"
          ]
        }
      ]
    },
    {
      "cell_type": "code",
      "source": [
        "# YANLISLIKLA sort fonk. dondurdugu degeri orjinal degiskende tutmak istersek\n",
        "siralanabilirliste = siralanabilirliste.sort(reverse=True)\n",
        "# ==>> siralanabilirliste = None\n",
        "# sort fonksiyonu None dondurdugunden SEMANTIC/ANLAMSAL olarak hatali kod"
      ],
      "metadata": {
        "id": "mqSMuEEHwNEj"
      },
      "execution_count": null,
      "outputs": []
    },
    {
      "cell_type": "code",
      "source": [
        "print(siralanabilirliste)"
      ],
      "metadata": {
        "colab": {
          "base_uri": "https://localhost:8080/"
        },
        "id": "Fcl-PagKwcKT",
        "outputId": "6cc628ef-852b-42b3-f53c-e80a09855f63"
      },
      "execution_count": null,
      "outputs": [
        {
          "output_type": "stream",
          "name": "stdout",
          "text": [
            "None\n"
          ]
        }
      ]
    },
    {
      "cell_type": "code",
      "source": [
        "# yukarida yanlislikla! None'i atadigimiz icin tekrardan olusturuyoruz\n",
        "siralanabilirliste = [10, 4, 22.5, 22, 145, 8]"
      ],
      "metadata": {
        "id": "37LPOqrswp8K"
      },
      "execution_count": null,
      "outputs": []
    },
    {
      "cell_type": "code",
      "source": [
        "siralanabilirliste.sort()\n",
        "print(siralanabilirliste)"
      ],
      "metadata": {
        "colab": {
          "base_uri": "https://localhost:8080/"
        },
        "id": "vzGG5AzMwujb",
        "outputId": "9dcd79d4-22f6-44c2-ebe3-54debe22b0af"
      },
      "execution_count": null,
      "outputs": [
        {
          "output_type": "stream",
          "name": "stdout",
          "text": [
            "[4, 8, 10, 22, 22.5, 145]\n"
          ]
        }
      ]
    },
    {
      "cell_type": "code",
      "source": [
        "# sort fonksiyonunun reverse parametresini kullanmadan buyukten kucuge cevirmek istersek\n",
        "# reverse fonk.\n",
        "siralanabilirliste.reverse()\n",
        "# reverse => siralama yapmiyor !! yani elemanlari karsilastirma operasyonu yok\n",
        "print(siralanabilirliste)"
      ],
      "metadata": {
        "colab": {
          "base_uri": "https://localhost:8080/"
        },
        "id": "rlj9UJ3VwwaC",
        "outputId": "b514883c-1458-4b30-bb67-cc4f05fb8e2e"
      },
      "execution_count": null,
      "outputs": [
        {
          "output_type": "stream",
          "name": "stdout",
          "text": [
            "[145, 22.5, 22, 10, 8, 4]\n"
          ]
        }
      ]
    },
    {
      "cell_type": "code",
      "source": [
        "print(L3)"
      ],
      "metadata": {
        "colab": {
          "base_uri": "https://localhost:8080/"
        },
        "id": "iprfuL9Ww6UD",
        "outputId": "fb05a1af-59e4-4861-e5bb-55effd0731f8"
      },
      "execution_count": null,
      "outputs": [
        {
          "output_type": "stream",
          "name": "stdout",
          "text": [
            "[1, 2, 'banka', 4, 5, 'veri', 'b', 'c', 'd', 'd', [19, 29], 1.55, 2.88, 'b', 'c', 'd', 2.5, 100, 'd', 'a', '1.75']\n"
          ]
        }
      ]
    },
    {
      "cell_type": "code",
      "source": [
        "L3.sort() # karsilastirma operasyonu var"
      ],
      "metadata": {
        "colab": {
          "base_uri": "https://localhost:8080/",
          "height": 166
        },
        "id": "VTa3udLRxAR8",
        "outputId": "a78c2492-5333-406b-b868-fea5cafdbc5b"
      },
      "execution_count": null,
      "outputs": [
        {
          "output_type": "error",
          "ename": "TypeError",
          "evalue": "ignored",
          "traceback": [
            "\u001b[0;31m---------------------------------------------------------------------------\u001b[0m",
            "\u001b[0;31mTypeError\u001b[0m                                 Traceback (most recent call last)",
            "\u001b[0;32m<ipython-input-141-7823a277ae13>\u001b[0m in \u001b[0;36m<module>\u001b[0;34m\u001b[0m\n\u001b[0;32m----> 1\u001b[0;31m \u001b[0mL3\u001b[0m\u001b[0;34m.\u001b[0m\u001b[0msort\u001b[0m\u001b[0;34m(\u001b[0m\u001b[0;34m)\u001b[0m \u001b[0;31m# karsilastirma operasyonu var\u001b[0m\u001b[0;34m\u001b[0m\u001b[0;34m\u001b[0m\u001b[0m\n\u001b[0m",
            "\u001b[0;31mTypeError\u001b[0m: '<' not supported between instances of 'str' and 'int'"
          ]
        }
      ]
    },
    {
      "cell_type": "code",
      "source": [
        "L3.reverse() # karşılaştırma yapılmadığından hata vermiyor"
      ],
      "metadata": {
        "id": "zVhX-3LFxB7D"
      },
      "execution_count": null,
      "outputs": []
    },
    {
      "cell_type": "code",
      "source": [
        "print(L3)"
      ],
      "metadata": {
        "colab": {
          "base_uri": "https://localhost:8080/"
        },
        "id": "qdeh87KxxEaz",
        "outputId": "5e4723c5-ea2f-4c5a-ec33-6ee88357f540"
      },
      "execution_count": null,
      "outputs": [
        {
          "output_type": "stream",
          "name": "stdout",
          "text": [
            "['1.75', 'a', 'd', 100, 2.5, 'd', 'c', 'b', 2.88, 1.55, [19, 29], 'd', 'd', 'c', 'b', 'veri', 5, 4, 'banka', 2, 1]\n"
          ]
        }
      ]
    },
    {
      "cell_type": "markdown",
      "source": [
        "##### Yerleşik Fonk."
      ],
      "metadata": {
        "id": "fMiBtyp2xN8K"
      }
    },
    {
      "cell_type": "code",
      "source": [
        "# range yerlesik fonksiyonu\n",
        "# genellikle indeks olusturmak icin kullandigimiz fonksiyon\n",
        "range?\n",
        "# range(stop) -> range object\n",
        "# range(start, stop[, step]) -> range object\n",
        "# Başlangıçtan (dahil) bitişe (hariç) adım/step atlayarak bir tamsayı dizisi üretir"
      ],
      "metadata": {
        "id": "_me-s0bixFtK"
      },
      "execution_count": null,
      "outputs": []
    },
    {
      "cell_type": "code",
      "source": [
        "L3[3:10:2] # dilimlemeye benzer calisiyor"
      ],
      "metadata": {
        "colab": {
          "base_uri": "https://localhost:8080/"
        },
        "id": "5W--bdHnxVP7",
        "outputId": "f907049a-5148-4415-efd2-6877bb3a80e4"
      },
      "execution_count": null,
      "outputs": [
        {
          "output_type": "execute_result",
          "data": {
            "text/plain": [
              "[100, 'd', 'b', 1.55]"
            ]
          },
          "metadata": {},
          "execution_count": 145
        }
      ]
    },
    {
      "cell_type": "code",
      "source": [
        "# range(stop) -> range object\n",
        "range(4) # 0'dan baslayarak 4'e kadar olan tamsayilari dondurur # [0,1,2,3]\n",
        "# range nesnesi dondurur"
      ],
      "metadata": {
        "colab": {
          "base_uri": "https://localhost:8080/"
        },
        "id": "25DM6Te9xgDj",
        "outputId": "5fb8fa9b-6fff-4252-979d-e98b4cf58251"
      },
      "execution_count": null,
      "outputs": [
        {
          "output_type": "execute_result",
          "data": {
            "text/plain": [
              "range(0, 4)"
            ]
          },
          "metadata": {},
          "execution_count": 146
        }
      ]
    },
    {
      "cell_type": "code",
      "source": [
        "list(range(4)) # list() listeye donustur fonk.dur\n",
        "# indeks listesi olarak kullanabiliriz !!"
      ],
      "metadata": {
        "colab": {
          "base_uri": "https://localhost:8080/"
        },
        "id": "5U4g6Cdfxoja",
        "outputId": "905eb073-1847-4ca2-af28-6f900509c289"
      },
      "execution_count": null,
      "outputs": [
        {
          "output_type": "execute_result",
          "data": {
            "text/plain": [
              "[0, 1, 2, 3]"
            ]
          },
          "metadata": {},
          "execution_count": 147
        }
      ]
    },
    {
      "cell_type": "code",
      "source": [
        "# for dongusunde bir listenin indeksleri olarak kullanilirsa\n",
        "# for indeks in [0,1,2,3]:\n",
        "for indeks in range(4):\n",
        "    print(indeks)"
      ],
      "metadata": {
        "colab": {
          "base_uri": "https://localhost:8080/"
        },
        "id": "YKqY1dpjxrNz",
        "outputId": "9ba1c326-5741-486f-815a-24e9ae2f0740"
      },
      "execution_count": null,
      "outputs": [
        {
          "output_type": "stream",
          "name": "stdout",
          "text": [
            "0\n",
            "1\n",
            "2\n",
            "3\n"
          ]
        }
      ]
    },
    {
      "cell_type": "code",
      "source": [
        "print(siralanabilirliste)"
      ],
      "metadata": {
        "colab": {
          "base_uri": "https://localhost:8080/"
        },
        "id": "YBMSXFoCyCeF",
        "outputId": "28947756-4200-473d-cd32-03bd6e19e8c1"
      },
      "execution_count": null,
      "outputs": [
        {
          "output_type": "stream",
          "name": "stdout",
          "text": [
            "[145, 22.5, 22, 10, 8, 4]\n"
          ]
        }
      ]
    },
    {
      "cell_type": "code",
      "source": [
        "# AMAC: listenin tum elemanlarına indekslerle ulaşmak\n",
        "### range fonksiyonu\n",
        "# 1. adim: listede kac eleman var\n",
        "listedeki_eleman_sayisi = len(siralanabilirliste)\n",
        "print(listedeki_eleman_sayisi)"
      ],
      "metadata": {
        "colab": {
          "base_uri": "https://localhost:8080/"
        },
        "id": "tHizRYI-yCgv",
        "outputId": "c20510c2-926c-449c-d35f-e925e04ea4e3"
      },
      "execution_count": null,
      "outputs": [
        {
          "output_type": "stream",
          "name": "stdout",
          "text": [
            "6\n"
          ]
        }
      ]
    },
    {
      "cell_type": "code",
      "source": [
        "# 2. range fonk. ile indekslerin olusturulmasi\n",
        "range(listedeki_eleman_sayisi)\n",
        "# range(len(siralanabilirliste))"
      ],
      "metadata": {
        "colab": {
          "base_uri": "https://localhost:8080/"
        },
        "id": "THUnOI89yCk7",
        "outputId": "9900fed7-5328-4ba5-80f4-3385a1aaa291"
      },
      "execution_count": null,
      "outputs": [
        {
          "output_type": "execute_result",
          "data": {
            "text/plain": [
              "range(0, 6)"
            ]
          },
          "metadata": {},
          "execution_count": 151
        }
      ]
    },
    {
      "cell_type": "code",
      "source": [
        "list(range(listedeki_eleman_sayisi))"
      ],
      "metadata": {
        "colab": {
          "base_uri": "https://localhost:8080/"
        },
        "id": "4Xle4akjyCop",
        "outputId": "d48f3eaf-c2fb-4732-cfd6-6cb0ea9bc01b"
      },
      "execution_count": null,
      "outputs": [
        {
          "output_type": "execute_result",
          "data": {
            "text/plain": [
              "[0, 1, 2, 3, 4, 5]"
            ]
          },
          "metadata": {},
          "execution_count": 152
        }
      ]
    },
    {
      "cell_type": "code",
      "source": [
        "# AMAC: listenin tum elemanlarına indekslerle ulaşmak\n",
        "# for indeks in range(len(siralanabilirliste)):\n",
        "for indeks in range(listedeki_eleman_sayisi):\n",
        "    print(indeks, siralanabilirliste[indeks])\n",
        "    # for indeks in [0,1,2,3,4,5]\n",
        "    # indeks = 0 -->> 0, siralanabilirliste[0] -->> 0, 145\n",
        "    # indeks = 1 -->> 1, siralanabilirliste[1] -->> 1, 22.5\n",
        "    # ...\n",
        "    # indeks = 5 -->> 5, siralanabilirliste[5] -->> 5, 4\n",
        "    # indeks = ?? ==> baska indeks elemani kalmadigindan dongu sonlandiriliyor"
      ],
      "metadata": {
        "colab": {
          "base_uri": "https://localhost:8080/"
        },
        "id": "0MfFTmbayCrM",
        "outputId": "0a313bb0-32a8-4361-a72a-9633caeee0da"
      },
      "execution_count": null,
      "outputs": [
        {
          "output_type": "stream",
          "name": "stdout",
          "text": [
            "0 145\n",
            "1 22.5\n",
            "2 22\n",
            "3 10\n",
            "4 8\n",
            "5 4\n"
          ]
        }
      ]
    },
    {
      "cell_type": "markdown",
      "source": [
        "[Piton Programlamadaki Yerleşik/Built-in Fonksiyonlar](https://docs.python.org/3/library/functions.html)"
      ],
      "metadata": {
        "id": "-Ffi8Ni0zy8p"
      }
    },
    {
      "cell_type": "code",
      "source": [
        "# diger yerlesik fonksiyonlar\n",
        "gnolar = [2.5, 1.4, 3.6]"
      ],
      "metadata": {
        "id": "Cs8PtkLpyCtN"
      },
      "execution_count": null,
      "outputs": []
    },
    {
      "cell_type": "code",
      "source": [
        "max(gnolar)"
      ],
      "metadata": {
        "colab": {
          "base_uri": "https://localhost:8080/"
        },
        "id": "EDh4lzA8z3pa",
        "outputId": "62f2e7c8-2776-4cef-f92a-3d8a1befa9f7"
      },
      "execution_count": null,
      "outputs": [
        {
          "output_type": "execute_result",
          "data": {
            "text/plain": [
              "3.6"
            ]
          },
          "metadata": {},
          "execution_count": 158
        }
      ]
    },
    {
      "cell_type": "code",
      "source": [
        "min(gnolar)"
      ],
      "metadata": {
        "colab": {
          "base_uri": "https://localhost:8080/"
        },
        "id": "-dgaqBwHz8Rq",
        "outputId": "7197b581-4d88-4bca-d1ed-4e951df8233c"
      },
      "execution_count": null,
      "outputs": [
        {
          "output_type": "execute_result",
          "data": {
            "text/plain": [
              "1.4"
            ]
          },
          "metadata": {},
          "execution_count": 159
        }
      ]
    },
    {
      "cell_type": "code",
      "source": [
        "# ortalama hesaplama\n",
        "sum(gnolar) / len(gnolar)"
      ],
      "metadata": {
        "colab": {
          "base_uri": "https://localhost:8080/"
        },
        "id": "ZZ-hdZCaz_tk",
        "outputId": "6624f69b-e14c-4da0-ef42-efc04e98a132"
      },
      "execution_count": null,
      "outputs": [
        {
          "output_type": "execute_result",
          "data": {
            "text/plain": [
              "2.5"
            ]
          },
          "metadata": {},
          "execution_count": 160
        }
      ]
    },
    {
      "cell_type": "markdown",
      "source": [
        "##### Alıştırma\n",
        "Aşağıdaki, kullanici tarafindan girilen sayıların ortalamasını bulan kodu, listeleri kullanarak yazınız"
      ],
      "metadata": {
        "id": "3y2S7OWT0FdR"
      }
    },
    {
      "cell_type": "code",
      "source": [
        "girdi = input(\"Bir sayi giriniz: \")"
      ],
      "metadata": {
        "colab": {
          "base_uri": "https://localhost:8080/"
        },
        "id": "0SwFV_jo0BrU",
        "outputId": "b7a4063c-eb19-4d3b-a0e5-64a74fe398bb"
      },
      "execution_count": null,
      "outputs": [
        {
          "name": "stdout",
          "output_type": "stream",
          "text": [
            "Bir sayi giriniz: 25\n"
          ]
        }
      ]
    },
    {
      "cell_type": "code",
      "source": [
        "girdi"
      ],
      "metadata": {
        "colab": {
          "base_uri": "https://localhost:8080/",
          "height": 35
        },
        "id": "8kqlI4aI0Lpq",
        "outputId": "d1241e93-5226-4c1e-ca42-7f88acae0209"
      },
      "execution_count": null,
      "outputs": [
        {
          "output_type": "execute_result",
          "data": {
            "text/plain": [
              "'25'"
            ],
            "application/vnd.google.colaboratory.intrinsic+json": {
              "type": "string"
            }
          },
          "metadata": {},
          "execution_count": 162
        }
      ]
    },
    {
      "cell_type": "code",
      "source": [
        "type(girdi)"
      ],
      "metadata": {
        "colab": {
          "base_uri": "https://localhost:8080/"
        },
        "id": "ZzvKeFdp0O6T",
        "outputId": "22e269ca-554c-41c2-a25c-785daa7fddea"
      },
      "execution_count": null,
      "outputs": [
        {
          "output_type": "execute_result",
          "data": {
            "text/plain": [
              "str"
            ]
          },
          "metadata": {},
          "execution_count": 163
        }
      ]
    },
    {
      "cell_type": "code",
      "source": [
        "sayi_degeri = float(girdi)\n",
        "print(sayi_degeri)"
      ],
      "metadata": {
        "colab": {
          "base_uri": "https://localhost:8080/"
        },
        "id": "JEiHa87s0QfT",
        "outputId": "b317cc76-09e7-49d2-e72f-fc51750fadd3"
      },
      "execution_count": null,
      "outputs": [
        {
          "output_type": "stream",
          "name": "stdout",
          "text": [
            "25.0\n"
          ]
        }
      ]
    },
    {
      "cell_type": "code",
      "source": [
        "# AMAC: kullanici tarafindan girilen sayıların ortalamasını bulmak\n",
        "# (Girilmesi gereken sayi miktari 5 olsun => 5 tane ile sinirlayalim)\n",
        "# bu vs.: ortalama hesaplarken girilen sayilarin toplami, sayi adedine bolunur\n",
        "# toplam sayi ve girilen sayi adedi bulunacaktir\n",
        "\n",
        "# dongu icinde: kullanicidan sayi alinir, bu sayi, sayi toplamina eklenir ve sayi adedi 1 arttirilir\n",
        "# while kosul: => while True: # sonsuz dongu => kosul her zaman dogru olacagindan\n",
        "sayilar_toplami = 0\n",
        "sayi_adedi = 0\n",
        "while True:\n",
        "    # 1. kullanicidan deger alinir ve sayi tipine donusturulur\n",
        "    girdi = input(\"Bir sayi giriniz: \")\n",
        "    sayi_degeri = float(girdi)\n",
        "    sayilar_toplami = sayilar_toplami + sayi_degeri # sayilar_toplami += sayi_degeri\n",
        "    sayi_adedi += 1 # sayi_adedi = sayi_adedi + 1\n",
        "    # kullanici 5 tane sayi girebilsin\n",
        "    if sayi_adedi == 5:\n",
        "        # artik yeni bir sayi alinmasin, yani dongu bitirilsin (kirilsin)\n",
        "        break\n",
        "\n",
        "# bu noktada donguden cikilmistir. \n",
        "# Kullanicinin girdigi sayilarin toplami ve kac adet girdikleri ilgili degiskenlerde tutulmustur.\n",
        "sayilarin_ortalamasi = sayilar_toplami / sayi_adedi\n",
        "print(f\"Girilen sayıların ortalama değeri: {sayilarin_ortalamasi}\")"
      ],
      "metadata": {
        "colab": {
          "base_uri": "https://localhost:8080/"
        },
        "id": "yQJikhRf0aiz",
        "outputId": "95e11bff-674b-4a53-acf3-5858806376b1"
      },
      "execution_count": null,
      "outputs": [
        {
          "output_type": "stream",
          "name": "stdout",
          "text": [
            "Bir sayi giriniz: 20\n",
            "Bir sayi giriniz: 30\n",
            "Bir sayi giriniz: 15\n",
            "Bir sayi giriniz: 45\n",
            "Bir sayi giriniz: 30\n",
            "Girilen sayıların ortalama değeri: 28.0\n"
          ]
        }
      ]
    },
    {
      "cell_type": "code",
      "source": [
        "# LİSTE metodlarini kullarak \n",
        "# AMAC: kullanici tarafindan girilen sayıların ortalamasını bulmak\n",
        "# (Girilmesi gereken sayi miktari 5 olsun => 5 tane ile sinirlayalim)\n",
        "# bu vs.: girilen sayilar bir liste icine ekleyerek tutulur. bu listedeki sayilarin toplami, icindeki sayi adedine bolunur.\n",
        "sayi_listesi = []\n",
        "while True:\n",
        "    # 1. kullanicidan deger alinir ve sayi tipine donusturulur\n",
        "    girdi = input(\"Bir sayi giriniz: \")\n",
        "    sayi_degeri = float(girdi)\n",
        "    sayi_listesi.append(sayi_degeri)\n",
        "    # kullanici 5 tane sayi girebilsin\n",
        "    if len(sayi_listesi) == 5:\n",
        "        # artik yeni bir sayi alinmasin, yani dongu bitirilsin (kirilsin)\n",
        "        break\n",
        "\n",
        "# bu noktada donguden cikilmistir. \n",
        "# Kullanicinin girdigi sayilar listede tutulmustur.\n",
        "# yerlesik fonksiyonlari kullanarak ortalama bulunursa\n",
        "sayilarin_ortalamasi = sum(sayi_listesi) / len(sayi_listesi)\n",
        "print(f\"Girilen sayıların ortalama değeri: {sayilarin_ortalamasi}\")"
      ],
      "metadata": {
        "colab": {
          "base_uri": "https://localhost:8080/"
        },
        "id": "lhJ8mFju0xuT",
        "outputId": "8a51334c-f195-48e0-f84f-817daa6a85a5"
      },
      "execution_count": null,
      "outputs": [
        {
          "output_type": "stream",
          "name": "stdout",
          "text": [
            "Bir sayi giriniz: 20\n",
            "Bir sayi giriniz: 30\n",
            "Bir sayi giriniz: 15\n",
            "Bir sayi giriniz: 45\n",
            "Bir sayi giriniz: 30\n",
            "Girilen sayıların ortalama değeri: 28.0\n"
          ]
        }
      ]
    },
    {
      "cell_type": "code",
      "source": [
        "print(sayi_listesi)"
      ],
      "metadata": {
        "colab": {
          "base_uri": "https://localhost:8080/"
        },
        "id": "xRqPBPBf0xw1",
        "outputId": "24d95ee9-c1ab-4f6e-ef88-b9f805a26993"
      },
      "execution_count": null,
      "outputs": [
        {
          "output_type": "stream",
          "name": "stdout",
          "text": [
            "[20.0, 30.0, 15.0, 45.0, 30.0]\n"
          ]
        }
      ]
    },
    {
      "cell_type": "code",
      "source": [
        "# yerlesik olmayan bir kutuphane fonksiyonu kullanmak istersek\n",
        "# numpy kutuphanesi kullanilirsa\n",
        "import numpy as np"
      ],
      "metadata": {
        "id": "Oz5Blinl0xzd"
      },
      "execution_count": null,
      "outputs": []
    },
    {
      "cell_type": "code",
      "source": [
        "np.sum(sayi_listesi)"
      ],
      "metadata": {
        "colab": {
          "base_uri": "https://localhost:8080/"
        },
        "id": "-vNofohM0x2l",
        "outputId": "312c9117-13a9-406e-f769-ad2e9dd1d6d4"
      },
      "execution_count": null,
      "outputs": [
        {
          "output_type": "execute_result",
          "data": {
            "text/plain": [
              "140.0"
            ]
          },
          "metadata": {},
          "execution_count": 169
        }
      ]
    },
    {
      "cell_type": "code",
      "source": [
        "np.mean(sayi_listesi)"
      ],
      "metadata": {
        "colab": {
          "base_uri": "https://localhost:8080/"
        },
        "id": "GLReuEWv0x4-",
        "outputId": "d799b6ab-448b-45f6-bdb0-187a24e0c22b"
      },
      "execution_count": null,
      "outputs": [
        {
          "output_type": "execute_result",
          "data": {
            "text/plain": [
              "28.0"
            ]
          },
          "metadata": {},
          "execution_count": 170
        }
      ]
    },
    {
      "cell_type": "code",
      "source": [
        "np.var(sayi_listesi)"
      ],
      "metadata": {
        "colab": {
          "base_uri": "https://localhost:8080/"
        },
        "id": "k7NnC3XH4j7y",
        "outputId": "4ea1b0c4-359f-4bc0-c891-14e68d71faa6"
      },
      "execution_count": null,
      "outputs": [
        {
          "output_type": "execute_result",
          "data": {
            "text/plain": [
              "106.0"
            ]
          },
          "metadata": {},
          "execution_count": 171
        }
      ]
    },
    {
      "cell_type": "code",
      "source": [
        "np.std(sayi_listesi)"
      ],
      "metadata": {
        "colab": {
          "base_uri": "https://localhost:8080/"
        },
        "id": "dSFB3yeD4wo6",
        "outputId": "e325298a-bea4-4281-ff20-5fdf6a5ef3af"
      },
      "execution_count": null,
      "outputs": [
        {
          "output_type": "execute_result",
          "data": {
            "text/plain": [
              "10.295630140987"
            ]
          },
          "metadata": {},
          "execution_count": 172
        }
      ]
    },
    {
      "cell_type": "code",
      "source": [
        "# ortalamanin 2 std sapmasindan buyuk/kucuk degerler var mi?\n",
        "np.mean(sayi_listesi) - 2 * np.std(sayi_listesi), np.mean(sayi_listesi) + 2 * np.std(sayi_listesi) "
      ],
      "metadata": {
        "colab": {
          "base_uri": "https://localhost:8080/"
        },
        "id": "b-5MbgWw41ya",
        "outputId": "8cd65c73-bbf6-4f1a-da8e-24a9b4f501a4"
      },
      "execution_count": null,
      "outputs": [
        {
          "output_type": "execute_result",
          "data": {
            "text/plain": [
              "(7.408739718025998, 48.591260281974)"
            ]
          },
          "metadata": {},
          "execution_count": 173
        }
      ]
    },
    {
      "cell_type": "code",
      "source": [
        "# ODEV\n",
        "# liste metodlarini kullarak \n",
        "# ve kullanicinin diledigi kadar sayi girmesine olanak saglayan versiyon\n",
        "# => kullanicidan sayi girmeyi bitirdigine dair bilgi almamiz gerekiyor\n",
        "#     => kullanici girdi olarak 'bitti' girerse sayi alma dongusunden cikabiliriz"
      ],
      "metadata": {
        "id": "fJDSAGX05EGd"
      },
      "execution_count": null,
      "outputs": []
    },
    {
      "cell_type": "code",
      "source": [
        "# \n",
        "while True:\n",
        "    kelime = input(\"Lütfen bir kelime giriniz: \")\n",
        "    kelimebosluksuz = kelime.strip()   #girilen kelimede başta ve sondaki boşlukları kırpar\n",
        "    kelimekucuk = kelimebosluksuz.lower()\n",
        "    \n",
        "    L=[]\n",
        "    metin= \"\"\n",
        "    kelimedekilerharfmi = True\n",
        "    for harf in kelimekucuk:\n",
        "        if harf.isalpha() or harf == ' ':\n",
        "            pass\n",
        "        else:\n",
        "             kelimedekilerharfmi = False\n",
        "             break\n",
        "\n",
        "    if kelimedekilerharfmi == False : # girilen kelimelerin sadece harflerden oluşup oluşmadığı(özel karakterlerden oluşursa tekrar girdirir)\n",
        "        print(\"Kelimeler sadece harflerden oluşmalıdır, lütfen tekrar deneyiniz.\", \"\\n\")\n",
        "    else:\n",
        "        for harf in kelimekucuk:\n",
        "            L.append(harf) #harfleri listeye (eleman) ekler\n",
        "        L[0] = L[0].upper() #Listenin ilk elemanını (ilk harfi büyük harf yapar\n",
        "        for i in range(1,len(L)):\n",
        "            L[i] = L[i].lower()\n",
        "        for i in range(0, len(L)):\n",
        "            metin += L[i] #Son olarak bütün elemanları (harfleri) yanyana getirir\n",
        "        print(metin, \"\\n\")"
      ],
      "metadata": {
        "colab": {
          "base_uri": "https://localhost:8080/",
          "height": 451
        },
        "id": "z1CFFcoB588d",
        "outputId": "00b2f658-e6fb-4b7e-a12f-ad9876fe9d25"
      },
      "execution_count": null,
      "outputs": [
        {
          "output_type": "stream",
          "name": "stdout",
          "text": [
            "Lütfen bir kelime giriniz:     hAlK bANKasi\n",
            "Halk bankasi \n",
            "\n"
          ]
        },
        {
          "output_type": "error",
          "ename": "KeyboardInterrupt",
          "evalue": "ignored",
          "traceback": [
            "\u001b[0;31m---------------------------------------------------------------------------\u001b[0m",
            "\u001b[0;31mKeyboardInterrupt\u001b[0m                         Traceback (most recent call last)",
            "\u001b[0;32m<ipython-input-177-6286438ceb98>\u001b[0m in \u001b[0;36m<module>\u001b[0;34m\u001b[0m\n\u001b[1;32m      1\u001b[0m \u001b[0;31m#\u001b[0m\u001b[0;34m\u001b[0m\u001b[0;34m\u001b[0m\u001b[0;34m\u001b[0m\u001b[0m\n\u001b[1;32m      2\u001b[0m \u001b[0;32mwhile\u001b[0m \u001b[0;32mTrue\u001b[0m\u001b[0;34m:\u001b[0m\u001b[0;34m\u001b[0m\u001b[0;34m\u001b[0m\u001b[0m\n\u001b[0;32m----> 3\u001b[0;31m     \u001b[0mkelime\u001b[0m \u001b[0;34m=\u001b[0m \u001b[0minput\u001b[0m\u001b[0;34m(\u001b[0m\u001b[0;34m\"Lütfen bir kelime giriniz: \"\u001b[0m\u001b[0;34m)\u001b[0m\u001b[0;34m\u001b[0m\u001b[0;34m\u001b[0m\u001b[0m\n\u001b[0m\u001b[1;32m      4\u001b[0m     \u001b[0mkelimebosluksuz\u001b[0m \u001b[0;34m=\u001b[0m \u001b[0mkelime\u001b[0m\u001b[0;34m.\u001b[0m\u001b[0mstrip\u001b[0m\u001b[0;34m(\u001b[0m\u001b[0;34m)\u001b[0m   \u001b[0;31m#girilen kelimede başta ve sondaki boşlukları kırpar\u001b[0m\u001b[0;34m\u001b[0m\u001b[0;34m\u001b[0m\u001b[0m\n\u001b[1;32m      5\u001b[0m     \u001b[0mkelimekucuk\u001b[0m \u001b[0;34m=\u001b[0m \u001b[0mkelimebosluksuz\u001b[0m\u001b[0;34m.\u001b[0m\u001b[0mlower\u001b[0m\u001b[0;34m(\u001b[0m\u001b[0;34m)\u001b[0m\u001b[0;34m\u001b[0m\u001b[0;34m\u001b[0m\u001b[0m\n",
            "\u001b[0;32m/usr/local/lib/python3.7/dist-packages/ipykernel/kernelbase.py\u001b[0m in \u001b[0;36mraw_input\u001b[0;34m(self, prompt)\u001b[0m\n\u001b[1;32m    861\u001b[0m             \u001b[0mself\u001b[0m\u001b[0;34m.\u001b[0m\u001b[0m_parent_ident\u001b[0m\u001b[0;34m,\u001b[0m\u001b[0;34m\u001b[0m\u001b[0;34m\u001b[0m\u001b[0m\n\u001b[1;32m    862\u001b[0m             \u001b[0mself\u001b[0m\u001b[0;34m.\u001b[0m\u001b[0m_parent_header\u001b[0m\u001b[0;34m,\u001b[0m\u001b[0;34m\u001b[0m\u001b[0;34m\u001b[0m\u001b[0m\n\u001b[0;32m--> 863\u001b[0;31m             \u001b[0mpassword\u001b[0m\u001b[0;34m=\u001b[0m\u001b[0;32mFalse\u001b[0m\u001b[0;34m,\u001b[0m\u001b[0;34m\u001b[0m\u001b[0;34m\u001b[0m\u001b[0m\n\u001b[0m\u001b[1;32m    864\u001b[0m         )\n\u001b[1;32m    865\u001b[0m \u001b[0;34m\u001b[0m\u001b[0m\n",
            "\u001b[0;32m/usr/local/lib/python3.7/dist-packages/ipykernel/kernelbase.py\u001b[0m in \u001b[0;36m_input_request\u001b[0;34m(self, prompt, ident, parent, password)\u001b[0m\n\u001b[1;32m    902\u001b[0m             \u001b[0;32mexcept\u001b[0m \u001b[0mKeyboardInterrupt\u001b[0m\u001b[0;34m:\u001b[0m\u001b[0;34m\u001b[0m\u001b[0;34m\u001b[0m\u001b[0m\n\u001b[1;32m    903\u001b[0m                 \u001b[0;31m# re-raise KeyboardInterrupt, to truncate traceback\u001b[0m\u001b[0;34m\u001b[0m\u001b[0;34m\u001b[0m\u001b[0;34m\u001b[0m\u001b[0m\n\u001b[0;32m--> 904\u001b[0;31m                 \u001b[0;32mraise\u001b[0m \u001b[0mKeyboardInterrupt\u001b[0m\u001b[0;34m(\u001b[0m\u001b[0;34m\"Interrupted by user\"\u001b[0m\u001b[0;34m)\u001b[0m \u001b[0;32mfrom\u001b[0m \u001b[0;32mNone\u001b[0m\u001b[0;34m\u001b[0m\u001b[0;34m\u001b[0m\u001b[0m\n\u001b[0m\u001b[1;32m    905\u001b[0m             \u001b[0;32mexcept\u001b[0m \u001b[0mException\u001b[0m \u001b[0;32mas\u001b[0m \u001b[0me\u001b[0m\u001b[0;34m:\u001b[0m\u001b[0;34m\u001b[0m\u001b[0;34m\u001b[0m\u001b[0m\n\u001b[1;32m    906\u001b[0m                 \u001b[0mself\u001b[0m\u001b[0;34m.\u001b[0m\u001b[0mlog\u001b[0m\u001b[0;34m.\u001b[0m\u001b[0mwarning\u001b[0m\u001b[0;34m(\u001b[0m\u001b[0;34m\"Invalid Message:\"\u001b[0m\u001b[0;34m,\u001b[0m \u001b[0mexc_info\u001b[0m\u001b[0;34m=\u001b[0m\u001b[0;32mTrue\u001b[0m\u001b[0;34m)\u001b[0m\u001b[0;34m\u001b[0m\u001b[0;34m\u001b[0m\u001b[0m\n",
            "\u001b[0;31mKeyboardInterrupt\u001b[0m: Interrupted by user"
          ]
        }
      ]
    },
    {
      "cell_type": "markdown",
      "source": [
        "### Koşullu İfadeler ve Döngüler (Conditional Executions and Iterations)"
      ],
      "metadata": {
        "id": "XkIP-dju5bNP"
      }
    },
    {
      "cell_type": "code",
      "source": [
        "x, y = 10, 20"
      ],
      "metadata": {
        "id": "-PG0UT0O5bic"
      },
      "execution_count": null,
      "outputs": []
    },
    {
      "cell_type": "code",
      "source": [
        "if x < y:\n",
        "    print(\"kucuktur\")\n",
        "elif x > y:\n",
        "    print(\"buyuktur\")\n",
        "else:\n",
        "    print(\"esit\")"
      ],
      "metadata": {
        "id": "5z3qSGgW6Jx7",
        "colab": {
          "base_uri": "https://localhost:8080/"
        },
        "outputId": "9dea89c3-90b6-41e0-c8c2-a5eaa76d36dc"
      },
      "execution_count": null,
      "outputs": [
        {
          "output_type": "stream",
          "name": "stdout",
          "text": [
            "kucuktur\n"
          ]
        }
      ]
    },
    {
      "cell_type": "code",
      "source": [
        "# HATALI versiyon 1\n",
        "if x < y:\n",
        "    print(\"kucuktur\")\n",
        "if x > y:\n",
        "    print(\"buyuktur\")\n",
        "else:\n",
        "    print(\"esit\")"
      ],
      "metadata": {
        "colab": {
          "base_uri": "https://localhost:8080/"
        },
        "id": "sZ_ZHJePtZv1",
        "outputId": "ea17ab09-c171-489b-b344-a08bed7a65b1"
      },
      "execution_count": null,
      "outputs": [
        {
          "output_type": "stream",
          "name": "stdout",
          "text": [
            "kucuktur\n",
            "esit\n"
          ]
        }
      ]
    },
    {
      "cell_type": "code",
      "source": [
        "# HATALI versiyon 2\n",
        "if x < y:\n",
        "    print(\"kucuktur\")\n",
        "    if x > y:\n",
        "        print(\"buyuktur\")\n",
        "    else:\n",
        "        print(\"esit\")"
      ],
      "metadata": {
        "colab": {
          "base_uri": "https://localhost:8080/"
        },
        "id": "0vcmOOwGuGcp",
        "outputId": "ec63d2e7-eb4d-4150-ac29-8d5bd5e36018"
      },
      "execution_count": null,
      "outputs": [
        {
          "output_type": "stream",
          "name": "stdout",
          "text": [
            "kucuktur\n",
            "esit\n"
          ]
        }
      ]
    },
    {
      "cell_type": "code",
      "source": [
        "# HATALI versiyon 3\n",
        "x = 15\n",
        "y = 10\n",
        "if x < y:\n",
        "    print(\"kucuktur\")\n",
        "    if x > y:\n",
        "        print(\"buyuktur\")\n",
        "else:\n",
        "    print(\"esit\")"
      ],
      "metadata": {
        "colab": {
          "base_uri": "https://localhost:8080/"
        },
        "id": "iY8-1BgouIZ4",
        "outputId": "6a26cb93-493f-4b1a-fec3-d3769e4bdedb"
      },
      "execution_count": null,
      "outputs": [
        {
          "output_type": "stream",
          "name": "stdout",
          "text": [
            "esit\n"
          ]
        }
      ]
    },
    {
      "cell_type": "code",
      "source": [
        "# DOGRU 2. versiyon\n",
        "if x < y:\n",
        "    print(\"kucuktur\")\n",
        "else:\n",
        "    if x > y:\n",
        "        print(\"buyuktur\")\n",
        "    else:\n",
        "        print(\"esit\")"
      ],
      "metadata": {
        "colab": {
          "base_uri": "https://localhost:8080/"
        },
        "id": "hjgpyfoWuWyv",
        "outputId": "85cd7712-56f4-4536-cace-064c2a1bc325"
      },
      "execution_count": null,
      "outputs": [
        {
          "output_type": "stream",
          "name": "stdout",
          "text": [
            "buyuktur\n"
          ]
        }
      ]
    },
    {
      "cell_type": "code",
      "source": [
        "x = 10, y = 15"
      ],
      "metadata": {
        "colab": {
          "base_uri": "https://localhost:8080/",
          "height": 131
        },
        "id": "yOp6w87ouj74",
        "outputId": "3c0f699c-4579-40f6-977a-b7d87a3afaf1"
      },
      "execution_count": null,
      "outputs": [
        {
          "output_type": "error",
          "ename": "SyntaxError",
          "evalue": "ignored",
          "traceback": [
            "\u001b[0;36m  File \u001b[0;32m\"<ipython-input-9-b40fa515aef1>\"\u001b[0;36m, line \u001b[0;32m1\u001b[0m\n\u001b[0;31m    x = 10, y = 15\u001b[0m\n\u001b[0m       ^\u001b[0m\n\u001b[0;31mSyntaxError\u001b[0m\u001b[0;31m:\u001b[0m can't assign to literal\n"
          ]
        }
      ]
    },
    {
      "cell_type": "code",
      "source": [
        "x, y = 10, 15"
      ],
      "metadata": {
        "id": "z3uA6pWEv5un"
      },
      "execution_count": null,
      "outputs": []
    },
    {
      "cell_type": "code",
      "source": [
        "print(x)\n",
        "print(y)"
      ],
      "metadata": {
        "colab": {
          "base_uri": "https://localhost:8080/"
        },
        "id": "ovscPy84v9zA",
        "outputId": "c045bf29-57e8-4c14-84b4-c2cddbc4a98f"
      },
      "execution_count": null,
      "outputs": [
        {
          "output_type": "stream",
          "name": "stdout",
          "text": [
            "10\n",
            "15\n"
          ]
        }
      ]
    },
    {
      "cell_type": "code",
      "source": [
        "# 1. if blogundaki ifadelerden sadece 1 tanesi calistirilir\n",
        "# 2. kosullar sirasiyla degerlendirilir\n",
        "# ------------------------\n",
        "if kosullar?: # kosullar birden fazla mantiksal operator barindirabilir\n",
        "    ifmantigi # if'e ait olan kosullar True ise yani dogruysa bu ifadeler calistirilacaktir\n",
        "# ------------------------\n",
        "\n",
        "if kosullar?: # kosullar birden fazla mantiksal operator barindirabilir\n",
        "    ifmantigi # if'e ait olan kosullar True ise yani dogruysa bu ifadeler calistirilacaktir\n",
        "else:\n",
        "    elsemantigi # if'e ait olan kosullar False ise calistirilacaktir\n",
        "# ------------------------\n",
        "\n",
        "if kosullar?: # kosullar birden fazla mantiksal operator barindirabilir\n",
        "    ifmantigi # if'e ait olan kosullar True ise yani dogruysa bu ifadeler calistirilacaktir\n",
        "elif diger kosullar?:\n",
        "    elifmantigi # if'e ait olan kosullar False ise ve diger kosullar True ise calistirilacaktir\n",
        "else:\n",
        "    elsemantigi # if'e ve elif'lere ait olan kosullar False ise calistirilacaktir\n",
        "# ------------------------\n",
        "\n",
        "if kosullar?: # kosullar birden fazla mantiksal operator barindirabilir\n",
        "    ifmantigi # if'e ait olan kosullar True ise yani dogruysa bu ifadeler calistirilacaktir\n",
        "elif diger kosullar?:\n",
        "    elifmantigi # if'e ait olan kosullar False ise ve diger kosullar True ise calistirilacaktir\n",
        "\n",
        "# ------------------------\n",
        "# en genis if blogu ornegi\n",
        "if kosullar?: # kosullar birden fazla mantiksal operator barindirabilir\n",
        "    ifmantigi # if'e ait olan kosullar True ise yani dogruysa bu ifadeler calistirilacaktir\n",
        "elif diger kosullar?:\n",
        "    elifmantigi # if'e ait olan kosullar False ise ve diger kosullar True ise calistirilacaktir\n",
        "elif ...:\n",
        "    digerelifmantigi\n",
        "elif ...:\n",
        "    ...\n",
        "...\n",
        "else:\n",
        "    elsemantigi # if'e ve elif'lere ait olan kosullar False ise calistirilacaktir"
      ],
      "metadata": {
        "id": "rTyIoPpUyhYo"
      },
      "execution_count": null,
      "outputs": []
    },
    {
      "cell_type": "code",
      "source": [
        "musteri_geliri = 12000\n",
        "musterinin_yasi = 40"
      ],
      "metadata": {
        "id": "C89VlPolzpDW"
      },
      "execution_count": null,
      "outputs": []
    },
    {
      "cell_type": "code",
      "source": [
        "# kredi basvuru degerlendirme kurallari - 1\n",
        "# 1. basvuru sahibinin yasi 30dan buyukse ve geliri 10000den buyuk ya da esitse OK\n",
        "if musterinin_yasi > 30 and musteri_geliri >= 10000:\n",
        "    print(\"Kredi Onaylanmistir\")"
      ],
      "metadata": {
        "colab": {
          "base_uri": "https://localhost:8080/"
        },
        "id": "am0vcLV1zpFz",
        "outputId": "bf3c321a-c087-4e67-b127-30701c2c601e"
      },
      "execution_count": null,
      "outputs": [
        {
          "output_type": "stream",
          "name": "stdout",
          "text": [
            "Kredi Onaylanmistir\n"
          ]
        }
      ]
    },
    {
      "cell_type": "code",
      "source": [
        "# kredi basvuru degerlendirme kurallari - 2\n",
        "# 1. basvuru sahibinin yasi 30dan buyukse ve geliri 10000den buyuk ya da esitse OK\n",
        "# bu kosullar saglanmiyorsa, kredi RED olur\n",
        "if musterinin_yasi > 30 and musteri_geliri >= 10000:\n",
        "    print(\"Kredi Onaylanmistir\")\n",
        "else:\n",
        "    print(\"Kredi Basvurusu OnaylanMAmistir\")"
      ],
      "metadata": {
        "colab": {
          "base_uri": "https://localhost:8080/"
        },
        "id": "4Xb6KL-IzpIi",
        "outputId": "c5dc5b4c-05f1-40ad-e17e-5e471c90d760"
      },
      "execution_count": null,
      "outputs": [
        {
          "output_type": "stream",
          "name": "stdout",
          "text": [
            "Kredi Onaylanmistir\n"
          ]
        }
      ]
    },
    {
      "cell_type": "code",
      "source": [
        "# kredi basvuru degerlendirme kurallari - 3\n",
        "# 1. basvuru sahibinin yasi 30dan buyukse ve geliri 10000den buyuk ya da esitse OK\n",
        "# 2. musterinin geliri 20000 TLden buyukse, yasa bakmadan OK\n",
        "# bu kosullar saglanmiyorsa, kredi RED olur\n",
        "if musterinin_yasi > 30 and musteri_geliri >= 10000:\n",
        "    print(\"Kredi Onaylanmistir - 1\")\n",
        "elif musteri_geliri > 20000:\n",
        "    print(\"Kredi Onaylanmistir - 2\")\n",
        "else:\n",
        "    print(\"Kredi Basvurusu OnaylanMAmistir\")"
      ],
      "metadata": {
        "colab": {
          "base_uri": "https://localhost:8080/"
        },
        "id": "-ERWB3ZRzpQc",
        "outputId": "0b71c92d-5563-45ec-d21b-6904290e3844"
      },
      "execution_count": null,
      "outputs": [
        {
          "output_type": "stream",
          "name": "stdout",
          "text": [
            "Kredi Onaylanmistir - 1\n"
          ]
        }
      ]
    },
    {
      "cell_type": "code",
      "source": [
        "# kredi basvuru degerlendirme kurallari - 3\n",
        "# 1. basvuru sahibinin yasi 30dan buyukse ve geliri 10000den buyuk ya da esitse OK\n",
        "# 2. musterinin geliri 20000 TLden buyukse, yasa bakmadan OK\n",
        "# tum bu kosullar saglanmiyorsa, kredi RED olur\n",
        "if (musterinin_yasi > 30 and musteri_geliri >= 10000) or (musteri_geliri > 20000):\n",
        "    print(\"Kredi Onaylanmistir - 1 ve ya 2\")\n",
        "else:\n",
        "    print(\"Kredi Basvurusu REDdedilmistir\")"
      ],
      "metadata": {
        "colab": {
          "base_uri": "https://localhost:8080/"
        },
        "id": "p3_qR7Z81C4K",
        "outputId": "de3f0046-79d0-40c8-a2cf-cc30b190e473"
      },
      "execution_count": null,
      "outputs": [
        {
          "output_type": "stream",
          "name": "stdout",
          "text": [
            "Kredi Onaylanmistir - 1 ve ya 2\n"
          ]
        }
      ]
    },
    {
      "cell_type": "markdown",
      "source": [
        "##### **Alıştırma - 2**\n",
        "Kullanıcıdan süre ve saat başına alınacak ücret bilgisini aldıktan sonra çalışana ödenecek brüt ücreti saat hesaplayan bir program yazmanız beklenmektedir. Programınız 40 saat üzerinde gerçekleşen çalışma süresini fazla mesai olarak kabul etmeli ve fazla mesai ücretini normal çalışma ücretinin 1,5 katı olarak alarak çalışana ödenecek brüt ücreti hesaplamalıdır."
      ],
      "metadata": {
        "id": "gBDN1HfB77vf"
      }
    },
    {
      "cell_type": "code",
      "source": [
        "sure = input(\"Saat olarak çalışılan süreyi giriniz: \")\n",
        "sure = float(sure)\n",
        "saatucreti = input(\"Saatlik ücret miktarını giriniz: \")\n",
        "saatucreti = float(saatucreti)\n",
        "\n",
        "if sure > 40:\n",
        "    odeme_miktari = 40 * saatucreti + (sure - 40) * (saatucreti * 1.5)\n",
        "else:\n",
        "    odeme_miktari = sure * saatucreti\n",
        "\n",
        "print(f\"Alacağınız ödeme tutarı: {odeme_miktari} TL'dir\")"
      ],
      "metadata": {
        "colab": {
          "base_uri": "https://localhost:8080/"
        },
        "id": "oqKwzhFt1xMU",
        "outputId": "71e13dfd-6fba-40f5-907b-49a71d9a9335"
      },
      "execution_count": null,
      "outputs": [
        {
          "output_type": "stream",
          "name": "stdout",
          "text": [
            "Saat olarak çalışılan süreyi giriniz: 50\n",
            "Saatlik ücret miktarını giriniz: 10\n",
            "Alacağınız ödeme tutarı: 550.0 TL'dir\n"
          ]
        }
      ]
    },
    {
      "cell_type": "code",
      "source": [
        "# yukaridaki kodun daha okunur hali\n",
        "sure = input(\"Saat olarak çalışılan süreyi giriniz: \")\n",
        "sure = float(sure)\n",
        "saatucreti = input(\"Saatlik ücret miktarını giriniz: \")\n",
        "saatucreti = float(saatucreti)\n",
        "\n",
        "if sure > 40:\n",
        "    fazla_mesai_suresi = sure - 40\n",
        "    mesai_ucreti = saatucreti * 1.5\n",
        "    odeme_miktari = 40 * saatucreti +  fazla_mesai_suresi * mesai_ucreti\n",
        "else: # sure <= 40 olma durumu\n",
        "    odeme_miktari = sure * saatucreti\n",
        "\n",
        "print(f\"Alacağınız ödeme tutarı: {odeme_miktari} TL'dir\")"
      ],
      "metadata": {
        "colab": {
          "base_uri": "https://localhost:8080/"
        },
        "id": "FGFkQmcM9ET2",
        "outputId": "82330166-afb7-43be-9441-fd1ca131d80b"
      },
      "execution_count": null,
      "outputs": [
        {
          "output_type": "stream",
          "name": "stdout",
          "text": [
            "Saat olarak çalışılan süreyi giriniz: 50\n",
            "Saatlik ücret miktarını giriniz: 10\n",
            "Alacağınız ödeme tutarı: 550.0 TL'dir\n"
          ]
        }
      ]
    },
    {
      "cell_type": "code",
      "source": [
        "# yukaridaki kodun parameterize edilmis hali\n",
        "# sabitleri de degiskenlerde tutalim? => mesai ici sureyi degiskende (mesai_ici_sure) tutalim\n",
        "# yukaridaki kodun daha okunur hali\n",
        "sure = input(\"Saat olarak çalışılan süreyi giriniz: \")\n",
        "sure = float(sure)\n",
        "saatucreti = input(\"Saatlik ücret miktarını giriniz: \")\n",
        "saatucreti = float(saatucreti)\n",
        "\n",
        "mesai_ici_sure = 40\n",
        "fazla_mesai_ucret_katsayisi = 1.5\n",
        "\n",
        "if sure > mesai_ici_sure:\n",
        "    fazla_mesai_suresi = sure - mesai_ici_sure\n",
        "    mesai_ucreti = saatucreti * fazla_mesai_ucret_katsayisi\n",
        "    odeme_miktari = mesai_ici_sure * saatucreti +  fazla_mesai_suresi * mesai_ucreti\n",
        "else: # sure <= 40 olma durumu\n",
        "    odeme_miktari = sure * saatucreti\n",
        "\n",
        "print(f\"Alacağınız ödeme tutarı: {odeme_miktari} TL'dir\")"
      ],
      "metadata": {
        "colab": {
          "base_uri": "https://localhost:8080/"
        },
        "id": "O2V57lv99l3H",
        "outputId": "821fbb32-a8f9-4d07-a4cd-bcc621807952"
      },
      "execution_count": null,
      "outputs": [
        {
          "output_type": "stream",
          "name": "stdout",
          "text": [
            "Saat olarak çalışılan süreyi giriniz: 50\n",
            "Saatlik ücret miktarını giriniz: 10\n",
            "Alacağınız ödeme tutarı: 550.0 TL'dir\n"
          ]
        }
      ]
    },
    {
      "cell_type": "code",
      "source": [
        "# yukaridaki kodun parameterize edilmis hali\n",
        "# sabitleri de degiskenlerde tutalim? => mesai ici sureyi degiskende (mesai_ici_sure) tutalim\n",
        "# yukaridaki kodun daha okunur hali\n",
        "sure = input(\"Saat olarak çalışılan süreyi giriniz: \")\n",
        "sure = float(sure)\n",
        "saatucreti = input(\"Saatlik ücret miktarını giriniz: \")\n",
        "saatucreti = float(saatucreti)\n",
        "\n",
        "mesai_ici_sure = 45\n",
        "fazla_mesai_ucret_katsayisi = 1.75\n",
        "\n",
        "if sure > mesai_ici_sure:\n",
        "    fazla_mesai_suresi = sure - mesai_ici_sure\n",
        "    mesai_ucreti = saatucreti * fazla_mesai_ucret_katsayisi\n",
        "    odeme_miktari = mesai_ici_sure * saatucreti +  fazla_mesai_suresi * mesai_ucreti\n",
        "else: # sure <= 40 olma durumu\n",
        "    odeme_miktari = sure * saatucreti\n",
        "\n",
        "print(f\"Alacağınız ödeme tutarı: {odeme_miktari} TL'dir\")"
      ],
      "metadata": {
        "colab": {
          "base_uri": "https://localhost:8080/"
        },
        "id": "ZVV2ZOa_-PYV",
        "outputId": "2076a963-0a01-48c0-c113-33a688ad316d"
      },
      "execution_count": null,
      "outputs": [
        {
          "output_type": "stream",
          "name": "stdout",
          "text": [
            "Saat olarak çalışılan süreyi giriniz: 50\n",
            "Saatlik ücret miktarını giriniz: 10\n",
            "Alacağınız ödeme tutarı: 537.5 TL'dir\n"
          ]
        }
      ]
    },
    {
      "cell_type": "code",
      "source": [
        "sure = input(\"Saat olarak çalışılan süreyi giriniz: \")\n",
        "sure = float(sure)\n",
        "saatucreti = input(\"Saatlik ücret miktarını giriniz: \")\n",
        "saatucreti = float(saatucreti)\n",
        "\n",
        "mesai_ici_sure = 45\n",
        "fazla_mesai_ucret_katsayisi = 1.75\n",
        "\n",
        "if sure > mesai_ici_sure:\n",
        "    fazla_mesai_suresi = sure - mesai_ici_sure\n",
        "    mesai_ucreti = saatucreti * fazla_mesai_ucret_katsayisi\n",
        "    odeme_miktari = mesai_ici_sure * saatucreti +  fazla_mesai_suresi * mesai_ucreti\n",
        "else: # sure <= 40 olma durumu\n",
        "    odeme_miktari = sure * saatucreti\n",
        "\n",
        "print(f\"Alacağınız ödeme tutarı: {odeme_miktari} TL'dir\")"
      ],
      "metadata": {
        "colab": {
          "base_uri": "https://localhost:8080/"
        },
        "id": "J13YtsSD-XV9",
        "outputId": "ec14902a-a24b-4fb2-8ffe-d77c3e7ac680"
      },
      "execution_count": null,
      "outputs": [
        {
          "output_type": "stream",
          "name": "stdout",
          "text": [
            "Saat olarak çalışılan süreyi giriniz: 60\n",
            "Saatlik ücret miktarını giriniz: 15\n",
            "Alacağınız ödeme tutarı: 1068.75 TL'dir\n"
          ]
        }
      ]
    },
    {
      "cell_type": "markdown",
      "source": [
        "#### Döngüler (Iterations)"
      ],
      "metadata": {
        "id": "1boOAUC6_6HO"
      }
    },
    {
      "cell_type": "code",
      "source": [
        "while koşullar?: # kosullar True yani Dogru oldugu surece donguye ait ifadeler calistirilir.\n",
        "    dongu ifadeler/işlemler (while dongusune ait kod blogu - while'in ic hizasinda olan kodlar)\n",
        "\n",
        "for degisken adlari (iterator degiskenleri) in collection/iterator/yinelenebilir/yigin:\n",
        "    dongu ifadeleri/işlemleri (for dongusune ait kod blogu - for'un ic hizasinda olan kodlar)\n",
        "\n",
        "break (kendine en yakin olan dongunun kirilmasini ve o donguden cikilmasini saglar)\n",
        "continue (kendisinden sonra gelen ve donguye ait olan ifadeleri calistirmadan bir sonraki dongu adimina gecmeyi saglar)\n",
        "pass (bos ifade - herhangi bir islem yapilmasi istenmediginde kullanilir)"
      ],
      "metadata": {
        "id": "QY__px9d_-NO"
      },
      "execution_count": null,
      "outputs": []
    },
    {
      "cell_type": "code",
      "source": [
        "# su anda fonk nasil yazilacagina karar verilmemis fakat fonksiyon bir sekilde de burada tutulmak isteniyor\n",
        "def oklit_uzakligi()"
      ],
      "metadata": {
        "colab": {
          "base_uri": "https://localhost:8080/",
          "height": 131
        },
        "id": "tiOfDVlyAas-",
        "outputId": "20486fa3-daa4-4fad-eb0b-a4b7d1f46b07"
      },
      "execution_count": null,
      "outputs": [
        {
          "output_type": "error",
          "ename": "SyntaxError",
          "evalue": "ignored",
          "traceback": [
            "\u001b[0;36m  File \u001b[0;32m\"<ipython-input-27-a4c7d93db007>\"\u001b[0;36m, line \u001b[0;32m1\u001b[0m\n\u001b[0;31m    def oklit_uzakligi()\u001b[0m\n\u001b[0m                        ^\u001b[0m\n\u001b[0;31mSyntaxError\u001b[0m\u001b[0;31m:\u001b[0m invalid syntax\n"
          ]
        }
      ]
    },
    {
      "cell_type": "code",
      "source": [
        "def oklit_uzakligi():\n",
        "    pass"
      ],
      "metadata": {
        "id": "R0LXY01NBJ0e"
      },
      "execution_count": null,
      "outputs": []
    },
    {
      "cell_type": "code",
      "source": [
        "# ogrencilerin genel not ortalamalari bir listede tutuluyor\n",
        "gnolar = [3.6, 1.5, 2.9]"
      ],
      "metadata": {
        "id": "v26jjIbNBWx2"
      },
      "execution_count": null,
      "outputs": []
    },
    {
      "cell_type": "code",
      "source": [
        "# gnolara gore mezun mu degil mi kontrolunun yapilmasi ve mezunlarin gnolarinin bir listede saklanmasi\n",
        "# ogrencinin mezun olabilmesi icin gno'sunun 2.0dan buyuk ya da 2.0a esit olmasi gerekmektedir\n",
        "# mezun ortalamalarinin tutulacagi liste\n",
        "mezun_gnolari = []\n",
        "# tek tek not ortalamalarini okuyup mezun mu kontrolunun yapilmasi\n",
        "for ogr_gno in gnolar:\n",
        "    print(ogr_gno)\n",
        "    if ogr_gno >= 2.0:\n",
        "        print(\"Mezun olabilmektesiniz\")\n",
        "        mezun_gnolari.append(ogr_gno)\n",
        "    else:\n",
        "        print(\"Mezun olmaya hak kazanamadiniz\")\n",
        "print(\"Mezun olunma kontrolu tamamlanmistir\")\n",
        "# dongunun ilk iterasyonunda => ogr_gno = 3.6\n",
        "# 2. iterasyonda             => ogr_gno = 1.5\n",
        "# 3. iterasyonda             => ogr_gno = 2.9\n",
        "# gnolarda okunmamis eleman kalmadi => dongu sonlandi"
      ],
      "metadata": {
        "colab": {
          "base_uri": "https://localhost:8080/"
        },
        "id": "8jC13Na2BsxK",
        "outputId": "348e95b6-576f-4c63-c489-eed0b1969720"
      },
      "execution_count": null,
      "outputs": [
        {
          "output_type": "stream",
          "name": "stdout",
          "text": [
            "3.6\n",
            "Mezun olabilmektesiniz\n",
            "1.5\n",
            "Mezun olmaya hak kazanamadiniz\n",
            "2.9\n",
            "Mezun olabilmektesiniz\n",
            "Mezun olunma kontrolu tamamlanmistir\n"
          ]
        }
      ]
    },
    {
      "cell_type": "code",
      "source": [
        "print(mezun_gnolari)"
      ],
      "metadata": {
        "colab": {
          "base_uri": "https://localhost:8080/"
        },
        "id": "SYMjeAbDBszz",
        "outputId": "a359946e-f9c9-4ba0-d562-3739a4b8f975"
      },
      "execution_count": null,
      "outputs": [
        {
          "output_type": "stream",
          "name": "stdout",
          "text": [
            "[3.6, 2.9]\n"
          ]
        }
      ]
    },
    {
      "cell_type": "code",
      "source": [
        "# mezun olan ogrencilerin gnolarinin ortalamasi\n",
        "import numpy as np\n",
        "ortalama_gno = np.mean(mezun_gnolari)\n",
        "print(ortalama_gno)"
      ],
      "metadata": {
        "colab": {
          "base_uri": "https://localhost:8080/"
        },
        "id": "XBnpJoPDBs2U",
        "outputId": "f9ef2095-5675-477e-a518-761374ce0129"
      },
      "execution_count": null,
      "outputs": [
        {
          "output_type": "stream",
          "name": "stdout",
          "text": [
            "3.25\n"
          ]
        }
      ]
    },
    {
      "cell_type": "code",
      "source": [
        "ogrGNOlari = [1.9, 2.2, 3.3, 3.1, 1.99, 4.0, 3.1, 1.1, 2.2, 3.3]"
      ],
      "metadata": {
        "id": "fr8X2Q7ABs45"
      },
      "execution_count": null,
      "outputs": []
    },
    {
      "cell_type": "code",
      "source": [
        "# listedeki ilk 5 ogrencinin not ortalamalarini bulunuz\n",
        "# 1. for dongusu ve indeksler ile\n",
        "toplam_gno = 0.0\n",
        "# range(5) ==>> [0,1,2,3,4]\n",
        "for ind in range(5):\n",
        "    ogr_gno = ogrGNOlari[ind]\n",
        "    toplam_gno = toplam_gno + ogr_gno\n",
        "ortalama_gno = toplam_gno / 5\n",
        "print(ortalama_gno)"
      ],
      "metadata": {
        "colab": {
          "base_uri": "https://localhost:8080/"
        },
        "id": "LCoJVtjoBs7V",
        "outputId": "4c3c6cd1-6c53-4f61-e5bb-3f8508042956"
      },
      "execution_count": null,
      "outputs": [
        {
          "output_type": "stream",
          "name": "stdout",
          "text": [
            "2.498\n"
          ]
        }
      ]
    },
    {
      "cell_type": "code",
      "source": [
        "# alternatif 2 \n",
        "# => listedeki ilk 5 ogrencinin not ortalamalarini bulunuz\n",
        "# 2. ogrenci notlari direk listeden tek tek okunarak\n",
        "toplam_gno = 0.0\n",
        "gno_adedi = 0\n",
        "for gno in ogrGNOlari:\n",
        "    toplam_gno += gno\n",
        "    gno_adedi = gno_adedi + 1\n",
        "    if gno_adedi == 5:\n",
        "        break\n",
        "\n",
        "ortalama_gno = toplam_gno / gno_adedi\n",
        "print(ortalama_gno)"
      ],
      "metadata": {
        "colab": {
          "base_uri": "https://localhost:8080/"
        },
        "id": "KKo1J_zOBs-N",
        "outputId": "4715bc8f-e852-4dfa-a369-9dea884666ca"
      },
      "execution_count": null,
      "outputs": [
        {
          "output_type": "stream",
          "name": "stdout",
          "text": [
            "2.498\n"
          ]
        }
      ]
    },
    {
      "cell_type": "code",
      "source": [
        "# dilimleme ile\n",
        "# listedeki ilk 5 ogrencinin not ortalamalarini bulunuz\n",
        "# tekrardan import etmemize gerek bulunmamakta => import numpy as np\n",
        "ortalama_gno = np.mean(ogrGNOlari[:5])\n",
        "print(ortalama_gno)"
      ],
      "metadata": {
        "colab": {
          "base_uri": "https://localhost:8080/"
        },
        "id": "d-XwWTH6KqJt",
        "outputId": "87e4f289-67d0-4a34-f279-0fe2f58f028b"
      },
      "execution_count": null,
      "outputs": [
        {
          "output_type": "stream",
          "name": "stdout",
          "text": [
            "2.498\n"
          ]
        }
      ]
    },
    {
      "cell_type": "code",
      "source": [
        "# tum sinifin GNOlarinin ortalamasini bulalim.\n",
        "toplamGNO = 0 # ilk deger verme - initialization\n",
        "kac_ogrenci = 0\n",
        "for gno in ogrGNOlari:\n",
        "    toplamGNO = toplamGNO + gno\n",
        "    kac_ogrenci += 1\n",
        "ortalama_gno = toplamGNO / kac_ogrenci \n",
        "# kac_ogrenci yerine len(ogrGNOlari) kullanilabilirdi ==> ortalama_gno = toplamGNO / len(ogrGNOlari)\n",
        "print(f\"Öğrencilerin GNO ortalaması: {ortalama_gno:.3f}\") # tum ogrencilerin ortalamasi bulunmustur\n",
        "print(f\"{len(ogrGNOlari)} tane ogrenci icinden {kac_ogrenci} ogrencinin notu goz onune alinmistir\")"
      ],
      "metadata": {
        "colab": {
          "base_uri": "https://localhost:8080/"
        },
        "id": "P2rGdYCCLIID",
        "outputId": "847e9cd4-5d5c-4083-8e85-d21b5ff0e081"
      },
      "execution_count": null,
      "outputs": [
        {
          "output_type": "stream",
          "name": "stdout",
          "text": [
            "Öğrencilerin GNO ortalaması: 2.619\n",
            "10 tane ogrenci icinden 10 ogrencinin notu goz onune alinmistir\n"
          ]
        }
      ]
    },
    {
      "cell_type": "code",
      "source": [
        "# tum sinifin GNOlarinin ortalamasini bulalim.\n",
        "# FAKAT siniftaki en yuksek ve en dusuk GNO degerlerini goz onune almayalim => es gecelim => continue\n",
        "toplamGNO = 0 # ilk deger verme - initialization\n",
        "kac_ogrenci = 0\n",
        "enyuksekGNO = max(ogrGNOlari) \n",
        "endusukGNO = min(ogrGNOlari)\n",
        "for gno in ogrGNOlari:\n",
        "    if gno == enyuksekGNO:\n",
        "        continue\n",
        "    if gno == endusukGNO:\n",
        "        continue\n",
        "    toplamGNO = toplamGNO + gno\n",
        "    kac_ogrenci += 1\n",
        "ortalama_gno = toplamGNO / kac_ogrenci \n",
        "# kac_ogrenci yerine len(ogrGNOlari) kullanilabilirdi ==> ortalama_gno = toplamGNO / len(ogrGNOlari)\n",
        "print(f\"Öğrencilerin GNO ortalaması: {ortalama_gno:.3f}\") # tum ogrencilerin ortalamasi bulunmustur\n",
        "print(f\"{len(ogrGNOlari)} tane ogrenci icinden {kac_ogrenci} ogrencinin notu goz onune alinmistir\")"
      ],
      "metadata": {
        "colab": {
          "base_uri": "https://localhost:8080/"
        },
        "id": "V0AIz_lYLqRs",
        "outputId": "47b9a2aa-91d0-435b-d3ae-8cfe18a2b9ca"
      },
      "execution_count": null,
      "outputs": [
        {
          "output_type": "stream",
          "name": "stdout",
          "text": [
            "Öğrencilerin GNO ortalaması: 2.636\n",
            "10 tane ogrenci icinden 8 ogrencinin notu goz onune alinmistir\n"
          ]
        }
      ]
    },
    {
      "cell_type": "code",
      "source": [
        "# tum sinifin GNOlarinin ortalamasini bulalim.\n",
        "# FAKAT siniftaki en yuksek ve en dusuk GNO degerlerini goz onune almayalim => es gecelim => continue\n",
        "toplamGNO = 0 # ilk deger verme - initialization\n",
        "kac_ogrenci = 0\n",
        "enyuksekGNO = max(ogrGNOlari) \n",
        "endusukGNO = min(ogrGNOlari)\n",
        "for gno in ogrGNOlari:\n",
        "    if gno == enyuksekGNO or gno == endusukGNO:\n",
        "        continue\n",
        "    toplamGNO = toplamGNO + gno\n",
        "    kac_ogrenci += 1\n",
        "ortalama_gno = toplamGNO / kac_ogrenci \n",
        "# kac_ogrenci yerine len(ogrGNOlari) kullanilabilirdi ==> ortalama_gno = toplamGNO / len(ogrGNOlari)\n",
        "print(f\"Öğrencilerin GNO ortalaması: {ortalama_gno:.3f}\") # tum ogrencilerin ortalamasi bulunmustur\n",
        "print(f\"{len(ogrGNOlari)} tane ogrenci icinden {kac_ogrenci} ogrencinin notu goz onune alinmistir\")\n",
        "\n",
        "# enyuksekGNO => 4.0, endusukGNO => 1.1\n",
        "# dongunun ilk iterasyonunda => gno = 1.9 ==>> toplamGNOya eklendi\n",
        "# 2. iterasyonda             => gno = 2.2 ==>> toplamGNOya eklendi\n",
        "# 3. iterasyonda             => gno = 3.3 ==>> toplamGNOya eklendi\n",
        "# 4. iterasyonda             => gno = 3.1 ==>> toplamGNOya eklendi\n",
        "# 5. iterasyonda             => gno = 1.99 ==>> toplamGNOya eklendi\n",
        "# 6. iterasyonda             => gno = 4.0 ==>> continue isletildi ve toplamGNOya eklenMEdi\n",
        "# 7. iterasyonda             => gno = 3.1 ==>> toplamGNOya eklendi\n",
        "# ...\n",
        "# gnolarda okunmamis eleman kalmadi => dongu sonlandi"
      ],
      "metadata": {
        "colab": {
          "base_uri": "https://localhost:8080/"
        },
        "id": "9f8T354ZMWTx",
        "outputId": "2cd0202c-dbc5-4372-ea99-742a8264fa5b"
      },
      "execution_count": null,
      "outputs": [
        {
          "output_type": "stream",
          "name": "stdout",
          "text": [
            "Öğrencilerin GNO ortalaması: 2.636\n",
            "10 tane ogrenci icinden 8 ogrencinin notu goz onune alinmistir\n"
          ]
        }
      ]
    },
    {
      "cell_type": "code",
      "source": [
        "ogrGNOlari"
      ],
      "metadata": {
        "colab": {
          "base_uri": "https://localhost:8080/"
        },
        "id": "olcdQZsNNHL3",
        "outputId": "36864799-87cc-4e0a-c22d-769dd53d7b75"
      },
      "execution_count": null,
      "outputs": [
        {
          "output_type": "execute_result",
          "data": {
            "text/plain": [
              "[1.9, 2.2, 3.3, 3.1, 1.99, 4.0, 3.1, 1.1, 2.2, 3.3]"
            ]
          },
          "metadata": {},
          "execution_count": 42
        }
      ]
    },
    {
      "cell_type": "code",
      "source": [
        "enyuksekGNO, endusukGNO "
      ],
      "metadata": {
        "colab": {
          "base_uri": "https://localhost:8080/"
        },
        "id": "3UBSa4tYNQ6f",
        "outputId": "0febdfe4-fbcb-4eff-bcd7-7fb0cfd186f0"
      },
      "execution_count": null,
      "outputs": [
        {
          "output_type": "execute_result",
          "data": {
            "text/plain": [
              "(4.0, 1.1)"
            ]
          },
          "metadata": {},
          "execution_count": 43
        }
      ]
    },
    {
      "cell_type": "code",
      "source": [
        "toplamGNO = 0 # ilk deger verme - initialization\n",
        "kac_ogrenci = 0\n",
        "enyuksekGNO = max(ogrGNOlari) \n",
        "endusukGNO = min(ogrGNOlari)\n",
        "for gno in ogrGNOlari:\n",
        "    if gno == enyuksekGNO or gno == endusukGNO:\n",
        "        break\n",
        "    toplamGNO = toplamGNO + gno\n",
        "    kac_ogrenci += 1\n",
        "ortalama_gno = toplamGNO / kac_ogrenci \n",
        "# kac_ogrenci yerine len(ogrGNOlari) kullanilabilirdi ==> ortalama_gno = toplamGNO / len(ogrGNOlari)\n",
        "print(f\"Öğrencilerin GNO ortalaması: {ortalama_gno:.3f}\") # tum ogrencilerin ortalamasi bulunmustur\n",
        "print(f\"{len(ogrGNOlari)} tane ogrenci icinden {kac_ogrenci} ogrencinin notu goz onune alinmistir\")\n",
        "\n",
        "# enyuksekGNO => 4.0, endusukGNO => 1.1\n",
        "# dongunun ilk iterasyonunda => gno = 1.9 ==>> toplamGNOya eklendi\n",
        "# 2. iterasyonda             => gno = 2.2 ==>> toplamGNOya eklendi\n",
        "# 3. iterasyonda             => gno = 3.3 ==>> toplamGNOya eklendi\n",
        "# 4. iterasyonda             => gno = 3.1 ==>> toplamGNOya eklendi\n",
        "# 5. iterasyonda             => gno = 1.99 ==>> toplamGNOya eklendi\n",
        "# 6. iterasyonda             => gno = 4.0 ==>> break isletildi ve dongu kirildigi icin sonlandi"
      ],
      "metadata": {
        "colab": {
          "base_uri": "https://localhost:8080/"
        },
        "id": "Nl32k8PPMrjj",
        "outputId": "ccee8e0b-586d-45be-87c1-50f909bafc00"
      },
      "execution_count": null,
      "outputs": [
        {
          "output_type": "stream",
          "name": "stdout",
          "text": [
            "Öğrencilerin GNO ortalaması: 2.498\n",
            "10 tane ogrenci icinden 5 ogrencinin notu goz onune alinmistir\n"
          ]
        }
      ]
    },
    {
      "cell_type": "code",
      "source": [
        "gno == enyuksekGNO or gno == endusukGNO\n"
      ],
      "metadata": {
        "id": "TslbwtU0OK4X"
      },
      "execution_count": null,
      "outputs": []
    },
    {
      "cell_type": "code",
      "source": [
        "toplamGNO = 0 # ilk deger verme - initialization\n",
        "kac_ogrenci = 0\n",
        "enyuksekGNO = max(ogrGNOlari) \n",
        "endusukGNO = min(ogrGNOlari)\n",
        "for gno in ogrGNOlari:\n",
        "    if gno == enyuksekGNO or gno == endusukGNO:\n",
        "        pass\n",
        "    else:\n",
        "        toplamGNO = toplamGNO + gno\n",
        "        kac_ogrenci += 1\n",
        "ortalama_gno = toplamGNO / kac_ogrenci "
      ],
      "metadata": {
        "id": "iFM0iG2oMsh8"
      },
      "execution_count": null,
      "outputs": []
    },
    {
      "cell_type": "code",
      "source": [
        "toplamGNO = 0 # ilk deger verme - initialization\n",
        "kac_ogrenci = 0\n",
        "enyuksekGNO = max(ogrGNOlari) \n",
        "endusukGNO = min(ogrGNOlari)\n",
        "for gno in ogrGNOlari:\n",
        "    if not(gno == enyuksekGNO or gno == endusukGNO):\n",
        "        toplamGNO = toplamGNO + gno\n",
        "        kac_ogrenci += 1\n",
        "ortalama_gno = toplamGNO / kac_ogrenci"
      ],
      "metadata": {
        "id": "F1HJwpJDOYiD"
      },
      "execution_count": null,
      "outputs": []
    },
    {
      "cell_type": "code",
      "source": [
        "toplamGNO = 0 # ilk deger verme - initialization\n",
        "kac_ogrenci = 0\n",
        "enyuksekGNO = max(ogrGNOlari) \n",
        "endusukGNO = min(ogrGNOlari)\n",
        "for gno in ogrGNOlari:\n",
        "    if gno != enyuksekGNO and gno != endusukGNO:\n",
        "        toplamGNO = toplamGNO + gno\n",
        "        kac_ogrenci += 1\n",
        "ortalama_gno = toplamGNO / kac_ogrenci\n",
        "# kac_ogrenci yerine len(ogrGNOlari) kullanilabilirdi ==> ortalama_gno = toplamGNO / len(ogrGNOlari)\n",
        "print(f\"Öğrencilerin GNO ortalaması: {ortalama_gno:.3f}\") # tum ogrencilerin ortalamasi bulunmustur\n",
        "print(f\"{len(ogrGNOlari)} tane ogrenci icinden {kac_ogrenci} ogrencinin notu goz onune alinmistir\")"
      ],
      "metadata": {
        "colab": {
          "base_uri": "https://localhost:8080/"
        },
        "id": "tm07lk6JOmDY",
        "outputId": "322a0914-f175-433a-e0d7-a7b5e908d55d"
      },
      "execution_count": null,
      "outputs": [
        {
          "output_type": "stream",
          "name": "stdout",
          "text": [
            "Öğrencilerin GNO ortalaması: 2.636\n",
            "10 tane ogrenci icinden 8 ogrencinin notu goz onune alinmistir\n"
          ]
        }
      ]
    },
    {
      "cell_type": "code",
      "source": [
        "# asagidaki ifadeler birbiriyle tamamen ayni mantiksal operasyonlardir\n",
        "not (gno == enyuksekGNO or gno == endusukGNO)\n",
        "gno != enyuksekGNO and gno != endusukGNO"
      ],
      "metadata": {
        "id": "JsDuZcsVOvau"
      },
      "execution_count": null,
      "outputs": []
    },
    {
      "cell_type": "code",
      "source": [
        "# Indekslerle verilerin okunmasi\n",
        "ogrGNOlari = [1.9, 2.2, 3.3]\n",
        "# ogrenci gnolarinin tumunun indeksleriyle okunmasi\n",
        "\n",
        "print(\"For dongusu sonuclari: \")\n",
        "for indeks in range( len(ogrGNOlari) ):\n",
        "    print(ogrGNOlari[indeks])\n",
        "\n",
        "print(\"For dongusu sonuclari - 2: \")\n",
        "kac_ogrenci = len(ogrGNOlari)\n",
        "for indeks in range(kac_ogrenci):\n",
        "    print(ogrGNOlari[indeks])\n",
        "\n",
        "print(\"While dongusu sonuclari: \")\n",
        "indeks_w = 0 # while dongusunun indeksi (w whiledan geliyor)\n",
        "# kosul => ogrGNOlari listesindeki tum elemanlara ulasana kadar\n",
        "#       => 0. indeksten baslayarak, en sondaki elemanin pozitif indeksine kadar (3 tane eleman oldugu icin 2 indeksine kadar)\n",
        "# en sondaki elemanin pozitif indeksine kadar? => len(ogrGNOlari)-1\n",
        "# ===>>> en son elemanin indeksi, eleman sayisinin (len(ogrGNOlari)) 1 eksigidir\n",
        "# kosulumuz: indeks_w, len(ogrGNOlari)-1 sayisindan kucuk ya da bu sayiya esit oldugu surece dongu devam etsin\n",
        "# kosulumuz ==>> indeks_w <= len(ogrGNOlari)-1\n",
        "#                indeks_w <= 2\n",
        "# kosulumuz ==>> indeks_w < len(ogrGNOlari)\n",
        "#                indeks_w < 3\n",
        "while indeks_w <= len(ogrGNOlari)-1:\n",
        "    print(ogrGNOlari[indeks_w])\n",
        "    indeks_w += 1 # indeks degerini dongu icinde 1 arttiriyoruz !!\n",
        "\n",
        "print(\"While dongusu sonuclari (yorumsuz kod): \")\n",
        "indeks = 0\n",
        "while indeks < len(ogrGNOlari):\n",
        "    print(ogrGNOlari[indeks])\n",
        "    indeks += 1"
      ],
      "metadata": {
        "colab": {
          "base_uri": "https://localhost:8080/"
        },
        "id": "pflGNbgGPLQk",
        "outputId": "c778c6b5-1472-4f0e-ba23-7fec43be6521"
      },
      "execution_count": null,
      "outputs": [
        {
          "output_type": "stream",
          "name": "stdout",
          "text": [
            "For dongusu sonuclari: \n",
            "1.9\n",
            "2.2\n",
            "3.3\n",
            "For dongusu sonuclari - 2: \n",
            "1.9\n",
            "2.2\n",
            "3.3\n",
            "While dongusu sonuclari: \n",
            "1.9\n",
            "2.2\n",
            "3.3\n",
            "While dongusu sonuclari (yorumsuz kod): \n",
            "1.9\n",
            "2.2\n",
            "3.3\n"
          ]
        }
      ]
    },
    {
      "cell_type": "code",
      "source": [],
      "metadata": {
        "id": "2JONzzomYM5A"
      },
      "execution_count": null,
      "outputs": []
    },
    {
      "cell_type": "code",
      "source": [
        "# RESUL BEYDEN GELEN\n",
        "# adam asmaca oyunu\n",
        "while True:\n",
        "    import random\n",
        "\n",
        "    turkcesozluk = [\"aslında\",\"yükümlülük\"]\n",
        "    ingilizcesozluk = [\"indeed\",\"obligation\"]\n",
        "\n",
        "    Lt = []\n",
        "    Li = []\n",
        "    C  = []\n",
        "    Y  = []\n",
        "    yanlis_sayisi = 0\n",
        "    kelime = random.choice(ingilizcesozluk) #ingilizcesozluk'ten rastgele bir kelime seçer\n",
        "\n",
        "    for harf in kelime:        #seçilen kelimedeki harfleri Li listesine ekler\n",
        "        Li.append(harf)\n",
        "\n",
        "\n",
        "    cevap = \"-\" * len(kelime) #seçilen kelimen harf sayısı kadar '-' koyar\n",
        "    print(cevap)\n",
        "    for eleman in cevap: #cevap'taki tre 'leri C listesine ekler\n",
        "            C.append(eleman)\n",
        "    while True:\n",
        "        girilenharf = input('lütfen bir harf giriniz: ') #kullanıcıdan bir harf girmesini ister\n",
        "        if girilenharf not in Li:\n",
        "            Y.append(girilenharf)\n",
        "            print(f\"yanlış sayısı = {len(Y)}, {3-len(Y)} tane yanlış yapma hakkın kaldı\")\n",
        "            if len(Y) == 3:\n",
        "                print(\"bilemedin, tekrar denemek ister misin\")\n",
        "                break\n",
        "        yenicevap=\"\"\n",
        "        j=-1\n",
        "        for k in Li: # Li elemanlarını taradı(taramak için c değişkenini kullandık, girilenharfe eşit olan indexleri verdi\n",
        "            j+=1\n",
        "\n",
        "            if k==girilenharf:\n",
        "\n",
        "                C.insert(j, k) #girilenharf'i C listesinde(cevap için oluşturulan liste) ilgili indexlere göre yerleştirdi\n",
        "                C.pop(j+1)\n",
        "        for  m in C:\n",
        "            yenicevap+=m\n",
        "        print(yenicevap)\n",
        "\n",
        "        if C == Li:\n",
        "            print(\"tebrikleeeerrr\")\n",
        "            break\n",
        "           \n",
        "    devam_mi = input(\"devam etmek isterseniz E'ye basınız\")\n",
        "    if devam_mi!='E':\n",
        "        print(\"tekrar bekleriz\")\n",
        "        break"
      ],
      "metadata": {
        "colab": {
          "base_uri": "https://localhost:8080/",
          "height": 520
        },
        "id": "Xp4uz_gBTf2u",
        "outputId": "2054c842-783c-4d97-a573-a09fd2e1a9a8"
      },
      "execution_count": null,
      "outputs": [
        {
          "output_type": "stream",
          "name": "stdout",
          "text": [
            "----------\n",
            "lütfen bir harf giriniz: a\n",
            "lütfen bir harf giriniz: b\n",
            "lütfen bir harf giriniz: c\n",
            "yanlış sayısı = 1, 2 tane yanlış yapma hakkın kaldı\n",
            "lütfen bir harf giriniz: a\n",
            "lütfen bir harf giriniz: r\n",
            "yanlış sayısı = 2, 1 tane yanlış yapma hakkın kaldı\n"
          ]
        },
        {
          "output_type": "error",
          "ename": "KeyboardInterrupt",
          "evalue": "ignored",
          "traceback": [
            "\u001b[0;31m---------------------------------------------------------------------------\u001b[0m",
            "\u001b[0;31mKeyboardInterrupt\u001b[0m                         Traceback (most recent call last)",
            "\u001b[0;32m<ipython-input-52-e8ba5ff9d6fb>\u001b[0m in \u001b[0;36m<module>\u001b[0;34m\u001b[0m\n\u001b[1;32m     19\u001b[0m         \u001b[0mC\u001b[0m\u001b[0;34m.\u001b[0m\u001b[0mappend\u001b[0m\u001b[0;34m(\u001b[0m\u001b[0meleman\u001b[0m\u001b[0;34m)\u001b[0m\u001b[0;34m\u001b[0m\u001b[0;34m\u001b[0m\u001b[0m\n\u001b[1;32m     20\u001b[0m     \u001b[0;32mwhile\u001b[0m \u001b[0;32mTrue\u001b[0m\u001b[0;34m:\u001b[0m\u001b[0;34m\u001b[0m\u001b[0;34m\u001b[0m\u001b[0m\n\u001b[0;32m---> 21\u001b[0;31m         \u001b[0mgirilenharf\u001b[0m \u001b[0;34m=\u001b[0m \u001b[0minput\u001b[0m\u001b[0;34m(\u001b[0m\u001b[0;34m'lütfen bir harf giriniz: '\u001b[0m\u001b[0;34m)\u001b[0m \u001b[0;31m#kullanıcıdan bir harf girmesini ister\u001b[0m\u001b[0;34m\u001b[0m\u001b[0;34m\u001b[0m\u001b[0m\n\u001b[0m\u001b[1;32m     22\u001b[0m         \u001b[0;32mif\u001b[0m \u001b[0mgirilenharf\u001b[0m \u001b[0;32mnot\u001b[0m \u001b[0;32min\u001b[0m \u001b[0mLi\u001b[0m\u001b[0;34m:\u001b[0m\u001b[0;34m\u001b[0m\u001b[0;34m\u001b[0m\u001b[0m\n\u001b[1;32m     23\u001b[0m             \u001b[0mY\u001b[0m\u001b[0;34m.\u001b[0m\u001b[0mappend\u001b[0m\u001b[0;34m(\u001b[0m\u001b[0mgirilenharf\u001b[0m\u001b[0;34m)\u001b[0m\u001b[0;34m\u001b[0m\u001b[0;34m\u001b[0m\u001b[0m\n",
            "\u001b[0;32m/usr/local/lib/python3.7/dist-packages/ipykernel/kernelbase.py\u001b[0m in \u001b[0;36mraw_input\u001b[0;34m(self, prompt)\u001b[0m\n\u001b[1;32m    861\u001b[0m             \u001b[0mself\u001b[0m\u001b[0;34m.\u001b[0m\u001b[0m_parent_ident\u001b[0m\u001b[0;34m,\u001b[0m\u001b[0;34m\u001b[0m\u001b[0;34m\u001b[0m\u001b[0m\n\u001b[1;32m    862\u001b[0m             \u001b[0mself\u001b[0m\u001b[0;34m.\u001b[0m\u001b[0m_parent_header\u001b[0m\u001b[0;34m,\u001b[0m\u001b[0;34m\u001b[0m\u001b[0;34m\u001b[0m\u001b[0m\n\u001b[0;32m--> 863\u001b[0;31m             \u001b[0mpassword\u001b[0m\u001b[0;34m=\u001b[0m\u001b[0;32mFalse\u001b[0m\u001b[0;34m,\u001b[0m\u001b[0;34m\u001b[0m\u001b[0;34m\u001b[0m\u001b[0m\n\u001b[0m\u001b[1;32m    864\u001b[0m         )\n\u001b[1;32m    865\u001b[0m \u001b[0;34m\u001b[0m\u001b[0m\n",
            "\u001b[0;32m/usr/local/lib/python3.7/dist-packages/ipykernel/kernelbase.py\u001b[0m in \u001b[0;36m_input_request\u001b[0;34m(self, prompt, ident, parent, password)\u001b[0m\n\u001b[1;32m    902\u001b[0m             \u001b[0;32mexcept\u001b[0m \u001b[0mKeyboardInterrupt\u001b[0m\u001b[0;34m:\u001b[0m\u001b[0;34m\u001b[0m\u001b[0;34m\u001b[0m\u001b[0m\n\u001b[1;32m    903\u001b[0m                 \u001b[0;31m# re-raise KeyboardInterrupt, to truncate traceback\u001b[0m\u001b[0;34m\u001b[0m\u001b[0;34m\u001b[0m\u001b[0;34m\u001b[0m\u001b[0m\n\u001b[0;32m--> 904\u001b[0;31m                 \u001b[0;32mraise\u001b[0m \u001b[0mKeyboardInterrupt\u001b[0m\u001b[0;34m(\u001b[0m\u001b[0;34m\"Interrupted by user\"\u001b[0m\u001b[0;34m)\u001b[0m \u001b[0;32mfrom\u001b[0m \u001b[0;32mNone\u001b[0m\u001b[0;34m\u001b[0m\u001b[0;34m\u001b[0m\u001b[0m\n\u001b[0m\u001b[1;32m    905\u001b[0m             \u001b[0;32mexcept\u001b[0m \u001b[0mException\u001b[0m \u001b[0;32mas\u001b[0m \u001b[0me\u001b[0m\u001b[0;34m:\u001b[0m\u001b[0;34m\u001b[0m\u001b[0;34m\u001b[0m\u001b[0m\n\u001b[1;32m    906\u001b[0m                 \u001b[0mself\u001b[0m\u001b[0;34m.\u001b[0m\u001b[0mlog\u001b[0m\u001b[0;34m.\u001b[0m\u001b[0mwarning\u001b[0m\u001b[0;34m(\u001b[0m\u001b[0;34m\"Invalid Message:\"\u001b[0m\u001b[0;34m,\u001b[0m \u001b[0mexc_info\u001b[0m\u001b[0;34m=\u001b[0m\u001b[0;32mTrue\u001b[0m\u001b[0;34m)\u001b[0m\u001b[0;34m\u001b[0m\u001b[0;34m\u001b[0m\u001b[0m\n",
            "\u001b[0;31mKeyboardInterrupt\u001b[0m: Interrupted by user"
          ]
        }
      ]
    },
    {
      "cell_type": "markdown",
      "source": [
        "##### **Alıştırma 3**\n",
        "Kullanıcı tarafından bilgileri sağlanacak olan ve adının ilk harfi 'a' (ya da 'A') olanlar haricindeki çalışanlar için ödeme tutarını hesaplayan bir program yazınız. Programınız çalışanın adını, çalıştığı süreyi ve saat başına kazandığı ücret bilgisini aldıktan sonra çalışana yapılacak ödeme miktarını hesaplayıp kullanıcıya göstermelidir (40 saat üzeri çalışma mesai olarak değerlendirilecek olup mesai saat ücreti normal ücretin 1,5 katı olacaktır.) Programınız, kullanıcı hesaplatmaya devam etmek istediği sürece ücret hesaplamalarına devam etmelidir. Programınız kullanıcı 'devam etmek istiyor musunuz?' sorusuna 'H' ya da 'Hayır' girdiği zaman programınız hesaplamaları durduracaktır."
      ],
      "metadata": {
        "id": "Cdn1q3lrRefl"
      }
    },
    {
      "cell_type": "code",
      "source": [
        "# ODEME TUTARINI HESAPLAYAN KOD\n",
        "sure = input(\"Saat olarak çalışılan süreyi giriniz: \")\n",
        "sure = float(sure)\n",
        "saatucreti = input(\"Saatlik ücret miktarını giriniz: \")\n",
        "saatucreti = float(saatucreti)\n",
        "\n",
        "mesai_ici_sure = 40\n",
        "fazla_mesai_ucret_katsayisi = 1.5\n",
        "\n",
        "if sure > mesai_ici_sure:\n",
        "    fazla_mesai_suresi = sure - mesai_ici_sure\n",
        "    mesai_ucreti = saatucreti * fazla_mesai_ucret_katsayisi\n",
        "    odeme_miktari = mesai_ici_sure * saatucreti +  fazla_mesai_suresi * mesai_ucreti\n",
        "else: # sure <= 40 olma durumu\n",
        "    odeme_miktari = sure * saatucreti\n",
        "\n",
        "print(f\"Alacağınız ödeme tutarı: {odeme_miktari} TL'dir\")"
      ],
      "metadata": {
        "colab": {
          "base_uri": "https://localhost:8080/"
        },
        "id": "FTk6SdaEPYTs",
        "outputId": "88938f29-8ef6-4144-c3cd-e9b59808cac5"
      },
      "execution_count": null,
      "outputs": [
        {
          "output_type": "stream",
          "name": "stdout",
          "text": [
            "Saat olarak çalışılan süreyi giriniz: 50\n",
            "Saatlik ücret miktarını giriniz: 10\n",
            "Alacağınız ödeme tutarı: 550.0 TL'dir\n"
          ]
        }
      ]
    },
    {
      "cell_type": "code",
      "source": [
        "print(\"Ücret Hesaplama Modülüne Hoşgeldiniz\")\n",
        "while True:\n",
        "    # 1. Kullanıcıdan bilgi alma mödülü\n",
        "    calisan_ismi = input(\"Çalışanın adını giriniz: \")\n",
        "    # girdinin kontrolu yapilacak (a,A? ) # input check\n",
        "    if calisan_ismi[0] == 'a' or calisan_ismi[0] == 'A':\n",
        "        print(f\"Çalışanın adının ilk harfi a ya da A olduğundan {calisan_ismi} için hesaplama yapılmıyor\")\n",
        "        continue\n",
        "    \n",
        "    sure = input(\"Saat olarak çalışılan süreyi giriniz: \")\n",
        "    # input check? - girdi kontrolu? - sure bir sayi mi kontrol edilmelidir/\n",
        "    sure = float(sure)\n",
        "    saatucreti = input(\"Saatlik ücret miktarını giriniz: \")\n",
        "    saatucreti = float(saatucreti)\n",
        "\n",
        "    # 2. Maas hesaplama modulu\n",
        "    mesai_ici_sure = 40\n",
        "    fazla_mesai_ucret_katsayisi = 1.5\n",
        "\n",
        "    if sure > mesai_ici_sure:\n",
        "        fazla_mesai_suresi = sure - mesai_ici_sure\n",
        "        mesai_ucreti = saatucreti * fazla_mesai_ucret_katsayisi\n",
        "        odeme_miktari = mesai_ici_sure * saatucreti +  fazla_mesai_suresi * mesai_ucreti\n",
        "    else: # surenin mesai_ici_sure'den kisa olma durumu\n",
        "        odeme_miktari = sure * saatucreti\n",
        "\n",
        "    print(f\"Alacağınız ödeme tutarı: {odeme_miktari} TL'dir\")\n",
        "\n",
        "    # 3. hesaplamalara devam edilecek mi kismi\n",
        "    #    sonsuz dongu icinde kullanicidan dongunun bitip bitmedigi bilgisinin alınması\n",
        "    # bitti bilgisi alindi ise donguden cikan kodu yazalim\n",
        "    bitti_mi_bilgisi = input(\"Hesaplamaya devam etmek istiyor musunuz? E ya da H giriniz: \")\n",
        "    # 'H' ya da 'Hayır' girdiği zaman programınız hesaplamaları durduracaktır.\n",
        "    if bitti_mi_bilgisi == 'H' or bitti_mi_bilgisi == 'Hayır':\n",
        "        print(\"Hesaplama işlemleri sonlandırılmıştır.\")\n",
        "        break"
      ],
      "metadata": {
        "id": "HmNyLaSXSj2L",
        "colab": {
          "base_uri": "https://localhost:8080/"
        },
        "outputId": "9466e0cb-b319-47e2-c848-62dc6a85f158"
      },
      "execution_count": null,
      "outputs": [
        {
          "output_type": "stream",
          "name": "stdout",
          "text": [
            "Çalışanın adını giriniz: ahmet\n",
            "Çalışanın adının ilk harfi a ya da A olduğundan ahmet için hesaplama yapılmıyor\n",
            "Çalışanın adını giriniz: onur\n",
            "Saat olarak çalışılan süreyi giriniz: 50\n",
            "Saatlik ücret miktarını giriniz: 10\n",
            "Alacağınız ödeme tutarı: 550.0 TL'dir\n",
            "Hesaplamaya devam etmek istiyor musunuz? E ya da H giriniz: evet\n",
            "Çalışanın adını giriniz: ece\n",
            "Saat olarak çalışılan süreyi giriniz: 60\n",
            "Saatlik ücret miktarını giriniz: 15\n",
            "Alacağınız ödeme tutarı: 1050.0 TL'dir\n",
            "Hesaplamaya devam etmek istiyor musunuz? E ya da H giriniz: h\n",
            "Çalışanın adını giriniz: mehmet\n",
            "Saat olarak çalışılan süreyi giriniz: 80\n",
            "Saatlik ücret miktarını giriniz: 12\n",
            "Alacağınız ödeme tutarı: 1200.0 TL'dir\n",
            "Hesaplamaya devam etmek istiyor musunuz? E ya da H giriniz: ghsjklghs;l\n",
            "Çalışanın adını giriniz: selin\n",
            "Saat olarak çalışılan süreyi giriniz: 55\n",
            "Saatlik ücret miktarını giriniz: 10\n",
            "Alacağınız ödeme tutarı: 625.0 TL'dir\n",
            "Hesaplamaya devam etmek istiyor musunuz? E ya da H giriniz: H\n",
            "Hesaplama işlemleri sonlandırılmıştır.\n"
          ]
        }
      ]
    },
    {
      "cell_type": "code",
      "source": [
        "print( dir(str) )"
      ],
      "metadata": {
        "colab": {
          "base_uri": "https://localhost:8080/"
        },
        "id": "BoKLZFridSX4",
        "outputId": "e92a3236-671d-4dfe-f6b8-b29121711da6"
      },
      "execution_count": null,
      "outputs": [
        {
          "output_type": "stream",
          "name": "stdout",
          "text": [
            "['__add__', '__class__', '__contains__', '__delattr__', '__dir__', '__doc__', '__eq__', '__format__', '__ge__', '__getattribute__', '__getitem__', '__getnewargs__', '__gt__', '__hash__', '__init__', '__init_subclass__', '__iter__', '__le__', '__len__', '__lt__', '__mod__', '__mul__', '__ne__', '__new__', '__reduce__', '__reduce_ex__', '__repr__', '__rmod__', '__rmul__', '__setattr__', '__sizeof__', '__str__', '__subclasshook__', 'capitalize', 'casefold', 'center', 'count', 'encode', 'endswith', 'expandtabs', 'find', 'format', 'format_map', 'index', 'isalnum', 'isalpha', 'isascii', 'isdecimal', 'isdigit', 'isidentifier', 'islower', 'isnumeric', 'isprintable', 'isspace', 'istitle', 'isupper', 'join', 'ljust', 'lower', 'lstrip', 'maketrans', 'partition', 'replace', 'rfind', 'rindex', 'rjust', 'rpartition', 'rsplit', 'rstrip', 'split', 'splitlines', 'startswith', 'strip', 'swapcase', 'title', 'translate', 'upper', 'zfill']\n"
          ]
        }
      ]
    },
    {
      "cell_type": "code",
      "source": [
        "ornek_dize = 'Banka'"
      ],
      "metadata": {
        "id": "mh2_Xp6UdSan"
      },
      "execution_count": null,
      "outputs": []
    },
    {
      "cell_type": "code",
      "source": [
        "print(ornek_dize)"
      ],
      "metadata": {
        "colab": {
          "base_uri": "https://localhost:8080/"
        },
        "id": "OZRmMPGXfDmL",
        "outputId": "9fe5e085-5d2b-46bc-cb87-93715e03233c"
      },
      "execution_count": null,
      "outputs": [
        {
          "output_type": "stream",
          "name": "stdout",
          "text": [
            "Banka\n"
          ]
        }
      ]
    },
    {
      "cell_type": "code",
      "source": [
        "ornek_dize"
      ],
      "metadata": {
        "colab": {
          "base_uri": "https://localhost:8080/",
          "height": 35
        },
        "id": "1TaaTipCfDog",
        "outputId": "9530b316-6f54-446f-b4e0-5c452a0ff5ab"
      },
      "execution_count": null,
      "outputs": [
        {
          "output_type": "execute_result",
          "data": {
            "text/plain": [
              "'Banka'"
            ],
            "application/vnd.google.colaboratory.intrinsic+json": {
              "type": "string"
            }
          },
          "metadata": {},
          "execution_count": 6
        }
      ]
    },
    {
      "cell_type": "code",
      "source": [
        "ornek_dize.lower()"
      ],
      "metadata": {
        "colab": {
          "base_uri": "https://localhost:8080/",
          "height": 35
        },
        "id": "4RgcAvOcfKel",
        "outputId": "96536a5c-dc22-48bc-ecd3-8d243d4c664d"
      },
      "execution_count": null,
      "outputs": [
        {
          "output_type": "execute_result",
          "data": {
            "text/plain": [
              "'banka'"
            ],
            "application/vnd.google.colaboratory.intrinsic+json": {
              "type": "string"
            }
          },
          "metadata": {},
          "execution_count": 7
        }
      ]
    },
    {
      "cell_type": "code",
      "source": [
        "ornek_dize # orjinal degeri degismemistir !!!"
      ],
      "metadata": {
        "colab": {
          "base_uri": "https://localhost:8080/",
          "height": 35
        },
        "id": "4HtYjgCtfKhd",
        "outputId": "59c8edff-7c93-489e-f07a-976820622f97"
      },
      "execution_count": null,
      "outputs": [
        {
          "output_type": "execute_result",
          "data": {
            "text/plain": [
              "'Banka'"
            ],
            "application/vnd.google.colaboratory.intrinsic+json": {
              "type": "string"
            }
          },
          "metadata": {},
          "execution_count": 9
        }
      ]
    },
    {
      "cell_type": "code",
      "source": [
        "# ornek_dize.lower() => (dizelerin lower fonksiyonu) bir string dondurur\n",
        "# ve orjinal dizeyi degistirmiyor\n",
        "# => string dondurdugunden direk olarak (fonksiyonun cagrilmasina devamen) indeksleme yapilabilir\n",
        "ornek_dize.lower()[0]"
      ],
      "metadata": {
        "colab": {
          "base_uri": "https://localhost:8080/",
          "height": 35
        },
        "id": "u0aEVhpOfDr1",
        "outputId": "e2c8ff06-0f77-4d6e-d139-a3e67d19264a"
      },
      "execution_count": null,
      "outputs": [
        {
          "output_type": "execute_result",
          "data": {
            "text/plain": [
              "'b'"
            ],
            "application/vnd.google.colaboratory.intrinsic+json": {
              "type": "string"
            }
          },
          "metadata": {},
          "execution_count": 10
        }
      ]
    },
    {
      "cell_type": "code",
      "source": [
        "ornek_dize.lower().startswith('b')"
      ],
      "metadata": {
        "colab": {
          "base_uri": "https://localhost:8080/"
        },
        "id": "AbG-6dhNgXvK",
        "outputId": "fc838e33-cbd2-4a08-a4bc-2236791626dd"
      },
      "execution_count": null,
      "outputs": [
        {
          "output_type": "execute_result",
          "data": {
            "text/plain": [
              "True"
            ]
          },
          "metadata": {},
          "execution_count": 11
        }
      ]
    },
    {
      "cell_type": "code",
      "source": [
        "# yukaridaki kod ile ayni islem yapmis olunuyor - tek fark kucuk harf olan versiyonuna bir degisken ile ulasilabilmekte.\n",
        "ornek_dize_kucuk_harf = ornek_dize.lower()\n",
        "ornek_dize_kucuk_harf.startswith('b')"
      ],
      "metadata": {
        "colab": {
          "base_uri": "https://localhost:8080/"
        },
        "id": "sVnbc1CXg1cW",
        "outputId": "ec427f27-4845-4418-a8b8-7f3c8111ba8f"
      },
      "execution_count": null,
      "outputs": [
        {
          "output_type": "execute_result",
          "data": {
            "text/plain": [
              "True"
            ]
          },
          "metadata": {},
          "execution_count": 12
        }
      ]
    },
    {
      "cell_type": "code",
      "source": [
        "# girdinin sayi mi kontrolunun yapilmasi\n",
        "# girdi olarak 50 yerine 5o girildiginde;\n",
        "# HATA: ValueError: could not convert string to float: '5o'"
      ],
      "metadata": {
        "id": "YxVhrrzTisEs"
      },
      "execution_count": null,
      "outputs": []
    },
    {
      "cell_type": "code",
      "source": [
        "# amac: kullanici tarafindan girilen string, bir sayi iceriyor mu?\n",
        "# hatali girdiler: 12,5   12o  20.5.5   1-2  -12- -12.44-\n",
        "# hatasiz girdiler: 20  15.5  254.285  -12  -12.44 \n",
        "# kullanilabilecek string fonksiyonlari: isnumeric, isdigit, isdecimal"
      ],
      "metadata": {
        "id": "9I8LJZ6zqtVI"
      },
      "execution_count": null,
      "outputs": []
    },
    {
      "cell_type": "code",
      "source": [
        "# isnumeric fonk.\n",
        "sayi_ornegi = '20'\n",
        "sayi_ornegi.isnumeric()"
      ],
      "metadata": {
        "colab": {
          "base_uri": "https://localhost:8080/"
        },
        "id": "FQXwdkTBg2AE",
        "outputId": "e11b9b59-5c04-4fb1-8caa-a7e02d3d6a09"
      },
      "execution_count": null,
      "outputs": [
        {
          "output_type": "execute_result",
          "data": {
            "text/plain": [
              "True"
            ]
          },
          "metadata": {},
          "execution_count": 43
        }
      ]
    },
    {
      "cell_type": "code",
      "source": [
        "sayi_ornegi = '2o'\n",
        "sayi_ornegi.isnumeric()\n",
        "# pozitif tamsayi kontrolunu yapabiliyor (fakat ondalik sayilar?, negatif sayilar?)"
      ],
      "metadata": {
        "colab": {
          "base_uri": "https://localhost:8080/"
        },
        "id": "dsXcSpsvrAjn",
        "outputId": "a3543f5a-2f50-401d-8551-1e0a9a13e8eb"
      },
      "execution_count": null,
      "outputs": [
        {
          "output_type": "execute_result",
          "data": {
            "text/plain": [
              "False"
            ]
          },
          "metadata": {},
          "execution_count": 44
        }
      ]
    },
    {
      "cell_type": "code",
      "source": [
        "sayi_ornegi.isnumeric?\n",
        "# Signature: sayi_ornegi.isnumeric()\n",
        "# Docstring: Return True if the string is a numeric string, False otherwise.\n",
        "# A string is numeric if all characters in the string are numeric and there is at least one character in the string."
      ],
      "metadata": {
        "id": "66PvjW5EjJN4"
      },
      "execution_count": null,
      "outputs": []
    },
    {
      "cell_type": "code",
      "source": [
        "sayi_ornegi = '50.5'\n",
        "sayi_ornegi.isnumeric()"
      ],
      "metadata": {
        "colab": {
          "base_uri": "https://localhost:8080/"
        },
        "id": "Upd11hWJjr_6",
        "outputId": "d5994c96-edbe-4f02-fb1c-b6ef9261ed4e"
      },
      "execution_count": null,
      "outputs": [
        {
          "output_type": "execute_result",
          "data": {
            "text/plain": [
              "False"
            ]
          },
          "metadata": {},
          "execution_count": 20
        }
      ]
    },
    {
      "cell_type": "code",
      "source": [
        "float(sayi_ornegi)"
      ],
      "metadata": {
        "colab": {
          "base_uri": "https://localhost:8080/"
        },
        "id": "mIFbyFb_jz_o",
        "outputId": "1f3ba91f-89ea-4887-f7f5-3843796bafea"
      },
      "execution_count": null,
      "outputs": [
        {
          "output_type": "execute_result",
          "data": {
            "text/plain": [
              "50.5"
            ]
          },
          "metadata": {},
          "execution_count": 21
        }
      ]
    },
    {
      "cell_type": "code",
      "source": [
        "sayi_ornegi.isdigit()"
      ],
      "metadata": {
        "colab": {
          "base_uri": "https://localhost:8080/"
        },
        "id": "oTF6WqbMkNCy",
        "outputId": "5ed00112-d86f-4f18-c0f7-76b193967cf5"
      },
      "execution_count": null,
      "outputs": [
        {
          "output_type": "execute_result",
          "data": {
            "text/plain": [
              "False"
            ]
          },
          "metadata": {},
          "execution_count": 22
        }
      ]
    },
    {
      "cell_type": "code",
      "source": [
        "sayi_ornegi.isdecimal()"
      ],
      "metadata": {
        "colab": {
          "base_uri": "https://localhost:8080/"
        },
        "id": "PnFVfOTakNFw",
        "outputId": "49db8a4a-8e4e-4f96-9722-0b11b8779931"
      },
      "execution_count": null,
      "outputs": [
        {
          "output_type": "execute_result",
          "data": {
            "text/plain": [
              "False"
            ]
          },
          "metadata": {},
          "execution_count": 23
        }
      ]
    },
    {
      "cell_type": "code",
      "source": [
        "sayi_ornegi * 3 # carpma islemi stringlerde concatenation olarak calismaktadir."
      ],
      "metadata": {
        "colab": {
          "base_uri": "https://localhost:8080/",
          "height": 35
        },
        "id": "U7LnclisjJQK",
        "outputId": "9a57a25e-e3a0-4784-c705-aa3080349e54"
      },
      "execution_count": null,
      "outputs": [
        {
          "output_type": "execute_result",
          "data": {
            "text/plain": [
              "'50.550.550.5'"
            ],
            "application/vnd.google.colaboratory.intrinsic+json": {
              "type": "string"
            }
          },
          "metadata": {},
          "execution_count": 26
        }
      ]
    },
    {
      "cell_type": "code",
      "source": [
        "# ondalik sayiyi belirleyen nokta ya da virgulu, kaldirarak, sayi mi kontrolunu yapabiliriz\n",
        "sayi_ornegi.replace('.', '')"
      ],
      "metadata": {
        "colab": {
          "base_uri": "https://localhost:8080/",
          "height": 35
        },
        "id": "2R5ar4lBknnv",
        "outputId": "5b08d125-76ec-47c6-d958-cebf77657e26"
      },
      "execution_count": null,
      "outputs": [
        {
          "output_type": "execute_result",
          "data": {
            "text/plain": [
              "'505'"
            ],
            "application/vnd.google.colaboratory.intrinsic+json": {
              "type": "string"
            }
          },
          "metadata": {},
          "execution_count": 32
        }
      ]
    },
    {
      "cell_type": "code",
      "source": [
        "sayi_ornegi.replace('.', '').isnumeric() # ondalikli sayilari gercekten sayi olarak degerlendiriyor?"
      ],
      "metadata": {
        "colab": {
          "base_uri": "https://localhost:8080/"
        },
        "id": "GQ-kbZX2lEy4",
        "outputId": "c0952bd3-7232-4857-bc38-8ab45e83d4a9"
      },
      "execution_count": null,
      "outputs": [
        {
          "output_type": "execute_result",
          "data": {
            "text/plain": [
              "True"
            ]
          },
          "metadata": {},
          "execution_count": 30
        }
      ]
    },
    {
      "cell_type": "code",
      "source": [
        "sayi_ornegi"
      ],
      "metadata": {
        "colab": {
          "base_uri": "https://localhost:8080/",
          "height": 35
        },
        "id": "mw6k7OINknqT",
        "outputId": "b953d0e1-5dd2-475e-a1a5-3259d70f6f34"
      },
      "execution_count": null,
      "outputs": [
        {
          "output_type": "execute_result",
          "data": {
            "text/plain": [
              "'50.5'"
            ],
            "application/vnd.google.colaboratory.intrinsic+json": {
              "type": "string"
            }
          },
          "metadata": {},
          "execution_count": 31
        }
      ]
    },
    {
      "cell_type": "code",
      "source": [
        "float(sayi_ornegi)"
      ],
      "metadata": {
        "colab": {
          "base_uri": "https://localhost:8080/"
        },
        "id": "E-rtREHXlZ_H",
        "outputId": "ea85d997-04ba-4347-a6c7-30cbf1516549"
      },
      "execution_count": null,
      "outputs": [
        {
          "output_type": "execute_result",
          "data": {
            "text/plain": [
              "50.5"
            ]
          },
          "metadata": {},
          "execution_count": 33
        }
      ]
    },
    {
      "cell_type": "code",
      "source": [
        "sayi_ornegi = '50.5.5'\n",
        "sayi_ornegi.replace('.', '').isnumeric() # ondalikli sayilari gercekten sayi olarak degerlendiriyor??\n",
        "# girdinin icinde tek bir ondalik belirteci varsa, girdi bir sayidir, fakat birden fazla ondalik belirteci varsa bu sayi degildir!!\n",
        "# iki veya daha fazla . varsa, replace hepsini kaldirdigindan isnumeric yanlis olarak True donduruyor"
      ],
      "metadata": {
        "colab": {
          "base_uri": "https://localhost:8080/"
        },
        "id": "cPxpiPsglmB4",
        "outputId": "286b7294-f9c1-4e6c-f854-23f5ef3bf038"
      },
      "execution_count": null,
      "outputs": [
        {
          "output_type": "execute_result",
          "data": {
            "text/plain": [
              "True"
            ]
          },
          "metadata": {},
          "execution_count": 34
        }
      ]
    },
    {
      "cell_type": "code",
      "source": [
        "sayi_ornegi.replace('.', '')"
      ],
      "metadata": {
        "colab": {
          "base_uri": "https://localhost:8080/",
          "height": 35
        },
        "id": "op-slVw0lmEO",
        "outputId": "54537b1a-afee-422b-f989-78f0bb03604e"
      },
      "execution_count": null,
      "outputs": [
        {
          "output_type": "execute_result",
          "data": {
            "text/plain": [
              "'5055'"
            ],
            "application/vnd.google.colaboratory.intrinsic+json": {
              "type": "string"
            }
          },
          "metadata": {},
          "execution_count": 35
        }
      ]
    },
    {
      "cell_type": "code",
      "source": [
        "# tek bir belirteci kaldiralim (ilk gorulen . isareti kaldiriliyor)\n",
        "# string icinde varsa noktalardan sadece ilki kaldirilsin\n",
        "sayi_ornegi.replace('.', '', 1)"
      ],
      "metadata": {
        "colab": {
          "base_uri": "https://localhost:8080/",
          "height": 35
        },
        "id": "pI9gDggElmGf",
        "outputId": "64e48163-77e1-4c3b-a80c-02ffabf84886"
      },
      "execution_count": null,
      "outputs": [
        {
          "output_type": "execute_result",
          "data": {
            "text/plain": [
              "'505.5'"
            ],
            "application/vnd.google.colaboratory.intrinsic+json": {
              "type": "string"
            }
          },
          "metadata": {},
          "execution_count": 37
        }
      ]
    },
    {
      "cell_type": "code",
      "source": [
        "# ondalik sayi kontrolu\n",
        "sayi_ornegi.replace('.', '', 1).isnumeric()"
      ],
      "metadata": {
        "colab": {
          "base_uri": "https://localhost:8080/"
        },
        "id": "bOBL2BPEmP5Q",
        "outputId": "7c0599e8-5d62-4440-a1b7-1acc36536e3c"
      },
      "execution_count": null,
      "outputs": [
        {
          "output_type": "execute_result",
          "data": {
            "text/plain": [
              "False"
            ]
          },
          "metadata": {},
          "execution_count": 38
        }
      ]
    },
    {
      "cell_type": "code",
      "source": [
        "# Negatif sayi kontrolu\n",
        "sayi_ornegi = '-50.5'\n",
        "sayi_ornegi.replace('.', '', 1).isnumeric()"
      ],
      "metadata": {
        "colab": {
          "base_uri": "https://localhost:8080/"
        },
        "id": "Qoenf1-tmqIn",
        "outputId": "92d14e04-ec4c-4c5f-8d13-4f90780a42c3"
      },
      "execution_count": null,
      "outputs": [
        {
          "output_type": "execute_result",
          "data": {
            "text/plain": [
              "False"
            ]
          },
          "metadata": {},
          "execution_count": 41
        }
      ]
    },
    {
      "cell_type": "code",
      "source": [
        "# - karakteri numerik olmadigindan sayi olarak gormuyor.\n",
        "# hatali olarak -50.5 icin False donduruyor.\n",
        "sayi_ornegi = '-50.5'\n",
        "sayi_ornegi.replace('.', '', 1)"
      ],
      "metadata": {
        "colab": {
          "base_uri": "https://localhost:8080/",
          "height": 35
        },
        "id": "anYTETOgm3NK",
        "outputId": "dc0832f4-cfb3-4fea-e568-caff5ffb8b38"
      },
      "execution_count": null,
      "outputs": [
        {
          "output_type": "execute_result",
          "data": {
            "text/plain": [
              "'-505'"
            ],
            "application/vnd.google.colaboratory.intrinsic+json": {
              "type": "string"
            }
          },
          "metadata": {},
          "execution_count": 46
        }
      ]
    },
    {
      "cell_type": "code",
      "source": [
        "float(sayi_ornegi) # eksi sayiyi dogru bir sekilde floata cevirebiliyor"
      ],
      "metadata": {
        "colab": {
          "base_uri": "https://localhost:8080/"
        },
        "id": "SwPwbOTnrvCn",
        "outputId": "ddd5625e-b53e-4fa2-cdae-bdfbcc22d859"
      },
      "execution_count": null,
      "outputs": [
        {
          "output_type": "execute_result",
          "data": {
            "text/plain": [
              "-50.5"
            ]
          },
          "metadata": {},
          "execution_count": 47
        }
      ]
    },
    {
      "cell_type": "code",
      "source": [
        "float(-19)"
      ],
      "metadata": {
        "colab": {
          "base_uri": "https://localhost:8080/"
        },
        "id": "rZ7r19FVrxWt",
        "outputId": "4848b1b0-34ef-4c1c-946d-4e2b136fc1bc"
      },
      "execution_count": null,
      "outputs": [
        {
          "output_type": "execute_result",
          "data": {
            "text/plain": [
              "-19.0"
            ]
          },
          "metadata": {},
          "execution_count": 48
        }
      ]
    },
    {
      "cell_type": "code",
      "source": [
        "sayi_ornegi = '-50'\n",
        "sayi_ornegi.isnumeric()"
      ],
      "metadata": {
        "colab": {
          "base_uri": "https://localhost:8080/"
        },
        "id": "hA4tzD1ZrxY-",
        "outputId": "8995fba4-67bb-4749-85eb-b4c1fc3849e3"
      },
      "execution_count": null,
      "outputs": [
        {
          "output_type": "execute_result",
          "data": {
            "text/plain": [
              "False"
            ]
          },
          "metadata": {},
          "execution_count": 49
        }
      ]
    },
    {
      "cell_type": "code",
      "source": [
        "sayi_ornegi.replace('-', '')"
      ],
      "metadata": {
        "colab": {
          "base_uri": "https://localhost:8080/",
          "height": 35
        },
        "id": "xNZcg2SgrxcC",
        "outputId": "6e47494d-5b13-4f08-8f40-e58eff32f662"
      },
      "execution_count": null,
      "outputs": [
        {
          "output_type": "execute_result",
          "data": {
            "text/plain": [
              "'50'"
            ],
            "application/vnd.google.colaboratory.intrinsic+json": {
              "type": "string"
            }
          },
          "metadata": {},
          "execution_count": 50
        }
      ]
    },
    {
      "cell_type": "code",
      "source": [
        "sayi_ornegi.replace('-', '').isnumeric()"
      ],
      "metadata": {
        "colab": {
          "base_uri": "https://localhost:8080/"
        },
        "id": "W_nXa9jlsFE8",
        "outputId": "a954d9ab-9864-4503-ebb3-ab9e9d0d0331"
      },
      "execution_count": null,
      "outputs": [
        {
          "output_type": "execute_result",
          "data": {
            "text/plain": [
              "True"
            ]
          },
          "metadata": {},
          "execution_count": 51
        }
      ]
    },
    {
      "cell_type": "code",
      "source": [
        "sayi_ornegi = '-5-0'\n",
        "sayi_ornegi.replace('-', '').isnumeric()"
      ],
      "metadata": {
        "colab": {
          "base_uri": "https://localhost:8080/"
        },
        "id": "fQ0maAv0sLYD",
        "outputId": "bc611130-f8ad-4a9c-8639-ec895b258b74"
      },
      "execution_count": null,
      "outputs": [
        {
          "output_type": "execute_result",
          "data": {
            "text/plain": [
              "True"
            ]
          },
          "metadata": {},
          "execution_count": 53
        }
      ]
    },
    {
      "cell_type": "code",
      "source": [
        "sayi_ornegi = '-5-0'\n",
        "sayi_ornegi.replace('-', '',1).isnumeric()"
      ],
      "metadata": {
        "colab": {
          "base_uri": "https://localhost:8080/"
        },
        "id": "yy3ZWva2sSua",
        "outputId": "8a949d95-c872-4cd0-98b0-f7d817e38434"
      },
      "execution_count": null,
      "outputs": [
        {
          "output_type": "execute_result",
          "data": {
            "text/plain": [
              "False"
            ]
          },
          "metadata": {},
          "execution_count": 54
        }
      ]
    },
    {
      "cell_type": "code",
      "source": [
        "sayi_ornegi = '5-0'\n",
        "sayi_ornegi.replace('-', '',1).isnumeric()\n",
        "# hatali olarak True donduruyor"
      ],
      "metadata": {
        "colab": {
          "base_uri": "https://localhost:8080/"
        },
        "id": "AiP4lZbfsV9J",
        "outputId": "967fe3d5-d14b-4a30-ce09-280025d6eaa6"
      },
      "execution_count": null,
      "outputs": [
        {
          "output_type": "execute_result",
          "data": {
            "text/plain": [
              "True"
            ]
          },
          "metadata": {},
          "execution_count": 55
        }
      ]
    },
    {
      "cell_type": "code",
      "source": [
        "# ilk karakter eger - ise o karakteri kaldirip sayi kontrolunun yapilmasi gerekmekte\n",
        "# ilk karakter eger - degil ise, negatif sayi kontrolu ile ilgili bir islem yapilmasina gerek bulunmamakta\n",
        "sayi_ornegi[0] == '-'"
      ],
      "metadata": {
        "colab": {
          "base_uri": "https://localhost:8080/"
        },
        "id": "tY9gnid2sFHe",
        "outputId": "828a4197-a257-42ce-caa0-affb0c216245"
      },
      "execution_count": null,
      "outputs": [
        {
          "output_type": "execute_result",
          "data": {
            "text/plain": [
              "False"
            ]
          },
          "metadata": {},
          "execution_count": 56
        }
      ]
    },
    {
      "cell_type": "code",
      "source": [
        "sayi_ornegi = '-50.5'\n",
        "print(sayi_ornegi)\n",
        "if sayi_ornegi[0] == '-':\n",
        "    # ilk karakter - karakteri oldugu icin replace fonk. 0. indeksteki - karakterini kaldirir\n",
        "    # 1. indeksten sonrasini dilimleme ile ayni islem yapilmis olur\n",
        "    print(sayi_ornegi.replace('-', '',1).isnumeric())\n",
        "    print(sayi_ornegi[1:].isnumeric())\n",
        "else:\n",
        "    print(sayi_ornegi.isnumeric())\n",
        "# NOT: yukaridaki kodda ondalik sayilar kontrolu yapilmamaktadir !!"
      ],
      "metadata": {
        "colab": {
          "base_uri": "https://localhost:8080/"
        },
        "id": "YAsb90opsqoN",
        "outputId": "ae24d5a9-b38a-490b-a848-d320e270c102"
      },
      "execution_count": null,
      "outputs": [
        {
          "output_type": "stream",
          "name": "stdout",
          "text": [
            "-50.5\n",
            "False\n",
            "False\n"
          ]
        }
      ]
    },
    {
      "cell_type": "code",
      "source": [
        "# kontrol yapilirken orjinal dizenin degistirilmemesi gerekmektedir.\n",
        "#  ==>> cunku girdi sayi ise, o girdinin floata donusturulmesi gerceklestirilecektir.\n",
        "#  ==>> orjinal sayi kaybedilirse bunu gerceklestirmek mumkun olmayacaktir.\n",
        "orjinal_sayi_girdisi = input(\"sayi giriniz: \")\n",
        "if orjinal_sayi_girdisi[0] == '-':\n",
        "    print(orjinal_sayi_girdisi[1:].replace('.', '', 1).isnumeric())\n",
        "else:\n",
        "    print(orjinal_sayi_girdisi.replace('.', '', 1).isnumeric())"
      ],
      "metadata": {
        "colab": {
          "base_uri": "https://localhost:8080/"
        },
        "id": "V60Y9d2gtkqW",
        "outputId": "1197d754-bf1f-4408-f141-413193e432c7"
      },
      "execution_count": null,
      "outputs": [
        {
          "output_type": "stream",
          "name": "stdout",
          "text": [
            "sayi giriniz: -50.5.5\n",
            "False\n"
          ]
        }
      ]
    },
    {
      "cell_type": "code",
      "source": [
        "orjinal_sayi_girdisi = input(\"sayi giriniz: \")\n",
        "if orjinal_sayi_girdisi[0] == '-':\n",
        "    if orjinal_sayi_girdisi[1:].replace('.', '', 1).isnumeric():\n",
        "        sayi = float(orjinal_sayi_girdisi)\n",
        "        print(sayi)\n",
        "    else:\n",
        "        print(\"HATALI SAYI GIRDISI\")\n",
        "else:\n",
        "    if orjinal_sayi_girdisi.replace('.', '', 1).isnumeric():\n",
        "        sayi = float(orjinal_sayi_girdisi)\n",
        "        print(sayi)\n",
        "    else:\n",
        "        print(\"HATALI SAYI GIRDISI\")"
      ],
      "metadata": {
        "colab": {
          "base_uri": "https://localhost:8080/"
        },
        "id": "a-htU0IuuvPI",
        "outputId": "6ca32fcc-6d44-490b-a2c1-e0bc3413460e"
      },
      "execution_count": null,
      "outputs": [
        {
          "output_type": "stream",
          "name": "stdout",
          "text": [
            "sayi giriniz: -50.55\n",
            "-50.55\n"
          ]
        }
      ]
    },
    {
      "cell_type": "code",
      "source": [
        "orjinal_sayi_girdisi = input(\"sayi giriniz: \")\n",
        "sayi_girdisi_kontrol = orjinal_sayi_girdisi\n",
        "# negatif sayi kontrolu icin gerekli islem\n",
        "if sayi_girdisi_kontrol[0] == '-':\n",
        "    sayi_girdisi_kontrol = sayi_girdisi_kontrol[1:]\n",
        "# ondalik sayi kontrolu icin gerekli islem\n",
        "sayi_girdisi_kontrol = sayi_girdisi_kontrol.replace('.', '', 1)\n",
        "print(f\"orjinal: {orjinal_sayi_girdisi}, kontrol islemleri sonrasi: {sayi_girdisi_kontrol}\")\n",
        "# sayi mi?\n",
        "if sayi_girdisi_kontrol.isnumeric():\n",
        "    # orjinal girdiyi float'a donusturuyoruz\n",
        "    sayi = float(orjinal_sayi_girdisi)\n",
        "    print(sayi)\n",
        "else:\n",
        "    print(\"HATALI SAYI GIRDISI\")"
      ],
      "metadata": {
        "colab": {
          "base_uri": "https://localhost:8080/"
        },
        "id": "PBDi2x83vsif",
        "outputId": "17fc7acd-a886-45d6-9365-061a551f95de"
      },
      "execution_count": null,
      "outputs": [
        {
          "output_type": "stream",
          "name": "stdout",
          "text": [
            "sayi giriniz: -50.5.5-\n",
            "orjinal: -50.5.5-, kontrol islemleri sonrasi: 505.5-\n",
            "HATALI SAYI GIRDISI\n"
          ]
        }
      ]
    },
    {
      "cell_type": "code",
      "source": [],
      "metadata": {
        "id": "2YhUkY7guzI8"
      },
      "execution_count": null,
      "outputs": []
    },
    {
      "cell_type": "code",
      "source": [
        "print(\"Ücret Hesaplama Modülüne Hoşgeldiniz\")\n",
        "while True:\n",
        "    # 1. Kullanıcıdan bilgi alma mödülü\n",
        "    calisan_ismi = input(\"Çalışanın adını giriniz: \")\n",
        "    # girdinin kontrolu yapilacak (a,A? ) # input check\n",
        "    # girdinin kontrolu kucuk/buyuk harf a ile mi basliyor?\n",
        "    if calisan_ismi[0] == 'a' or calisan_ismi[0] == 'A':\n",
        "    # Alternatifler\n",
        "    #if calisan_ismi.lower()[0] == 'a':\n",
        "    #if calisan_ismi.upper()[0] == 'A':\n",
        "    #if calisan_ismi.lower().startswith('a'):\n",
        "    #if calisan_ismi.upper().startswith('A'):\n",
        "        print(f\"Çalışanın adının ilk harfi a ya da A olduğundan {calisan_ismi} için hesaplama yapılmıyor\")\n",
        "        continue\n",
        "    \n",
        "    sure = input(\"Saat olarak çalışılan süreyi giriniz: \")\n",
        "    saatucreti = input(\"Saatlik ücret miktarını giriniz: \")\n",
        "    # input check? - girdi kontrolu? - sure bir sayi mi kontrol edilmelidir\n",
        "    # SURE KONTROLU\n",
        "    sure_kontrol = sure\n",
        "    saatucret_kontrol = saatucreti\n",
        "    # negatif sayi kontrolu icin gerekli islem\n",
        "    if sure_kontrol[0] == '-':\n",
        "        sure_kontrol = sure_kontrol[1:]\n",
        "    # ondalik sayi kontrolu icin gerekli islem\n",
        "    sure_kontrol = sure_kontrol.replace('.', '', 1)\n",
        "    print(f\"orjinal: {sure}, kontrol islemleri sonrasi: {sure_kontrol}\")\n",
        "    # SAAT UCRETI KONTROLU\n",
        "    if saatucret_kontrol[0] == '-':\n",
        "        saatucret_kontrol = saatucret_kontrol[1:]\n",
        "    # ondalik sayi kontrolu icin gerekli islem\n",
        "    saatucret_kontrol = saatucret_kontrol.replace('.', '', 1)\n",
        "    print(f\"orjinal: {saatucreti}, kontrol islemleri sonrasi: {saatucret_kontrol}\")\n",
        "\n",
        "    # her surenin hem de saat ucretinin sayi olmasi gerekmekte?\n",
        "    if sure_kontrol.isnumeric() and saatucret_kontrol.isnumeric():\n",
        "        # orjinal girdiyi float'a donusturuyoruz\n",
        "        sure = float(sure)\n",
        "        saatucreti = float(saatucreti)\n",
        "        # NOT: Sure ve Saat ucreti bilgilerinin NEGATIF olmamasi gerekliliginin de kontrol edilmesi gerekmektedir !!!!\n",
        "        if sure < 0 or saatucreti < 0:\n",
        "            print(f\"Saat ücreti ve Süre bilgileri pozitif sayı içermelidir. Girilen değerler: {sure} ve {saatucreti}\")\n",
        "            continue # bastan veri girisi yapilsin - Aslinda sadece sure ve saat ucretinin tekrardan girilmesinin saglanmasi gerekir !!\n",
        "    else:\n",
        "        print(f\"Saat ücreti ve Süre bilgileri sayı içermelidir. Girilen değerler: {sure} ve {saatucreti}\")\n",
        "        continue # bastan veri girisi yapilsin - Aslinda sadece sure ve saat ucretinin tekrardan girilmesinin saglanmasi gerekir !!\n",
        "\n",
        "\n",
        "    # 2. Maas hesaplama modulu\n",
        "    mesai_ici_sure = 40\n",
        "    fazla_mesai_ucret_katsayisi = 1.5\n",
        "\n",
        "    if sure > mesai_ici_sure:\n",
        "        fazla_mesai_suresi = sure - mesai_ici_sure\n",
        "        mesai_ucreti = saatucreti * fazla_mesai_ucret_katsayisi\n",
        "        odeme_miktari = mesai_ici_sure * saatucreti +  fazla_mesai_suresi * mesai_ucreti\n",
        "    else: # surenin mesai_ici_sure'den kisa olma durumu\n",
        "        odeme_miktari = sure * saatucreti\n",
        "\n",
        "    print(f\"Alacağınız ödeme tutarı: {odeme_miktari} TL'dir\")\n",
        "\n",
        "    # 3. hesaplamalara devam edilecek mi kismi\n",
        "    #    sonsuz dongu icinde kullanicidan dongunun bitip bitmedigi bilgisinin alınması\n",
        "    # bitti bilgisi alindi ise donguden cikan kodu yazalim\n",
        "    bitti_mi_bilgisi = input(\"Hesaplamaya devam etmek istiyor musunuz? Programı sonlandırmak için h/H ya da (h/H)ayır giriniz: \")\n",
        "    # 'H' ya da 'Hayır' girdiği zaman programınız hesaplamaları durduracaktır.\n",
        "    if bitti_mi_bilgisi.lower()[0] == 'h' or bitti_mi_bilgisi.lower() == 'hayır':\n",
        "    # Hasan, Huseyin girildiginde de donguyu sonlandirir !! => if bitti_mi_bilgisi.lower().startswith('h') or bitti_mi_bilgisi.lower().startswith('hayır'):\n",
        "        print(\"Hesaplama işlemleri sonlandırılmıştır.\")\n",
        "        break"
      ],
      "metadata": {
        "colab": {
          "base_uri": "https://localhost:8080/"
        },
        "id": "7pl6crrPdSc9",
        "outputId": "cd3a3792-ec8b-45a4-a9ed-af2b87356431"
      },
      "execution_count": null,
      "outputs": [
        {
          "output_type": "stream",
          "name": "stdout",
          "text": [
            "Ücret Hesaplama Modülüne Hoşgeldiniz\n",
            "Çalışanın adını giriniz: onur\n",
            "Saat olarak çalışılan süreyi giriniz: -50\n",
            "Saatlik ücret miktarını giriniz: 100\n",
            "orjinal: -50, kontrol islemleri sonrasi: 50\n",
            "orjinal: 100, kontrol islemleri sonrasi: 100\n",
            "Saat ücreti ve Süre bilgileri pozitif sayı içermelidir. Girilen değerler: -50.0 ve 100.0\n",
            "Çalışanın adını giriniz: onur\n",
            "Saat olarak çalışılan süreyi giriniz: 5o\n",
            "Saatlik ücret miktarını giriniz: 100\n",
            "orjinal: 5o, kontrol islemleri sonrasi: 5o\n",
            "orjinal: 100, kontrol islemleri sonrasi: 100\n",
            "Saat ücreti ve Süre bilgileri sayı içermelidir. Girilen değerler: 5o ve 100\n",
            "Çalışanın adını giriniz: onur\n",
            "Saat olarak çalışılan süreyi giriniz: 50\n",
            "Saatlik ücret miktarını giriniz: 100.55.5\n",
            "orjinal: 50, kontrol islemleri sonrasi: 50\n",
            "orjinal: 100.55.5, kontrol islemleri sonrasi: 10055.5\n",
            "Saat ücreti ve Süre bilgileri sayı içermelidir. Girilen değerler: 50 ve 100.55.5\n",
            "Çalışanın adını giriniz: onur\n",
            "Saat olarak çalışılan süreyi giriniz: 50\n",
            "Saatlik ücret miktarını giriniz: 100.55\n",
            "orjinal: 50, kontrol islemleri sonrasi: 50\n",
            "orjinal: 100.55, kontrol islemleri sonrasi: 10055\n",
            "Alacağınız ödeme tutarı: 5530.25 TL'dir\n",
            "Hesaplamaya devam etmek istiyor musunuz? Programı sonlandırmak için h/H ya da (h/H)ayır giriniz: H\n",
            "Hesaplama işlemleri sonlandırılmıştır.\n"
          ]
        }
      ]
    },
    {
      "cell_type": "markdown",
      "source": [
        "### Dictionaries - Sözlükler"
      ],
      "metadata": {
        "id": "Llz2aiWtzkF5"
      }
    },
    {
      "cell_type": "markdown",
      "source": [
        "##### Temel Sözlük Veri Yapısı"
      ],
      "metadata": {
        "id": "-dhh82Qfzm6t"
      }
    },
    {
      "cell_type": "code",
      "source": [
        "sayilar = {}\n",
        "# bos sozluk olusturma"
      ],
      "metadata": {
        "id": "VQvx_XktdShR"
      },
      "execution_count": null,
      "outputs": []
    },
    {
      "cell_type": "code",
      "source": [
        "sayilar = dict()"
      ],
      "metadata": {
        "id": "sGIV6VzldSju"
      },
      "execution_count": null,
      "outputs": []
    },
    {
      "cell_type": "code",
      "source": [
        "# bos liste\n",
        "[]\n",
        "list()\n",
        "# bos sozluk\n",
        "{}\n",
        "dict()"
      ],
      "metadata": {
        "colab": {
          "base_uri": "https://localhost:8080/"
        },
        "id": "Lji_qVJNdSmU",
        "outputId": "c3f16de1-8723-4db7-e2ae-48adcb9591e4"
      },
      "execution_count": null,
      "outputs": [
        {
          "output_type": "execute_result",
          "data": {
            "text/plain": [
              "{}"
            ]
          },
          "metadata": {},
          "execution_count": 84
        }
      ]
    },
    {
      "cell_type": "code",
      "source": [
        "print(sayilar)"
      ],
      "metadata": {
        "colab": {
          "base_uri": "https://localhost:8080/"
        },
        "id": "kTlFwAPg5c_Y",
        "outputId": "51bf6152-8633-4f86-baab-c1b448b36708"
      },
      "execution_count": null,
      "outputs": [
        {
          "output_type": "stream",
          "name": "stdout",
          "text": [
            "{}\n"
          ]
        }
      ]
    },
    {
      "cell_type": "code",
      "source": [
        "type(sayilar)"
      ],
      "metadata": {
        "colab": {
          "base_uri": "https://localhost:8080/"
        },
        "id": "Tll8YEuM5edf",
        "outputId": "18f7631e-b640-4567-9bab-ed58e2d580aa"
      },
      "execution_count": null,
      "outputs": [
        {
          "output_type": "execute_result",
          "data": {
            "text/plain": [
              "dict"
            ]
          },
          "metadata": {},
          "execution_count": 86
        }
      ]
    },
    {
      "cell_type": "code",
      "source": [
        "print( dir(sayilar) ) # print( dir(dict) )"
      ],
      "metadata": {
        "colab": {
          "base_uri": "https://localhost:8080/"
        },
        "id": "CtTLzhcW5hSI",
        "outputId": "93ae4f59-0d8f-45c7-cef9-a52fc604dd41"
      },
      "execution_count": null,
      "outputs": [
        {
          "output_type": "stream",
          "name": "stdout",
          "text": [
            "['__class__', '__contains__', '__delattr__', '__delitem__', '__dir__', '__doc__', '__eq__', '__format__', '__ge__', '__getattribute__', '__getitem__', '__gt__', '__hash__', '__init__', '__init_subclass__', '__iter__', '__le__', '__len__', '__lt__', '__ne__', '__new__', '__reduce__', '__reduce_ex__', '__repr__', '__setattr__', '__setitem__', '__sizeof__', '__str__', '__subclasshook__', 'clear', 'copy', 'fromkeys', 'get', 'items', 'keys', 'pop', 'popitem', 'setdefault', 'update', 'values']\n"
          ]
        }
      ]
    },
    {
      "cell_type": "code",
      "source": [
        "# sozluklerde elemanlar anahtar:deger ikilileridir.\n",
        "# sozluklerde anahtarlar birbirinde farkli degerler alirlar\n",
        "# ==>> sozluk icinde ayni anahtara sahip 2 farkli deger bulunamaz !!!!\n",
        "# sozlukten anahtar ve deger herhangi bir piton nesnesi icerebilir\n",
        "sayilar = {'a':1, 'b':3, 'c':4, 'a':111}\n",
        "# 'a' anahtarina karsilik olarak 2 farkli deger girildiginde, bunlardan sadece sonuncusu goz onune aliniyor\n",
        "# 'a':1 eklendikten sonra => 'a' degerini 111 olarak guncelliyor"
      ],
      "metadata": {
        "id": "gWqo6s_q5nko"
      },
      "execution_count": null,
      "outputs": []
    },
    {
      "cell_type": "code",
      "source": [
        "print(sayilar)"
      ],
      "metadata": {
        "colab": {
          "base_uri": "https://localhost:8080/"
        },
        "id": "UO0LHS6x6GD4",
        "outputId": "1605f1f2-e832-4f8a-dc03-4eef7dae7cad"
      },
      "execution_count": null,
      "outputs": [
        {
          "output_type": "stream",
          "name": "stdout",
          "text": [
            "{'a': 111, 'b': 3, 'c': 4}\n"
          ]
        }
      ]
    },
    {
      "cell_type": "code",
      "source": [
        "# sayilar sozlugunu bos bir sozluk olarak olusturduktan sonra, elemanlari tek tek nasil sozluge ekleyebiliriz.\n",
        "# sozluge eleman ekleme\n",
        "# sozlukadi[anahtar] = deger -->> anahtar:deger elemanini sozluk icine ekler\n",
        "sayilar = {}\n",
        "# 'a':1 elemaninin sozluge eklenmesi\n",
        "sayilar['a'] = 1\n",
        "print(sayilar)\n",
        "# 'b':3 elemaninin sozluge eklenmesi\n",
        "sayilar['b'] = 3\n",
        "print(sayilar)\n",
        "# 'c':4 elemaninin sozluge eklenmesi\n",
        "sayilar['c'] = 4\n",
        "print(sayilar)\n",
        "# 'a':111 elemaninin sozluge eklenmesi??? 'a' anahtari sozlukte oldugundan, 'a' anahtarina karsilik gelen degerin guncellenmesi\n",
        "sayilar['a'] = 111\n",
        "print(sayilar)"
      ],
      "metadata": {
        "colab": {
          "base_uri": "https://localhost:8080/"
        },
        "id": "-Yt84WO46JKw",
        "outputId": "0ec44548-bef5-44a7-d28a-51315b23b90a"
      },
      "execution_count": null,
      "outputs": [
        {
          "output_type": "stream",
          "name": "stdout",
          "text": [
            "{'a': 1}\n",
            "{'a': 1, 'b': 3}\n",
            "{'a': 1, 'b': 3, 'c': 4}\n",
            "{'a': 111, 'b': 3, 'c': 4}\n"
          ]
        }
      ]
    },
    {
      "cell_type": "code",
      "source": [
        "# sozlukte anahtar ve deger herhangi bir piton nesnesini alabilir"
      ],
      "metadata": {
        "id": "pnzdBoSX6x3o"
      },
      "execution_count": null,
      "outputs": []
    },
    {
      "cell_type": "code",
      "source": [
        "# ogrenci idsi (int) ve ogrencinin genel not ortalamasi (float) ikililerini tutalim\n",
        "ogrenci_ve_notlari = {5:3.55, 11:2.44, 7:1.44}"
      ],
      "metadata": {
        "id": "8Y84WzND79yx"
      },
      "execution_count": null,
      "outputs": []
    },
    {
      "cell_type": "code",
      "source": [
        "print(ogrenci_ve_notlari)"
      ],
      "metadata": {
        "colab": {
          "base_uri": "https://localhost:8080/"
        },
        "id": "yVFQaSh28A6v",
        "outputId": "4d867719-e6b3-4170-a862-d6a45360298d"
      },
      "execution_count": null,
      "outputs": [
        {
          "output_type": "stream",
          "name": "stdout",
          "text": [
            "{5: 3.55, 11: 2.44, 7: 1.44}\n"
          ]
        }
      ]
    },
    {
      "cell_type": "code",
      "source": [
        "# idsi 11 olan ogrencinin genel not ortalamasi nedir?\n",
        "ogrenci_ve_notlari[11]"
      ],
      "metadata": {
        "colab": {
          "base_uri": "https://localhost:8080/"
        },
        "id": "gBB3qcd28A9g",
        "outputId": "b464d24f-b67a-4afd-d043-87234c630d8f"
      },
      "execution_count": null,
      "outputs": [
        {
          "output_type": "execute_result",
          "data": {
            "text/plain": [
              "2.44"
            ]
          },
          "metadata": {},
          "execution_count": 100
        }
      ]
    },
    {
      "cell_type": "code",
      "source": [
        "# ogrenci adi (str) ve semester bilgisi (int) tuple () olarak ve ogrencinin genel not ortalamasi (float) ikililerini tutalim\n",
        "ogrenciler_ve_semester_notlari = {('harun', 1):3.55, ('emel',2):2.44, ('burak',5):2.94}"
      ],
      "metadata": {
        "id": "R-yihoiQ8BCP"
      },
      "execution_count": null,
      "outputs": []
    },
    {
      "cell_type": "code",
      "source": [
        "# tuple:float ikilileri\n",
        "ogrenciler_ve_semester_notlari[('harun', 1)]"
      ],
      "metadata": {
        "colab": {
          "base_uri": "https://localhost:8080/"
        },
        "id": "vvcWdwBl8BEy",
        "outputId": "2fdad258-4c28-4aab-eda7-c46883d14039"
      },
      "execution_count": null,
      "outputs": [
        {
          "output_type": "execute_result",
          "data": {
            "text/plain": [
              "3.55"
            ]
          },
          "metadata": {},
          "execution_count": 103
        }
      ]
    },
    {
      "cell_type": "markdown",
      "source": [
        "###### elemanlara ulasma - (listelerde sifir-bazli indeksleme/dizinleme)\n"
      ],
      "metadata": {
        "id": "gEJd5KXD8xB_"
      }
    },
    {
      "cell_type": "code",
      "source": [
        "personelgelirleri = {'onur': 100, 'ahmet':50, 'ece':200, 'arzu':50}"
      ],
      "metadata": {
        "id": "iU6r080t8BHT"
      },
      "execution_count": null,
      "outputs": []
    },
    {
      "cell_type": "code",
      "source": [
        "personelgelirleri[0]\n",
        "# HATA: KeyError: 0\n",
        "# sozluklerde 0-bazli indeksleme yoktur - sira kavrami sozluklerde bulunmamakta\n",
        "# 0 anahtarina sahip bir eleman araniyor fakat sozlukte 0 anahtarina sahip eleman olmadigindan KeyError: 0 hatasi atiyor"
      ],
      "metadata": {
        "colab": {
          "base_uri": "https://localhost:8080/",
          "height": 166
        },
        "id": "-UWSoYLB8BJn",
        "outputId": "fb68915c-bb90-459b-ce53-3ed2dcd658f7"
      },
      "execution_count": null,
      "outputs": [
        {
          "output_type": "error",
          "ename": "KeyError",
          "evalue": "ignored",
          "traceback": [
            "\u001b[0;31m---------------------------------------------------------------------------\u001b[0m",
            "\u001b[0;31mKeyError\u001b[0m                                  Traceback (most recent call last)",
            "\u001b[0;32m<ipython-input-105-70b9ffc6dcbb>\u001b[0m in \u001b[0;36m<module>\u001b[0;34m\u001b[0m\n\u001b[0;32m----> 1\u001b[0;31m \u001b[0mpersonelgelirleri\u001b[0m\u001b[0;34m[\u001b[0m\u001b[0;36m0\u001b[0m\u001b[0;34m]\u001b[0m\u001b[0;34m\u001b[0m\u001b[0;34m\u001b[0m\u001b[0m\n\u001b[0m",
            "\u001b[0;31mKeyError\u001b[0m: 0"
          ]
        }
      ]
    },
    {
      "cell_type": "code",
      "source": [
        "# ahmet'in personel geliri nedir?\n",
        "personelgelirleri['ahmet'] # 'ahmet' anahtarina sahip elemanin degeri nedir?"
      ],
      "metadata": {
        "colab": {
          "base_uri": "https://localhost:8080/"
        },
        "id": "IXX11kSh82mg",
        "outputId": "6591cb98-37fe-48fc-88b3-2dae59bf8d34"
      },
      "execution_count": null,
      "outputs": [
        {
          "output_type": "execute_result",
          "data": {
            "text/plain": [
              "50"
            ]
          },
          "metadata": {},
          "execution_count": 106
        }
      ]
    },
    {
      "cell_type": "code",
      "source": [
        "# degeri (geliri) 50 olan personelin (personellerin) anahtari (anahtarlari) nedir? Nasil ulasilabilir?\n",
        "personelgelirleri[50] # 50yi anahtarlar icinde ariyor."
      ],
      "metadata": {
        "colab": {
          "base_uri": "https://localhost:8080/",
          "height": 183
        },
        "id": "XrLCj4Cn9BSR",
        "outputId": "7893bae0-565e-4708-814b-b9fcf7171b2c"
      },
      "execution_count": null,
      "outputs": [
        {
          "output_type": "error",
          "ename": "KeyError",
          "evalue": "ignored",
          "traceback": [
            "\u001b[0;31m---------------------------------------------------------------------------\u001b[0m",
            "\u001b[0;31mKeyError\u001b[0m                                  Traceback (most recent call last)",
            "\u001b[0;32m<ipython-input-107-fc38cdf9b55a>\u001b[0m in \u001b[0;36m<module>\u001b[0;34m\u001b[0m\n\u001b[1;32m      1\u001b[0m \u001b[0;31m# degeri (geliri) 50 olan personelin (personellerin) anahtari (anahtarlari) nedir? Nasil ulasilabilir?\u001b[0m\u001b[0;34m\u001b[0m\u001b[0;34m\u001b[0m\u001b[0;34m\u001b[0m\u001b[0m\n\u001b[0;32m----> 2\u001b[0;31m \u001b[0mpersonelgelirleri\u001b[0m\u001b[0;34m[\u001b[0m\u001b[0;36m50\u001b[0m\u001b[0;34m]\u001b[0m \u001b[0;31m# 50yi anahtarlar icinde ariyor.\u001b[0m\u001b[0;34m\u001b[0m\u001b[0;34m\u001b[0m\u001b[0m\n\u001b[0m",
            "\u001b[0;31mKeyError\u001b[0m: 50"
          ]
        }
      ]
    },
    {
      "cell_type": "code",
      "source": [
        "# anahtarlar tekildir (farkli deger almak durumundadir) fakat degerler tekil olmak zorunda degildir"
      ],
      "metadata": {
        "id": "2KEsQVka9GnD"
      },
      "execution_count": null,
      "outputs": []
    },
    {
      "cell_type": "code",
      "source": [
        "# sözlüğe eleman ekleme (listelerde append)\n",
        "# sozlukadi[anahtar] = deger # anahtar:deger ikililerini saklayan veri yapisi\n",
        "# sozlukadi[key] = value # key:value pairs\n",
        "# personelgelirleri sozlugune 'gokhan':400 elemaninin eklenmesi \n",
        "# ya da bu personel sozlukte var ise, yani 'gokhan' anahtarina sahip bir eleman var ise, bu elemanin deger bilgisinin guncellenmesi\n",
        "personelgelirleri['gokhan'] = 400"
      ],
      "metadata": {
        "id": "o478PhrP9OFI"
      },
      "execution_count": null,
      "outputs": []
    },
    {
      "cell_type": "code",
      "source": [
        "print(personelgelirleri)"
      ],
      "metadata": {
        "colab": {
          "base_uri": "https://localhost:8080/"
        },
        "id": "YBynm9Yz9uvp",
        "outputId": "847ed445-34cc-446c-d89b-4b2175b5b03f"
      },
      "execution_count": null,
      "outputs": [
        {
          "output_type": "stream",
          "name": "stdout",
          "text": [
            "{'onur': 100, 'ahmet': 50, 'ece': 200, 'arzu': 50, 'gokhan': 400}\n"
          ]
        }
      ]
    },
    {
      "cell_type": "markdown",
      "source": [
        "###### sözlük veri yapısının metotları"
      ],
      "metadata": {
        "id": "EMi1meUW93hZ"
      }
    },
    {
      "cell_type": "code",
      "source": [
        "# sözlük veri yapısının metotları\n",
        "print( dir(personelgelirleri) )"
      ],
      "metadata": {
        "colab": {
          "base_uri": "https://localhost:8080/"
        },
        "id": "kvVHoed-9wfh",
        "outputId": "9b5fe474-459d-4ddd-acd7-bdd9cf2ec1b1"
      },
      "execution_count": null,
      "outputs": [
        {
          "output_type": "stream",
          "name": "stdout",
          "text": [
            "['__class__', '__contains__', '__delattr__', '__delitem__', '__dir__', '__doc__', '__eq__', '__format__', '__ge__', '__getattribute__', '__getitem__', '__gt__', '__hash__', '__init__', '__init_subclass__', '__iter__', '__le__', '__len__', '__lt__', '__ne__', '__new__', '__reduce__', '__reduce_ex__', '__repr__', '__setattr__', '__setitem__', '__sizeof__', '__str__', '__subclasshook__', 'clear', 'copy', 'fromkeys', 'get', 'items', 'keys', 'pop', 'popitem', 'setdefault', 'update', 'values']\n"
          ]
        }
      ]
    },
    {
      "cell_type": "code",
      "source": [
        "personelgelirleri.keys()"
      ],
      "metadata": {
        "colab": {
          "base_uri": "https://localhost:8080/"
        },
        "id": "PXxhCtht96E5",
        "outputId": "1637fe94-9bcc-43d9-d2d0-db38f706e140"
      },
      "execution_count": null,
      "outputs": [
        {
          "output_type": "execute_result",
          "data": {
            "text/plain": [
              "dict_keys(['onur', 'ahmet', 'ece', 'arzu', 'gokhan'])"
            ]
          },
          "metadata": {},
          "execution_count": 113
        }
      ]
    },
    {
      "cell_type": "code",
      "source": [
        "anahtarlar = personelgelirleri.keys()\n",
        "type(anahtarlar)\n",
        "# dict_keys listelere benzer bir iterable"
      ],
      "metadata": {
        "colab": {
          "base_uri": "https://localhost:8080/"
        },
        "id": "m_se_b-O-HkH",
        "outputId": "c5681476-ab41-4637-a56d-8db8b0f37965"
      },
      "execution_count": null,
      "outputs": [
        {
          "output_type": "execute_result",
          "data": {
            "text/plain": [
              "dict_keys"
            ]
          },
          "metadata": {},
          "execution_count": 114
        }
      ]
    },
    {
      "cell_type": "code",
      "source": [
        "list(anahtarlar)"
      ],
      "metadata": {
        "colab": {
          "base_uri": "https://localhost:8080/"
        },
        "id": "lcSjoKKR-HmR",
        "outputId": "263ce02c-3cea-4378-846d-0f4a7c45ceba"
      },
      "execution_count": null,
      "outputs": [
        {
          "output_type": "execute_result",
          "data": {
            "text/plain": [
              "['onur', 'ahmet', 'ece', 'arzu', 'gokhan']"
            ]
          },
          "metadata": {},
          "execution_count": 115
        }
      ]
    },
    {
      "cell_type": "code",
      "source": [
        "for anahtar in anahtarlar:\n",
        "    print(anahtar)"
      ],
      "metadata": {
        "colab": {
          "base_uri": "https://localhost:8080/"
        },
        "id": "dbnNwvzI-Hoo",
        "outputId": "ac6126fb-6f93-45a9-b262-b2eccac98e89"
      },
      "execution_count": null,
      "outputs": [
        {
          "output_type": "stream",
          "name": "stdout",
          "text": [
            "onur\n",
            "ahmet\n",
            "ece\n",
            "arzu\n",
            "gokhan\n"
          ]
        }
      ]
    },
    {
      "cell_type": "code",
      "source": [
        "# degerleri getirmek\n",
        "personelgelirleri.values()"
      ],
      "metadata": {
        "colab": {
          "base_uri": "https://localhost:8080/"
        },
        "id": "ui_qr5uN-HrK",
        "outputId": "e287666d-ee81-459b-ad8b-1e63064c060d"
      },
      "execution_count": null,
      "outputs": [
        {
          "output_type": "execute_result",
          "data": {
            "text/plain": [
              "dict_values([100, 50, 200, 50, 400])"
            ]
          },
          "metadata": {},
          "execution_count": 117
        }
      ]
    },
    {
      "cell_type": "code",
      "source": [
        "degerler_personel = personelgelirleri.values()\n",
        "type(degerler_personel)"
      ],
      "metadata": {
        "colab": {
          "base_uri": "https://localhost:8080/"
        },
        "id": "Sh_JQ5jd-Hwk",
        "outputId": "efcc4f19-9ec4-4e22-b4a6-3148ccdc8de1"
      },
      "execution_count": null,
      "outputs": [
        {
          "output_type": "execute_result",
          "data": {
            "text/plain": [
              "dict_values"
            ]
          },
          "metadata": {},
          "execution_count": 118
        }
      ]
    },
    {
      "cell_type": "code",
      "source": [
        "list(degerler_personel)"
      ],
      "metadata": {
        "colab": {
          "base_uri": "https://localhost:8080/"
        },
        "id": "RrqQqdgh-gWS",
        "outputId": "1989f208-61e2-4ea8-a127-fe7120f10307"
      },
      "execution_count": null,
      "outputs": [
        {
          "output_type": "execute_result",
          "data": {
            "text/plain": [
              "[100, 50, 200, 50, 400]"
            ]
          },
          "metadata": {},
          "execution_count": 119
        }
      ]
    },
    {
      "cell_type": "code",
      "source": [
        "for deger in degerler_personel:\n",
        "    print(deger)"
      ],
      "metadata": {
        "colab": {
          "base_uri": "https://localhost:8080/"
        },
        "id": "HNfww3o5-iiB",
        "outputId": "3f1ad9ef-3c75-407c-8f9f-e1fea637f7e5"
      },
      "execution_count": null,
      "outputs": [
        {
          "output_type": "stream",
          "name": "stdout",
          "text": [
            "100\n",
            "50\n",
            "200\n",
            "50\n",
            "400\n"
          ]
        }
      ]
    },
    {
      "cell_type": "code",
      "source": [
        "for deger in personelgelirleri.values():\n",
        "    print(deger)"
      ],
      "metadata": {
        "colab": {
          "base_uri": "https://localhost:8080/"
        },
        "id": "t0rFs0gE-mGQ",
        "outputId": "a7c5aede-c17e-44cb-f62b-ef6f8900338a"
      },
      "execution_count": null,
      "outputs": [
        {
          "output_type": "stream",
          "name": "stdout",
          "text": [
            "100\n",
            "50\n",
            "200\n",
            "50\n",
            "400\n"
          ]
        }
      ]
    },
    {
      "cell_type": "code",
      "source": [
        "personelgelirleri.items() # dict_items tipinde, liste halinde 2 elemanli demetleri/tuple donduruyor"
      ],
      "metadata": {
        "colab": {
          "base_uri": "https://localhost:8080/"
        },
        "id": "nE30CJH5-uWx",
        "outputId": "01c3459c-4576-4200-e2cb-8ff2c098c722"
      },
      "execution_count": null,
      "outputs": [
        {
          "output_type": "execute_result",
          "data": {
            "text/plain": [
              "dict_items([('onur', 100), ('ahmet', 50), ('ece', 200), ('arzu', 50), ('gokhan', 400)])"
            ]
          },
          "metadata": {},
          "execution_count": 124
        }
      ]
    },
    {
      "cell_type": "code",
      "source": [
        "print(personelgelirleri)"
      ],
      "metadata": {
        "colab": {
          "base_uri": "https://localhost:8080/"
        },
        "id": "b9tFy4zX-yPS",
        "outputId": "64b508f0-3dbd-4b55-c884-e428e10c5b6f"
      },
      "execution_count": null,
      "outputs": [
        {
          "output_type": "stream",
          "name": "stdout",
          "text": [
            "{'onur': 100, 'ahmet': 50, 'ece': 200, 'arzu': 50, 'gokhan': 400}\n"
          ]
        }
      ]
    },
    {
      "cell_type": "code",
      "source": [
        "personel   gelir\n",
        "   onur     100\n",
        "   ahmet     50\n",
        "   ..\n",
        "# tuple => satir => kayit"
      ],
      "metadata": {
        "id": "Uf-3KBB8-yUZ"
      },
      "execution_count": null,
      "outputs": []
    },
    {
      "cell_type": "code",
      "source": [
        "for eleman in personelgelirleri.items():\n",
        "    print(eleman)\n",
        "    print(type(eleman))"
      ],
      "metadata": {
        "colab": {
          "base_uri": "https://localhost:8080/"
        },
        "id": "ZsPay-V--yXI",
        "outputId": "628edd3a-ac93-4607-d634-3f3017391c53"
      },
      "execution_count": null,
      "outputs": [
        {
          "output_type": "stream",
          "name": "stdout",
          "text": [
            "('onur', 100)\n",
            "<class 'tuple'>\n",
            "('ahmet', 50)\n",
            "<class 'tuple'>\n",
            "('ece', 200)\n",
            "<class 'tuple'>\n",
            "('arzu', 50)\n",
            "<class 'tuple'>\n",
            "('gokhan', 400)\n",
            "<class 'tuple'>\n"
          ]
        }
      ]
    },
    {
      "cell_type": "code",
      "source": [
        "for eleman in personelgelirleri.items():\n",
        "    # eleman tuple'inin icinde 2ser deger bulunmakta (anahtar ve deger ikilisi)\n",
        "    print(eleman, type(eleman))\n",
        "    # tuple veri yapisinda 0 bazli indeksleme yapabiliyoruz\n",
        "    print(eleman[0], eleman[1])"
      ],
      "metadata": {
        "colab": {
          "base_uri": "https://localhost:8080/"
        },
        "id": "7TNS1U-h-yaW",
        "outputId": "839d3c62-168c-4bfe-a593-f8b30e7f698d"
      },
      "execution_count": null,
      "outputs": [
        {
          "output_type": "stream",
          "name": "stdout",
          "text": [
            "('onur', 100) <class 'tuple'>\n",
            "onur 100\n",
            "('ahmet', 50) <class 'tuple'>\n",
            "ahmet 50\n",
            "('ece', 200) <class 'tuple'>\n",
            "ece 200\n",
            "('arzu', 50) <class 'tuple'>\n",
            "arzu 50\n",
            "('gokhan', 400) <class 'tuple'>\n",
            "gokhan 400\n"
          ]
        }
      ]
    },
    {
      "cell_type": "code",
      "source": [
        "# sozluk elemanlari hep 2 deger icerdiginden, for dongusunde bu degerleri 2 degiskende tutabiliriz\n",
        "for anahtar, deger in personelgelirleri.items():\n",
        "    print(anahtar, deger)\n",
        "    print(f\"anahtar degiskeninin tipi: {type(anahtar)}, deger degiskeninin tipi: {type(deger)}\")        "
      ],
      "metadata": {
        "colab": {
          "base_uri": "https://localhost:8080/"
        },
        "id": "nUZTKNfl_-pg",
        "outputId": "8dbecb43-c93d-47c7-f0e3-a13060de91b7"
      },
      "execution_count": null,
      "outputs": [
        {
          "output_type": "stream",
          "name": "stdout",
          "text": [
            "onur 100\n",
            "anahtar degiskeninin tipi: <class 'str'>, deger degiskeninin tipi: <class 'int'>\n",
            "ahmet 50\n",
            "anahtar degiskeninin tipi: <class 'str'>, deger degiskeninin tipi: <class 'int'>\n",
            "ece 200\n",
            "anahtar degiskeninin tipi: <class 'str'>, deger degiskeninin tipi: <class 'int'>\n",
            "arzu 50\n",
            "anahtar degiskeninin tipi: <class 'str'>, deger degiskeninin tipi: <class 'int'>\n",
            "gokhan 400\n",
            "anahtar degiskeninin tipi: <class 'str'>, deger degiskeninin tipi: <class 'int'>\n"
          ]
        }
      ]
    },
    {
      "cell_type": "code",
      "source": [
        "# listelerde eleman kontrolu\n",
        "L = [11, 22, 33]"
      ],
      "metadata": {
        "id": "dxChxHu7BrMC"
      },
      "execution_count": null,
      "outputs": []
    },
    {
      "cell_type": "code",
      "source": [
        "3 in L # in karsilastirma (uyelik kontrol) operatoru\n",
        "       # sonuc olarak True/False donuyor"
      ],
      "metadata": {
        "colab": {
          "base_uri": "https://localhost:8080/"
        },
        "id": "MmL2yuRkB3vR",
        "outputId": "a0376cb2-40a9-4d8a-b56c-5ce5ea688fec"
      },
      "execution_count": null,
      "outputs": [
        {
          "output_type": "execute_result",
          "data": {
            "text/plain": [
              "False"
            ]
          },
          "metadata": {},
          "execution_count": 132
        }
      ]
    },
    {
      "cell_type": "code",
      "source": [
        "22 in L"
      ],
      "metadata": {
        "colab": {
          "base_uri": "https://localhost:8080/"
        },
        "id": "v98Jn-Z_B5Xw",
        "outputId": "c1563038-deb1-4380-d141-150c4ac2b363"
      },
      "execution_count": null,
      "outputs": [
        {
          "output_type": "execute_result",
          "data": {
            "text/plain": [
              "True"
            ]
          },
          "metadata": {},
          "execution_count": 133
        }
      ]
    },
    {
      "cell_type": "code",
      "source": [
        "# sozluklerde eleman kontrolu\n",
        "'onur': 100 in personelgelirleri # 'onur':100 diye bir piton nesnesi olmadigindan hata veriyor"
      ],
      "metadata": {
        "colab": {
          "base_uri": "https://localhost:8080/",
          "height": 131
        },
        "id": "J3L3jpCfCDnC",
        "outputId": "79f385ec-a4a6-4b46-f2ac-e3d42180f52a"
      },
      "execution_count": null,
      "outputs": [
        {
          "output_type": "error",
          "ename": "SyntaxError",
          "evalue": "ignored",
          "traceback": [
            "\u001b[0;36m  File \u001b[0;32m\"<ipython-input-134-91402e13aef7>\"\u001b[0;36m, line \u001b[0;32m2\u001b[0m\n\u001b[0;31m    'onur': 100 in personelgelirleri # 'onur':100 diye bir piton nesnesi olmadigindan hata veriyor\u001b[0m\n\u001b[0m                                                                                                  ^\u001b[0m\n\u001b[0;31mSyntaxError\u001b[0m\u001b[0;31m:\u001b[0m illegal target for annotation\n"
          ]
        }
      ]
    },
    {
      "cell_type": "code",
      "source": [
        "('onur', 100) in personelgelirleri\n",
        "# hata vermiyor !!\n",
        "# cunku ('onur', 100) bir piton nesnesi => tuple \n",
        "\n",
        "# sozluk ismini (personelgelirleri) vererek uyelik kontrolu yaptiginizda, anahtarlar icinde var mi diye bakiyor\n",
        "# False => cunku anahtar(?!!) olarak ('onur',100) tuple nesnesi sozlukte bulunmamakta"
      ],
      "metadata": {
        "colab": {
          "base_uri": "https://localhost:8080/"
        },
        "id": "iwJr_JkMCN9b",
        "outputId": "c79f7b73-5569-4161-f630-f582314443f8"
      },
      "execution_count": null,
      "outputs": [
        {
          "output_type": "execute_result",
          "data": {
            "text/plain": [
              "False"
            ]
          },
          "metadata": {},
          "execution_count": 135
        }
      ]
    },
    {
      "cell_type": "code",
      "source": [
        "'ece' in personelgelirleri\n",
        "# sadece sozluk ismini vererek uyelik kontrolu yaptiginizda, anahtarlar icinde var mi diye bakiyor"
      ],
      "metadata": {
        "colab": {
          "base_uri": "https://localhost:8080/"
        },
        "id": "1vbNu23mCPqo",
        "outputId": "44591fe6-c3e3-4c28-b7b2-82e1a5706b1a"
      },
      "execution_count": null,
      "outputs": [
        {
          "output_type": "execute_result",
          "data": {
            "text/plain": [
              "True"
            ]
          },
          "metadata": {},
          "execution_count": 137
        }
      ]
    },
    {
      "cell_type": "code",
      "source": [
        "'ece' in personelgelirleri.keys() # 'ece' in personelgelirleri\n",
        "# 'ece' in dict_keys(['onur', 'ahmet', 'ece', 'gokhan'])"
      ],
      "metadata": {
        "colab": {
          "base_uri": "https://localhost:8080/"
        },
        "id": "VVrMtXDyCg9q",
        "outputId": "df1ac9ea-4386-451d-9249-ef53df743c85"
      },
      "execution_count": null,
      "outputs": [
        {
          "output_type": "execute_result",
          "data": {
            "text/plain": [
              "True"
            ]
          },
          "metadata": {},
          "execution_count": 138
        }
      ]
    },
    {
      "cell_type": "code",
      "source": [
        "# ('onur', 100) elemani personelgelirleri sozlugumuzde var mi kontrolu yapmak istersek\n",
        "('onur', 100) in personelgelirleri.items()\n",
        "# ('onur', 100) in dict_items([('onur', 100), ('ahmet', 50), ('ece', 200), ('arzu', 50), ('gokhan', 400)])"
      ],
      "metadata": {
        "colab": {
          "base_uri": "https://localhost:8080/"
        },
        "id": "evN6xsX4CmLC",
        "outputId": "25239b20-4e05-420a-a1b3-b8b2513cd600"
      },
      "execution_count": null,
      "outputs": [
        {
          "output_type": "execute_result",
          "data": {
            "text/plain": [
              "True"
            ]
          },
          "metadata": {},
          "execution_count": 141
        }
      ]
    },
    {
      "cell_type": "code",
      "source": [
        " personelgelirleri.items()"
      ],
      "metadata": {
        "colab": {
          "base_uri": "https://localhost:8080/"
        },
        "id": "ax8ajsmeCwLj",
        "outputId": "ba84ed0f-4dbf-4dbc-d986-0555a838a1ee"
      },
      "execution_count": null,
      "outputs": [
        {
          "output_type": "execute_result",
          "data": {
            "text/plain": [
              "dict_items([('onur', 100), ('ahmet', 50), ('ece', 200), ('arzu', 50), ('gokhan', 400)])"
            ]
          },
          "metadata": {},
          "execution_count": 140
        }
      ]
    },
    {
      "cell_type": "code",
      "source": [
        "# direk personel gelirleri uzerinden for dongusu yaparsak\n",
        "for eleman in personelgelirleri:\n",
        "    print(eleman)\n",
        "\n",
        "# personelgelirleri dongude personelgelirleri.keys() gibi davraniyor\n",
        "print(\"keys() fonksiyonu ile okunan elemanlar\")\n",
        "for eleman in personelgelirleri.keys():\n",
        "    print(eleman)"
      ],
      "metadata": {
        "colab": {
          "base_uri": "https://localhost:8080/"
        },
        "id": "FwqV1FokC0xj",
        "outputId": "9951291e-6246-450c-f9b4-c273a6c38e8b"
      },
      "execution_count": null,
      "outputs": [
        {
          "output_type": "stream",
          "name": "stdout",
          "text": [
            "onur\n",
            "ahmet\n",
            "ece\n",
            "arzu\n",
            "gokhan\n",
            "keys() fonksiyonu ile okunan elemanlar\n",
            "onur\n",
            "ahmet\n",
            "ece\n",
            "arzu\n",
            "gokhan\n"
          ]
        }
      ]
    },
    {
      "cell_type": "code",
      "source": [
        "100 in personelgelirleri.values()\n",
        "# 100 in dict_values([100, 50, 200, 400])"
      ],
      "metadata": {
        "colab": {
          "base_uri": "https://localhost:8080/"
        },
        "id": "-hxSchnaDAT6",
        "outputId": "a7432ad0-c323-4728-8659-9157542449b1"
      },
      "execution_count": null,
      "outputs": [
        {
          "output_type": "execute_result",
          "data": {
            "text/plain": [
              "True"
            ]
          },
          "metadata": {},
          "execution_count": 144
        }
      ]
    },
    {
      "cell_type": "code",
      "source": [
        "# anahtar bazli indeksleme - elemanlarin degerlerine anahtarlarla ulasma\n",
        "for anahtar in personelgelirleri: # personelgelirleri.keys()\n",
        "    print(anahtar)\n",
        "    print(personelgelirleri[anahtar])\n",
        "    # ['onur', 'ahmet', 'ece', 'arzu', 'gokhan']\n",
        "    # döngünün 1. adımı\n",
        "    # anahtar = 'onur'\n",
        "    # personelgelirleri[anahtar] => personelgelirleri['onur'] => 100\n",
        "    # döngünün 2. adımı\n",
        "    # anahtar = 'ahmet'\n",
        "    # personelgelirleri[anahtar] => personelgelirleri['ahmet'] => 50\n",
        "    # ...\n",
        "    # döngünün 5. ve son adımı\n",
        "    # anahtar = 'gokhan'\n",
        "    # personelgelirleri[anahtar] => personelgelirleri['gokhan'] => 400"
      ],
      "metadata": {
        "colab": {
          "base_uri": "https://localhost:8080/"
        },
        "id": "kMt727fTDGj6",
        "outputId": "fc344eb3-8bf3-448e-992a-37cfe97ce675"
      },
      "execution_count": null,
      "outputs": [
        {
          "output_type": "stream",
          "name": "stdout",
          "text": [
            "onur\n",
            "100\n",
            "ahmet\n",
            "50\n",
            "ece\n",
            "200\n",
            "arzu\n",
            "50\n",
            "gokhan\n",
            "400\n"
          ]
        }
      ]
    },
    {
      "cell_type": "markdown",
      "source": [
        "###### birden fazla degiskene, tuple degerlerinin atanmasi"
      ],
      "metadata": {
        "id": "fKpX8_Q_D3Yx"
      }
    },
    {
      "cell_type": "code",
      "source": [
        "# tek satirda 2 ya da daha fazla degiskene deger atamak icin\n",
        "birinci, ikinci, ucuncu = 1, 20, 300\n",
        "#birinci = 1\n",
        "#ikinci = 20\n",
        "#ucuncu = 300"
      ],
      "metadata": {
        "id": "TZRFSjDzD3pi"
      },
      "execution_count": null,
      "outputs": []
    },
    {
      "cell_type": "code",
      "source": [
        "print(ikinci, ucuncu)"
      ],
      "metadata": {
        "colab": {
          "base_uri": "https://localhost:8080/"
        },
        "id": "VEOfTsuVD-fq",
        "outputId": "579c3896-fc18-4c1a-9180-63ed02e5fcd2"
      },
      "execution_count": null,
      "outputs": [
        {
          "output_type": "stream",
          "name": "stdout",
          "text": [
            "20 300\n"
          ]
        }
      ]
    },
    {
      "cell_type": "code",
      "source": [
        "markettype, stockprice, risk = 'crypto', 130, 0.80\n",
        "#markettype = 'crypto'\n",
        "#stockprice = 130\n",
        "#risk = 0.80"
      ],
      "metadata": {
        "id": "wU1SomeED_yy"
      },
      "execution_count": null,
      "outputs": []
    },
    {
      "cell_type": "code",
      "source": [
        "print(risk, stockprice)"
      ],
      "metadata": {
        "colab": {
          "base_uri": "https://localhost:8080/"
        },
        "id": "7Wjrnwv6EEsS",
        "outputId": "dc898edf-b814-4d8a-d422-0ebf96af99dc"
      },
      "execution_count": null,
      "outputs": [
        {
          "output_type": "stream",
          "name": "stdout",
          "text": [
            "0.8 130\n"
          ]
        }
      ]
    },
    {
      "cell_type": "code",
      "source": [
        "market_stock_risk_ornek_tuple = ('crypto', 130, 0.80)\n",
        "print(market_stock_risk_ornek_tuple)"
      ],
      "metadata": {
        "colab": {
          "base_uri": "https://localhost:8080/"
        },
        "id": "EomOYdCEEMX6",
        "outputId": "ff060021-36d7-4c3e-d82f-2dac06c646e9"
      },
      "execution_count": null,
      "outputs": [
        {
          "output_type": "stream",
          "name": "stdout",
          "text": [
            "('crypto', 130, 0.8)\n"
          ]
        }
      ]
    },
    {
      "cell_type": "code",
      "source": [
        "degisken1, degisken2, degisken3 = market_stock_risk_ornek_tuple\n",
        "#degisken1, degisken2, degisken3 = ('crypto', 130, 0.80)\n",
        "#degisken1, degisken2, degisken3 = 'crypto', 130, 0.80\n",
        "#degisken1 = 'crypto'\n",
        "#degisken2 = 130\n",
        "#degisken3 = 0.80"
      ],
      "metadata": {
        "id": "GnBx1uOGEUg0"
      },
      "execution_count": null,
      "outputs": []
    },
    {
      "cell_type": "code",
      "source": [
        "print(degisken2)"
      ],
      "metadata": {
        "colab": {
          "base_uri": "https://localhost:8080/"
        },
        "id": "lKX3-42eEfzC",
        "outputId": "26e4ab1b-fb9b-4e94-81a9-0532f2408c8f"
      },
      "execution_count": null,
      "outputs": [
        {
          "output_type": "stream",
          "name": "stdout",
          "text": [
            "130\n"
          ]
        }
      ]
    },
    {
      "cell_type": "code",
      "source": [
        "# tuple icindeki degerlerin 2.sini bir degiskende tutmak gerekmiyorsa\n",
        "degisken1, degisken3 = market_stock_risk_ornek_tuple\n",
        "#degisken1, degisken3 = 'crypto', 130, 0.80 # unpack edilmis hali"
      ],
      "metadata": {
        "colab": {
          "base_uri": "https://localhost:8080/",
          "height": 183
        },
        "id": "cnHBDsa4EhIr",
        "outputId": "0fa54d4a-849a-4f56-bc4b-4ef2b1a831e1"
      },
      "execution_count": null,
      "outputs": [
        {
          "output_type": "error",
          "ename": "ValueError",
          "evalue": "ignored",
          "traceback": [
            "\u001b[0;31m---------------------------------------------------------------------------\u001b[0m",
            "\u001b[0;31mValueError\u001b[0m                                Traceback (most recent call last)",
            "\u001b[0;32m<ipython-input-154-250115daf783>\u001b[0m in \u001b[0;36m<module>\u001b[0;34m\u001b[0m\n\u001b[1;32m      1\u001b[0m \u001b[0;31m# tuple icindeki degerlerin 2.sini bir degiskende tutmak gerekmiyorsa\u001b[0m\u001b[0;34m\u001b[0m\u001b[0;34m\u001b[0m\u001b[0;34m\u001b[0m\u001b[0m\n\u001b[0;32m----> 2\u001b[0;31m \u001b[0mdegisken1\u001b[0m\u001b[0;34m,\u001b[0m \u001b[0mdegisken3\u001b[0m \u001b[0;34m=\u001b[0m \u001b[0mmarket_stock_risk_ornek_tuple\u001b[0m\u001b[0;34m\u001b[0m\u001b[0;34m\u001b[0m\u001b[0m\n\u001b[0m",
            "\u001b[0;31mValueError\u001b[0m: too many values to unpack (expected 2)"
          ]
        }
      ]
    },
    {
      "cell_type": "code",
      "source": [
        "# ikinci degeri okuman istemezseniz, _ degiskeninde tutabilirsiniz\n",
        "degisken1, _, degisken3 = market_stock_risk_ornek_tuple"
      ],
      "metadata": {
        "id": "A23GQJI0EmG6"
      },
      "execution_count": null,
      "outputs": []
    },
    {
      "cell_type": "code",
      "source": [
        "_ # _ aslinda bir degisken adi fakat kullanimda, ulasmak istenilmeyen degerlerin tutuldugu degisken olarak kullanilir'"
      ],
      "metadata": {
        "colab": {
          "base_uri": "https://localhost:8080/"
        },
        "id": "vTrNwZpjEyrz",
        "outputId": "aa6061f8-99b7-4456-d531-ce6c8dac6727"
      },
      "execution_count": null,
      "outputs": [
        {
          "output_type": "execute_result",
          "data": {
            "text/plain": [
              "130"
            ]
          },
          "metadata": {},
          "execution_count": 157
        }
      ]
    },
    {
      "cell_type": "code",
      "source": [
        "print(degisken3)"
      ],
      "metadata": {
        "colab": {
          "base_uri": "https://localhost:8080/"
        },
        "id": "ylrkBw5ZE7Wb",
        "outputId": "a9e804e6-7a60-4ce8-d91e-96f80705f325"
      },
      "execution_count": null,
      "outputs": [
        {
          "output_type": "stream",
          "name": "stdout",
          "text": [
            "0.8\n"
          ]
        }
      ]
    },
    {
      "cell_type": "code",
      "source": [
        "#anahtar, deger = ('onur', 100)\n",
        "#anahtar, deger = 'onur', 100\n",
        "#anahtar = 'onur'\n",
        "#deger = 100\n",
        "for anahtar, deger in personelgelirleri.items():\n",
        "    print(f\"Anahtar {anahtar} karsiligindaki deger {deger}\")"
      ],
      "metadata": {
        "colab": {
          "base_uri": "https://localhost:8080/"
        },
        "id": "FagidGljE7mq",
        "outputId": "e994e641-a179-4f1d-fc78-d66adad6b848"
      },
      "execution_count": null,
      "outputs": [
        {
          "output_type": "stream",
          "name": "stdout",
          "text": [
            "Anahtar onur karsiligindaki deger 100\n",
            "Anahtar ahmet karsiligindaki deger 50\n",
            "Anahtar ece karsiligindaki deger 200\n",
            "Anahtar arzu karsiligindaki deger 50\n",
            "Anahtar gokhan karsiligindaki deger 400\n"
          ]
        }
      ]
    },
    {
      "cell_type": "code",
      "source": [
        "turkcesozluk = [\"aslında\",\"yükümlülük\"]\n",
        "ingilizcesozluk = [\"indeed\",\"obligation\"]\n",
        "sozluk={}\n",
        "sozluk[turkcesozluk[0]]=ingilizcesozluk[0]\n",
        "print(sozluk)"
      ],
      "metadata": {
        "id": "9jucOKvgFZ4q",
        "outputId": "a3a0c191-2dd0-4fb9-914c-f0d71befb38a",
        "colab": {
          "base_uri": "https://localhost:8080/"
        }
      },
      "execution_count": null,
      "outputs": [
        {
          "output_type": "stream",
          "name": "stdout",
          "text": [
            "{'aslında': 'indeed'}\n"
          ]
        }
      ]
    },
    {
      "cell_type": "markdown",
      "source": [
        "#### Kelime Sayma"
      ],
      "metadata": {
        "id": "IExEZ7OSFFjl"
      }
    },
    {
      "cell_type": "code",
      "source": [
        "# kelime sayma => kelime:kac defa gectigi\n",
        "# 1. bos bir sozluk olusturalim\n",
        "kelimesayilari = {} # dict()\n",
        "# sonucta ulasilmak istenen ==>> kelimesayilari => {'veri':5, 'de':44, 've':23, ...}\n",
        "# sozlukte kelime anahtar olarak, kelimenin kac defa gectigi deger olarak saklanacak"
      ],
      "metadata": {
        "id": "3RDN-BjsE-W7"
      },
      "execution_count": null,
      "outputs": []
    },
    {
      "cell_type": "code",
      "source": [
        "print(kelimesayilari)"
      ],
      "metadata": {
        "colab": {
          "base_uri": "https://localhost:8080/"
        },
        "id": "bsz7dMuT2t0e",
        "outputId": "5ba1b593-f682-4258-eace-0c775e3b25dc"
      },
      "execution_count": null,
      "outputs": [
        {
          "output_type": "stream",
          "name": "stdout",
          "text": [
            "{}\n"
          ]
        }
      ]
    },
    {
      "cell_type": "code",
      "source": [
        "len(kelimesayilari) # len(kelimesayilari)"
      ],
      "metadata": {
        "colab": {
          "base_uri": "https://localhost:8080/"
        },
        "id": "eAvoOIBI2t3D",
        "outputId": "9ff6c359-1ebe-4e03-ca4e-42daca39b25c"
      },
      "execution_count": null,
      "outputs": [
        {
          "output_type": "execute_result",
          "data": {
            "text/plain": [
              "0"
            ]
          },
          "metadata": {},
          "execution_count": 3
        }
      ]
    },
    {
      "cell_type": "code",
      "source": [
        "# yeni kelimemiz 'veri'\n",
        "# bu kelime daha once sozluge eklenmis midir? ==>> sozlukte bu kelime ve gecme sayisi var midir?\n",
        "# 'veri' kelimesi anahtar olarak sozlukte bulunuyor mu?\n",
        "'veri' in kelimesayilari # 'veri' in kelimesayilari.keys()"
      ],
      "metadata": {
        "colab": {
          "base_uri": "https://localhost:8080/"
        },
        "id": "kxdknT4N2t4p",
        "outputId": "06ce44ad-5321-461d-e704-d5bf178d1746"
      },
      "execution_count": null,
      "outputs": [
        {
          "output_type": "execute_result",
          "data": {
            "text/plain": [
              "False"
            ]
          },
          "metadata": {},
          "execution_count": 6
        }
      ]
    },
    {
      "cell_type": "code",
      "source": [
        "# Kelime sozlugumuzde bulunmuyorsa sozluge kelime:1 ('veri':1) ikilisi ekleniyor.\n",
        "# -> cunku bu kelimeyle ilk defa karsilasiliyor\n",
        "# sozluge eleman anahtar:deger ekleme ==>> sozlukadi[anahtar] = deger\n",
        "kelimesayilari['veri'] = 1"
      ],
      "metadata": {
        "id": "GcT2s4IC2t65"
      },
      "execution_count": null,
      "outputs": []
    },
    {
      "cell_type": "code",
      "source": [
        "print(kelimesayilari)"
      ],
      "metadata": {
        "colab": {
          "base_uri": "https://localhost:8080/"
        },
        "id": "aPu8A5632t9A",
        "outputId": "4e1a3280-baef-4f31-897a-32dfe7b140c6"
      },
      "execution_count": null,
      "outputs": [
        {
          "output_type": "stream",
          "name": "stdout",
          "text": [
            "{'veri': 1}\n"
          ]
        }
      ]
    },
    {
      "cell_type": "code",
      "source": [
        "# yeni kelimemiz 'analitik'\n",
        "# bu kelime daha once sozluge eklenmis midir? ==>> sozlukte bu kelime ve gecme sayisi var midir?\n",
        "'analitik' in kelimesayilari"
      ],
      "metadata": {
        "colab": {
          "base_uri": "https://localhost:8080/"
        },
        "id": "4U9fDSrl2uA7",
        "outputId": "711b32b9-83fd-493b-a06e-870f2060e8fc"
      },
      "execution_count": null,
      "outputs": [
        {
          "output_type": "execute_result",
          "data": {
            "text/plain": [
              "False"
            ]
          },
          "metadata": {},
          "execution_count": 9
        }
      ]
    },
    {
      "cell_type": "code",
      "source": [
        "# Kelime sozlugumuzde bulunmuyorsa sozluge kelime:1 ('analitik':1) ikilisi ekleniyor.\n",
        "# -> cunku bu kelimeyle ilk defa karsilasiliyor\n",
        "kelimesayilari['analitik'] = 1"
      ],
      "metadata": {
        "id": "NLeCkpYG2uDQ"
      },
      "execution_count": null,
      "outputs": []
    },
    {
      "cell_type": "code",
      "source": [
        "print(kelimesayilari)"
      ],
      "metadata": {
        "colab": {
          "base_uri": "https://localhost:8080/"
        },
        "id": "7JLywYaD2uHH",
        "outputId": "a64fd8fa-86d9-488d-8dfc-210db0fe562b"
      },
      "execution_count": null,
      "outputs": [
        {
          "output_type": "stream",
          "name": "stdout",
          "text": [
            "{'veri': 1, 'analitik': 1}\n"
          ]
        }
      ]
    },
    {
      "cell_type": "code",
      "source": [
        "# yeni kelimemiz 'madenicilik'\n",
        "# bu kelime daha once sozluge eklenmis midir? ==>> sozlukte bu kelime ve gecme sayisi var midir?\n",
        "'madenicilik' in kelimesayilari\n",
        "# 'madenicilik' in kelimesayilari.keys()"
      ],
      "metadata": {
        "colab": {
          "base_uri": "https://localhost:8080/"
        },
        "id": "QpL5Wb6E2uJ5",
        "outputId": "77aca7c5-b71b-4ed5-80d4-fe6a91fe728f"
      },
      "execution_count": null,
      "outputs": [
        {
          "output_type": "execute_result",
          "data": {
            "text/plain": [
              "False"
            ]
          },
          "metadata": {},
          "execution_count": 13
        }
      ]
    },
    {
      "cell_type": "code",
      "source": [
        "kelimesayilari['madencilik'] = 1\n",
        "print(kelimesayilari)"
      ],
      "metadata": {
        "colab": {
          "base_uri": "https://localhost:8080/"
        },
        "id": "FbGrUFFf2uMP",
        "outputId": "5bc16154-dd02-4a05-b7f3-46f497198135"
      },
      "execution_count": null,
      "outputs": [
        {
          "output_type": "stream",
          "name": "stdout",
          "text": [
            "{'veri': 1, 'analitik': 1, 'madencilik': 1}\n"
          ]
        }
      ]
    },
    {
      "cell_type": "code",
      "source": [
        "# yeni kelimeyi yenikelime degiskeninde tutalim\n",
        "yenikelime = 'veri'"
      ],
      "metadata": {
        "id": "Fm-mpvxd4oKQ"
      },
      "execution_count": null,
      "outputs": []
    },
    {
      "cell_type": "code",
      "source": [
        "yenikelime in kelimesayilari\n",
        "# True donduruyor yani kelime daha once karsilasilan bir kelime"
      ],
      "metadata": {
        "colab": {
          "base_uri": "https://localhost:8080/"
        },
        "id": "FFcnJxfz4yI4",
        "outputId": "1adb7d58-2f2b-4220-f1c6-995d8aae6dc5"
      },
      "execution_count": null,
      "outputs": [
        {
          "output_type": "execute_result",
          "data": {
            "text/plain": [
              "True"
            ]
          },
          "metadata": {},
          "execution_count": 16
        }
      ]
    },
    {
      "cell_type": "code",
      "source": [
        "# kelime daha once belgede gecmis bir kelime\n",
        "# oncelikle bu kelimenin daha once kac defa gectigi bilgisine ulasilmali\n",
        "kelimesayilari[yenikelime] # daha onceki gecme sayisi"
      ],
      "metadata": {
        "colab": {
          "base_uri": "https://localhost:8080/"
        },
        "id": "d0lkFleW4yLV",
        "outputId": "91a45286-bea8-496b-f095-500e73ad58ec"
      },
      "execution_count": null,
      "outputs": [
        {
          "output_type": "execute_result",
          "data": {
            "text/plain": [
              "1"
            ]
          },
          "metadata": {},
          "execution_count": 18
        }
      ]
    },
    {
      "cell_type": "code",
      "source": [
        "# kelimenin gecme sayisini 1 arttirmamiz gerekiyor\n",
        "# artik kelimenin gecme sayisi su olmali:\n",
        "kelimesayilari[yenikelime] + 1"
      ],
      "metadata": {
        "colab": {
          "base_uri": "https://localhost:8080/"
        },
        "id": "ZNJlQn1u4yNk",
        "outputId": "ad87827c-ca6d-40e8-e182-1b725c489dfb"
      },
      "execution_count": null,
      "outputs": [
        {
          "output_type": "execute_result",
          "data": {
            "text/plain": [
              "2"
            ]
          },
          "metadata": {},
          "execution_count": 19
        }
      ]
    },
    {
      "cell_type": "code",
      "source": [
        "# kelimenin gecme sayisi degerinin guncellenmesi gerekir\n",
        "kelimesayilari[yenikelime] = kelimesayilari[yenikelime] + 1"
      ],
      "metadata": {
        "id": "HnSPFCDl4yQN"
      },
      "execution_count": null,
      "outputs": []
    },
    {
      "cell_type": "code",
      "source": [
        "print(kelimesayilari)"
      ],
      "metadata": {
        "colab": {
          "base_uri": "https://localhost:8080/"
        },
        "id": "w4BtQgPG4yTK",
        "outputId": "45d37c55-e823-42f4-9eba-14e915a40b63"
      },
      "execution_count": null,
      "outputs": [
        {
          "output_type": "stream",
          "name": "stdout",
          "text": [
            "{'veri': 2, 'analitik': 1, 'madencilik': 1}\n"
          ]
        }
      ]
    },
    {
      "cell_type": "code",
      "source": [
        "# TEK BIR KOD BLOGUNDA KONTROLU VE GUNCELLEMEYI yapalim\n",
        "yenikelime = 'metin'\n",
        "# 1. kelime sozlukte var mi?\n",
        "if yenikelime in kelimesayilari:\n",
        "    # kelime daha once belgede gecmis bir kelime\n",
        "    kelimesayilari[yenikelime] = kelimesayilari[yenikelime] + 1\n",
        "else:\n",
        "    # kelime daha once belgede gecmemis\n",
        "    # kelimesayilari[yenikelime] = kelimesayilari[yenikelime] + 1\n",
        "    # kelimesayilari[yenikelime] = 0 + 1\n",
        "    kelimesayilari[yenikelime] = 1"
      ],
      "metadata": {
        "id": "s8E2jao84yU8"
      },
      "execution_count": null,
      "outputs": []
    },
    {
      "cell_type": "code",
      "source": [
        "print(kelimesayilari)"
      ],
      "metadata": {
        "colab": {
          "base_uri": "https://localhost:8080/"
        },
        "id": "pluvroaz4yX8",
        "outputId": "47e06094-f33e-46d3-fe2f-fd97b73a2e69"
      },
      "execution_count": null,
      "outputs": [
        {
          "output_type": "stream",
          "name": "stdout",
          "text": [
            "{'veri': 2, 'analitik': 1, 'madencilik': 1, 'metin': 1}\n"
          ]
        }
      ]
    },
    {
      "cell_type": "code",
      "source": [
        "yenikelime = 'veri'\n",
        "# 1. kelime sozlukte var mi?\n",
        "if yenikelime in kelimesayilari:\n",
        "    # kelime daha once belgede gecmis bir kelime\n",
        "    kelimesayilari[yenikelime] = kelimesayilari[yenikelime] + 1\n",
        "else:\n",
        "    # kelime daha once belgede gecmemis\n",
        "    # kelimesayilari[yenikelime] = kelimesayilari[yenikelime] + 1\n",
        "    # kelimesayilari[yenikelime] = 0 + 1\n",
        "    kelimesayilari[yenikelime] = 1"
      ],
      "metadata": {
        "id": "nSkVXqaW4yaj"
      },
      "execution_count": null,
      "outputs": []
    },
    {
      "cell_type": "code",
      "source": [
        "print(kelimesayilari)"
      ],
      "metadata": {
        "colab": {
          "base_uri": "https://localhost:8080/"
        },
        "id": "Ee5qujYP4yc6",
        "outputId": "24dc985d-b25c-4edd-9290-473753f81977"
      },
      "execution_count": null,
      "outputs": [
        {
          "output_type": "stream",
          "name": "stdout",
          "text": [
            "{'veri': 3, 'analitik': 1, 'madencilik': 1, 'metin': 1}\n"
          ]
        }
      ]
    },
    {
      "cell_type": "code",
      "source": [
        "yenikelime = 'performans'"
      ],
      "metadata": {
        "id": "tnQUVd3g6EsR"
      },
      "execution_count": null,
      "outputs": []
    },
    {
      "cell_type": "code",
      "source": [
        "# daha once 5 defa karsilasildiysa\n",
        "# => kelimesayilari[yenikelime] = 5 + 1\n",
        "# daha once hic karsilasilmadiysa\n",
        "# => kelimesayilari[yenikelime] = 0 + 1"
      ],
      "metadata": {
        "id": "TAiV716u6HV4"
      },
      "execution_count": null,
      "outputs": []
    },
    {
      "cell_type": "code",
      "source": [
        "kelimesayilari[yenikelime] = kelimesayilari[yenikelime] + 1"
      ],
      "metadata": {
        "colab": {
          "base_uri": "https://localhost:8080/",
          "height": 166
        },
        "id": "O-6yM2RA6HxU",
        "outputId": "83f331fa-4791-4d93-ffee-0547f0f2d93c"
      },
      "execution_count": null,
      "outputs": [
        {
          "output_type": "error",
          "ename": "KeyError",
          "evalue": "ignored",
          "traceback": [
            "\u001b[0;31m---------------------------------------------------------------------------\u001b[0m",
            "\u001b[0;31mKeyError\u001b[0m                                  Traceback (most recent call last)",
            "\u001b[0;32m<ipython-input-27-98db61d4e604>\u001b[0m in \u001b[0;36m<module>\u001b[0;34m\u001b[0m\n\u001b[0;32m----> 1\u001b[0;31m \u001b[0mkelimesayilari\u001b[0m\u001b[0;34m[\u001b[0m\u001b[0myenikelime\u001b[0m\u001b[0;34m]\u001b[0m \u001b[0;34m=\u001b[0m \u001b[0mkelimesayilari\u001b[0m\u001b[0;34m[\u001b[0m\u001b[0myenikelime\u001b[0m\u001b[0;34m]\u001b[0m \u001b[0;34m+\u001b[0m \u001b[0;36m1\u001b[0m\u001b[0;34m\u001b[0m\u001b[0;34m\u001b[0m\u001b[0m\n\u001b[0m",
            "\u001b[0;31mKeyError\u001b[0m: 'performans'"
          ]
        }
      ]
    },
    {
      "cell_type": "code",
      "source": [
        "# kac defa karsilasildi\n",
        "kelimesayilari[yenikelime]"
      ],
      "metadata": {
        "colab": {
          "base_uri": "https://localhost:8080/",
          "height": 183
        },
        "id": "58g9NlqY6Hz8",
        "outputId": "3130a30d-c105-4741-9846-9c409187f22d"
      },
      "execution_count": null,
      "outputs": [
        {
          "output_type": "error",
          "ename": "KeyError",
          "evalue": "ignored",
          "traceback": [
            "\u001b[0;31m---------------------------------------------------------------------------\u001b[0m",
            "\u001b[0;31mKeyError\u001b[0m                                  Traceback (most recent call last)",
            "\u001b[0;32m<ipython-input-28-1844e095c640>\u001b[0m in \u001b[0;36m<module>\u001b[0;34m\u001b[0m\n\u001b[1;32m      1\u001b[0m \u001b[0;31m# kac defa karsilasildi\u001b[0m\u001b[0;34m\u001b[0m\u001b[0;34m\u001b[0m\u001b[0;34m\u001b[0m\u001b[0m\n\u001b[0;32m----> 2\u001b[0;31m \u001b[0mkelimesayilari\u001b[0m\u001b[0;34m[\u001b[0m\u001b[0myenikelime\u001b[0m\u001b[0;34m]\u001b[0m\u001b[0;34m\u001b[0m\u001b[0;34m\u001b[0m\u001b[0m\n\u001b[0m",
            "\u001b[0;31mKeyError\u001b[0m: 'performans'"
          ]
        }
      ]
    },
    {
      "cell_type": "code",
      "source": [
        "# kelime sayma yaklasimi\n",
        "'''\n",
        "if yenikelime in kelimesayilari:\n",
        "    # kelime daha once belgede gecmis bir kelime\n",
        "    kelimesayilari[yenikelime] = kelimesayilari[yenikelime] + 1\n",
        "else:\n",
        "    # kelime daha once belgede gecmemis\n",
        "    # kelimesayilari[yenikelime] = kelimesayilari[yenikelime] + 1\n",
        "    # kelimesayilari[yenikelime] = 0 + 1\n",
        "    kelimesayilari[yenikelime] = 1\n",
        "'''\n",
        "# tek bir satirda nasil yapabiliriz !"
      ],
      "metadata": {
        "id": "d2yVWcOy6H2m"
      },
      "execution_count": null,
      "outputs": []
    },
    {
      "cell_type": "code",
      "source": [
        "print(kelimesayilari)"
      ],
      "metadata": {
        "colab": {
          "base_uri": "https://localhost:8080/"
        },
        "id": "LHzcOdKI7kF_",
        "outputId": "aa76467e-5483-492d-fe98-dc8faa4597cf"
      },
      "execution_count": null,
      "outputs": [
        {
          "output_type": "stream",
          "name": "stdout",
          "text": [
            "{'veri': 3, 'analitik': 1, 'madencilik': 1, 'metin': 1}\n"
          ]
        }
      ]
    },
    {
      "cell_type": "code",
      "source": [
        "# kelime ile daha once karsilasildi mi kontrolunun yapilip, \n",
        "# kelime daha once gectiyse, oncesinde kac defa karsilasildigi degeri bulunup getirilsin, \n",
        "# gecmediyse de gecme sayisi olarak 0 degerinin getirilmesi\n",
        "kelimesayilari.get?\n",
        "# Signature: kelimesayilari.get(key, default=None, /)\n",
        "# Docstring: Return the value for key if key is in the dictionary, else default."
      ],
      "metadata": {
        "id": "bGCWiWU56H40"
      },
      "execution_count": null,
      "outputs": []
    },
    {
      "cell_type": "code",
      "source": [
        "kelimesayilari.get('veri')"
      ],
      "metadata": {
        "colab": {
          "base_uri": "https://localhost:8080/"
        },
        "id": "5Ny8Dq_Q7e0J",
        "outputId": "3361d1b3-646e-4730-9c7d-e81e020b61a5"
      },
      "execution_count": null,
      "outputs": [
        {
          "output_type": "execute_result",
          "data": {
            "text/plain": [
              "3"
            ]
          },
          "metadata": {},
          "execution_count": 31
        }
      ]
    },
    {
      "cell_type": "code",
      "source": [
        "kelimesayilari.get('performans')\n",
        "# ipython defteri sonuc bastirmadi\n",
        "# cunku get fonksiyonu ==>> None donduruyor cunku varsayilan/default deger None"
      ],
      "metadata": {
        "id": "r1JnTmv37fD7"
      },
      "execution_count": null,
      "outputs": []
    },
    {
      "cell_type": "code",
      "source": [
        "print( kelimesayilari.get('performans') )"
      ],
      "metadata": {
        "colab": {
          "base_uri": "https://localhost:8080/"
        },
        "id": "5HHSQxDU7fGX",
        "outputId": "c55e6234-ba70-4b4c-fa42-c4522b0deed6"
      },
      "execution_count": null,
      "outputs": [
        {
          "output_type": "stream",
          "name": "stdout",
          "text": [
            "None\n"
          ]
        }
      ]
    },
    {
      "cell_type": "code",
      "source": [
        "# kelime sozlugumuzde yoksa None yerine 0 degerini dondursun\n",
        "kelimesayilari.get('performans', 0)"
      ],
      "metadata": {
        "colab": {
          "base_uri": "https://localhost:8080/"
        },
        "id": "472nPKbK7fIP",
        "outputId": "108a5f31-5773-4273-f7f5-9dfa81e0a8d5"
      },
      "execution_count": null,
      "outputs": [
        {
          "output_type": "execute_result",
          "data": {
            "text/plain": [
              "0"
            ]
          },
          "metadata": {},
          "execution_count": 35
        }
      ]
    },
    {
      "cell_type": "code",
      "source": [
        "kelimesayilari.get('veri', 0)"
      ],
      "metadata": {
        "colab": {
          "base_uri": "https://localhost:8080/"
        },
        "id": "otOj-B6j7fKR",
        "outputId": "1e33ba61-977c-4726-a0b8-9a645400ac54"
      },
      "execution_count": null,
      "outputs": [
        {
          "output_type": "execute_result",
          "data": {
            "text/plain": [
              "3"
            ]
          },
          "metadata": {},
          "execution_count": 36
        }
      ]
    },
    {
      "cell_type": "code",
      "source": [
        "kelimesayilari.get(yenikelime, 0)"
      ],
      "metadata": {
        "colab": {
          "base_uri": "https://localhost:8080/"
        },
        "id": "T1UAXN8m8MJw",
        "outputId": "097dd9e0-f146-4e8c-e9f0-b991145307d2"
      },
      "execution_count": null,
      "outputs": [
        {
          "output_type": "execute_result",
          "data": {
            "text/plain": [
              "0"
            ]
          },
          "metadata": {},
          "execution_count": 37
        }
      ]
    },
    {
      "cell_type": "code",
      "source": [
        "print(yenikelime)"
      ],
      "metadata": {
        "colab": {
          "base_uri": "https://localhost:8080/"
        },
        "id": "AQb2Vuqe8RYg",
        "outputId": "32df0b54-3d60-41cd-a56a-793ddb945a1b"
      },
      "execution_count": null,
      "outputs": [
        {
          "output_type": "stream",
          "name": "stdout",
          "text": [
            "performans\n"
          ]
        }
      ]
    },
    {
      "cell_type": "code",
      "source": [
        "# tek bir satirda gerceklestirilirse\n",
        "kelimesayilari[yenikelime] = kelimesayilari.get(yenikelime, 0) + 1"
      ],
      "metadata": {
        "id": "k20fEjZO8TxY"
      },
      "execution_count": null,
      "outputs": []
    },
    {
      "cell_type": "code",
      "source": [
        "print(kelimesayilari)"
      ],
      "metadata": {
        "colab": {
          "base_uri": "https://localhost:8080/"
        },
        "id": "VYe4Q07G80Cz",
        "outputId": "835c2bfc-a97b-4122-bb80-04a299c6a4c7"
      },
      "execution_count": null,
      "outputs": [
        {
          "output_type": "stream",
          "name": "stdout",
          "text": [
            "{'veri': 3, 'analitik': 1, 'madencilik': 1, 'metin': 1, 'performans': 1}\n"
          ]
        }
      ]
    },
    {
      "cell_type": "code",
      "source": [
        "yenikelime = 'dogruluk'\n",
        "kelimesayilari[yenikelime] = kelimesayilari.get(yenikelime, 0) + 1\n",
        "print(kelimesayilari)"
      ],
      "metadata": {
        "colab": {
          "base_uri": "https://localhost:8080/"
        },
        "id": "hg4Ta05D80FS",
        "outputId": "24a598cd-a658-41f3-dc04-6b508bfb849c"
      },
      "execution_count": null,
      "outputs": [
        {
          "output_type": "stream",
          "name": "stdout",
          "text": [
            "{'veri': 3, 'analitik': 1, 'madencilik': 1, 'metin': 1, 'performans': 1, 'dogruluk': 1}\n"
          ]
        }
      ]
    },
    {
      "cell_type": "code",
      "source": [
        "yenikelime = 'analitik'\n",
        "kelimesayilari[yenikelime] = kelimesayilari.get(yenikelime, 0) + 1\n",
        "print(kelimesayilari)"
      ],
      "metadata": {
        "colab": {
          "base_uri": "https://localhost:8080/"
        },
        "id": "mKZv3rbj80KD",
        "outputId": "65c345b0-9915-434c-9f77-ec9cdd5db2f7"
      },
      "execution_count": null,
      "outputs": [
        {
          "output_type": "stream",
          "name": "stdout",
          "text": [
            "{'veri': 3, 'analitik': 2, 'madencilik': 1, 'metin': 1, 'performans': 1, 'dogruluk': 1}\n"
          ]
        }
      ]
    },
    {
      "cell_type": "markdown",
      "source": [
        "#### Alıştırma\n",
        "Word Counting / Kelime Sayma - Most Frequent 3 words \n",
        "- belgede en çok geçen 3 kelime hangileridir ve kaçar defa geçmişlerdir?"
      ],
      "metadata": {
        "id": "yMwHkZFJ9BEc"
      }
    },
    {
      "cell_type": "code",
      "source": [
        "belge = \"Veri madenciliği, eldeki verilerden üstü kapalı, çok net olmayan, önceden bilinmeyen ancak potansiyel olarak kullanışlı bilginin çıkarılmasıdır. Bu da; kümeleme, veri özetleme, değişikliklerin analizi, sapmaların tespiti gibi belirli sayıda teknik yaklaşımları içerir. Başka bir deyişle, veri madenciliği, verilerin içerisindeki desenlerin, ilişkilerin, değişimlerin, düzensizliklerin, kuralların ve istatistiksel olarak önemli olan yapıların yarı otomatik olarak keşfedilmesidir. Temel olarak veri madenciliği, veri setleri arasındaki desenlerin ya da düzenin, verinin analizi ve yazılım tekniklerinin kullanılmasıyla ilgilidir. Veriler arasındaki ilişkiyi, kuralları ve özellikleri belirlemekten bilgisayar sorumludur. Amaç, daha önceden fark edilmemiş veri desenlerini tespit edebilmektir. Veri madenciliğini istatistiksel bir yöntemler serisi olarak görmek mümkün olabilir. Ancak veri madenciliği, geleneksel istatistikten birkaç yönde farklılık gösterir. Veri madenciliğinde amaç, kolaylıkla mantıksal kurallara ya da görsel sunumlara çevrilebilecek nitel modellerin çıkarılmasıdır. Bu bağlamda, veri madenciliği insan merkezlidir ve bazen insan – bilgisayar arayüzü birleştirilir. Veri madenciliği sahası, istatistik, makine bilgisi, veritabanları ve yüksek performanslı işlem gibi temelleri de içerir.\""
      ],
      "metadata": {
        "id": "Bcl-vZKD80NH"
      },
      "execution_count": null,
      "outputs": []
    },
    {
      "cell_type": "code",
      "source": [
        "belge"
      ],
      "metadata": {
        "colab": {
          "base_uri": "https://localhost:8080/",
          "height": 209
        },
        "id": "dforgAw69UfD",
        "outputId": "220ead1d-4e1f-4a9a-da52-bd5210817f54"
      },
      "execution_count": null,
      "outputs": [
        {
          "output_type": "execute_result",
          "data": {
            "text/plain": [
              "'Veri madenciliği, eldeki verilerden üstü kapalı, çok net olmayan, önceden bilinmeyen ancak potansiyel olarak kullanışlı bilginin çıkarılmasıdır. Bu da; kümeleme, veri özetleme, değişikliklerin analizi, sapmaların tespiti gibi belirli sayıda teknik yaklaşımları içerir. Başka bir deyişle, veri madenciliği, verilerin içerisindeki desenlerin, ilişkilerin, değişimlerin, düzensizliklerin, kuralların ve istatistiksel olarak önemli olan yapıların yarı otomatik olarak keşfedilmesidir. Temel olarak veri madenciliği, veri setleri arasındaki desenlerin ya da düzenin, verinin analizi ve yazılım tekniklerinin kullanılmasıyla ilgilidir. Veriler arasındaki ilişkiyi, kuralları ve özellikleri belirlemekten bilgisayar sorumludur. Amaç, daha önceden fark edilmemiş veri desenlerini tespit edebilmektir. Veri madenciliğini istatistiksel bir yöntemler serisi olarak görmek mümkün olabilir. Ancak veri madenciliği, geleneksel istatistikten birkaç yönde farklılık gösterir. Veri madenciliğinde amaç, kolaylıkla mantıksal kurallara ya da görsel sunumlara çevrilebilecek nitel modellerin çıkarılmasıdır. Bu bağlamda, veri madenciliği insan merkezlidir ve bazen insan – bilgisayar arayüzü birleştirilir. Veri madenciliği sahası, istatistik, makine bilgisi, veritabanları ve yüksek performanslı işlem gibi temelleri de içerir.'"
            ],
            "application/vnd.google.colaboratory.intrinsic+json": {
              "type": "string"
            }
          },
          "metadata": {},
          "execution_count": 45
        }
      ]
    },
    {
      "cell_type": "code",
      "source": [
        "# 1. kelimelerin kaçar defa geçtiklerini sözlükte toplayacağız\n",
        "# 2. geçme sayılarına göre sıralama yapacağız"
      ],
      "metadata": {
        "id": "Z_1ZE9tg9UhK"
      },
      "execution_count": null,
      "outputs": []
    },
    {
      "cell_type": "code",
      "source": [
        "type(belge)"
      ],
      "metadata": {
        "colab": {
          "base_uri": "https://localhost:8080/"
        },
        "id": "IsowVta29UjM",
        "outputId": "c3f96278-5048-4e66-d3bf-06772aac5945"
      },
      "execution_count": null,
      "outputs": [
        {
          "output_type": "execute_result",
          "data": {
            "text/plain": [
              "str"
            ]
          },
          "metadata": {},
          "execution_count": 47
        }
      ]
    },
    {
      "cell_type": "code",
      "source": [
        "print( dir(belge) )"
      ],
      "metadata": {
        "colab": {
          "base_uri": "https://localhost:8080/"
        },
        "id": "FcRNDjAU9UlW",
        "outputId": "c0ec3f55-56b5-4826-9c65-63bc0e4bf0f5"
      },
      "execution_count": null,
      "outputs": [
        {
          "output_type": "stream",
          "name": "stdout",
          "text": [
            "['__add__', '__class__', '__contains__', '__delattr__', '__dir__', '__doc__', '__eq__', '__format__', '__ge__', '__getattribute__', '__getitem__', '__getnewargs__', '__gt__', '__hash__', '__init__', '__init_subclass__', '__iter__', '__le__', '__len__', '__lt__', '__mod__', '__mul__', '__ne__', '__new__', '__reduce__', '__reduce_ex__', '__repr__', '__rmod__', '__rmul__', '__setattr__', '__sizeof__', '__str__', '__subclasshook__', 'capitalize', 'casefold', 'center', 'count', 'encode', 'endswith', 'expandtabs', 'find', 'format', 'format_map', 'index', 'isalnum', 'isalpha', 'isascii', 'isdecimal', 'isdigit', 'isidentifier', 'islower', 'isnumeric', 'isprintable', 'isspace', 'istitle', 'isupper', 'join', 'ljust', 'lower', 'lstrip', 'maketrans', 'partition', 'replace', 'rfind', 'rindex', 'rjust', 'rpartition', 'rsplit', 'rstrip', 'split', 'splitlines', 'startswith', 'strip', 'swapcase', 'title', 'translate', 'upper', 'zfill']\n"
          ]
        }
      ]
    },
    {
      "cell_type": "code",
      "source": [
        "################################################\n",
        "##### Metin Ön işleme / Text Preprocessing #####\n",
        "################################################\n",
        "# 1.1. ; ve , isaretlerini belgeden yok edelim\n",
        "# 1.2. . isaretlerini ise bosluk . olarak degistirelim => . sayisi kac cumle olduguna dair yaklasik bir sayi vermis olur."
      ],
      "metadata": {
        "id": "iJQLO-We9Un4"
      },
      "execution_count": null,
      "outputs": []
    },
    {
      "cell_type": "code",
      "source": [
        "# 1.1. ; ve , isaretlerini belgeden yok edelim\n",
        "belge.replace(\";\", '')\n",
        "# replace fonksiyonu, ;'leri yok ettikten sonra olusan stringi donduruyor !\n",
        "# fakat orjinal string degismiyor."
      ],
      "metadata": {
        "colab": {
          "base_uri": "https://localhost:8080/",
          "height": 157
        },
        "id": "cGitLA-d9UqQ",
        "outputId": "608c5ba3-a872-4245-a51c-39a3933400e0"
      },
      "execution_count": null,
      "outputs": [
        {
          "output_type": "execute_result",
          "data": {
            "text/plain": [
              "'Veri madenciliği, eldeki verilerden üstü kapalı, çok net olmayan, önceden bilinmeyen ancak potansiyel olarak kullanışlı bilginin çıkarılmasıdır. Bu da kümeleme, veri özetleme, değişikliklerin analizi, sapmaların tespiti gibi belirli sayıda teknik yaklaşımları içerir. Başka bir deyişle, veri madenciliği, verilerin içerisindeki desenlerin, ilişkilerin, değişimlerin, düzensizliklerin, kuralların ve istatistiksel olarak önemli olan yapıların yarı otomatik olarak keşfedilmesidir. Temel olarak veri madenciliği, veri setleri arasındaki desenlerin ya da düzenin, verinin analizi ve yazılım tekniklerinin kullanılmasıyla ilgilidir. Veriler arasındaki ilişkiyi, kuralları ve özellikleri belirlemekten bilgisayar sorumludur. Amaç, daha önceden fark edilmemiş veri desenlerini tespit edebilmektir. Veri madenciliğini istatistiksel bir yöntemler serisi olarak görmek mümkün olabilir. Ancak veri madenciliği, geleneksel istatistikten birkaç yönde farklılık gösterir. Veri madenciliğinde amaç, kolaylıkla mantıksal kurallara ya da görsel sunumlara çevrilebilecek nitel modellerin çıkarılmasıdır. Bu bağlamda, veri madenciliği insan merkezlidir ve bazen insan – bilgisayar arayüzü birleştirilir. Veri madenciliği sahası, istatistik, makine bilgisi, veritabanları ve yüksek performanslı işlem gibi temelleri de içerir.'"
            ],
            "application/vnd.google.colaboratory.intrinsic+json": {
              "type": "string"
            }
          },
          "metadata": {},
          "execution_count": 49
        }
      ]
    },
    {
      "cell_type": "code",
      "source": [
        "belge.replace(\",\", '')"
      ],
      "metadata": {
        "colab": {
          "base_uri": "https://localhost:8080/",
          "height": 157
        },
        "id": "cn-6eTdc9Usg",
        "outputId": "a0ab8873-29c8-495e-ff4c-9ca975941950"
      },
      "execution_count": null,
      "outputs": [
        {
          "output_type": "execute_result",
          "data": {
            "text/plain": [
              "'Veri madenciliği eldeki verilerden üstü kapalı çok net olmayan önceden bilinmeyen ancak potansiyel olarak kullanışlı bilginin çıkarılmasıdır. Bu da; kümeleme veri özetleme değişikliklerin analizi sapmaların tespiti gibi belirli sayıda teknik yaklaşımları içerir. Başka bir deyişle veri madenciliği verilerin içerisindeki desenlerin ilişkilerin değişimlerin düzensizliklerin kuralların ve istatistiksel olarak önemli olan yapıların yarı otomatik olarak keşfedilmesidir. Temel olarak veri madenciliği veri setleri arasındaki desenlerin ya da düzenin verinin analizi ve yazılım tekniklerinin kullanılmasıyla ilgilidir. Veriler arasındaki ilişkiyi kuralları ve özellikleri belirlemekten bilgisayar sorumludur. Amaç daha önceden fark edilmemiş veri desenlerini tespit edebilmektir. Veri madenciliğini istatistiksel bir yöntemler serisi olarak görmek mümkün olabilir. Ancak veri madenciliği geleneksel istatistikten birkaç yönde farklılık gösterir. Veri madenciliğinde amaç kolaylıkla mantıksal kurallara ya da görsel sunumlara çevrilebilecek nitel modellerin çıkarılmasıdır. Bu bağlamda veri madenciliği insan merkezlidir ve bazen insan – bilgisayar arayüzü birleştirilir. Veri madenciliği sahası istatistik makine bilgisi veritabanları ve yüksek performanslı işlem gibi temelleri de içerir.'"
            ],
            "application/vnd.google.colaboratory.intrinsic+json": {
              "type": "string"
            }
          },
          "metadata": {},
          "execution_count": 50
        }
      ]
    },
    {
      "cell_type": "code",
      "source": [
        "# stringler immutable/yerinde degistirilemez veri yapilaridir\n",
        "# stringlerin replace fonksiyonu orjinal belge uzerinde degisik yapmaz (!!! belge (string) immutable oldugundan)\n",
        "belge"
      ],
      "metadata": {
        "colab": {
          "base_uri": "https://localhost:8080/",
          "height": 157
        },
        "id": "Y7ytsmOf9U7j",
        "outputId": "a723da8c-58af-4627-e720-e43b38626480"
      },
      "execution_count": null,
      "outputs": [
        {
          "output_type": "execute_result",
          "data": {
            "text/plain": [
              "'Veri madenciliği, eldeki verilerden üstü kapalı, çok net olmayan, önceden bilinmeyen ancak potansiyel olarak kullanışlı bilginin çıkarılmasıdır. Bu da; kümeleme, veri özetleme, değişikliklerin analizi, sapmaların tespiti gibi belirli sayıda teknik yaklaşımları içerir. Başka bir deyişle, veri madenciliği, verilerin içerisindeki desenlerin, ilişkilerin, değişimlerin, düzensizliklerin, kuralların ve istatistiksel olarak önemli olan yapıların yarı otomatik olarak keşfedilmesidir. Temel olarak veri madenciliği, veri setleri arasındaki desenlerin ya da düzenin, verinin analizi ve yazılım tekniklerinin kullanılmasıyla ilgilidir. Veriler arasındaki ilişkiyi, kuralları ve özellikleri belirlemekten bilgisayar sorumludur. Amaç, daha önceden fark edilmemiş veri desenlerini tespit edebilmektir. Veri madenciliğini istatistiksel bir yöntemler serisi olarak görmek mümkün olabilir. Ancak veri madenciliği, geleneksel istatistikten birkaç yönde farklılık gösterir. Veri madenciliğinde amaç, kolaylıkla mantıksal kurallara ya da görsel sunumlara çevrilebilecek nitel modellerin çıkarılmasıdır. Bu bağlamda, veri madenciliği insan merkezlidir ve bazen insan – bilgisayar arayüzü birleştirilir. Veri madenciliği sahası, istatistik, makine bilgisi, veritabanları ve yüksek performanslı işlem gibi temelleri de içerir.'"
            ],
            "application/vnd.google.colaboratory.intrinsic+json": {
              "type": "string"
            }
          },
          "metadata": {},
          "execution_count": 51
        }
      ]
    },
    {
      "cell_type": "code",
      "source": [
        "# 1.1. belge orjinal halinde kalsin. Degisiklik yapilmis halini belge_2 degiskeninde tutalim\n",
        "belge_2 = belge.replace(';', '')\n",
        "# !!! orjinali degistirmek isteseydik => belge = belge.replace(\";\", '')"
      ],
      "metadata": {
        "id": "euMQPyu59U97"
      },
      "execution_count": null,
      "outputs": []
    },
    {
      "cell_type": "code",
      "source": [
        "print(belge_2)"
      ],
      "metadata": {
        "colab": {
          "base_uri": "https://localhost:8080/"
        },
        "id": "csMEJcul9VAS",
        "outputId": "88078cca-459d-4372-a940-9af7792d1186"
      },
      "execution_count": null,
      "outputs": [
        {
          "output_type": "stream",
          "name": "stdout",
          "text": [
            "Veri madenciliği, eldeki verilerden üstü kapalı, çok net olmayan, önceden bilinmeyen ancak potansiyel olarak kullanışlı bilginin çıkarılmasıdır. Bu da kümeleme, veri özetleme, değişikliklerin analizi, sapmaların tespiti gibi belirli sayıda teknik yaklaşımları içerir. Başka bir deyişle, veri madenciliği, verilerin içerisindeki desenlerin, ilişkilerin, değişimlerin, düzensizliklerin, kuralların ve istatistiksel olarak önemli olan yapıların yarı otomatik olarak keşfedilmesidir. Temel olarak veri madenciliği, veri setleri arasındaki desenlerin ya da düzenin, verinin analizi ve yazılım tekniklerinin kullanılmasıyla ilgilidir. Veriler arasındaki ilişkiyi, kuralları ve özellikleri belirlemekten bilgisayar sorumludur. Amaç, daha önceden fark edilmemiş veri desenlerini tespit edebilmektir. Veri madenciliğini istatistiksel bir yöntemler serisi olarak görmek mümkün olabilir. Ancak veri madenciliği, geleneksel istatistikten birkaç yönde farklılık gösterir. Veri madenciliğinde amaç, kolaylıkla mantıksal kurallara ya da görsel sunumlara çevrilebilecek nitel modellerin çıkarılmasıdır. Bu bağlamda, veri madenciliği insan merkezlidir ve bazen insan – bilgisayar arayüzü birleştirilir. Veri madenciliği sahası, istatistik, makine bilgisi, veritabanları ve yüksek performanslı işlem gibi temelleri de içerir.\n"
          ]
        }
      ]
    },
    {
      "cell_type": "code",
      "source": [
        "# ikinci bir degisiklik yapiliyorsa, onceki degisikligin yansitildigi string uzerinde degisiklik yapilmasi gerekmektedir\n",
        "belge_2 = belge_2.replace(',', '')"
      ],
      "metadata": {
        "id": "K2ujIcVU_YoJ"
      },
      "execution_count": null,
      "outputs": []
    },
    {
      "cell_type": "code",
      "source": [
        "belge_2"
      ],
      "metadata": {
        "colab": {
          "base_uri": "https://localhost:8080/",
          "height": 157
        },
        "id": "jVE_shY6_z5g",
        "outputId": "f63d93d1-9bf2-49e3-c0a4-738ef63237f6"
      },
      "execution_count": null,
      "outputs": [
        {
          "output_type": "execute_result",
          "data": {
            "text/plain": [
              "'Veri madenciliği eldeki verilerden üstü kapalı çok net olmayan önceden bilinmeyen ancak potansiyel olarak kullanışlı bilginin çıkarılmasıdır. Bu da kümeleme veri özetleme değişikliklerin analizi sapmaların tespiti gibi belirli sayıda teknik yaklaşımları içerir. Başka bir deyişle veri madenciliği verilerin içerisindeki desenlerin ilişkilerin değişimlerin düzensizliklerin kuralların ve istatistiksel olarak önemli olan yapıların yarı otomatik olarak keşfedilmesidir. Temel olarak veri madenciliği veri setleri arasındaki desenlerin ya da düzenin verinin analizi ve yazılım tekniklerinin kullanılmasıyla ilgilidir. Veriler arasındaki ilişkiyi kuralları ve özellikleri belirlemekten bilgisayar sorumludur. Amaç daha önceden fark edilmemiş veri desenlerini tespit edebilmektir. Veri madenciliğini istatistiksel bir yöntemler serisi olarak görmek mümkün olabilir. Ancak veri madenciliği geleneksel istatistikten birkaç yönde farklılık gösterir. Veri madenciliğinde amaç kolaylıkla mantıksal kurallara ya da görsel sunumlara çevrilebilecek nitel modellerin çıkarılmasıdır. Bu bağlamda veri madenciliği insan merkezlidir ve bazen insan – bilgisayar arayüzü birleştirilir. Veri madenciliği sahası istatistik makine bilgisi veritabanları ve yüksek performanslı işlem gibi temelleri de içerir.'"
            ],
            "application/vnd.google.colaboratory.intrinsic+json": {
              "type": "string"
            }
          },
          "metadata": {},
          "execution_count": 55
        }
      ]
    },
    {
      "cell_type": "code",
      "source": [
        "# 1.2. . isaretlerini ise bosluk . olarak degistirelim\n",
        "belge_2 = belge_2.replace('.', ' .')"
      ],
      "metadata": {
        "id": "zjtBtQDX_1Ra"
      },
      "execution_count": null,
      "outputs": []
    },
    {
      "cell_type": "code",
      "source": [
        "belge_2"
      ],
      "metadata": {
        "colab": {
          "base_uri": "https://localhost:8080/",
          "height": 157
        },
        "id": "qRPiJfsQAYW_",
        "outputId": "35ed3ed4-9d80-4540-9cea-faadf6fd8384"
      },
      "execution_count": null,
      "outputs": [
        {
          "output_type": "execute_result",
          "data": {
            "text/plain": [
              "'Veri madenciliği eldeki verilerden üstü kapalı çok net olmayan önceden bilinmeyen ancak potansiyel olarak kullanışlı bilginin çıkarılmasıdır . Bu da kümeleme veri özetleme değişikliklerin analizi sapmaların tespiti gibi belirli sayıda teknik yaklaşımları içerir . Başka bir deyişle veri madenciliği verilerin içerisindeki desenlerin ilişkilerin değişimlerin düzensizliklerin kuralların ve istatistiksel olarak önemli olan yapıların yarı otomatik olarak keşfedilmesidir . Temel olarak veri madenciliği veri setleri arasındaki desenlerin ya da düzenin verinin analizi ve yazılım tekniklerinin kullanılmasıyla ilgilidir . Veriler arasındaki ilişkiyi kuralları ve özellikleri belirlemekten bilgisayar sorumludur . Amaç daha önceden fark edilmemiş veri desenlerini tespit edebilmektir . Veri madenciliğini istatistiksel bir yöntemler serisi olarak görmek mümkün olabilir . Ancak veri madenciliği geleneksel istatistikten birkaç yönde farklılık gösterir . Veri madenciliğinde amaç kolaylıkla mantıksal kurallara ya da görsel sunumlara çevrilebilecek nitel modellerin çıkarılmasıdır . Bu bağlamda veri madenciliği insan merkezlidir ve bazen insan – bilgisayar arayüzü birleştirilir . Veri madenciliği sahası istatistik makine bilgisi veritabanları ve yüksek performanslı işlem gibi temelleri de içerir .'"
            ],
            "application/vnd.google.colaboratory.intrinsic+json": {
              "type": "string"
            }
          },
          "metadata": {},
          "execution_count": 57
        }
      ]
    },
    {
      "cell_type": "code",
      "source": [
        "# NOT: bu degisiklikleri stringler immutable olduklarindan tek bir satirda da yazabilirdik!\n",
        "belge_2 = belge.replace(';', '').replace(',', '').replace('.', ' .')"
      ],
      "metadata": {
        "id": "rmZkD-bDAY83"
      },
      "execution_count": null,
      "outputs": []
    },
    {
      "cell_type": "code",
      "source": [
        "# Noktalama isaretlerinin tumu\n",
        "import string\n",
        "print(string.punctuation)\n",
        "print(type(string.punctuation))"
      ],
      "metadata": {
        "colab": {
          "base_uri": "https://localhost:8080/"
        },
        "id": "G04P_A8iEgDw",
        "outputId": "24d27f18-ffa0-419a-97fa-decb985e9652"
      },
      "execution_count": null,
      "outputs": [
        {
          "output_type": "stream",
          "name": "stdout",
          "text": [
            "!\"#$%&'()*+,-./:;<=>?@[\\]^_`{|}~\n",
            "<class 'str'>\n"
          ]
        }
      ]
    },
    {
      "cell_type": "code",
      "source": [
        "# NOT: stringler karakter dizisi oldugundan, noktalama isaretleri stringi uzerinde dongu calistirip isaretleri alabiliriz \n",
        "for noktalama_isareti in string.punctuation:\n",
        "    if noktalama_isareti != '.':\n",
        "        print(noktalama_isareti)\n",
        "    else:\n",
        "        print(f\"{noktalama_isareti} noktalama isareti icin degisiklik yapilmayacaktir\")"
      ],
      "metadata": {
        "colab": {
          "base_uri": "https://localhost:8080/"
        },
        "id": "WIhPmayeEgGO",
        "outputId": "5c8b23ae-4560-4b40-e748-1f36ccd018e7"
      },
      "execution_count": null,
      "outputs": [
        {
          "output_type": "stream",
          "name": "stdout",
          "text": [
            "!\n",
            "\"\n",
            "#\n",
            "$\n",
            "%\n",
            "&\n",
            "'\n",
            "(\n",
            ")\n",
            "*\n",
            "+\n",
            ",\n",
            "-\n",
            ". noktalama isareti icin degisiklik yapilmayacaktir\n",
            "/\n",
            ":\n",
            ";\n",
            "<\n",
            "=\n",
            ">\n",
            "?\n",
            "@\n",
            "[\n",
            "\\\n",
            "]\n",
            "^\n",
            "_\n",
            "`\n",
            "{\n",
            "|\n",
            "}\n",
            "~\n"
          ]
        }
      ]
    },
    {
      "cell_type": "code",
      "source": [
        "# 1.2.2. belgedeki tum karakterlerin kucuk harf olmasi istenseydi\n",
        "#belge_2 = belge_2.lower()"
      ],
      "metadata": {
        "id": "sFCi72LAEgIa"
      },
      "execution_count": null,
      "outputs": []
    },
    {
      "cell_type": "code",
      "source": [
        "# 1.3. on islemden gecirilmis belgeden kelime listesinin cikarilmasi\n",
        "# kelimelerin bosluk karakterleriyle ayrildigini varsayarak\n",
        "kelime_listesi = belge_2.split() # bosluk karakterlerine gore belgeyi ayristiriyor\n",
        "# ==> .split(' '), .split('\\t'), ... \n",
        "# tek bosluk => ' '\n",
        "# tab ile olusan bosluk => '    '\n",
        "# .split fonksiyonu liste halinde kelime dizeleri dondurur\n",
        "print(kelime_listesi)"
      ],
      "metadata": {
        "colab": {
          "base_uri": "https://localhost:8080/"
        },
        "id": "KgL909HOEgNF",
        "outputId": "a5dfdb6e-654a-4f91-b79b-8694dd42e3e3"
      },
      "execution_count": null,
      "outputs": [
        {
          "output_type": "stream",
          "name": "stdout",
          "text": [
            "['Veri', 'madenciliği', 'eldeki', 'verilerden', 'üstü', 'kapalı', 'çok', 'net', 'olmayan', 'önceden', 'bilinmeyen', 'ancak', 'potansiyel', 'olarak', 'kullanışlı', 'bilginin', 'çıkarılmasıdır', '.', 'Bu', 'da', 'kümeleme', 'veri', 'özetleme', 'değişikliklerin', 'analizi', 'sapmaların', 'tespiti', 'gibi', 'belirli', 'sayıda', 'teknik', 'yaklaşımları', 'içerir', '.', 'Başka', 'bir', 'deyişle', 'veri', 'madenciliği', 'verilerin', 'içerisindeki', 'desenlerin', 'ilişkilerin', 'değişimlerin', 'düzensizliklerin', 'kuralların', 've', 'istatistiksel', 'olarak', 'önemli', 'olan', 'yapıların', 'yarı', 'otomatik', 'olarak', 'keşfedilmesidir', '.', 'Temel', 'olarak', 'veri', 'madenciliği', 'veri', 'setleri', 'arasındaki', 'desenlerin', 'ya', 'da', 'düzenin', 'verinin', 'analizi', 've', 'yazılım', 'tekniklerinin', 'kullanılmasıyla', 'ilgilidir', '.', 'Veriler', 'arasındaki', 'ilişkiyi', 'kuralları', 've', 'özellikleri', 'belirlemekten', 'bilgisayar', 'sorumludur', '.', 'Amaç', 'daha', 'önceden', 'fark', 'edilmemiş', 'veri', 'desenlerini', 'tespit', 'edebilmektir', '.', 'Veri', 'madenciliğini', 'istatistiksel', 'bir', 'yöntemler', 'serisi', 'olarak', 'görmek', 'mümkün', 'olabilir', '.', 'Ancak', 'veri', 'madenciliği', 'geleneksel', 'istatistikten', 'birkaç', 'yönde', 'farklılık', 'gösterir', '.', 'Veri', 'madenciliğinde', 'amaç', 'kolaylıkla', 'mantıksal', 'kurallara', 'ya', 'da', 'görsel', 'sunumlara', 'çevrilebilecek', 'nitel', 'modellerin', 'çıkarılmasıdır', '.', 'Bu', 'bağlamda', 'veri', 'madenciliği', 'insan', 'merkezlidir', 've', 'bazen', 'insan', '–', 'bilgisayar', 'arayüzü', 'birleştirilir', '.', 'Veri', 'madenciliği', 'sahası', 'istatistik', 'makine', 'bilgisi', 'veritabanları', 've', 'yüksek', 'performanslı', 'işlem', 'gibi', 'temelleri', 'de', 'içerir', '.']\n"
          ]
        }
      ]
    },
    {
      "cell_type": "code",
      "source": [
        "type(kelime_listesi)"
      ],
      "metadata": {
        "colab": {
          "base_uri": "https://localhost:8080/"
        },
        "id": "klJUxm1QGglI",
        "outputId": "2a084289-d561-4141-ebfa-685aeca8ea1f"
      },
      "execution_count": null,
      "outputs": [
        {
          "output_type": "execute_result",
          "data": {
            "text/plain": [
              "list"
            ]
          },
          "metadata": {},
          "execution_count": 68
        }
      ]
    },
    {
      "cell_type": "code",
      "source": [
        "print(len(kelime_listesi))"
      ],
      "metadata": {
        "colab": {
          "base_uri": "https://localhost:8080/"
        },
        "id": "hGP_a8O5GjmC",
        "outputId": "aaabf120-5f87-402a-d417-46c7d81686a7"
      },
      "execution_count": null,
      "outputs": [
        {
          "output_type": "stream",
          "name": "stdout",
          "text": [
            "162\n"
          ]
        }
      ]
    },
    {
      "cell_type": "code",
      "source": [
        "# 1. kelimelerin kaçar defa geçtiklerini sözlükte toplayacağız\n",
        "# kelime listesi üzerinden geçerek (kelimeler üzerinden for dongusu isleterek) kelime sözlüğünü oluşturalım.\n",
        "# kelime:gecmesayisi => ilk defa karsilasildiysa => sozluk[kelime] = 1 => kelime:1\n",
        "# ilk olarak => bos bir sozluk olustur\n",
        "kelime_gecme_sayisi_sozlugu = dict() # {}\n",
        "# ikinci olarak => kelime listesi uzerinden donguyu gerceklestirerek sayma islemini yapalim\n",
        "for kelime in kelime_listesi:\n",
        "    kelime_gecme_sayisi_sozlugu[kelime] = kelime_gecme_sayisi_sozlugu.get(kelime, 0) + 1\n",
        "    # kelime sozlukte yoksa\n",
        "       # kelime_gecmesayisi_sozlugu[kelime] = 0 + 1\n",
        "    # kelime sozlukte varsa\n",
        "       # kelime_gecmesayisi_sozlugu[kelime] = o ana kadarki gecme sayisi + 1    "
      ],
      "metadata": {
        "id": "kF-t0co6GrSl"
      },
      "execution_count": null,
      "outputs": []
    },
    {
      "cell_type": "code",
      "source": [
        "print(kelime_gecme_sayisi_sozlugu)"
      ],
      "metadata": {
        "colab": {
          "base_uri": "https://localhost:8080/"
        },
        "id": "FTShaPm6GrVJ",
        "outputId": "cb473234-f2bf-45d8-df3f-68c825ba672b"
      },
      "execution_count": null,
      "outputs": [
        {
          "output_type": "stream",
          "name": "stdout",
          "text": [
            "{'Veri': 4, 'madenciliği': 6, 'eldeki': 1, 'verilerden': 1, 'üstü': 1, 'kapalı': 1, 'çok': 1, 'net': 1, 'olmayan': 1, 'önceden': 2, 'bilinmeyen': 1, 'ancak': 1, 'potansiyel': 1, 'olarak': 5, 'kullanışlı': 1, 'bilginin': 1, 'çıkarılmasıdır': 2, '.': 11, 'Bu': 2, 'da': 3, 'kümeleme': 1, 'veri': 7, 'özetleme': 1, 'değişikliklerin': 1, 'analizi': 2, 'sapmaların': 1, 'tespiti': 1, 'gibi': 2, 'belirli': 1, 'sayıda': 1, 'teknik': 1, 'yaklaşımları': 1, 'içerir': 2, 'Başka': 1, 'bir': 2, 'deyişle': 1, 'verilerin': 1, 'içerisindeki': 1, 'desenlerin': 2, 'ilişkilerin': 1, 'değişimlerin': 1, 'düzensizliklerin': 1, 'kuralların': 1, 've': 5, 'istatistiksel': 2, 'önemli': 1, 'olan': 1, 'yapıların': 1, 'yarı': 1, 'otomatik': 1, 'keşfedilmesidir': 1, 'Temel': 1, 'setleri': 1, 'arasındaki': 2, 'ya': 2, 'düzenin': 1, 'verinin': 1, 'yazılım': 1, 'tekniklerinin': 1, 'kullanılmasıyla': 1, 'ilgilidir': 1, 'Veriler': 1, 'ilişkiyi': 1, 'kuralları': 1, 'özellikleri': 1, 'belirlemekten': 1, 'bilgisayar': 2, 'sorumludur': 1, 'Amaç': 1, 'daha': 1, 'fark': 1, 'edilmemiş': 1, 'desenlerini': 1, 'tespit': 1, 'edebilmektir': 1, 'madenciliğini': 1, 'yöntemler': 1, 'serisi': 1, 'görmek': 1, 'mümkün': 1, 'olabilir': 1, 'Ancak': 1, 'geleneksel': 1, 'istatistikten': 1, 'birkaç': 1, 'yönde': 1, 'farklılık': 1, 'gösterir': 1, 'madenciliğinde': 1, 'amaç': 1, 'kolaylıkla': 1, 'mantıksal': 1, 'kurallara': 1, 'görsel': 1, 'sunumlara': 1, 'çevrilebilecek': 1, 'nitel': 1, 'modellerin': 1, 'bağlamda': 1, 'insan': 2, 'merkezlidir': 1, 'bazen': 1, '–': 1, 'arayüzü': 1, 'birleştirilir': 1, 'sahası': 1, 'istatistik': 1, 'makine': 1, 'bilgisi': 1, 'veritabanları': 1, 'yüksek': 1, 'performanslı': 1, 'işlem': 1, 'temelleri': 1, 'de': 1}\n"
          ]
        }
      ]
    },
    {
      "cell_type": "code",
      "source": [
        "# sozlukte anahtar degerler birbirinden farklidir\n",
        "# => belgedeki gecen birbirinden farkli kelimelerin sayisi, sozlukteki anahtar sayisina esittir\n",
        "print(len(kelime_gecme_sayisi_sozlugu))"
      ],
      "metadata": {
        "colab": {
          "base_uri": "https://localhost:8080/"
        },
        "id": "n6p0_orcGrXd",
        "outputId": "a9387e69-8551-4beb-afe1-38f71f36dc7d"
      },
      "execution_count": null,
      "outputs": [
        {
          "output_type": "stream",
          "name": "stdout",
          "text": [
            "115\n"
          ]
        }
      ]
    },
    {
      "cell_type": "code",
      "source": [
        "sozlukteki_kelimeler = kelime_gecme_sayisi_sozlugu.keys()\n",
        "print(len(sozlukteki_kelimeler))"
      ],
      "metadata": {
        "colab": {
          "base_uri": "https://localhost:8080/"
        },
        "id": "k2bUC5WAGrbO",
        "outputId": "68692a58-d784-49a8-964a-b3d45d08f3ad"
      },
      "execution_count": null,
      "outputs": [
        {
          "output_type": "stream",
          "name": "stdout",
          "text": [
            "115\n"
          ]
        }
      ]
    },
    {
      "cell_type": "code",
      "source": [
        "print(sozlukteki_kelimeler)"
      ],
      "metadata": {
        "colab": {
          "base_uri": "https://localhost:8080/"
        },
        "id": "S9MqAJ6zGrdi",
        "outputId": "6ffee57c-ddb6-49c4-ffca-b27d0c74a390"
      },
      "execution_count": null,
      "outputs": [
        {
          "output_type": "stream",
          "name": "stdout",
          "text": [
            "dict_keys(['Veri', 'madenciliği', 'eldeki', 'verilerden', 'üstü', 'kapalı', 'çok', 'net', 'olmayan', 'önceden', 'bilinmeyen', 'ancak', 'potansiyel', 'olarak', 'kullanışlı', 'bilginin', 'çıkarılmasıdır', '.', 'Bu', 'da', 'kümeleme', 'veri', 'özetleme', 'değişikliklerin', 'analizi', 'sapmaların', 'tespiti', 'gibi', 'belirli', 'sayıda', 'teknik', 'yaklaşımları', 'içerir', 'Başka', 'bir', 'deyişle', 'verilerin', 'içerisindeki', 'desenlerin', 'ilişkilerin', 'değişimlerin', 'düzensizliklerin', 'kuralların', 've', 'istatistiksel', 'önemli', 'olan', 'yapıların', 'yarı', 'otomatik', 'keşfedilmesidir', 'Temel', 'setleri', 'arasındaki', 'ya', 'düzenin', 'verinin', 'yazılım', 'tekniklerinin', 'kullanılmasıyla', 'ilgilidir', 'Veriler', 'ilişkiyi', 'kuralları', 'özellikleri', 'belirlemekten', 'bilgisayar', 'sorumludur', 'Amaç', 'daha', 'fark', 'edilmemiş', 'desenlerini', 'tespit', 'edebilmektir', 'madenciliğini', 'yöntemler', 'serisi', 'görmek', 'mümkün', 'olabilir', 'Ancak', 'geleneksel', 'istatistikten', 'birkaç', 'yönde', 'farklılık', 'gösterir', 'madenciliğinde', 'amaç', 'kolaylıkla', 'mantıksal', 'kurallara', 'görsel', 'sunumlara', 'çevrilebilecek', 'nitel', 'modellerin', 'bağlamda', 'insan', 'merkezlidir', 'bazen', '–', 'arayüzü', 'birleştirilir', 'sahası', 'istatistik', 'makine', 'bilgisi', 'veritabanları', 'yüksek', 'performanslı', 'işlem', 'temelleri', 'de'])\n"
          ]
        }
      ]
    },
    {
      "cell_type": "code",
      "source": [
        "# tekil gecen kelimeler hangileridir\n",
        "tekil_kelimeler = set(kelime_listesi) # kelime listesinde farkli kelimeleri dondurur\n",
        "# sozluklerde anahtarlar coklayamayacagindan set'in icindeki kelimeler ile ayni kelimeleri icerir\n",
        "# tekil_kelimeler < == > sozlukteki_kelimeler\n",
        "print(type(tekil_kelimeler))\n",
        "print(len(tekil_kelimeler))"
      ],
      "metadata": {
        "colab": {
          "base_uri": "https://localhost:8080/"
        },
        "id": "yFveceukGrgE",
        "outputId": "9495a937-314b-47a6-ea9c-c607418cd5a4"
      },
      "execution_count": null,
      "outputs": [
        {
          "output_type": "stream",
          "name": "stdout",
          "text": [
            "<class 'set'>\n",
            "115\n"
          ]
        }
      ]
    },
    {
      "cell_type": "code",
      "source": [
        "# belgedeki en çok geçen 3 kelime hangileridir ve kaçar defa geçmişlerdir?\n",
        "# ==>> Bu soruya cevap vermek icin siralama yapabiliriz."
      ],
      "metadata": {
        "id": "qBbr37X5GkvJ"
      },
      "execution_count": null,
      "outputs": []
    },
    {
      "cell_type": "code",
      "source": [
        "kelime_gecme_sayisi_sozlugu.sort()\n",
        "# => sozluklerde sort fonksiyonu bulunmamakta !!!"
      ],
      "metadata": {
        "colab": {
          "base_uri": "https://localhost:8080/",
          "height": 166
        },
        "id": "sxQ4aetIIn4f",
        "outputId": "c34a7905-9245-4e58-96c8-e1a2eb373a4e"
      },
      "execution_count": null,
      "outputs": [
        {
          "output_type": "error",
          "ename": "AttributeError",
          "evalue": "ignored",
          "traceback": [
            "\u001b[0;31m---------------------------------------------------------------------------\u001b[0m",
            "\u001b[0;31mAttributeError\u001b[0m                            Traceback (most recent call last)",
            "\u001b[0;32m<ipython-input-78-e35865f78e36>\u001b[0m in \u001b[0;36m<module>\u001b[0;34m\u001b[0m\n\u001b[0;32m----> 1\u001b[0;31m \u001b[0mkelime_gecme_sayisi_sozlugu\u001b[0m\u001b[0;34m.\u001b[0m\u001b[0msort\u001b[0m\u001b[0;34m(\u001b[0m\u001b[0;34m)\u001b[0m\u001b[0;34m\u001b[0m\u001b[0;34m\u001b[0m\u001b[0m\n\u001b[0m",
            "\u001b[0;31mAttributeError\u001b[0m: 'dict' object has no attribute 'sort'"
          ]
        }
      ]
    },
    {
      "cell_type": "code",
      "source": [
        "# anahtar:deger ikilileri\n",
        "# kelime : gecme sayisi ikilileri\n",
        "# siralamayi degerlere (yani gecme sayilarina) gore yapmak istiyoruz\n",
        "# listelerin sort metodu var !\n",
        "# => sozluklerin items() fonksiyonu list of tuples donduruyor => (dict_items tipinde) liste halinde demetler donduruyor\n",
        "kelime_sayi_ikilileri_elemanlari = kelime_gecme_sayisi_sozlugu.items()\n",
        "print(type(kelime_sayi_ikilileri_elemanlari))\n",
        "print(kelime_sayi_ikilileri_elemanlari)"
      ],
      "metadata": {
        "colab": {
          "base_uri": "https://localhost:8080/"
        },
        "id": "Oe4SbCNlIp2Y",
        "outputId": "939efd72-2214-4f3f-ec8b-d7e102c51eab"
      },
      "execution_count": null,
      "outputs": [
        {
          "output_type": "stream",
          "name": "stdout",
          "text": [
            "<class 'dict_items'>\n",
            "dict_items([('Veri', 4), ('madenciliği', 6), ('eldeki', 1), ('verilerden', 1), ('üstü', 1), ('kapalı', 1), ('çok', 1), ('net', 1), ('olmayan', 1), ('önceden', 2), ('bilinmeyen', 1), ('ancak', 1), ('potansiyel', 1), ('olarak', 5), ('kullanışlı', 1), ('bilginin', 1), ('çıkarılmasıdır', 2), ('.', 11), ('Bu', 2), ('da', 3), ('kümeleme', 1), ('veri', 7), ('özetleme', 1), ('değişikliklerin', 1), ('analizi', 2), ('sapmaların', 1), ('tespiti', 1), ('gibi', 2), ('belirli', 1), ('sayıda', 1), ('teknik', 1), ('yaklaşımları', 1), ('içerir', 2), ('Başka', 1), ('bir', 2), ('deyişle', 1), ('verilerin', 1), ('içerisindeki', 1), ('desenlerin', 2), ('ilişkilerin', 1), ('değişimlerin', 1), ('düzensizliklerin', 1), ('kuralların', 1), ('ve', 5), ('istatistiksel', 2), ('önemli', 1), ('olan', 1), ('yapıların', 1), ('yarı', 1), ('otomatik', 1), ('keşfedilmesidir', 1), ('Temel', 1), ('setleri', 1), ('arasındaki', 2), ('ya', 2), ('düzenin', 1), ('verinin', 1), ('yazılım', 1), ('tekniklerinin', 1), ('kullanılmasıyla', 1), ('ilgilidir', 1), ('Veriler', 1), ('ilişkiyi', 1), ('kuralları', 1), ('özellikleri', 1), ('belirlemekten', 1), ('bilgisayar', 2), ('sorumludur', 1), ('Amaç', 1), ('daha', 1), ('fark', 1), ('edilmemiş', 1), ('desenlerini', 1), ('tespit', 1), ('edebilmektir', 1), ('madenciliğini', 1), ('yöntemler', 1), ('serisi', 1), ('görmek', 1), ('mümkün', 1), ('olabilir', 1), ('Ancak', 1), ('geleneksel', 1), ('istatistikten', 1), ('birkaç', 1), ('yönde', 1), ('farklılık', 1), ('gösterir', 1), ('madenciliğinde', 1), ('amaç', 1), ('kolaylıkla', 1), ('mantıksal', 1), ('kurallara', 1), ('görsel', 1), ('sunumlara', 1), ('çevrilebilecek', 1), ('nitel', 1), ('modellerin', 1), ('bağlamda', 1), ('insan', 2), ('merkezlidir', 1), ('bazen', 1), ('–', 1), ('arayüzü', 1), ('birleştirilir', 1), ('sahası', 1), ('istatistik', 1), ('makine', 1), ('bilgisi', 1), ('veritabanları', 1), ('yüksek', 1), ('performanslı', 1), ('işlem', 1), ('temelleri', 1), ('de', 1)])\n"
          ]
        }
      ]
    },
    {
      "cell_type": "code",
      "source": [
        "# dict_items tipindeki verinin liste verisine donusturulmesi\n",
        "kel_gec_listesi = list(kelime_sayi_ikilileri_elemanlari)\n",
        "print(kel_gec_listesi)\n",
        "# => liste ([ ... ]) halinde tuple ( (...) ) elemanlar"
      ],
      "metadata": {
        "colab": {
          "base_uri": "https://localhost:8080/"
        },
        "id": "WUvLh7GsJNy4",
        "outputId": "34c31f23-d33a-4ec1-b8bc-fa3905f9d9ae"
      },
      "execution_count": null,
      "outputs": [
        {
          "output_type": "stream",
          "name": "stdout",
          "text": [
            "[('Veri', 4), ('madenciliği', 6), ('eldeki', 1), ('verilerden', 1), ('üstü', 1), ('kapalı', 1), ('çok', 1), ('net', 1), ('olmayan', 1), ('önceden', 2), ('bilinmeyen', 1), ('ancak', 1), ('potansiyel', 1), ('olarak', 5), ('kullanışlı', 1), ('bilginin', 1), ('çıkarılmasıdır', 2), ('.', 11), ('Bu', 2), ('da', 3), ('kümeleme', 1), ('veri', 7), ('özetleme', 1), ('değişikliklerin', 1), ('analizi', 2), ('sapmaların', 1), ('tespiti', 1), ('gibi', 2), ('belirli', 1), ('sayıda', 1), ('teknik', 1), ('yaklaşımları', 1), ('içerir', 2), ('Başka', 1), ('bir', 2), ('deyişle', 1), ('verilerin', 1), ('içerisindeki', 1), ('desenlerin', 2), ('ilişkilerin', 1), ('değişimlerin', 1), ('düzensizliklerin', 1), ('kuralların', 1), ('ve', 5), ('istatistiksel', 2), ('önemli', 1), ('olan', 1), ('yapıların', 1), ('yarı', 1), ('otomatik', 1), ('keşfedilmesidir', 1), ('Temel', 1), ('setleri', 1), ('arasındaki', 2), ('ya', 2), ('düzenin', 1), ('verinin', 1), ('yazılım', 1), ('tekniklerinin', 1), ('kullanılmasıyla', 1), ('ilgilidir', 1), ('Veriler', 1), ('ilişkiyi', 1), ('kuralları', 1), ('özellikleri', 1), ('belirlemekten', 1), ('bilgisayar', 2), ('sorumludur', 1), ('Amaç', 1), ('daha', 1), ('fark', 1), ('edilmemiş', 1), ('desenlerini', 1), ('tespit', 1), ('edebilmektir', 1), ('madenciliğini', 1), ('yöntemler', 1), ('serisi', 1), ('görmek', 1), ('mümkün', 1), ('olabilir', 1), ('Ancak', 1), ('geleneksel', 1), ('istatistikten', 1), ('birkaç', 1), ('yönde', 1), ('farklılık', 1), ('gösterir', 1), ('madenciliğinde', 1), ('amaç', 1), ('kolaylıkla', 1), ('mantıksal', 1), ('kurallara', 1), ('görsel', 1), ('sunumlara', 1), ('çevrilebilecek', 1), ('nitel', 1), ('modellerin', 1), ('bağlamda', 1), ('insan', 2), ('merkezlidir', 1), ('bazen', 1), ('–', 1), ('arayüzü', 1), ('birleştirilir', 1), ('sahası', 1), ('istatistik', 1), ('makine', 1), ('bilgisi', 1), ('veritabanları', 1), ('yüksek', 1), ('performanslı', 1), ('işlem', 1), ('temelleri', 1), ('de', 1)]\n"
          ]
        }
      ]
    },
    {
      "cell_type": "code",
      "source": [
        "kel_gec_listesi.sort()\n",
        "# listelerin sort fonk. yerinde siralama yapip None donduruyor"
      ],
      "metadata": {
        "id": "gNjwfiHdJnSw"
      },
      "execution_count": null,
      "outputs": []
    },
    {
      "cell_type": "code",
      "source": [
        "print(kel_gec_listesi)\n",
        "# varsayilan degerde, yani sort fonk. hicbir arguman gondermeden cagirirsak => listede kucukten buyuge dogru siralama yapar\n",
        "# sort fonk. siralama yaparken, tuple'lari karsilastiriyor.\n",
        "# siralamayi oncelikle tuple'larin ilk elemanlarina gore yani anahtarlara gore yapiyor.\n",
        "#   =>(Eger ayni 2 anahtar olabilseydi, bu tuplelarin degerlerine bakarak (2. elemanlarini karsilastirarak) siralayacakti)\n",
        "# !!! # sort fonk. elemanlari direk kelimelere bakarak siraladi. Fakat amacimiz degerlere gore buyukten kucuge siralamaydi"
      ],
      "metadata": {
        "colab": {
          "base_uri": "https://localhost:8080/"
        },
        "id": "LeS2rJnFJ0s5",
        "outputId": "54e754e3-5810-45a5-dcd2-39cce89fe2cf"
      },
      "execution_count": null,
      "outputs": [
        {
          "output_type": "stream",
          "name": "stdout",
          "text": [
            "[('.', 11), ('Amaç', 1), ('Ancak', 1), ('Başka', 1), ('Bu', 2), ('Temel', 1), ('Veri', 4), ('Veriler', 1), ('amaç', 1), ('analizi', 2), ('ancak', 1), ('arasındaki', 2), ('arayüzü', 1), ('bazen', 1), ('bağlamda', 1), ('belirlemekten', 1), ('belirli', 1), ('bilginin', 1), ('bilgisayar', 2), ('bilgisi', 1), ('bilinmeyen', 1), ('bir', 2), ('birkaç', 1), ('birleştirilir', 1), ('da', 3), ('daha', 1), ('de', 1), ('desenlerin', 2), ('desenlerini', 1), ('deyişle', 1), ('değişikliklerin', 1), ('değişimlerin', 1), ('düzenin', 1), ('düzensizliklerin', 1), ('edebilmektir', 1), ('edilmemiş', 1), ('eldeki', 1), ('fark', 1), ('farklılık', 1), ('geleneksel', 1), ('gibi', 2), ('görmek', 1), ('görsel', 1), ('gösterir', 1), ('ilgilidir', 1), ('ilişkilerin', 1), ('ilişkiyi', 1), ('insan', 2), ('istatistik', 1), ('istatistiksel', 2), ('istatistikten', 1), ('içerir', 2), ('içerisindeki', 1), ('işlem', 1), ('kapalı', 1), ('keşfedilmesidir', 1), ('kolaylıkla', 1), ('kullanılmasıyla', 1), ('kullanışlı', 1), ('kurallara', 1), ('kuralları', 1), ('kuralların', 1), ('kümeleme', 1), ('madenciliği', 6), ('madenciliğinde', 1), ('madenciliğini', 1), ('makine', 1), ('mantıksal', 1), ('merkezlidir', 1), ('modellerin', 1), ('mümkün', 1), ('net', 1), ('nitel', 1), ('olabilir', 1), ('olan', 1), ('olarak', 5), ('olmayan', 1), ('otomatik', 1), ('performanslı', 1), ('potansiyel', 1), ('sahası', 1), ('sapmaların', 1), ('sayıda', 1), ('serisi', 1), ('setleri', 1), ('sorumludur', 1), ('sunumlara', 1), ('teknik', 1), ('tekniklerinin', 1), ('temelleri', 1), ('tespit', 1), ('tespiti', 1), ('ve', 5), ('veri', 7), ('verilerden', 1), ('verilerin', 1), ('verinin', 1), ('veritabanları', 1), ('ya', 2), ('yaklaşımları', 1), ('yapıların', 1), ('yarı', 1), ('yazılım', 1), ('yönde', 1), ('yöntemler', 1), ('yüksek', 1), ('çevrilebilecek', 1), ('çok', 1), ('çıkarılmasıdır', 2), ('önceden', 2), ('önemli', 1), ('özellikleri', 1), ('özetleme', 1), ('üstü', 1), ('–', 1)]\n"
          ]
        }
      ]
    },
    {
      "cell_type": "code",
      "source": [
        "# buyukten kucuge dogru siralama\n",
        "kel_gec_listesi.sort(reverse=True)"
      ],
      "metadata": {
        "id": "qYBEBSP-KFkB"
      },
      "execution_count": null,
      "outputs": []
    },
    {
      "cell_type": "code",
      "source": [
        "print(kel_gec_listesi)"
      ],
      "metadata": {
        "colab": {
          "base_uri": "https://localhost:8080/"
        },
        "id": "3rFotd5yLBui",
        "outputId": "b70d6c57-b80f-4269-a27f-d1f762a831c9"
      },
      "execution_count": null,
      "outputs": [
        {
          "output_type": "stream",
          "name": "stdout",
          "text": [
            "[('–', 1), ('üstü', 1), ('özetleme', 1), ('özellikleri', 1), ('önemli', 1), ('önceden', 2), ('çıkarılmasıdır', 2), ('çok', 1), ('çevrilebilecek', 1), ('yüksek', 1), ('yöntemler', 1), ('yönde', 1), ('yazılım', 1), ('yarı', 1), ('yapıların', 1), ('yaklaşımları', 1), ('ya', 2), ('veritabanları', 1), ('verinin', 1), ('verilerin', 1), ('verilerden', 1), ('veri', 7), ('ve', 5), ('tespiti', 1), ('tespit', 1), ('temelleri', 1), ('tekniklerinin', 1), ('teknik', 1), ('sunumlara', 1), ('sorumludur', 1), ('setleri', 1), ('serisi', 1), ('sayıda', 1), ('sapmaların', 1), ('sahası', 1), ('potansiyel', 1), ('performanslı', 1), ('otomatik', 1), ('olmayan', 1), ('olarak', 5), ('olan', 1), ('olabilir', 1), ('nitel', 1), ('net', 1), ('mümkün', 1), ('modellerin', 1), ('merkezlidir', 1), ('mantıksal', 1), ('makine', 1), ('madenciliğini', 1), ('madenciliğinde', 1), ('madenciliği', 6), ('kümeleme', 1), ('kuralların', 1), ('kuralları', 1), ('kurallara', 1), ('kullanışlı', 1), ('kullanılmasıyla', 1), ('kolaylıkla', 1), ('keşfedilmesidir', 1), ('kapalı', 1), ('işlem', 1), ('içerisindeki', 1), ('içerir', 2), ('istatistikten', 1), ('istatistiksel', 2), ('istatistik', 1), ('insan', 2), ('ilişkiyi', 1), ('ilişkilerin', 1), ('ilgilidir', 1), ('gösterir', 1), ('görsel', 1), ('görmek', 1), ('gibi', 2), ('geleneksel', 1), ('farklılık', 1), ('fark', 1), ('eldeki', 1), ('edilmemiş', 1), ('edebilmektir', 1), ('düzensizliklerin', 1), ('düzenin', 1), ('değişimlerin', 1), ('değişikliklerin', 1), ('deyişle', 1), ('desenlerini', 1), ('desenlerin', 2), ('de', 1), ('daha', 1), ('da', 3), ('birleştirilir', 1), ('birkaç', 1), ('bir', 2), ('bilinmeyen', 1), ('bilgisi', 1), ('bilgisayar', 2), ('bilginin', 1), ('belirli', 1), ('belirlemekten', 1), ('bağlamda', 1), ('bazen', 1), ('arayüzü', 1), ('arasındaki', 2), ('ancak', 1), ('analizi', 2), ('amaç', 1), ('Veriler', 1), ('Veri', 4), ('Temel', 1), ('Bu', 2), ('Başka', 1), ('Ancak', 1), ('Amaç', 1), ('.', 11)]\n"
          ]
        }
      ]
    },
    {
      "cell_type": "code",
      "source": [
        "# istedigimiz sadece degerlere gore siralama da degil\n",
        "degerler_listesi = list(kelime_gecme_sayisi_sozlugu.values()) # kelimeleri kaybetmis oluyoruz !!\n",
        "degerler_listesi.sort(reverse=True)\n",
        "print(degerler_listesi)"
      ],
      "metadata": {
        "colab": {
          "base_uri": "https://localhost:8080/"
        },
        "id": "1uEQblXyLDto",
        "outputId": "02d14aa8-74ed-48f3-e482-67025d5d0b8d"
      },
      "execution_count": null,
      "outputs": [
        {
          "output_type": "stream",
          "name": "stdout",
          "text": [
            "[11, 7, 6, 5, 5, 4, 3, 2, 2, 2, 2, 2, 2, 2, 2, 2, 2, 2, 2, 2, 1, 1, 1, 1, 1, 1, 1, 1, 1, 1, 1, 1, 1, 1, 1, 1, 1, 1, 1, 1, 1, 1, 1, 1, 1, 1, 1, 1, 1, 1, 1, 1, 1, 1, 1, 1, 1, 1, 1, 1, 1, 1, 1, 1, 1, 1, 1, 1, 1, 1, 1, 1, 1, 1, 1, 1, 1, 1, 1, 1, 1, 1, 1, 1, 1, 1, 1, 1, 1, 1, 1, 1, 1, 1, 1, 1, 1, 1, 1, 1, 1, 1, 1, 1, 1, 1, 1, 1, 1, 1, 1, 1, 1, 1, 1]\n"
          ]
        }
      ]
    },
    {
      "cell_type": "markdown",
      "source": [
        "##### 1. Sıralama Yaklaşımı - 1\n",
        "- (anahtar:deger) ikililerini (listesini), (deger:anahtar) ikililerine (listesine) cevirerek ve listelerin sort() fonksiyonunu kullanarak\n",
        "- orjinal sozlukteki kelime ve kelimenin gecme sayisi ikilileri yerine, gecme sayisi ve kelime ikilileri haline donusturebilirsek, sort fonks. istedigimiz gibi calisir"
      ],
      "metadata": {
        "id": "4gf3Go5iLcbo"
      }
    },
    {
      "cell_type": "code",
      "source": [
        "# anahtar:deger ikililerini (listesini) => deger:anahtar ikililerine (listesi) cevirelim\n",
        "deger_anahtar_ikilileri = []\n",
        "for anahtar, deger in kelime_gecme_sayisi_sozlugu.items():\n",
        "    # anahtar, deger = ('Veri', 4)\n",
        "    # anahtar = 'Veri'\n",
        "    # deger = 4\n",
        "    # ==>> (4, 'Veri')\n",
        "    deger_anahtar_demeti = (deger, anahtar)\n",
        "    #deger_anahtar_demeti = (4, 'Veri')\n",
        "    deger_anahtar_ikilileri.append(deger_anahtar_demeti)"
      ],
      "metadata": {
        "id": "zeMAQDK1LWZo"
      },
      "execution_count": null,
      "outputs": []
    },
    {
      "cell_type": "code",
      "source": [
        "print(deger_anahtar_ikilileri)\n",
        "print(kelime_gecme_sayisi_sozlugu.items())"
      ],
      "metadata": {
        "colab": {
          "base_uri": "https://localhost:8080/"
        },
        "id": "BTE6pYXwMf8o",
        "outputId": "52fb42d6-fe19-4249-95af-6894808408d7"
      },
      "execution_count": null,
      "outputs": [
        {
          "output_type": "stream",
          "name": "stdout",
          "text": [
            "[(4, 'Veri'), (6, 'madenciliği'), (1, 'eldeki'), (1, 'verilerden'), (1, 'üstü'), (1, 'kapalı'), (1, 'çok'), (1, 'net'), (1, 'olmayan'), (2, 'önceden'), (1, 'bilinmeyen'), (1, 'ancak'), (1, 'potansiyel'), (5, 'olarak'), (1, 'kullanışlı'), (1, 'bilginin'), (2, 'çıkarılmasıdır'), (11, '.'), (2, 'Bu'), (3, 'da'), (1, 'kümeleme'), (7, 'veri'), (1, 'özetleme'), (1, 'değişikliklerin'), (2, 'analizi'), (1, 'sapmaların'), (1, 'tespiti'), (2, 'gibi'), (1, 'belirli'), (1, 'sayıda'), (1, 'teknik'), (1, 'yaklaşımları'), (2, 'içerir'), (1, 'Başka'), (2, 'bir'), (1, 'deyişle'), (1, 'verilerin'), (1, 'içerisindeki'), (2, 'desenlerin'), (1, 'ilişkilerin'), (1, 'değişimlerin'), (1, 'düzensizliklerin'), (1, 'kuralların'), (5, 've'), (2, 'istatistiksel'), (1, 'önemli'), (1, 'olan'), (1, 'yapıların'), (1, 'yarı'), (1, 'otomatik'), (1, 'keşfedilmesidir'), (1, 'Temel'), (1, 'setleri'), (2, 'arasındaki'), (2, 'ya'), (1, 'düzenin'), (1, 'verinin'), (1, 'yazılım'), (1, 'tekniklerinin'), (1, 'kullanılmasıyla'), (1, 'ilgilidir'), (1, 'Veriler'), (1, 'ilişkiyi'), (1, 'kuralları'), (1, 'özellikleri'), (1, 'belirlemekten'), (2, 'bilgisayar'), (1, 'sorumludur'), (1, 'Amaç'), (1, 'daha'), (1, 'fark'), (1, 'edilmemiş'), (1, 'desenlerini'), (1, 'tespit'), (1, 'edebilmektir'), (1, 'madenciliğini'), (1, 'yöntemler'), (1, 'serisi'), (1, 'görmek'), (1, 'mümkün'), (1, 'olabilir'), (1, 'Ancak'), (1, 'geleneksel'), (1, 'istatistikten'), (1, 'birkaç'), (1, 'yönde'), (1, 'farklılık'), (1, 'gösterir'), (1, 'madenciliğinde'), (1, 'amaç'), (1, 'kolaylıkla'), (1, 'mantıksal'), (1, 'kurallara'), (1, 'görsel'), (1, 'sunumlara'), (1, 'çevrilebilecek'), (1, 'nitel'), (1, 'modellerin'), (1, 'bağlamda'), (2, 'insan'), (1, 'merkezlidir'), (1, 'bazen'), (1, '–'), (1, 'arayüzü'), (1, 'birleştirilir'), (1, 'sahası'), (1, 'istatistik'), (1, 'makine'), (1, 'bilgisi'), (1, 'veritabanları'), (1, 'yüksek'), (1, 'performanslı'), (1, 'işlem'), (1, 'temelleri'), (1, 'de')]\n",
            "dict_items([('Veri', 4), ('madenciliği', 6), ('eldeki', 1), ('verilerden', 1), ('üstü', 1), ('kapalı', 1), ('çok', 1), ('net', 1), ('olmayan', 1), ('önceden', 2), ('bilinmeyen', 1), ('ancak', 1), ('potansiyel', 1), ('olarak', 5), ('kullanışlı', 1), ('bilginin', 1), ('çıkarılmasıdır', 2), ('.', 11), ('Bu', 2), ('da', 3), ('kümeleme', 1), ('veri', 7), ('özetleme', 1), ('değişikliklerin', 1), ('analizi', 2), ('sapmaların', 1), ('tespiti', 1), ('gibi', 2), ('belirli', 1), ('sayıda', 1), ('teknik', 1), ('yaklaşımları', 1), ('içerir', 2), ('Başka', 1), ('bir', 2), ('deyişle', 1), ('verilerin', 1), ('içerisindeki', 1), ('desenlerin', 2), ('ilişkilerin', 1), ('değişimlerin', 1), ('düzensizliklerin', 1), ('kuralların', 1), ('ve', 5), ('istatistiksel', 2), ('önemli', 1), ('olan', 1), ('yapıların', 1), ('yarı', 1), ('otomatik', 1), ('keşfedilmesidir', 1), ('Temel', 1), ('setleri', 1), ('arasındaki', 2), ('ya', 2), ('düzenin', 1), ('verinin', 1), ('yazılım', 1), ('tekniklerinin', 1), ('kullanılmasıyla', 1), ('ilgilidir', 1), ('Veriler', 1), ('ilişkiyi', 1), ('kuralları', 1), ('özellikleri', 1), ('belirlemekten', 1), ('bilgisayar', 2), ('sorumludur', 1), ('Amaç', 1), ('daha', 1), ('fark', 1), ('edilmemiş', 1), ('desenlerini', 1), ('tespit', 1), ('edebilmektir', 1), ('madenciliğini', 1), ('yöntemler', 1), ('serisi', 1), ('görmek', 1), ('mümkün', 1), ('olabilir', 1), ('Ancak', 1), ('geleneksel', 1), ('istatistikten', 1), ('birkaç', 1), ('yönde', 1), ('farklılık', 1), ('gösterir', 1), ('madenciliğinde', 1), ('amaç', 1), ('kolaylıkla', 1), ('mantıksal', 1), ('kurallara', 1), ('görsel', 1), ('sunumlara', 1), ('çevrilebilecek', 1), ('nitel', 1), ('modellerin', 1), ('bağlamda', 1), ('insan', 2), ('merkezlidir', 1), ('bazen', 1), ('–', 1), ('arayüzü', 1), ('birleştirilir', 1), ('sahası', 1), ('istatistik', 1), ('makine', 1), ('bilgisi', 1), ('veritabanları', 1), ('yüksek', 1), ('performanslı', 1), ('işlem', 1), ('temelleri', 1), ('de', 1)])\n"
          ]
        }
      ]
    },
    {
      "cell_type": "code",
      "source": [
        "# deger_anahtar_ikilileri 'nin elemanlari gecme sayisi ile kelime ikilileri\n",
        "# artik direk sort yapabiliriz\n",
        "deger_anahtar_ikilileri.sort(reverse=True) # buyukten kucuge siralama"
      ],
      "metadata": {
        "id": "To6BYUTLMgm_"
      },
      "execution_count": null,
      "outputs": []
    },
    {
      "cell_type": "code",
      "source": [
        "print(deger_anahtar_ikilileri)"
      ],
      "metadata": {
        "colab": {
          "base_uri": "https://localhost:8080/"
        },
        "id": "eDVuy_BzMwQI",
        "outputId": "12b1e495-0eb1-42c7-cd1e-8acd78d01100"
      },
      "execution_count": null,
      "outputs": [
        {
          "output_type": "stream",
          "name": "stdout",
          "text": [
            "[(11, '.'), (7, 'veri'), (6, 'madenciliği'), (5, 've'), (5, 'olarak'), (4, 'Veri'), (3, 'da'), (2, 'önceden'), (2, 'çıkarılmasıdır'), (2, 'ya'), (2, 'içerir'), (2, 'istatistiksel'), (2, 'insan'), (2, 'gibi'), (2, 'desenlerin'), (2, 'bir'), (2, 'bilgisayar'), (2, 'arasındaki'), (2, 'analizi'), (2, 'Bu'), (1, '–'), (1, 'üstü'), (1, 'özetleme'), (1, 'özellikleri'), (1, 'önemli'), (1, 'çok'), (1, 'çevrilebilecek'), (1, 'yüksek'), (1, 'yöntemler'), (1, 'yönde'), (1, 'yazılım'), (1, 'yarı'), (1, 'yapıların'), (1, 'yaklaşımları'), (1, 'veritabanları'), (1, 'verinin'), (1, 'verilerin'), (1, 'verilerden'), (1, 'tespiti'), (1, 'tespit'), (1, 'temelleri'), (1, 'tekniklerinin'), (1, 'teknik'), (1, 'sunumlara'), (1, 'sorumludur'), (1, 'setleri'), (1, 'serisi'), (1, 'sayıda'), (1, 'sapmaların'), (1, 'sahası'), (1, 'potansiyel'), (1, 'performanslı'), (1, 'otomatik'), (1, 'olmayan'), (1, 'olan'), (1, 'olabilir'), (1, 'nitel'), (1, 'net'), (1, 'mümkün'), (1, 'modellerin'), (1, 'merkezlidir'), (1, 'mantıksal'), (1, 'makine'), (1, 'madenciliğini'), (1, 'madenciliğinde'), (1, 'kümeleme'), (1, 'kuralların'), (1, 'kuralları'), (1, 'kurallara'), (1, 'kullanışlı'), (1, 'kullanılmasıyla'), (1, 'kolaylıkla'), (1, 'keşfedilmesidir'), (1, 'kapalı'), (1, 'işlem'), (1, 'içerisindeki'), (1, 'istatistikten'), (1, 'istatistik'), (1, 'ilişkiyi'), (1, 'ilişkilerin'), (1, 'ilgilidir'), (1, 'gösterir'), (1, 'görsel'), (1, 'görmek'), (1, 'geleneksel'), (1, 'farklılık'), (1, 'fark'), (1, 'eldeki'), (1, 'edilmemiş'), (1, 'edebilmektir'), (1, 'düzensizliklerin'), (1, 'düzenin'), (1, 'değişimlerin'), (1, 'değişikliklerin'), (1, 'deyişle'), (1, 'desenlerini'), (1, 'de'), (1, 'daha'), (1, 'birleştirilir'), (1, 'birkaç'), (1, 'bilinmeyen'), (1, 'bilgisi'), (1, 'bilginin'), (1, 'belirli'), (1, 'belirlemekten'), (1, 'bağlamda'), (1, 'bazen'), (1, 'arayüzü'), (1, 'ancak'), (1, 'amaç'), (1, 'Veriler'), (1, 'Temel'), (1, 'Başka'), (1, 'Ancak'), (1, 'Amaç')]\n"
          ]
        }
      ]
    },
    {
      "cell_type": "code",
      "source": [
        "# belgede en cok gecen ilk 3 kelime ve gecme sayisi\n",
        "deger_anahtar_ikilileri[:3]"
      ],
      "metadata": {
        "colab": {
          "base_uri": "https://localhost:8080/"
        },
        "id": "no8QgihAMxlZ",
        "outputId": "8c15dcd1-0222-4679-85f6-f72094b02657"
      },
      "execution_count": null,
      "outputs": [
        {
          "output_type": "execute_result",
          "data": {
            "text/plain": [
              "[(11, '.'), (7, 'veri'), (6, 'madenciliği')]"
            ]
          },
          "metadata": {},
          "execution_count": 91
        }
      ]
    },
    {
      "cell_type": "code",
      "source": [
        "# siralanmis olan liste icinden en cok gecen kelimeleri ve gecme sayilari kullaniciya gosterilsin\n",
        "encokgecen_kac_kelime = 7\n",
        "print(f\"Belgede en çok geçen {encokgecen_kac_kelime} kelime\")\n",
        "print('-----------------------------')\n",
        "for gecmesayisi, kelime in deger_anahtar_ikilileri[:encokgecen_kac_kelime]:\n",
        "    print(f\"{kelime} kelimesi {gecmesayisi} defa geçmektedir.\")"
      ],
      "metadata": {
        "colab": {
          "base_uri": "https://localhost:8080/"
        },
        "id": "f2Kk20MKM8rI",
        "outputId": "41059c98-f197-4287-d861-b73540411854"
      },
      "execution_count": null,
      "outputs": [
        {
          "output_type": "stream",
          "name": "stdout",
          "text": [
            "Belgede en çok geçen 7 kelime\n",
            "-----------------------------\n",
            ". kelimesi 11 defa geçmektedir.\n",
            "veri kelimesi 7 defa geçmektedir.\n",
            "madenciliği kelimesi 6 defa geçmektedir.\n",
            "ve kelimesi 5 defa geçmektedir.\n",
            "olarak kelimesi 5 defa geçmektedir.\n",
            "Veri kelimesi 4 defa geçmektedir.\n",
            "da kelimesi 3 defa geçmektedir.\n"
          ]
        }
      ]
    },
    {
      "cell_type": "markdown",
      "source": [
        "##### 2. Sıralama Yaklaşımı - 2 \n",
        "- sorted yerleşik (built-in) fonksiyonu"
      ],
      "metadata": {
        "id": "MnR1r4n3OHgE"
      }
    },
    {
      "cell_type": "code",
      "source": [
        "#### SORTED fonksiyonu\n",
        "sorted?"
      ],
      "metadata": {
        "id": "uIy5SXVYOHEz"
      },
      "execution_count": null,
      "outputs": []
    },
    {
      "cell_type": "code",
      "source": [
        "a = [1, 5, 25, 10, 15, 3, 2]\n",
        "print(a)"
      ],
      "metadata": {
        "colab": {
          "base_uri": "https://localhost:8080/"
        },
        "id": "56YfxPgENWVY",
        "outputId": "5331ff54-b026-4aa3-820d-3f106bf7bd52"
      },
      "execution_count": null,
      "outputs": [
        {
          "output_type": "stream",
          "name": "stdout",
          "text": [
            "[1, 5, 25, 10, 15, 3, 2]\n"
          ]
        }
      ]
    },
    {
      "cell_type": "code",
      "source": [
        "sorted(a) # iterable'in elemanlarinin kucukten buyuge olacak sekilde siralanmis listesini donduruyor"
      ],
      "metadata": {
        "colab": {
          "base_uri": "https://localhost:8080/"
        },
        "id": "1dmld1slSUUh",
        "outputId": "0be89fa6-105c-45cf-fb0e-73a9fe422e88"
      },
      "execution_count": null,
      "outputs": [
        {
          "output_type": "execute_result",
          "data": {
            "text/plain": [
              "[1, 2, 3, 5, 10, 15, 25]"
            ]
          },
          "metadata": {},
          "execution_count": 98
        }
      ]
    },
    {
      "cell_type": "code",
      "source": [
        "a\n",
        "# sorted fonksiyonu, yerinde degisiklik yapmiyor. \n",
        "# ==>> Yeni siralanmis halde bir liste olusturup donduruyor.\n",
        "# orjinal a listesinde bir degisiklik yapilmamistir"
      ],
      "metadata": {
        "colab": {
          "base_uri": "https://localhost:8080/"
        },
        "id": "plBKTqPLSYk8",
        "outputId": "4814de23-bc87-4b0c-9165-e813b2139bf7"
      },
      "execution_count": null,
      "outputs": [
        {
          "output_type": "execute_result",
          "data": {
            "text/plain": [
              "[1, 5, 25, 10, 15, 3, 2]"
            ]
          },
          "metadata": {},
          "execution_count": 99
        }
      ]
    },
    {
      "cell_type": "code",
      "source": [
        "# buyukten kucuge siralamak icin reverse parametresinin kullanimi\n",
        "sorted(a, reverse=True) # anahtar kelime argumani: fonksiyona reverse parametren True'ya esit olsun denilmis oluyor."
      ],
      "metadata": {
        "colab": {
          "base_uri": "https://localhost:8080/"
        },
        "id": "lhBJQhlYSevh",
        "outputId": "159d7ed3-c10d-4e1b-8d98-4a8f8240be85"
      },
      "execution_count": null,
      "outputs": [
        {
          "output_type": "execute_result",
          "data": {
            "text/plain": [
              "[25, 15, 10, 5, 3, 2, 1]"
            ]
          },
          "metadata": {},
          "execution_count": 100
        }
      ]
    },
    {
      "cell_type": "code",
      "source": [
        "# sozlugu sort etmek istersek\n",
        "sorted(kelime_gecme_sayisi_sozlugu) # sorted(kelime_gecme_sayisi_sozlugu.keys())\n",
        "# anahtarlarin sirali halini liste olarak donduruyor\n",
        "# fakat amacimiz elemanlarin siralanmasi."
      ],
      "metadata": {
        "colab": {
          "base_uri": "https://localhost:8080/"
        },
        "id": "5g5tPrriSsxg",
        "outputId": "8c98b1ea-ac6b-4b09-9c03-f7074cab918c"
      },
      "execution_count": null,
      "outputs": [
        {
          "output_type": "execute_result",
          "data": {
            "text/plain": [
              "['.',\n",
              " 'Amaç',\n",
              " 'Ancak',\n",
              " 'Başka',\n",
              " 'Bu',\n",
              " 'Temel',\n",
              " 'Veri',\n",
              " 'Veriler',\n",
              " 'amaç',\n",
              " 'analizi',\n",
              " 'ancak',\n",
              " 'arasındaki',\n",
              " 'arayüzü',\n",
              " 'bazen',\n",
              " 'bağlamda',\n",
              " 'belirlemekten',\n",
              " 'belirli',\n",
              " 'bilginin',\n",
              " 'bilgisayar',\n",
              " 'bilgisi',\n",
              " 'bilinmeyen',\n",
              " 'bir',\n",
              " 'birkaç',\n",
              " 'birleştirilir',\n",
              " 'da',\n",
              " 'daha',\n",
              " 'de',\n",
              " 'desenlerin',\n",
              " 'desenlerini',\n",
              " 'deyişle',\n",
              " 'değişikliklerin',\n",
              " 'değişimlerin',\n",
              " 'düzenin',\n",
              " 'düzensizliklerin',\n",
              " 'edebilmektir',\n",
              " 'edilmemiş',\n",
              " 'eldeki',\n",
              " 'fark',\n",
              " 'farklılık',\n",
              " 'geleneksel',\n",
              " 'gibi',\n",
              " 'görmek',\n",
              " 'görsel',\n",
              " 'gösterir',\n",
              " 'ilgilidir',\n",
              " 'ilişkilerin',\n",
              " 'ilişkiyi',\n",
              " 'insan',\n",
              " 'istatistik',\n",
              " 'istatistiksel',\n",
              " 'istatistikten',\n",
              " 'içerir',\n",
              " 'içerisindeki',\n",
              " 'işlem',\n",
              " 'kapalı',\n",
              " 'keşfedilmesidir',\n",
              " 'kolaylıkla',\n",
              " 'kullanılmasıyla',\n",
              " 'kullanışlı',\n",
              " 'kurallara',\n",
              " 'kuralları',\n",
              " 'kuralların',\n",
              " 'kümeleme',\n",
              " 'madenciliği',\n",
              " 'madenciliğinde',\n",
              " 'madenciliğini',\n",
              " 'makine',\n",
              " 'mantıksal',\n",
              " 'merkezlidir',\n",
              " 'modellerin',\n",
              " 'mümkün',\n",
              " 'net',\n",
              " 'nitel',\n",
              " 'olabilir',\n",
              " 'olan',\n",
              " 'olarak',\n",
              " 'olmayan',\n",
              " 'otomatik',\n",
              " 'performanslı',\n",
              " 'potansiyel',\n",
              " 'sahası',\n",
              " 'sapmaların',\n",
              " 'sayıda',\n",
              " 'serisi',\n",
              " 'setleri',\n",
              " 'sorumludur',\n",
              " 'sunumlara',\n",
              " 'teknik',\n",
              " 'tekniklerinin',\n",
              " 'temelleri',\n",
              " 'tespit',\n",
              " 'tespiti',\n",
              " 've',\n",
              " 'veri',\n",
              " 'verilerden',\n",
              " 'verilerin',\n",
              " 'verinin',\n",
              " 'veritabanları',\n",
              " 'ya',\n",
              " 'yaklaşımları',\n",
              " 'yapıların',\n",
              " 'yarı',\n",
              " 'yazılım',\n",
              " 'yönde',\n",
              " 'yöntemler',\n",
              " 'yüksek',\n",
              " 'çevrilebilecek',\n",
              " 'çok',\n",
              " 'çıkarılmasıdır',\n",
              " 'önceden',\n",
              " 'önemli',\n",
              " 'özellikleri',\n",
              " 'özetleme',\n",
              " 'üstü',\n",
              " '–']"
            ]
          },
          "metadata": {},
          "execution_count": 101
        }
      ]
    },
    {
      "cell_type": "code",
      "source": [
        "print(  sorted(kelime_gecme_sayisi_sozlugu)  )\n",
        "print(  sorted(kelime_gecme_sayisi_sozlugu.keys())  )\n",
        "print(  sorted(kelime_gecme_sayisi_sozlugu, reverse=True)  )\n",
        "print(  sorted(kelime_gecme_sayisi_sozlugu.values(), reverse=True)  )"
      ],
      "metadata": {
        "colab": {
          "base_uri": "https://localhost:8080/"
        },
        "id": "AOz3LMnQSszr",
        "outputId": "0dfeb4aa-ca66-4d47-ff33-e367624fcc70"
      },
      "execution_count": null,
      "outputs": [
        {
          "output_type": "stream",
          "name": "stdout",
          "text": [
            "['.', 'Amaç', 'Ancak', 'Başka', 'Bu', 'Temel', 'Veri', 'Veriler', 'amaç', 'analizi', 'ancak', 'arasındaki', 'arayüzü', 'bazen', 'bağlamda', 'belirlemekten', 'belirli', 'bilginin', 'bilgisayar', 'bilgisi', 'bilinmeyen', 'bir', 'birkaç', 'birleştirilir', 'da', 'daha', 'de', 'desenlerin', 'desenlerini', 'deyişle', 'değişikliklerin', 'değişimlerin', 'düzenin', 'düzensizliklerin', 'edebilmektir', 'edilmemiş', 'eldeki', 'fark', 'farklılık', 'geleneksel', 'gibi', 'görmek', 'görsel', 'gösterir', 'ilgilidir', 'ilişkilerin', 'ilişkiyi', 'insan', 'istatistik', 'istatistiksel', 'istatistikten', 'içerir', 'içerisindeki', 'işlem', 'kapalı', 'keşfedilmesidir', 'kolaylıkla', 'kullanılmasıyla', 'kullanışlı', 'kurallara', 'kuralları', 'kuralların', 'kümeleme', 'madenciliği', 'madenciliğinde', 'madenciliğini', 'makine', 'mantıksal', 'merkezlidir', 'modellerin', 'mümkün', 'net', 'nitel', 'olabilir', 'olan', 'olarak', 'olmayan', 'otomatik', 'performanslı', 'potansiyel', 'sahası', 'sapmaların', 'sayıda', 'serisi', 'setleri', 'sorumludur', 'sunumlara', 'teknik', 'tekniklerinin', 'temelleri', 'tespit', 'tespiti', 've', 'veri', 'verilerden', 'verilerin', 'verinin', 'veritabanları', 'ya', 'yaklaşımları', 'yapıların', 'yarı', 'yazılım', 'yönde', 'yöntemler', 'yüksek', 'çevrilebilecek', 'çok', 'çıkarılmasıdır', 'önceden', 'önemli', 'özellikleri', 'özetleme', 'üstü', '–']\n",
            "['.', 'Amaç', 'Ancak', 'Başka', 'Bu', 'Temel', 'Veri', 'Veriler', 'amaç', 'analizi', 'ancak', 'arasındaki', 'arayüzü', 'bazen', 'bağlamda', 'belirlemekten', 'belirli', 'bilginin', 'bilgisayar', 'bilgisi', 'bilinmeyen', 'bir', 'birkaç', 'birleştirilir', 'da', 'daha', 'de', 'desenlerin', 'desenlerini', 'deyişle', 'değişikliklerin', 'değişimlerin', 'düzenin', 'düzensizliklerin', 'edebilmektir', 'edilmemiş', 'eldeki', 'fark', 'farklılık', 'geleneksel', 'gibi', 'görmek', 'görsel', 'gösterir', 'ilgilidir', 'ilişkilerin', 'ilişkiyi', 'insan', 'istatistik', 'istatistiksel', 'istatistikten', 'içerir', 'içerisindeki', 'işlem', 'kapalı', 'keşfedilmesidir', 'kolaylıkla', 'kullanılmasıyla', 'kullanışlı', 'kurallara', 'kuralları', 'kuralların', 'kümeleme', 'madenciliği', 'madenciliğinde', 'madenciliğini', 'makine', 'mantıksal', 'merkezlidir', 'modellerin', 'mümkün', 'net', 'nitel', 'olabilir', 'olan', 'olarak', 'olmayan', 'otomatik', 'performanslı', 'potansiyel', 'sahası', 'sapmaların', 'sayıda', 'serisi', 'setleri', 'sorumludur', 'sunumlara', 'teknik', 'tekniklerinin', 'temelleri', 'tespit', 'tespiti', 've', 'veri', 'verilerden', 'verilerin', 'verinin', 'veritabanları', 'ya', 'yaklaşımları', 'yapıların', 'yarı', 'yazılım', 'yönde', 'yöntemler', 'yüksek', 'çevrilebilecek', 'çok', 'çıkarılmasıdır', 'önceden', 'önemli', 'özellikleri', 'özetleme', 'üstü', '–']\n",
            "['–', 'üstü', 'özetleme', 'özellikleri', 'önemli', 'önceden', 'çıkarılmasıdır', 'çok', 'çevrilebilecek', 'yüksek', 'yöntemler', 'yönde', 'yazılım', 'yarı', 'yapıların', 'yaklaşımları', 'ya', 'veritabanları', 'verinin', 'verilerin', 'verilerden', 'veri', 've', 'tespiti', 'tespit', 'temelleri', 'tekniklerinin', 'teknik', 'sunumlara', 'sorumludur', 'setleri', 'serisi', 'sayıda', 'sapmaların', 'sahası', 'potansiyel', 'performanslı', 'otomatik', 'olmayan', 'olarak', 'olan', 'olabilir', 'nitel', 'net', 'mümkün', 'modellerin', 'merkezlidir', 'mantıksal', 'makine', 'madenciliğini', 'madenciliğinde', 'madenciliği', 'kümeleme', 'kuralların', 'kuralları', 'kurallara', 'kullanışlı', 'kullanılmasıyla', 'kolaylıkla', 'keşfedilmesidir', 'kapalı', 'işlem', 'içerisindeki', 'içerir', 'istatistikten', 'istatistiksel', 'istatistik', 'insan', 'ilişkiyi', 'ilişkilerin', 'ilgilidir', 'gösterir', 'görsel', 'görmek', 'gibi', 'geleneksel', 'farklılık', 'fark', 'eldeki', 'edilmemiş', 'edebilmektir', 'düzensizliklerin', 'düzenin', 'değişimlerin', 'değişikliklerin', 'deyişle', 'desenlerini', 'desenlerin', 'de', 'daha', 'da', 'birleştirilir', 'birkaç', 'bir', 'bilinmeyen', 'bilgisi', 'bilgisayar', 'bilginin', 'belirli', 'belirlemekten', 'bağlamda', 'bazen', 'arayüzü', 'arasındaki', 'ancak', 'analizi', 'amaç', 'Veriler', 'Veri', 'Temel', 'Bu', 'Başka', 'Ancak', 'Amaç', '.']\n",
            "[11, 7, 6, 5, 5, 4, 3, 2, 2, 2, 2, 2, 2, 2, 2, 2, 2, 2, 2, 2, 1, 1, 1, 1, 1, 1, 1, 1, 1, 1, 1, 1, 1, 1, 1, 1, 1, 1, 1, 1, 1, 1, 1, 1, 1, 1, 1, 1, 1, 1, 1, 1, 1, 1, 1, 1, 1, 1, 1, 1, 1, 1, 1, 1, 1, 1, 1, 1, 1, 1, 1, 1, 1, 1, 1, 1, 1, 1, 1, 1, 1, 1, 1, 1, 1, 1, 1, 1, 1, 1, 1, 1, 1, 1, 1, 1, 1, 1, 1, 1, 1, 1, 1, 1, 1, 1, 1, 1, 1, 1, 1, 1, 1, 1, 1]\n"
          ]
        }
      ]
    },
    {
      "cell_type": "code",
      "source": [
        "# amacimiz elemanlarin siralanmasi.\n",
        "print(kelime_gecme_sayisi_sozlugu.items())"
      ],
      "metadata": {
        "colab": {
          "base_uri": "https://localhost:8080/"
        },
        "id": "vXmPe48OSs2H",
        "outputId": "7e048514-40c2-4317-a1fc-7b192c99b2a1"
      },
      "execution_count": null,
      "outputs": [
        {
          "output_type": "stream",
          "name": "stdout",
          "text": [
            "dict_items([('Veri', 4), ('madenciliği', 6), ('eldeki', 1), ('verilerden', 1), ('üstü', 1), ('kapalı', 1), ('çok', 1), ('net', 1), ('olmayan', 1), ('önceden', 2), ('bilinmeyen', 1), ('ancak', 1), ('potansiyel', 1), ('olarak', 5), ('kullanışlı', 1), ('bilginin', 1), ('çıkarılmasıdır', 2), ('.', 11), ('Bu', 2), ('da', 3), ('kümeleme', 1), ('veri', 7), ('özetleme', 1), ('değişikliklerin', 1), ('analizi', 2), ('sapmaların', 1), ('tespiti', 1), ('gibi', 2), ('belirli', 1), ('sayıda', 1), ('teknik', 1), ('yaklaşımları', 1), ('içerir', 2), ('Başka', 1), ('bir', 2), ('deyişle', 1), ('verilerin', 1), ('içerisindeki', 1), ('desenlerin', 2), ('ilişkilerin', 1), ('değişimlerin', 1), ('düzensizliklerin', 1), ('kuralların', 1), ('ve', 5), ('istatistiksel', 2), ('önemli', 1), ('olan', 1), ('yapıların', 1), ('yarı', 1), ('otomatik', 1), ('keşfedilmesidir', 1), ('Temel', 1), ('setleri', 1), ('arasındaki', 2), ('ya', 2), ('düzenin', 1), ('verinin', 1), ('yazılım', 1), ('tekniklerinin', 1), ('kullanılmasıyla', 1), ('ilgilidir', 1), ('Veriler', 1), ('ilişkiyi', 1), ('kuralları', 1), ('özellikleri', 1), ('belirlemekten', 1), ('bilgisayar', 2), ('sorumludur', 1), ('Amaç', 1), ('daha', 1), ('fark', 1), ('edilmemiş', 1), ('desenlerini', 1), ('tespit', 1), ('edebilmektir', 1), ('madenciliğini', 1), ('yöntemler', 1), ('serisi', 1), ('görmek', 1), ('mümkün', 1), ('olabilir', 1), ('Ancak', 1), ('geleneksel', 1), ('istatistikten', 1), ('birkaç', 1), ('yönde', 1), ('farklılık', 1), ('gösterir', 1), ('madenciliğinde', 1), ('amaç', 1), ('kolaylıkla', 1), ('mantıksal', 1), ('kurallara', 1), ('görsel', 1), ('sunumlara', 1), ('çevrilebilecek', 1), ('nitel', 1), ('modellerin', 1), ('bağlamda', 1), ('insan', 2), ('merkezlidir', 1), ('bazen', 1), ('–', 1), ('arayüzü', 1), ('birleştirilir', 1), ('sahası', 1), ('istatistik', 1), ('makine', 1), ('bilgisi', 1), ('veritabanları', 1), ('yüksek', 1), ('performanslı', 1), ('işlem', 1), ('temelleri', 1), ('de', 1)])\n"
          ]
        }
      ]
    },
    {
      "cell_type": "code",
      "source": [
        "# amacimiz elemanlarin siralanmasi. Elemanlarin sorted fonk. gonderilmesi\n",
        "print(  sorted(kelime_gecme_sayisi_sozlugu.items(), reverse=True)  )\n",
        "# => sozluk elemanlarini anahtarlara göre sıraladı\n",
        "# istediğimiz? => değerlere göre sıralamak\n",
        "\n",
        "# sozlugun elemanlarinin hepsi 2 öğe iceren birer tuple/demet\n",
        "# sorted siralamayi oncelikle tuple'larin 1. elemanlarina yani anahtarlara/kelimelere bakip yapiyor."
      ],
      "metadata": {
        "colab": {
          "base_uri": "https://localhost:8080/"
        },
        "id": "gzPw8P_USs4d",
        "outputId": "0fd9c996-2766-4959-d29a-8147099d7339"
      },
      "execution_count": null,
      "outputs": [
        {
          "output_type": "stream",
          "name": "stdout",
          "text": [
            "[('–', 1), ('üstü', 1), ('özetleme', 1), ('özellikleri', 1), ('önemli', 1), ('önceden', 2), ('çıkarılmasıdır', 2), ('çok', 1), ('çevrilebilecek', 1), ('yüksek', 1), ('yöntemler', 1), ('yönde', 1), ('yazılım', 1), ('yarı', 1), ('yapıların', 1), ('yaklaşımları', 1), ('ya', 2), ('veritabanları', 1), ('verinin', 1), ('verilerin', 1), ('verilerden', 1), ('veri', 7), ('ve', 5), ('tespiti', 1), ('tespit', 1), ('temelleri', 1), ('tekniklerinin', 1), ('teknik', 1), ('sunumlara', 1), ('sorumludur', 1), ('setleri', 1), ('serisi', 1), ('sayıda', 1), ('sapmaların', 1), ('sahası', 1), ('potansiyel', 1), ('performanslı', 1), ('otomatik', 1), ('olmayan', 1), ('olarak', 5), ('olan', 1), ('olabilir', 1), ('nitel', 1), ('net', 1), ('mümkün', 1), ('modellerin', 1), ('merkezlidir', 1), ('mantıksal', 1), ('makine', 1), ('madenciliğini', 1), ('madenciliğinde', 1), ('madenciliği', 6), ('kümeleme', 1), ('kuralların', 1), ('kuralları', 1), ('kurallara', 1), ('kullanışlı', 1), ('kullanılmasıyla', 1), ('kolaylıkla', 1), ('keşfedilmesidir', 1), ('kapalı', 1), ('işlem', 1), ('içerisindeki', 1), ('içerir', 2), ('istatistikten', 1), ('istatistiksel', 2), ('istatistik', 1), ('insan', 2), ('ilişkiyi', 1), ('ilişkilerin', 1), ('ilgilidir', 1), ('gösterir', 1), ('görsel', 1), ('görmek', 1), ('gibi', 2), ('geleneksel', 1), ('farklılık', 1), ('fark', 1), ('eldeki', 1), ('edilmemiş', 1), ('edebilmektir', 1), ('düzensizliklerin', 1), ('düzenin', 1), ('değişimlerin', 1), ('değişikliklerin', 1), ('deyişle', 1), ('desenlerini', 1), ('desenlerin', 2), ('de', 1), ('daha', 1), ('da', 3), ('birleştirilir', 1), ('birkaç', 1), ('bir', 2), ('bilinmeyen', 1), ('bilgisi', 1), ('bilgisayar', 2), ('bilginin', 1), ('belirli', 1), ('belirlemekten', 1), ('bağlamda', 1), ('bazen', 1), ('arayüzü', 1), ('arasındaki', 2), ('ancak', 1), ('analizi', 2), ('amaç', 1), ('Veriler', 1), ('Veri', 4), ('Temel', 1), ('Bu', 2), ('Başka', 1), ('Ancak', 1), ('Amaç', 1), ('.', 11)]\n"
          ]
        }
      ]
    },
    {
      "cell_type": "code",
      "source": [
        "# sorted fonksiyonunu 2 elemanlara (yani gecme sayilarina) bakarak siralama yapmaya yonlendirmemiz gerekiyor.\n",
        "# key= ????? sorted fonk. bildirilerek\n",
        "# A custom key function can be supplied to customize the sort order"
      ],
      "metadata": {
        "id": "SXRarjCbSs-6"
      },
      "execution_count": null,
      "outputs": []
    },
    {
      "cell_type": "code",
      "source": [
        "# verilen demetin/tuple ikinci elemanini donduren bir fonksiyon\n",
        "# iki eleman iceren ( ('üstü', 1) ) bir demetin (sözlük öğesi) ikinci öğesini döndürür (anahtar, değer) => değer \n",
        "def ikinci_eleman(demet):\n",
        "    return demet[1]"
      ],
      "metadata": {
        "id": "zPaYB0G6StCA"
      },
      "execution_count": null,
      "outputs": []
    },
    {
      "cell_type": "code",
      "source": [
        "ornek_demet_1 = ('üstü', 1)\n",
        "ikinci_eleman(ornek_demet_1)"
      ],
      "metadata": {
        "colab": {
          "base_uri": "https://localhost:8080/"
        },
        "id": "_ViLVX1YUiIH",
        "outputId": "32ddf7bb-88bf-482d-f8dc-9af6557c7c1e"
      },
      "execution_count": null,
      "outputs": [
        {
          "output_type": "execute_result",
          "data": {
            "text/plain": [
              "1"
            ]
          },
          "metadata": {},
          "execution_count": 113
        }
      ]
    },
    {
      "cell_type": "code",
      "source": [
        "ornek_demet_2 = ('çıkarılmasıdır', 2)\n",
        "ikinci_eleman(ornek_demet_2)"
      ],
      "metadata": {
        "colab": {
          "base_uri": "https://localhost:8080/"
        },
        "id": "ueZtxOf2UqV5",
        "outputId": "abfe793b-c434-40fa-c22d-b989a3611499"
      },
      "execution_count": null,
      "outputs": [
        {
          "output_type": "execute_result",
          "data": {
            "text/plain": [
              "2"
            ]
          },
          "metadata": {},
          "execution_count": 114
        }
      ]
    },
    {
      "cell_type": "code",
      "source": [
        "# direk demetler karsilastirildiginda  ('üstü', 1) elemani ('çıkarılmasıdır', 2) elemanindan buyuk oluyor\n",
        "# cunku 'üstü' > 'çıkarılmasıdır'\n",
        "ornek_demet_1 < ornek_demet_2"
      ],
      "metadata": {
        "colab": {
          "base_uri": "https://localhost:8080/"
        },
        "id": "LN_PepjOVCAk",
        "outputId": "1532f645-43c5-4a4e-d530-5243eff8f5f6"
      },
      "execution_count": null,
      "outputs": [
        {
          "output_type": "execute_result",
          "data": {
            "text/plain": [
              "False"
            ]
          },
          "metadata": {},
          "execution_count": 117
        }
      ]
    },
    {
      "cell_type": "code",
      "source": [
        "# ornek_demet_1 ile ornek_demet_2'yi 2. elemanlarina gore karsilastirisak\n",
        "ikinci_eleman(ornek_demet_1) < ikinci_eleman(ornek_demet_2)\n",
        "# ==>> Bu karsilastirmayi sorted fonksiyonun kendisi icinde yapiyor"
      ],
      "metadata": {
        "colab": {
          "base_uri": "https://localhost:8080/"
        },
        "id": "3PsvNGzGU52o",
        "outputId": "a1f16e2b-4d2b-414b-e30f-1a9228c92397"
      },
      "execution_count": null,
      "outputs": [
        {
          "output_type": "execute_result",
          "data": {
            "text/plain": [
              "True"
            ]
          },
          "metadata": {},
          "execution_count": 115
        }
      ]
    },
    {
      "cell_type": "code",
      "source": [
        "# sorted fonksiyonunun key parametresine, hangi elemana bakarak siralama yapilacagini belirten fonksiyonu yaziyoruz\n",
        "# NOT: key parametresine fonksiyonun adini veriyoruz !\n",
        "# sorted fonk. calisirken < ve ya > karsilastirmasini kendisi yapiyor..\n",
        "print(  sorted(kelime_gecme_sayisi_sozlugu.items(), key=ikinci_eleman, reverse=True)  )"
      ],
      "metadata": {
        "colab": {
          "base_uri": "https://localhost:8080/"
        },
        "id": "8t0A9CyzVLBw",
        "outputId": "83af9175-54fb-4e30-cf77-d0511727de1e"
      },
      "execution_count": null,
      "outputs": [
        {
          "output_type": "stream",
          "name": "stdout",
          "text": [
            "[('.', 11), ('veri', 7), ('madenciliği', 6), ('olarak', 5), ('ve', 5), ('Veri', 4), ('da', 3), ('önceden', 2), ('çıkarılmasıdır', 2), ('Bu', 2), ('analizi', 2), ('gibi', 2), ('içerir', 2), ('bir', 2), ('desenlerin', 2), ('istatistiksel', 2), ('arasındaki', 2), ('ya', 2), ('bilgisayar', 2), ('insan', 2), ('eldeki', 1), ('verilerden', 1), ('üstü', 1), ('kapalı', 1), ('çok', 1), ('net', 1), ('olmayan', 1), ('bilinmeyen', 1), ('ancak', 1), ('potansiyel', 1), ('kullanışlı', 1), ('bilginin', 1), ('kümeleme', 1), ('özetleme', 1), ('değişikliklerin', 1), ('sapmaların', 1), ('tespiti', 1), ('belirli', 1), ('sayıda', 1), ('teknik', 1), ('yaklaşımları', 1), ('Başka', 1), ('deyişle', 1), ('verilerin', 1), ('içerisindeki', 1), ('ilişkilerin', 1), ('değişimlerin', 1), ('düzensizliklerin', 1), ('kuralların', 1), ('önemli', 1), ('olan', 1), ('yapıların', 1), ('yarı', 1), ('otomatik', 1), ('keşfedilmesidir', 1), ('Temel', 1), ('setleri', 1), ('düzenin', 1), ('verinin', 1), ('yazılım', 1), ('tekniklerinin', 1), ('kullanılmasıyla', 1), ('ilgilidir', 1), ('Veriler', 1), ('ilişkiyi', 1), ('kuralları', 1), ('özellikleri', 1), ('belirlemekten', 1), ('sorumludur', 1), ('Amaç', 1), ('daha', 1), ('fark', 1), ('edilmemiş', 1), ('desenlerini', 1), ('tespit', 1), ('edebilmektir', 1), ('madenciliğini', 1), ('yöntemler', 1), ('serisi', 1), ('görmek', 1), ('mümkün', 1), ('olabilir', 1), ('Ancak', 1), ('geleneksel', 1), ('istatistikten', 1), ('birkaç', 1), ('yönde', 1), ('farklılık', 1), ('gösterir', 1), ('madenciliğinde', 1), ('amaç', 1), ('kolaylıkla', 1), ('mantıksal', 1), ('kurallara', 1), ('görsel', 1), ('sunumlara', 1), ('çevrilebilecek', 1), ('nitel', 1), ('modellerin', 1), ('bağlamda', 1), ('merkezlidir', 1), ('bazen', 1), ('–', 1), ('arayüzü', 1), ('birleştirilir', 1), ('sahası', 1), ('istatistik', 1), ('makine', 1), ('bilgisi', 1), ('veritabanları', 1), ('yüksek', 1), ('performanslı', 1), ('işlem', 1), ('temelleri', 1), ('de', 1)]\n"
          ]
        }
      ]
    },
    {
      "cell_type": "code",
      "source": [
        "# en çok geçen 3 kelimeyi ve geçme sayılarını gösterelim"
      ],
      "metadata": {
        "id": "30bhLf3FVuIy"
      },
      "execution_count": null,
      "outputs": []
    },
    {
      "cell_type": "code",
      "source": [
        "sirali_kelime_gecme = sorted(kelime_gecme_sayisi_sozlugu.items(), key=ikinci_eleman, reverse=True)\n",
        "print(sirali_kelime_gecme)"
      ],
      "metadata": {
        "colab": {
          "base_uri": "https://localhost:8080/"
        },
        "id": "eaWBukseVuLs",
        "outputId": "539e850d-1195-4c4c-b2f8-359efd197c9c"
      },
      "execution_count": null,
      "outputs": [
        {
          "output_type": "stream",
          "name": "stdout",
          "text": [
            "[('.', 11), ('veri', 7), ('madenciliği', 6), ('olarak', 5), ('ve', 5), ('Veri', 4), ('da', 3), ('önceden', 2), ('çıkarılmasıdır', 2), ('Bu', 2), ('analizi', 2), ('gibi', 2), ('içerir', 2), ('bir', 2), ('desenlerin', 2), ('istatistiksel', 2), ('arasındaki', 2), ('ya', 2), ('bilgisayar', 2), ('insan', 2), ('eldeki', 1), ('verilerden', 1), ('üstü', 1), ('kapalı', 1), ('çok', 1), ('net', 1), ('olmayan', 1), ('bilinmeyen', 1), ('ancak', 1), ('potansiyel', 1), ('kullanışlı', 1), ('bilginin', 1), ('kümeleme', 1), ('özetleme', 1), ('değişikliklerin', 1), ('sapmaların', 1), ('tespiti', 1), ('belirli', 1), ('sayıda', 1), ('teknik', 1), ('yaklaşımları', 1), ('Başka', 1), ('deyişle', 1), ('verilerin', 1), ('içerisindeki', 1), ('ilişkilerin', 1), ('değişimlerin', 1), ('düzensizliklerin', 1), ('kuralların', 1), ('önemli', 1), ('olan', 1), ('yapıların', 1), ('yarı', 1), ('otomatik', 1), ('keşfedilmesidir', 1), ('Temel', 1), ('setleri', 1), ('düzenin', 1), ('verinin', 1), ('yazılım', 1), ('tekniklerinin', 1), ('kullanılmasıyla', 1), ('ilgilidir', 1), ('Veriler', 1), ('ilişkiyi', 1), ('kuralları', 1), ('özellikleri', 1), ('belirlemekten', 1), ('sorumludur', 1), ('Amaç', 1), ('daha', 1), ('fark', 1), ('edilmemiş', 1), ('desenlerini', 1), ('tespit', 1), ('edebilmektir', 1), ('madenciliğini', 1), ('yöntemler', 1), ('serisi', 1), ('görmek', 1), ('mümkün', 1), ('olabilir', 1), ('Ancak', 1), ('geleneksel', 1), ('istatistikten', 1), ('birkaç', 1), ('yönde', 1), ('farklılık', 1), ('gösterir', 1), ('madenciliğinde', 1), ('amaç', 1), ('kolaylıkla', 1), ('mantıksal', 1), ('kurallara', 1), ('görsel', 1), ('sunumlara', 1), ('çevrilebilecek', 1), ('nitel', 1), ('modellerin', 1), ('bağlamda', 1), ('merkezlidir', 1), ('bazen', 1), ('–', 1), ('arayüzü', 1), ('birleştirilir', 1), ('sahası', 1), ('istatistik', 1), ('makine', 1), ('bilgisi', 1), ('veritabanları', 1), ('yüksek', 1), ('performanslı', 1), ('işlem', 1), ('temelleri', 1), ('de', 1)]\n"
          ]
        }
      ]
    },
    {
      "cell_type": "code",
      "source": [
        "# siralanmis olan liste icinden en cok gecen kelimeleri ve gecme sayilari kullaniciya gosterilsin\n",
        "encokgecen_kac_kelime = 7\n",
        "print(f\"Belgede en çok geçen {encokgecen_kac_kelime} kelime\")\n",
        "print('-----------------------------')\n",
        "for kelime, gecmesayisi in sirali_kelime_gecme[:encokgecen_kac_kelime]:\n",
        "    print(f\"{kelime} kelimesi {gecmesayisi} defa geçmektedir.\")"
      ],
      "metadata": {
        "colab": {
          "base_uri": "https://localhost:8080/"
        },
        "id": "cVX1OQTBVuOT",
        "outputId": "6ca448ae-1c7d-41bd-a972-8f1f2c885be6"
      },
      "execution_count": null,
      "outputs": [
        {
          "output_type": "stream",
          "name": "stdout",
          "text": [
            "Belgede en çok geçen 7 kelime\n",
            "-----------------------------\n",
            ". kelimesi 11 defa geçmektedir.\n",
            "veri kelimesi 7 defa geçmektedir.\n",
            "madenciliği kelimesi 6 defa geçmektedir.\n",
            "olarak kelimesi 5 defa geçmektedir.\n",
            "ve kelimesi 5 defa geçmektedir.\n",
            "Veri kelimesi 4 defa geçmektedir.\n",
            "da kelimesi 3 defa geçmektedir.\n"
          ]
        }
      ]
    },
    {
      "cell_type": "code",
      "source": [
        "# derste \"ordering dictionary elements by values python\" aratarak bulduğumuz site\n",
        "# https://stackoverflow.com/questions/613183/how-do-i-sort-a-dictionary-by-value\n",
        "# sitedeki cozumlerden sorted iceren kismi alinirsa\n",
        "# sorted(x.items(), key=lambda item: item[1])\n",
        "sirali_kelime_gecme_lambda = sorted(kelime_gecme_sayisi_sozlugu.items(), key=lambda item: item[1], reverse=True)\n",
        "#                            sorted(kelime_gecme_sayisi_sozlugu.items(), key=ikinci_eleman       , reverse=True)\n",
        "print(sirali_kelime_gecme_lambda)\n",
        "# key=lambda item: item[1] ===>> key=lambda demet: demet[1]\n",
        "# ikinci_eleman ==>> return demet[1]"
      ],
      "metadata": {
        "colab": {
          "base_uri": "https://localhost:8080/"
        },
        "id": "BpEg7tBlVuRx",
        "outputId": "a70f23d7-b942-4977-b9f4-dd0214c651ae"
      },
      "execution_count": null,
      "outputs": [
        {
          "output_type": "stream",
          "name": "stdout",
          "text": [
            "[('.', 11), ('veri', 7), ('madenciliği', 6), ('olarak', 5), ('ve', 5), ('Veri', 4), ('da', 3), ('önceden', 2), ('çıkarılmasıdır', 2), ('Bu', 2), ('analizi', 2), ('gibi', 2), ('içerir', 2), ('bir', 2), ('desenlerin', 2), ('istatistiksel', 2), ('arasındaki', 2), ('ya', 2), ('bilgisayar', 2), ('insan', 2), ('eldeki', 1), ('verilerden', 1), ('üstü', 1), ('kapalı', 1), ('çok', 1), ('net', 1), ('olmayan', 1), ('bilinmeyen', 1), ('ancak', 1), ('potansiyel', 1), ('kullanışlı', 1), ('bilginin', 1), ('kümeleme', 1), ('özetleme', 1), ('değişikliklerin', 1), ('sapmaların', 1), ('tespiti', 1), ('belirli', 1), ('sayıda', 1), ('teknik', 1), ('yaklaşımları', 1), ('Başka', 1), ('deyişle', 1), ('verilerin', 1), ('içerisindeki', 1), ('ilişkilerin', 1), ('değişimlerin', 1), ('düzensizliklerin', 1), ('kuralların', 1), ('önemli', 1), ('olan', 1), ('yapıların', 1), ('yarı', 1), ('otomatik', 1), ('keşfedilmesidir', 1), ('Temel', 1), ('setleri', 1), ('düzenin', 1), ('verinin', 1), ('yazılım', 1), ('tekniklerinin', 1), ('kullanılmasıyla', 1), ('ilgilidir', 1), ('Veriler', 1), ('ilişkiyi', 1), ('kuralları', 1), ('özellikleri', 1), ('belirlemekten', 1), ('sorumludur', 1), ('Amaç', 1), ('daha', 1), ('fark', 1), ('edilmemiş', 1), ('desenlerini', 1), ('tespit', 1), ('edebilmektir', 1), ('madenciliğini', 1), ('yöntemler', 1), ('serisi', 1), ('görmek', 1), ('mümkün', 1), ('olabilir', 1), ('Ancak', 1), ('geleneksel', 1), ('istatistikten', 1), ('birkaç', 1), ('yönde', 1), ('farklılık', 1), ('gösterir', 1), ('madenciliğinde', 1), ('amaç', 1), ('kolaylıkla', 1), ('mantıksal', 1), ('kurallara', 1), ('görsel', 1), ('sunumlara', 1), ('çevrilebilecek', 1), ('nitel', 1), ('modellerin', 1), ('bağlamda', 1), ('merkezlidir', 1), ('bazen', 1), ('–', 1), ('arayüzü', 1), ('birleştirilir', 1), ('sahası', 1), ('istatistik', 1), ('makine', 1), ('bilgisi', 1), ('veritabanları', 1), ('yüksek', 1), ('performanslı', 1), ('işlem', 1), ('temelleri', 1), ('de', 1)]\n"
          ]
        }
      ]
    },
    {
      "cell_type": "markdown",
      "source": [
        "##### 3. Sıralama Yaklaşımı - 3 \n",
        "- kütüphane kullanımı \n",
        "- [collections kütüphanesinin](https://docs.python.org/3/library/collections.html#collections.Counter) Counter nesnesinin kullanımı"
      ],
      "metadata": {
        "id": "2ynbcMhoZZD-"
      }
    },
    {
      "cell_type": "code",
      "source": [
        "# Sadece Counter nesnesini import edelim\n",
        "from collections import Counter # collections kutuphanesinden sadece Counter nesnesini getirelim\n",
        "# tum kutuphaneyi getirmek isteseydik => import collections"
      ],
      "metadata": {
        "id": "zgIf34b3XRhM"
      },
      "execution_count": null,
      "outputs": []
    },
    {
      "cell_type": "code",
      "source": [
        "# nesnenin olusturulmasi\n",
        "# sayilmasi istenen listeyi gondererek nesneyi olusturuyoruz\n",
        "cnt = Counter(kelime_listesi)\n",
        "# 1. kelime sayma ve 2. siralama islemlerini beraber gerceklestiriyor"
      ],
      "metadata": {
        "id": "rUqW5DqEZ-ck"
      },
      "execution_count": null,
      "outputs": []
    },
    {
      "cell_type": "code",
      "source": [
        "type(cnt)"
      ],
      "metadata": {
        "colab": {
          "base_uri": "https://localhost:8080/"
        },
        "id": "usDHcRElZ-fU",
        "outputId": "12884d1b-7e34-46ca-a3b5-49cc57211799"
      },
      "execution_count": null,
      "outputs": [
        {
          "output_type": "execute_result",
          "data": {
            "text/plain": [
              "collections.Counter"
            ]
          },
          "metadata": {},
          "execution_count": 127
        }
      ]
    },
    {
      "cell_type": "code",
      "source": [
        "print( dir(cnt) )\n",
        "# sozluklerle ortak islevselligi olan bir veri yapisi"
      ],
      "metadata": {
        "colab": {
          "base_uri": "https://localhost:8080/"
        },
        "id": "KHP2ihCwZ-i7",
        "outputId": "01609403-12e1-430c-9caf-4d454f220926"
      },
      "execution_count": null,
      "outputs": [
        {
          "output_type": "stream",
          "name": "stdout",
          "text": [
            "['__add__', '__and__', '__class__', '__contains__', '__delattr__', '__delitem__', '__dict__', '__dir__', '__doc__', '__eq__', '__format__', '__ge__', '__getattribute__', '__getitem__', '__gt__', '__hash__', '__iadd__', '__iand__', '__init__', '__init_subclass__', '__ior__', '__isub__', '__iter__', '__le__', '__len__', '__lt__', '__missing__', '__module__', '__ne__', '__neg__', '__new__', '__or__', '__pos__', '__reduce__', '__reduce_ex__', '__repr__', '__setattr__', '__setitem__', '__sizeof__', '__str__', '__sub__', '__subclasshook__', '__weakref__', '_keep_positive', 'clear', 'copy', 'elements', 'fromkeys', 'get', 'items', 'keys', 'most_common', 'pop', 'popitem', 'setdefault', 'subtract', 'update', 'values']\n"
          ]
        }
      ]
    },
    {
      "cell_type": "code",
      "source": [
        "print(cnt)"
      ],
      "metadata": {
        "colab": {
          "base_uri": "https://localhost:8080/"
        },
        "id": "NEdO8CNQZ-le",
        "outputId": "f2263d86-4527-47ef-962f-eb44d05d0c86"
      },
      "execution_count": null,
      "outputs": [
        {
          "output_type": "stream",
          "name": "stdout",
          "text": [
            "Counter({'.': 11, 'veri': 7, 'madenciliği': 6, 'olarak': 5, 've': 5, 'Veri': 4, 'da': 3, 'önceden': 2, 'çıkarılmasıdır': 2, 'Bu': 2, 'analizi': 2, 'gibi': 2, 'içerir': 2, 'bir': 2, 'desenlerin': 2, 'istatistiksel': 2, 'arasındaki': 2, 'ya': 2, 'bilgisayar': 2, 'insan': 2, 'eldeki': 1, 'verilerden': 1, 'üstü': 1, 'kapalı': 1, 'çok': 1, 'net': 1, 'olmayan': 1, 'bilinmeyen': 1, 'ancak': 1, 'potansiyel': 1, 'kullanışlı': 1, 'bilginin': 1, 'kümeleme': 1, 'özetleme': 1, 'değişikliklerin': 1, 'sapmaların': 1, 'tespiti': 1, 'belirli': 1, 'sayıda': 1, 'teknik': 1, 'yaklaşımları': 1, 'Başka': 1, 'deyişle': 1, 'verilerin': 1, 'içerisindeki': 1, 'ilişkilerin': 1, 'değişimlerin': 1, 'düzensizliklerin': 1, 'kuralların': 1, 'önemli': 1, 'olan': 1, 'yapıların': 1, 'yarı': 1, 'otomatik': 1, 'keşfedilmesidir': 1, 'Temel': 1, 'setleri': 1, 'düzenin': 1, 'verinin': 1, 'yazılım': 1, 'tekniklerinin': 1, 'kullanılmasıyla': 1, 'ilgilidir': 1, 'Veriler': 1, 'ilişkiyi': 1, 'kuralları': 1, 'özellikleri': 1, 'belirlemekten': 1, 'sorumludur': 1, 'Amaç': 1, 'daha': 1, 'fark': 1, 'edilmemiş': 1, 'desenlerini': 1, 'tespit': 1, 'edebilmektir': 1, 'madenciliğini': 1, 'yöntemler': 1, 'serisi': 1, 'görmek': 1, 'mümkün': 1, 'olabilir': 1, 'Ancak': 1, 'geleneksel': 1, 'istatistikten': 1, 'birkaç': 1, 'yönde': 1, 'farklılık': 1, 'gösterir': 1, 'madenciliğinde': 1, 'amaç': 1, 'kolaylıkla': 1, 'mantıksal': 1, 'kurallara': 1, 'görsel': 1, 'sunumlara': 1, 'çevrilebilecek': 1, 'nitel': 1, 'modellerin': 1, 'bağlamda': 1, 'merkezlidir': 1, 'bazen': 1, '–': 1, 'arayüzü': 1, 'birleştirilir': 1, 'sahası': 1, 'istatistik': 1, 'makine': 1, 'bilgisi': 1, 'veritabanları': 1, 'yüksek': 1, 'performanslı': 1, 'işlem': 1, 'temelleri': 1, 'de': 1})\n"
          ]
        }
      ]
    },
    {
      "cell_type": "code",
      "source": [
        "cnt.most_common?\n",
        "# Signature: cnt.most_common(n=None)\n",
        "# Docstring: List the n most common elements and their counts from the most common to the least.  \n",
        "# If n is None, then list all element counts."
      ],
      "metadata": {
        "id": "bk5lRaTzagZy"
      },
      "execution_count": null,
      "outputs": []
    },
    {
      "cell_type": "code",
      "source": [
        "# en cok gecen 3 kelime ve gecme sayisi\n",
        "cnt.most_common(n=3)"
      ],
      "metadata": {
        "colab": {
          "base_uri": "https://localhost:8080/"
        },
        "id": "ilf_Vrgnan9R",
        "outputId": "1c92e625-8eee-4231-c05f-df1c9d0454ff"
      },
      "execution_count": null,
      "outputs": [
        {
          "output_type": "execute_result",
          "data": {
            "text/plain": [
              "[('.', 11), ('veri', 7), ('madenciliği', 6)]"
            ]
          },
          "metadata": {},
          "execution_count": 132
        }
      ]
    },
    {
      "cell_type": "code",
      "source": [
        "cnt.most_common(n=encokgecen_kac_kelime)"
      ],
      "metadata": {
        "colab": {
          "base_uri": "https://localhost:8080/"
        },
        "id": "cxwA58mXa1GR",
        "outputId": "aa3d4e0e-2797-4b94-9ba2-054ed7eaac39"
      },
      "execution_count": null,
      "outputs": [
        {
          "output_type": "execute_result",
          "data": {
            "text/plain": [
              "[('.', 11),\n",
              " ('veri', 7),\n",
              " ('madenciliği', 6),\n",
              " ('olarak', 5),\n",
              " ('ve', 5),\n",
              " ('Veri', 4),\n",
              " ('da', 3)]"
            ]
          },
          "metadata": {},
          "execution_count": 133
        }
      ]
    },
    {
      "cell_type": "code",
      "source": [
        "# siralanmis olan liste icinden en cok gecen kelimeleri ve gecme sayilari kullaniciya gosterilsin\n",
        "encokgecen_kac_kelime = 7\n",
        "print(f\"Belgede en çok geçen {encokgecen_kac_kelime} kelime\")\n",
        "print('-----------------------------')\n",
        "for kelime, gecmesayisi in cnt.most_common(n=encokgecen_kac_kelime):\n",
        "    print(f\"{kelime} kelimesi {gecmesayisi} defa geçmektedir.\")"
      ],
      "metadata": {
        "colab": {
          "base_uri": "https://localhost:8080/"
        },
        "id": "JaJnEq4Pa-ky",
        "outputId": "1f860b02-3184-4cd7-f797-b1e0fb0c32fa"
      },
      "execution_count": null,
      "outputs": [
        {
          "output_type": "stream",
          "name": "stdout",
          "text": [
            "Belgede en çok geçen 7 kelime\n",
            "-----------------------------\n",
            ". kelimesi 11 defa geçmektedir.\n",
            "veri kelimesi 7 defa geçmektedir.\n",
            "madenciliği kelimesi 6 defa geçmektedir.\n",
            "olarak kelimesi 5 defa geçmektedir.\n",
            "ve kelimesi 5 defa geçmektedir.\n",
            "Veri kelimesi 4 defa geçmektedir.\n",
            "da kelimesi 3 defa geçmektedir.\n"
          ]
        }
      ]
    }
  ]
}